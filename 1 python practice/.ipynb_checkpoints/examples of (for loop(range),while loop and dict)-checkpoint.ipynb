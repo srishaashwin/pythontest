{
 "cells": [
  {
   "cell_type": "markdown",
   "id": "dd36d293",
   "metadata": {},
   "source": [
    "# try to get the input from the user and print the coresponding string number\n"
   ]
  },
  {
   "cell_type": "code",
   "execution_count": 2,
   "id": "66f37c03",
   "metadata": {},
   "outputs": [
    {
     "name": "stdout",
     "output_type": "stream",
     "text": [
      "pls enter the value from 1-65\n",
      "{1: {'five', 'one', 'two', 'six', 'four', 'three'}, 2: {'five', 'one', 'two', 'six', 'four', 'three'}, 3: {'five', 'one', 'two', 'six', 'four', 'three'}, 4: {'five', 'one', 'two', 'six', 'four', 'three'}, 5: {'five', 'one', 'two', 'six', 'four', 'three'}, 6: {'five', 'one', 'two', 'six', 'four', 'three'}}\n"
     ]
    },
    {
     "ename": "TypeError",
     "evalue": "cannot unpack non-iterable int object",
     "output_type": "error",
     "traceback": [
      "\u001b[1;31m---------------------------------------------------------------------------\u001b[0m",
      "\u001b[1;31mTypeError\u001b[0m                                 Traceback (most recent call last)",
      "\u001b[1;32m<ipython-input-2-0d5eb48b47db>\u001b[0m in \u001b[0;36m<module>\u001b[1;34m\u001b[0m\n\u001b[0;32m      3\u001b[0m \u001b[0mlist\u001b[0m\u001b[1;33m=\u001b[0m\u001b[0mdict\u001b[0m\u001b[1;33m.\u001b[0m\u001b[0mfromkeys\u001b[0m\u001b[1;33m(\u001b[0m\u001b[1;33m[\u001b[0m\u001b[1;36m1\u001b[0m\u001b[1;33m,\u001b[0m\u001b[1;36m2\u001b[0m\u001b[1;33m,\u001b[0m\u001b[1;36m3\u001b[0m\u001b[1;33m,\u001b[0m\u001b[1;36m4\u001b[0m\u001b[1;33m,\u001b[0m\u001b[1;36m5\u001b[0m\u001b[1;33m,\u001b[0m\u001b[1;36m6\u001b[0m\u001b[1;33m]\u001b[0m\u001b[1;33m,\u001b[0m\u001b[1;33m{\u001b[0m\u001b[1;34m\"one\"\u001b[0m\u001b[1;33m,\u001b[0m\u001b[1;34m\"two\"\u001b[0m\u001b[1;33m,\u001b[0m\u001b[1;34m\"three\"\u001b[0m\u001b[1;33m,\u001b[0m\u001b[1;34m\"four\"\u001b[0m\u001b[1;33m,\u001b[0m\u001b[1;34m\"five\"\u001b[0m\u001b[1;33m,\u001b[0m\u001b[1;34m\"six\"\u001b[0m\u001b[1;33m}\u001b[0m\u001b[1;33m)\u001b[0m\u001b[1;33m\u001b[0m\u001b[1;33m\u001b[0m\u001b[0m\n\u001b[0;32m      4\u001b[0m \u001b[0mprint\u001b[0m\u001b[1;33m(\u001b[0m\u001b[0mlist\u001b[0m\u001b[1;33m)\u001b[0m\u001b[1;33m\u001b[0m\u001b[1;33m\u001b[0m\u001b[0m\n\u001b[1;32m----> 5\u001b[1;33m \u001b[1;32mfor\u001b[0m \u001b[0mi\u001b[0m\u001b[1;33m,\u001b[0m\u001b[0mj\u001b[0m \u001b[1;32min\u001b[0m \u001b[0mlist\u001b[0m\u001b[1;33m:\u001b[0m\u001b[1;33m\u001b[0m\u001b[1;33m\u001b[0m\u001b[0m\n\u001b[0m\u001b[0;32m      6\u001b[0m     \u001b[1;32mif\u001b[0m \u001b[0ma\u001b[0m\u001b[1;33m==\u001b[0m\u001b[0mlist\u001b[0m\u001b[1;33m[\u001b[0m\u001b[0mi\u001b[0m\u001b[1;33m]\u001b[0m\u001b[1;33m:\u001b[0m\u001b[1;33m\u001b[0m\u001b[1;33m\u001b[0m\u001b[0m\n\u001b[0;32m      7\u001b[0m         \u001b[0mprint\u001b[0m\u001b[1;33m(\u001b[0m\u001b[0mlist\u001b[0m\u001b[1;33m[\u001b[0m\u001b[0mj\u001b[0m\u001b[1;33m]\u001b[0m\u001b[1;33m)\u001b[0m\u001b[1;33m\u001b[0m\u001b[1;33m\u001b[0m\u001b[0m\n",
      "\u001b[1;31mTypeError\u001b[0m: cannot unpack non-iterable int object"
     ]
    }
   ],
   "source": [
    "#tried with dictinary to print the sring of given number\n",
    "\n",
    "\n",
    "a=int(input(\"pls enter the value from 1-6\"))\n",
    "\n",
    "list=dict.fromkeys([1,2,3,4,5,6],{\"one\",\"two\",\"three\",\"four\",\"five\",\"six\"})\n",
    "print(list)\n",
    "for i,j in list:\n",
    "    if a==list[i]:\n",
    "        print(list[j])\n",
    "        "
   ]
  },
  {
   "cell_type": "code",
   "execution_count": 8,
   "id": "fe1832b5",
   "metadata": {},
   "outputs": [
    {
     "name": "stdout",
     "output_type": "stream",
     "text": [
      "pls enter the value from 1-63\n",
      "three\n"
     ]
    }
   ],
   "source": [
    "#using dictinary\n",
    "\n",
    "a=int(input(\"pls enter the value from 1-6\"))\n",
    "\n",
    "list={1:\"one\",2:\"two\",3:'three',4:\"four\"}\n",
    "\n",
    "print(list[a])"
   ]
  },
  {
   "cell_type": "code",
   "execution_count": 10,
   "id": "3a8300f8",
   "metadata": {},
   "outputs": [
    {
     "name": "stdout",
     "output_type": "stream",
     "text": [
      "pls enter the string:srirs\n",
      "srirs\n",
      "palandrome\n"
     ]
    }
   ],
   "source": [
    "#to find given string is palandrome  or not\n",
    "\n",
    "a=input(\"pls enter the string:\")\n",
    "b=a[::-1]\n",
    "print(b)\n",
    "if(a==b):\n",
    "    print(\"palandrome\")\n",
    "else:\n",
    "    print(\"not palandrome\")\n"
   ]
  },
  {
   "cell_type": "code",
   "execution_count": null,
   "id": "acf6d01b",
   "metadata": {
    "collapsed": true
   },
   "outputs": [],
   "source": [
    "#write a code to find a year is leap year or not\n"
   ]
  },
  {
   "cell_type": "code",
   "execution_count": 13,
   "id": "3321bf81",
   "metadata": {},
   "outputs": [
    {
     "name": "stdout",
     "output_type": "stream",
     "text": [
      "pls enter the year to find leap year2021\n",
      "the year is not a leap year\n"
     ]
    }
   ],
   "source": [
    "#logically it is wrong\n",
    "\n",
    "a=int(input(\"pls enter the year to find leap year\"))\n",
    "if(a%4==0):\n",
    "    print(\"the year is leap year\")\n",
    "else:\n",
    "    print(\"the year is not a leap year\")\n"
   ]
  },
  {
   "cell_type": "markdown",
   "id": "34c82838",
   "metadata": {},
   "source": [
    "# satisfies any one of the bellow logic the it is aleep year\n",
    "1---> a number is div by 4 and not div by 100\n",
    "2---> a number div by 400\n",
    "\n",
    "ie---->  if(num%4==0)&(num%100!=0) or(num%400=0)"
   ]
  },
  {
   "cell_type": "code",
   "execution_count": 14,
   "id": "3aa26440",
   "metadata": {},
   "outputs": [
    {
     "name": "stdout",
     "output_type": "stream",
     "text": [
      "pls enter the year to find leap year1990\n",
      "the year is not a leap year\n"
     ]
    }
   ],
   "source": [
    "# pls tru for 3 diff inputs\n",
    "# ...1990(not under any)\n",
    "# ...2000(div by 400)\n",
    "# ...1992(div by 4 and not by 100)\n",
    "\n",
    "\n",
    "num=int(input(\"pls enter the year to find leap year\"))\n",
    "if((num%4==0)and(num%100!=0) or(num%400==0)):\n",
    "    print(\"the year is leap year\")\n",
    "else:\n",
    "    print(\"the year is not a leap year\")"
   ]
  },
  {
   "cell_type": "code",
   "execution_count": 17,
   "id": "3e657a51",
   "metadata": {},
   "outputs": [
    {
     "name": "stdout",
     "output_type": "stream",
     "text": [
      "pls enter the first number for operations  :6\n",
      "pls enter thesecond number for operations  :7\n",
      "please enter the value for selecting the operation 1-addition,2-sub,3-mult,4-divid4\n",
      "0.8571428571428571\n"
     ]
    }
   ],
   "source": [
    "#design a basic calculator\n",
    "\n",
    "a=eval(input(\"pls enter the first number for operations  :\"))\n",
    "b=eval(input(\"pls enter thesecond number for operations  :\"))\n",
    "\n",
    "c=int(input('please enter the value for selecting the operation 1-addition,2-sub,3-mult,4-divid'))\n",
    "if(c==1):\n",
    "    d=a+b\n",
    "    print(d)\n",
    "elif(c==2):\n",
    "    e=a-b\n",
    "    print(e)\n",
    "elif(c==3):\n",
    "    f=a*b\n",
    "    print(f)\n",
    "else:\n",
    "    g=a/b\n",
    "    print(g)"
   ]
  },
  {
   "cell_type": "code",
   "execution_count": null,
   "id": "e2ca3f55",
   "metadata": {},
   "outputs": [],
   "source": [
    "#to print the string of the given number\n",
    "\n",
    "\n",
    "a=eval(input(\"pls enter the first number form 1-6  :\"))\n",
    "if (a==1):\n",
    "    print(\"one\")\n",
    "elif(a==2):\n",
    "    print(\"two\")\n",
    "elif(a==3):\n",
    "    print(\"three\")\n",
    "elif(a==4):\n",
    "    print(\"four\")\n",
    "elif(a==5):\n",
    "    print(\"five\")\n",
    "elif(a==6):\n",
    "    print(\"six\")\n",
    "else:\n",
    "    print(\"pls enter the number in range\")\n",
    "    "
   ]
  },
  {
   "cell_type": "code",
   "execution_count": 15,
   "id": "12bee205",
   "metadata": {},
   "outputs": [
    {
     "name": "stdout",
     "output_type": "stream",
     "text": [
      "pls enter the first number form 1-6  :3\n",
      "three\n",
      "three\n"
     ]
    }
   ],
   "source": [
    "\n",
    "\n",
    "a={1:\"one\",2:\"two\",3:\"three\",4:\"four\",5:\"five\",6:\"six\"}\n",
    "b=eval(input(\"pls enter the first number form 1-6  :\"))\n",
    "\n",
    "if(b<=6):\n",
    "    print(a.get(b))\n",
    "    print(a[b])\n",
    "else:\n",
    "    print(\"pls enter the value in range\")"
   ]
  },
  {
   "cell_type": "code",
   "execution_count": 17,
   "id": "371d8956",
   "metadata": {},
   "outputs": [
    {
     "name": "stdout",
     "output_type": "stream",
     "text": [
      "s\n",
      "r\n",
      "i\n",
      "s\n",
      "h\n",
      "a\n"
     ]
    }
   ],
   "source": [
    "#for loop to access string values(with out range function)\n",
    "\n",
    "a=\"srisha\"\n",
    "for i in a:      #here the value of i is the charecters of string\n",
    "    print(i)"
   ]
  },
  {
   "cell_type": "code",
   "execution_count": 18,
   "id": "ee710854",
   "metadata": {},
   "outputs": [
    {
     "name": "stdout",
     "output_type": "stream",
     "text": [
      "0\n",
      "1\n",
      "2\n",
      "3\n",
      "4\n",
      "5\n"
     ]
    }
   ],
   "source": [
    "#for loop to access string values(with range function)\n",
    "\n",
    "\n",
    "a=\"ashwin\"\n",
    "for i in range(0,len(a)):    #here i is the values from 0 to 5\n",
    "    print(i)\n",
    "\n"
   ]
  },
  {
   "cell_type": "code",
   "execution_count": 21,
   "id": "5464c280",
   "metadata": {},
   "outputs": [
    {
     "name": "stdout",
     "output_type": "stream",
     "text": [
      "a\n",
      "s\n",
      "h\n",
      "w\n",
      "i\n",
      "n\n",
      "the length of a is:   6\n"
     ]
    }
   ],
   "source": [
    "#for loop to access string values(with range function)\n",
    "\n",
    "#to access the each characters in a string \n",
    "\n",
    "\n",
    "a=\"ashwin\"\n",
    "for i in range(0,len(a)):    #here i is the values from 0 to 5\n",
    "    print(a[i])\n",
    "print(\"the length of a is:  \",len(a))   # the range fun the first index is inclusive and second index is exclusive\n",
    "\n",
    "\n"
   ]
  },
  {
   "cell_type": "code",
   "execution_count": 30,
   "id": "43b68733",
   "metadata": {},
   "outputs": [
    {
     "name": "stdout",
     "output_type": "stream",
     "text": [
      "n\n",
      "i\n",
      "w\n",
      "h\n",
      "s\n",
      "a\n"
     ]
    }
   ],
   "source": [
    "#for loop to access string values(with range function) to print in reverse\n",
    "\n",
    "\n",
    "a=\"ashwin\" \n",
    "\n",
    "for i in range(len(a)-1,-1,-1):    #here i is the values from 0 to 5\n",
    "    print(a[i])\n",
    "\n"
   ]
  },
  {
   "cell_type": "code",
   "execution_count": 8,
   "id": "53871d6b",
   "metadata": {},
   "outputs": [
    {
     "name": "stdout",
     "output_type": "stream",
     "text": [
      "p\n",
      "yy\n",
      "ttt\n",
      "hhhh\n",
      "ooooo\n",
      "nnnnnn\n"
     ]
    }
   ],
   "source": [
    "#using for loop and range function print the given output\n",
    "# olp\n",
    "# p\n",
    "# yy\n",
    "# ttt\n",
    "# hhhh\n",
    "# ooooo\n",
    "# nnnnnn\n",
    "\n",
    "\n",
    "a=\"python\"\n",
    "for i in range(0,len(a)):\n",
    "    b=a[i]\n",
    "    print(b*(i+1))\n",
    "    i=i+1\n",
    "    "
   ]
  },
  {
   "cell_type": "code",
   "execution_count": 5,
   "id": "7d534097",
   "metadata": {},
   "outputs": [
    {
     "name": "stdout",
     "output_type": "stream",
     "text": [
      "p\n",
      "yy\n",
      "ttt\n",
      "hhhh\n",
      "ooooo\n",
      "nnnnnn\n"
     ]
    }
   ],
   "source": [
    "# using while loop\n",
    "\n",
    "\n",
    "a=\"python\"\n",
    "i=0\n",
    "while i<len(a):\n",
    "    print(a[i]*(i+1))\n",
    "    i=i+1"
   ]
  },
  {
   "cell_type": "code",
   "execution_count": 25,
   "id": "0795bae8",
   "metadata": {},
   "outputs": [
    {
     "name": "stdout",
     "output_type": "stream",
     "text": [
      "n\n",
      "oo\n"
     ]
    }
   ],
   "source": [
    "#test to print the last alphabet of a given string\n",
    "\n",
    "a=\"python\"\n",
    "print(a[-1]*1)\n",
    "print(a[-2]*2)\n",
    "    "
   ]
  },
  {
   "cell_type": "code",
   "execution_count": 37,
   "id": "50b9fac5",
   "metadata": {},
   "outputs": [
    {
     "name": "stdout",
     "output_type": "stream",
     "text": [
      "o\n",
      "n\n"
     ]
    }
   ],
   "source": [
    "a=\"python\"\n",
    "for i in range():\n",
    "       print(a[i])\n",
    "   \n",
    "    "
   ]
  },
  {
   "cell_type": "code",
   "execution_count": 30,
   "id": "2e693b6a",
   "metadata": {},
   "outputs": [
    {
     "name": "stdout",
     "output_type": "stream",
     "text": [
      "n\n",
      "oo\n",
      "hhh\n",
      "tttt\n",
      "yyyyy\n",
      "pppppp\n"
     ]
    }
   ],
   "source": [
    "# using for loop to print the given pattern(pos indexing in range with -ve step value)\n",
    "#((((using -ve step value will only help us to make the string print from last))))\n",
    "# n\n",
    "# oo\n",
    "# hhh\n",
    "# tttt\n",
    "# yyyyy\n",
    "# pppppp\n",
    "\n",
    "\n",
    "a=\"python\"\n",
    "for i in range(len(a),0,-1):\n",
    "    \n",
    "    print(a[i-1]*(len(a)-i+1))\n",
    "    "
   ]
  },
  {
   "cell_type": "code",
   "execution_count": 16,
   "id": "bd9b6072",
   "metadata": {},
   "outputs": [
    {
     "name": "stdout",
     "output_type": "stream",
     "text": [
      "a\n",
      "ss\n",
      "iii\n",
      "rrrr\n",
      "sssss\n"
     ]
    }
   ],
   "source": [
    "#using -ve indexing of range value with -ve step value\n",
    "\n",
    "a=\"srisa\"\n",
    "for i in range(-1,-len(a)-1,-1):\n",
    "    print(a[i]*(-i))"
   ]
  },
  {
   "cell_type": "code",
   "execution_count": 24,
   "id": "4ab15643",
   "metadata": {},
   "outputs": [
    {
     "name": "stdout",
     "output_type": "stream",
     "text": [
      "n\n",
      "oo\n",
      "hhh\n",
      "tttt\n",
      "yyyyy\n",
      "pppppp\n"
     ]
    }
   ],
   "source": [
    "#using i as len(a)\n",
    "\n",
    "a=\"python\"\n",
    "i=len(a)\n",
    "while(i>=1):\n",
    "    print((a[i-1])*(len(a)-i+1))\n",
    "    i=i-1"
   ]
  },
  {
   "cell_type": "code",
   "execution_count": 3,
   "id": "6d02d621",
   "metadata": {},
   "outputs": [
    {
     "name": "stdout",
     "output_type": "stream",
     "text": [
      "n\n",
      "oo\n",
      "hhh\n",
      "tttt\n",
      "yyyyy\n",
      "pppppp\n"
     ]
    }
   ],
   "source": [
    "# using i as 0\n",
    "\n",
    "a=\"python\"\n",
    "i=0\n",
    "while(i<len(a)):\n",
    "    print(a[len(a)-i-1]*(i+1))\n",
    "    i=i+1\n",
    "    "
   ]
  },
  {
   "cell_type": "code",
   "execution_count": 31,
   "id": "85f37a10",
   "metadata": {},
   "outputs": [
    {
     "name": "stdout",
     "output_type": "stream",
     "text": [
      "{'key1': [1, 3, 4], 'key2': {8, 3, 5, 7}}\n",
      "[1, 3, 4]\n"
     ]
    }
   ],
   "source": [
    "a={ 'key1':[1,3,4],'key2':{5,7,8,3}}\n",
    "print(a)\n",
    "print(a['key1'])"
   ]
  },
  {
   "cell_type": "code",
   "execution_count": 32,
   "id": "42522d00",
   "metadata": {},
   "outputs": [
    {
     "data": {
      "text/plain": [
       "{1: 2, 2: 3, 3: 4, 4: 5, 5: 5}"
      ]
     },
     "execution_count": 32,
     "metadata": {},
     "output_type": "execute_result"
    }
   ],
   "source": [
    "a=[1,2,3,4,5]\n",
    "b=[2,3,4,5,5]\n",
    "dict(zip(a,b))"
   ]
  },
  {
   "cell_type": "code",
   "execution_count": 33,
   "id": "e21fbb0a",
   "metadata": {},
   "outputs": [
    {
     "data": {
      "text/plain": [
       "'Afsan'"
      ]
     },
     "execution_count": 33,
     "metadata": {},
     "output_type": "execute_result"
    }
   ],
   "source": [
    "#extract afsan \n",
    "\n",
    "\n",
    "employee_details = { 'emp1' : {'name':'Afsan' , 'age': 23 , 'salary':70000} , 'emp2' : {'name':'rahul' , 'age': 23 , 'salary':6000}}\n",
    "\n",
    "employee_details[\"emp1\"][\"name\"]\n",
    "\n",
    "\n"
   ]
  },
  {
   "cell_type": "code",
   "execution_count": 34,
   "id": "9f440692",
   "metadata": {},
   "outputs": [
    {
     "ename": "SyntaxError",
     "evalue": "invalid syntax (<ipython-input-34-d5795be95d7e>, line 11)",
     "output_type": "error",
     "traceback": [
      "\u001b[1;36m  File \u001b[1;32m\"<ipython-input-34-d5795be95d7e>\"\u001b[1;36m, line \u001b[1;32m11\u001b[0m\n\u001b[1;33m    print(employee_details.('emp3'))\u001b[0m\n\u001b[1;37m                           ^\u001b[0m\n\u001b[1;31mSyntaxError\u001b[0m\u001b[1;31m:\u001b[0m invalid syntax\n"
     ]
    }
   ],
   "source": [
    "#extrct rahul and reverse it\n",
    "#extract afsan \n",
    "\n",
    "\n",
    "employee_details = { 'emp1' : {'name':'Afsan' , 'age': 23 , 'salary':70000} , 'emp2' : {'name':'rahul' , 'age': 23 , 'salary':6000}}\n",
    "\n",
    "employee_details[\"emp2\"][\"name\"][::-1]\n",
    "\n",
    "\n",
    "print(employee_details.get('emp3'))\n",
    "print(employee_details.('emp3'))"
   ]
  },
  {
   "cell_type": "code",
   "execution_count": 5,
   "id": "e94b232d",
   "metadata": {},
   "outputs": [
    {
     "name": "stdout",
     "output_type": "stream",
     "text": [
      "emp1\n",
      "emp2\n"
     ]
    }
   ],
   "source": [
    "employee_details = { 'emp1' : {'name':'Afsan' , 'age': 23 , 'salary':70000} , 'emp2' : {'name':'rahul' , 'age': 23 , 'salary':6000}}\n",
    "for i in employee_details:\n",
    "    print(i)\n"
   ]
  },
  {
   "cell_type": "code",
   "execution_count": 7,
   "id": "e054b5f0",
   "metadata": {},
   "outputs": [
    {
     "name": "stdout",
     "output_type": "stream",
     "text": [
      "emp1 {'name': 'Afsan', 'age': 23, 'salary': 70000}\n",
      "emp1\n",
      "emp2 {'name': 'rahul', 'age': 23, 'salary': 6000}\n",
      "emp2\n"
     ]
    }
   ],
   "source": [
    "employee_details = { 'emp1' : {'name':'Afsan' , 'age': 23 , 'salary':70000} , 'emp2' : {'name':'rahul' , 'age': 23 , 'salary':6000}}\n",
    "for i,j in employee_details.items():\n",
    "    print(i,j)\n",
    "    print(i)"
   ]
  },
  {
   "cell_type": "code",
   "execution_count": 2,
   "id": "707aaac5",
   "metadata": {},
   "outputs": [
    {
     "name": "stdout",
     "output_type": "stream",
     "text": [
      "4 5\n",
      "1 2\n",
      "3 4\n"
     ]
    }
   ],
   "source": [
    "#here the tuple first value is passed as i ans 2nd as j\n",
    "a={(1,2),(3,4),(4,5)}\n",
    "for i,j in a:\n",
    "    print(i,j)\n"
   ]
  },
  {
   "cell_type": "code",
   "execution_count": 3,
   "id": "832e1dca",
   "metadata": {},
   "outputs": [
    {
     "name": "stdout",
     "output_type": "stream",
     "text": [
      "(4, 5)\n",
      "(1, 2)\n",
      "(3, 4)\n"
     ]
    }
   ],
   "source": [
    "#here the entire tuple is been passed as i(single element)\n",
    "a={(1,2),(3,4),(4,5)}\n",
    "for i in a:\n",
    "    print(i)\n"
   ]
  },
  {
   "cell_type": "code",
   "execution_count": 8,
   "id": "e06d6ece",
   "metadata": {},
   "outputs": [
    {
     "name": "stdout",
     "output_type": "stream",
     "text": [
      "0 : 23\n",
      "1 : 45\n",
      "2 : 67\n",
      "3 : 98\n",
      "4 : 23\n"
     ]
    }
   ],
   "source": [
    "#here the enumerate  will take the value of i as count from 0 \n",
    "#and j as values of a\n",
    "\n",
    "a=[23,45,67,98,23]\n",
    "\n",
    "for i,j in enumerate(a):\n",
    "    print(i,\":\",j)\n"
   ]
  },
  {
   "cell_type": "code",
   "execution_count": 9,
   "id": "cb96082a",
   "metadata": {},
   "outputs": [
    {
     "name": "stdout",
     "output_type": "stream",
     "text": [
      "(0, 23)\n",
      "(1, 45)\n",
      "(2, 67)\n",
      "(3, 98)\n",
      "(4, 23)\n"
     ]
    }
   ],
   "source": [
    "a=[23,45,67,98,23]\n",
    "#here it is taking count with value as tuple\n",
    "\n",
    "for i in enumerate(a):\n",
    "    print(i)\n"
   ]
  },
  {
   "cell_type": "code",
   "execution_count": null,
   "id": "ec0bbc15",
   "metadata": {},
   "outputs": [],
   "source": []
  },
  {
   "cell_type": "code",
   "execution_count": 7,
   "id": "42a4469c",
   "metadata": {},
   "outputs": [
    {
     "name": "stdout",
     "output_type": "stream",
     "text": [
      "3\n",
      "5\n",
      "8\n",
      "5\n",
      "9\n",
      "5\n",
      "10\n",
      "5\n"
     ]
    }
   ],
   "source": [
    "t=(2,3,4,5,6,4,3,4,5,5,5,3,2)\n",
    "for i,j in enumerate(t):\n",
    "    if(j==5):\n",
    "        print(i)\n",
    "        print(j)"
   ]
  },
  {
   "cell_type": "code",
   "execution_count": 8,
   "id": "9f5265c9",
   "metadata": {},
   "outputs": [
    {
     "name": "stdout",
     "output_type": "stream",
     "text": [
      "3\n",
      "5\n",
      "8\n",
      "5\n",
      "9\n",
      "5\n",
      "10\n",
      "5\n"
     ]
    }
   ],
   "source": [
    "t=[2,3,4,5,6,4,3,4,5,5,5,3,2]\n",
    "for i,j in enumerate(t):\n",
    "    if(j==5):\n",
    "        print(i)\n",
    "        print(j)"
   ]
  },
  {
   "cell_type": "code",
   "execution_count": null,
   "id": "0de0cf09",
   "metadata": {},
   "outputs": [],
   "source": [
    "# try to practice atleast two programs a day\n",
    "\n",
    "# hackerrank(developer)\n",
    "# python\n",
    "# hackerearth\n",
    "# geeksfor geeks\n",
    "\n",
    "# w3resourse\n"
   ]
  }
 ],
 "metadata": {
  "kernelspec": {
   "display_name": "Python 3",
   "language": "python",
   "name": "python3"
  },
  "language_info": {
   "codemirror_mode": {
    "name": "ipython",
    "version": 3
   },
   "file_extension": ".py",
   "mimetype": "text/x-python",
   "name": "python",
   "nbconvert_exporter": "python",
   "pygments_lexer": "ipython3",
   "version": "3.8.8"
  }
 },
 "nbformat": 4,
 "nbformat_minor": 5
}
