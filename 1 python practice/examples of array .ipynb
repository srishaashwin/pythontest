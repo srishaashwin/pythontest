{
 "cells": [
  {
   "cell_type": "code",
   "execution_count": null,
   "id": "bb394793",
   "metadata": {},
   "outputs": [],
   "source": [
    "column_size = int(input(\"Enter size of column: \"))\n",
    "row_size = int(input(\"Enter size of row: \"))\n",
    "#Declaring an empty 1D array.\n",
    "a = []\n",
    "#Declaring an empty 1D array.\n",
    "b = []\n",
    "#Initialize the column.\n",
    "for j in range(0, column_size):\n",
    "    b.append(0)\n",
    "#Append the column to each row.\n",
    "for i in range(0, row_size):\n",
    "    a.append(b)\n",
    "#Printing the 2d created array\n",
    "print(a)\n"
   ]
  },
  {
   "cell_type": "code",
   "execution_count": 1,
   "id": "60fb5a10",
   "metadata": {},
   "outputs": [
    {
     "name": "stdout",
     "output_type": "stream",
     "text": [
      "Enter size of column: 4\n",
      "Enter size of row: 5\n",
      "[0, 0, 0, 0]\n"
     ]
    }
   ],
   "source": [
    "column_size = int(input(\"Enter size of column: \"))\n",
    "row_size = int(input(\"Enter size of row: \"))\n",
    "#Declaring an empty 1D array.\n",
    "a = []\n",
    "#Declaring an empty 1D array.\n",
    "b = []\n",
    "#Initialize the column.\n",
    "for j in range(0, column_size):\n",
    "    b.append(0)\n",
    "#Append the column to each row.\n",
    "print(b)"
   ]
  },
  {
   "cell_type": "code",
   "execution_count": 6,
   "id": "1935654b",
   "metadata": {},
   "outputs": [
    {
     "name": "stdout",
     "output_type": "stream",
     "text": [
      "Enter size of column: 3\n",
      "Enter size of row: 4\n",
      "Enter size of column: 5\n",
      "[0, 0, 0, 0, 0]\n",
      "[[0, 0, 0, 0, 0, [...], [...], [...], [...]], [0, 0, 0, 0, 0, [...], [...], [...], [...]], [0, 0, 0, 0, 0, [...], [...], [...], [...]]]\n",
      "[0, 0, 0, 0, 0, [[...], [...], [...]], [[...], [...], [...]], [[...], [...], [...]], [[...], [...], [...]]]\n"
     ]
    }
   ],
   "source": [
    "\n",
    "column_size = int(input(\"Enter size of column: \"))\n",
    "row_size = int(input(\"Enter size of row: \"))\n",
    "a=[]\n",
    "mat = int(input(\"Enter size of column: \"))\n",
    "\n",
    "b=[]\n",
    "c=[]\n",
    "for k in range(0,mat):\n",
    "    b.append(0)\n",
    "for j in range(0, column_size):\n",
    "    a.append()\n",
    "print(b)\n",
    "#Append the column to each row.\n",
    "for i in range(0, row_size):\n",
    "    b.append(a)\n",
    "\n",
    "    \n",
    "print(a)\n",
    "print(b)"
   ]
  },
  {
   "cell_type": "code",
   "execution_count": null,
   "id": "af396184",
   "metadata": {},
   "outputs": [],
   "source": [
    "print(emp1[emp2[name]])"
   ]
  }
 ],
 "metadata": {
  "kernelspec": {
   "display_name": "Python 3",
   "language": "python",
   "name": "python3"
  },
  "language_info": {
   "codemirror_mode": {
    "name": "ipython",
    "version": 3
   },
   "file_extension": ".py",
   "mimetype": "text/x-python",
   "name": "python",
   "nbconvert_exporter": "python",
   "pygments_lexer": "ipython3",
   "version": "3.8.8"
  }
 },
 "nbformat": 4,
 "nbformat_minor": 5
}
