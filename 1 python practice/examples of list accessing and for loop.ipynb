{
 "cells": [
  {
   "cell_type": "code",
   "execution_count": 4,
   "id": "7b88e8b6",
   "metadata": {},
   "outputs": [
    {
     "ename": "IndexError",
     "evalue": "list index out of range",
     "output_type": "error",
     "traceback": [
      "\u001b[1;31m---------------------------------------------------------------------------\u001b[0m",
      "\u001b[1;31mIndexError\u001b[0m                                Traceback (most recent call last)",
      "\u001b[1;32m<ipython-input-4-ff471ec0073b>\u001b[0m in \u001b[0;36m<module>\u001b[1;34m\u001b[0m\n\u001b[0;32m      1\u001b[0m \u001b[0ml\u001b[0m\u001b[1;33m=\u001b[0m\u001b[1;33m[\u001b[0m\u001b[1;36m1\u001b[0m\u001b[1;33m,\u001b[0m\u001b[1;36m2\u001b[0m\u001b[1;33m,\u001b[0m\u001b[1;36m3\u001b[0m\u001b[1;33m,\u001b[0m\u001b[1;36m4\u001b[0m\u001b[1;33m,\u001b[0m\u001b[1;33m[\u001b[0m\u001b[1;36m5\u001b[0m\u001b[1;33m,\u001b[0m\u001b[1;36m6\u001b[0m\u001b[1;33m]\u001b[0m\u001b[1;33m]\u001b[0m\u001b[1;33m\u001b[0m\u001b[1;33m\u001b[0m\u001b[0m\n\u001b[1;32m----> 2\u001b[1;33m \u001b[0ml\u001b[0m\u001b[1;33m.\u001b[0m\u001b[0mpop\u001b[0m\u001b[1;33m(\u001b[0m\u001b[1;33m[\u001b[0m\u001b[1;36m4\u001b[0m\u001b[1;33m]\u001b[0m\u001b[1;33m[\u001b[0m\u001b[1;36m1\u001b[0m\u001b[1;33m]\u001b[0m\u001b[1;33m)\u001b[0m\u001b[1;33m\u001b[0m\u001b[1;33m\u001b[0m\u001b[0m\n\u001b[0m\u001b[0;32m      3\u001b[0m \u001b[0mprint\u001b[0m\u001b[1;33m(\u001b[0m\u001b[0ml\u001b[0m\u001b[1;33m)\u001b[0m\u001b[1;33m\u001b[0m\u001b[1;33m\u001b[0m\u001b[0m\n",
      "\u001b[1;31mIndexError\u001b[0m: list index out of range"
     ]
    }
   ],
   "source": [
    "l=[1,2,3,4,[5,6]]\n",
    "l.pop([4])\n",
    "print(l)"
   ]
  },
  {
   "cell_type": "code",
   "execution_count": 11,
   "id": "52d6a677",
   "metadata": {},
   "outputs": [
    {
     "ename": "ValueError",
     "evalue": "list.remove(x): x not in list",
     "output_type": "error",
     "traceback": [
      "\u001b[1;31m---------------------------------------------------------------------------\u001b[0m",
      "\u001b[1;31mValueError\u001b[0m                                Traceback (most recent call last)",
      "\u001b[1;32m<ipython-input-11-5aefee086f29>\u001b[0m in \u001b[0;36m<module>\u001b[1;34m\u001b[0m\n\u001b[0;32m      1\u001b[0m \u001b[0ml\u001b[0m\u001b[1;33m=\u001b[0m\u001b[1;33m[\u001b[0m\u001b[1;36m1\u001b[0m\u001b[1;33m,\u001b[0m\u001b[1;36m2\u001b[0m\u001b[1;33m,\u001b[0m\u001b[1;36m3\u001b[0m\u001b[1;33m,\u001b[0m\u001b[1;36m4\u001b[0m\u001b[1;33m,\u001b[0m\u001b[1;33m[\u001b[0m\u001b[1;36m5\u001b[0m\u001b[1;33m,\u001b[0m\u001b[1;36m6\u001b[0m\u001b[1;33m,\u001b[0m\u001b[1;33m[\u001b[0m\u001b[1;36m7\u001b[0m\u001b[1;33m,\u001b[0m\u001b[1;36m9\u001b[0m\u001b[1;33m]\u001b[0m\u001b[1;33m]\u001b[0m\u001b[1;33m]\u001b[0m\u001b[1;33m\u001b[0m\u001b[1;33m\u001b[0m\u001b[0m\n\u001b[1;32m----> 2\u001b[1;33m \u001b[0ml\u001b[0m\u001b[1;33m.\u001b[0m\u001b[0mremove\u001b[0m\u001b[1;33m(\u001b[0m\u001b[1;33m[\u001b[0m\u001b[1;36m7\u001b[0m\u001b[1;33m,\u001b[0m\u001b[1;36m9\u001b[0m\u001b[1;33m]\u001b[0m\u001b[1;33m)\u001b[0m\u001b[1;33m\u001b[0m\u001b[1;33m\u001b[0m\u001b[0m\n\u001b[0m\u001b[0;32m      3\u001b[0m \u001b[0mprint\u001b[0m\u001b[1;33m(\u001b[0m\u001b[0ml\u001b[0m\u001b[1;33m)\u001b[0m\u001b[1;33m\u001b[0m\u001b[1;33m\u001b[0m\u001b[0m\n",
      "\u001b[1;31mValueError\u001b[0m: list.remove(x): x not in list"
     ]
    }
   ],
   "source": [
    "l=[1,2,3,4,[5,6,[7,9]]]\n",
    "l.remove([7,9])\n",
    "print(l)"
   ]
  },
  {
   "cell_type": "code",
   "execution_count": 12,
   "id": "5375cfc3",
   "metadata": {},
   "outputs": [
    {
     "name": "stdout",
     "output_type": "stream",
     "text": [
      "[1.2, 3, 3.3, 4, 4.5, 65]\n"
     ]
    }
   ],
   "source": [
    "l=[1.2,3.3,4.5,3,65,4]\n",
    "l.sort()\n",
    "print(l)"
   ]
  },
  {
   "cell_type": "markdown",
   "id": "31b84408",
   "metadata": {},
   "source": [
    "a=10\n",
    "len(a)\n"
   ]
  },
  {
   "cell_type": "code",
   "execution_count": 13,
   "id": "2283cde0",
   "metadata": {},
   "outputs": [
    {
     "ename": "TypeError",
     "evalue": "object of type 'int' has no len()",
     "output_type": "error",
     "traceback": [
      "\u001b[1;31m---------------------------------------------------------------------------\u001b[0m",
      "\u001b[1;31mTypeError\u001b[0m                                 Traceback (most recent call last)",
      "\u001b[1;32m<ipython-input-13-4e18f5b13d65>\u001b[0m in \u001b[0;36m<module>\u001b[1;34m\u001b[0m\n\u001b[0;32m      1\u001b[0m \u001b[0ma\u001b[0m\u001b[1;33m=\u001b[0m\u001b[1;36m10\u001b[0m\u001b[1;33m\u001b[0m\u001b[1;33m\u001b[0m\u001b[0m\n\u001b[1;32m----> 2\u001b[1;33m \u001b[0mlen\u001b[0m\u001b[1;33m(\u001b[0m\u001b[0ma\u001b[0m\u001b[1;33m)\u001b[0m\u001b[1;33m\u001b[0m\u001b[1;33m\u001b[0m\u001b[0m\n\u001b[0m\u001b[0;32m      3\u001b[0m \u001b[1;33m\u001b[0m\u001b[0m\n",
      "\u001b[1;31mTypeError\u001b[0m: object of type 'int' has no len()"
     ]
    }
   ],
   "source": [
    "a=10\n",
    "len(a)\n",
    "\n"
   ]
  },
  {
   "cell_type": "code",
   "execution_count": 14,
   "id": "c2b91610",
   "metadata": {},
   "outputs": [
    {
     "data": {
      "text/plain": [
       "[1, 2, 3, 45, 'asha']"
      ]
     },
     "execution_count": 14,
     "metadata": {},
     "output_type": "execute_result"
    }
   ],
   "source": [
    "l1=[1,2,3,45]\n",
    "l2=[\"asha\"]\n",
    "l1+l2\n"
   ]
  },
  {
   "cell_type": "code",
   "execution_count": 32,
   "id": "fed2c03b",
   "metadata": {},
   "outputs": [
    {
     "name": "stdout",
     "output_type": "stream",
     "text": [
      "None\n",
      "None\n",
      "None\n",
      "None\n",
      "None\n",
      "[1, 4, 9, 16, 25]\n"
     ]
    }
   ],
   "source": [
    "#to put square of a list in another list using append using for loop\n",
    "\n",
    "a=[1,2,3,4,5]\n",
    "b=[]\n",
    "for i in a:\n",
    "    c=i*i\n",
    "    print(b.append(c))\n",
    "    \n",
    "    \n",
    "print(b)   \n",
    "    "
   ]
  },
  {
   "cell_type": "code",
   "execution_count": 11,
   "id": "b05f1fd6",
   "metadata": {},
   "outputs": [
    {
     "name": "stdout",
     "output_type": "stream",
     "text": [
      "please enter the int number5\n",
      "1\n",
      "3\n",
      "6\n",
      "10\n",
      "15\n",
      "[1, 3, 6, 10, 15]\n"
     ]
    }
   ],
   "source": [
    "#to make the output of for loop to a list use append method as bellow\n",
    "\n",
    "\n",
    "a = int(input(\"please enter the int number\"))\n",
    "b=0\n",
    "c=[]\n",
    "for i in range(1,a+1):\n",
    "    b=b+i\n",
    "    print(b)\n",
    "    c.append(b)\n",
    "print(c)\n",
    "\n"
   ]
  },
  {
   "cell_type": "code",
   "execution_count": 13,
   "id": "96a4ccd8",
   "metadata": {},
   "outputs": [
    {
     "name": "stdout",
     "output_type": "stream",
     "text": [
      "11\n",
      "2\n",
      "1\n",
      "3\n",
      "4\n",
      "5\n",
      "[121, 4, 1, 9, 16, 25]\n",
      "11\n",
      "2\n",
      "1\n",
      "3\n",
      "4\n",
      "5\n",
      "[121, 4, 1, 9, 16, 25]\n"
     ]
    }
   ],
   "source": [
    "#forming a list using insert and append method\n",
    "\n",
    "a=[11,2,1,3,4,5]\n",
    "b=[]\n",
    "for i in a:\n",
    "    print(i)\n",
    "    b.insert(len(a),(i**2))\n",
    "    \n",
    "    \n",
    "print(b)   \n",
    "    \n",
    "a=[11,2,1,3,4,5]\n",
    "b=[]\n",
    "for i in a:\n",
    "    print(i)\n",
    "    b.append(i**2)\n",
    "    \n",
    "    \n",
    "print(b)   \n",
    "        \n",
    "    \n",
    "    "
   ]
  },
  {
   "cell_type": "code",
   "execution_count": 48,
   "id": "8781d805",
   "metadata": {},
   "outputs": [],
   "source": [
    "a=[\"srisha@gmail\",\"vikram@bail,\",\"rakshan@mIL\"]\n",
    "b=[]\n",
    "for i in a: \n",
    "    b.append(i.split(\"@\")[0])\n"
   ]
  },
  {
   "cell_type": "code",
   "execution_count": 49,
   "id": "be1fa461",
   "metadata": {},
   "outputs": [
    {
     "data": {
      "text/plain": [
       "['srisha', 'vikram', 'rakshan']"
      ]
     },
     "execution_count": 49,
     "metadata": {},
     "output_type": "execute_result"
    }
   ],
   "source": [
    "b"
   ]
  },
  {
   "cell_type": "code",
   "execution_count": 12,
   "id": "8051850b",
   "metadata": {},
   "outputs": [
    {
     "name": "stdout",
     "output_type": "stream",
     "text": [
      "1 : 1\n",
      "\n",
      "2 : 3\n",
      "\n",
      "3 : 6\n",
      "\n",
      "4 : 10\n",
      "\n",
      "5 : 15\n",
      "\n",
      "6 : 21\n",
      "\n",
      "7 : 28\n",
      "\n",
      "8 : 36\n",
      "\n",
      "9 : 45\n",
      "\n",
      "10 : 55\n",
      "\n",
      "11 : 66\n",
      "\n",
      "12 : 78\n",
      "\n",
      "13 : 91\n",
      "\n",
      "14 : 105\n",
      "\n",
      "15 : 120\n",
      "\n",
      "16 : 136\n",
      "\n",
      "17 : 153\n",
      "\n",
      "18 : 171\n",
      "\n",
      "19 : 190\n",
      "\n",
      "20 : 210\n",
      "\n",
      "21 : 231\n",
      "\n",
      "22 : 253\n",
      "\n",
      "23 : 276\n",
      "\n",
      "24 : 300\n",
      "\n",
      "25 : 325\n",
      "\n",
      "26 : 351\n",
      "\n",
      "27 : 378\n",
      "\n",
      "28 : 406\n",
      "\n",
      "29 : 435\n",
      "\n",
      "30 : 465\n",
      "\n",
      "31 : 496\n",
      "\n",
      "32 : 528\n",
      "\n",
      "33 : 561\n",
      "\n",
      "34 : 595\n",
      "\n",
      "35 : 630\n",
      "\n",
      "36 : 666\n",
      "\n",
      "37 : 703\n",
      "\n",
      "38 : 741\n",
      "\n",
      "39 : 780\n",
      "\n",
      "40 : 820\n",
      "\n",
      "41 : 861\n",
      "\n",
      "42 : 903\n",
      "\n",
      "43 : 946\n",
      "\n",
      "44 : 990\n",
      "\n",
      "45 : 1035\n",
      "\n",
      "46 : 1081\n",
      "\n",
      "47 : 1128\n",
      "\n",
      "48 : 1176\n",
      "\n",
      "49 : 1225\n",
      "\n",
      "50 : 1275\n",
      "\n",
      "51 : 1326\n",
      "\n",
      "52 : 1378\n",
      "\n",
      "53 : 1431\n",
      "\n",
      "54 : 1485\n",
      "\n",
      "55 : 1540\n",
      "\n",
      "56 : 1596\n",
      "\n",
      "57 : 1653\n",
      "\n",
      "58 : 1711\n",
      "\n",
      "59 : 1770\n",
      "\n",
      "60 : 1830\n",
      "\n",
      "61 : 1891\n",
      "\n",
      "62 : 1953\n",
      "\n",
      "63 : 2016\n",
      "\n",
      "64 : 2080\n",
      "\n",
      "65 : 2145\n",
      "\n",
      "66 : 2211\n",
      "\n",
      "67 : 2278\n",
      "\n",
      "68 : 2346\n",
      "\n",
      "69 : 2415\n",
      "\n",
      "70 : 2485\n",
      "\n",
      "71 : 2556\n",
      "\n",
      "72 : 2628\n",
      "\n",
      "73 : 2701\n",
      "\n",
      "74 : 2775\n",
      "\n",
      "75 : 2850\n",
      "\n",
      "76 : 2926\n",
      "\n",
      "77 : 3003\n",
      "\n",
      "78 : 3081\n",
      "\n",
      "79 : 3160\n",
      "\n",
      "80 : 3240\n",
      "\n",
      "81 : 3321\n",
      "\n",
      "82 : 3403\n",
      "\n",
      "83 : 3486\n",
      "\n",
      "84 : 3570\n",
      "\n",
      "85 : 3655\n",
      "\n",
      "86 : 3741\n",
      "\n",
      "87 : 3828\n",
      "\n",
      "88 : 3916\n",
      "\n",
      "89 : 4005\n",
      "\n",
      "90 : 4095\n",
      "\n",
      "91 : 4186\n",
      "\n",
      "92 : 4278\n",
      "\n",
      "93 : 4371\n",
      "\n",
      "94 : 4465\n",
      "\n",
      "95 : 4560\n",
      "\n",
      "96 : 4656\n",
      "\n",
      "97 : 4753\n",
      "\n",
      "98 : 4851\n",
      "\n",
      "99 : 4950\n",
      "\n",
      "100 : 5050\n",
      "\n",
      "5050\n"
     ]
    }
   ],
   "source": [
    "for loop using range to find the sum of 100 numbers\n",
    "\n",
    "\n",
    "a=0\n",
    "\n",
    "for i in range(1,101):\n",
    "      a+=i\n",
    "      print(i,\":\" ,a)\n",
    "      print()\n",
    "print(a)    "
   ]
  },
  {
   "cell_type": "code",
   "execution_count": 10,
   "id": "3c9de9f2",
   "metadata": {},
   "outputs": [
    {
     "name": "stdout",
     "output_type": "stream",
     "text": [
      "please enter the int number5\n",
      "1\n",
      "3\n",
      "6\n",
      "10\n",
      "15\n",
      "[1, 3, 6, 10, 15]\n"
     ]
    }
   ],
   "source": []
  },
  {
   "cell_type": "code",
   "execution_count": 5,
   "id": "59b4fe25",
   "metadata": {},
   "outputs": [
    {
     "name": "stdout",
     "output_type": "stream",
     "text": [
      "hello Sam\n",
      "hello Lisa\n",
      "hello Micha\n",
      "hello Dave\n",
      "hello Wyatt\n",
      "hello Emma\n",
      "hello Sage\n"
     ]
    }
   ],
   "source": [
    "#for loop to print hello before each name\n",
    "\n",
    "lst=[\"Sam\", \"Lisa\", \"Micha\", \"Dave\", \"Wyatt\", \"Emma\", \"Sage\"]\n",
    "#Type your code here.\n",
    "\n",
    "\n",
    "for i in lst:\n",
    "   print(\"hello\",i)\n",
    "\n",
    "\n",
    "\n"
   ]
  },
  {
   "cell_type": "code",
   "execution_count": 17,
   "id": "c74dd07d",
   "metadata": {},
   "outputs": [
    {
     "name": "stdout",
     "output_type": "stream",
     "text": [
      "1\n",
      "2\n",
      "3\n",
      "4\n",
      "5\n",
      "6\n",
      "7\n",
      "8\n",
      "9\n",
      "10\n",
      "11\n",
      "12\n"
     ]
    }
   ],
   "source": [
    "#Type a code inside the for loop so that counter variable named c is increased by one each time loop iterates. \n",
    "#Can you guess how many times it will add 1?.\n",
    "\n",
    "\n",
    "\n",
    "str=\"Civilization\"\n",
    "\n",
    "c=0\n",
    "for i in str:\n",
    "#Type your answer here.    \n",
    "      c+=1\n",
    "      print(c)\n",
    "\n"
   ]
  },
  {
   "cell_type": "code",
   "execution_count": null,
   "id": "a1df85ec",
   "metadata": {},
   "outputs": [],
   "source": [
    "#Using a for loop and .append() method append each item with a Dr. prefix to the lst.\n",
    "\n",
    "\n",
    "lst1=[\"Phil\", \"Oz\", \"Seuss\", \"Dre\"]\n",
    "lst2=[]\n",
    "for i in lst1:\n",
    "       lst2=lst1.append(\"dr\")\n",
    "       print(lst2)\n",
    "print(ls2)\n",
    "\n"
   ]
  },
  {
   "cell_type": "code",
   "execution_count": 12,
   "id": "30b18a10",
   "metadata": {},
   "outputs": [
    {
     "name": "stdout",
     "output_type": "stream",
     "text": [
      "Dr Phil\n",
      "Dr Oz\n",
      "Dr Seuss\n",
      "Dr Dre\n",
      "Dr Dre\n"
     ]
    }
   ],
   "source": [
    "lst1=[\"Phil\", \"Oz\", \"Seuss\", \"Dre\"]\n",
    "lst2=[]\n",
    "#Type your answer here.\n",
    "\n",
    "for i in lst1:\n",
    "    lst2=\"Dr \"+i\n",
    "    print(lst2)\n",
    "\n",
    "\n",
    "print(lst2)"
   ]
  },
  {
   "cell_type": "code",
   "execution_count": 7,
   "id": "71380ba6",
   "metadata": {},
   "outputs": [
    {
     "name": "stdout",
     "output_type": "stream",
     "text": [
      "[9, 49, 36, 64, 81, 121, 225, 625]\n"
     ]
    }
   ],
   "source": [
    "#Write a for loop which appends the square of each number to the new list.\n",
    "\n",
    "\n",
    "lst1=[3, 7, 6, 8, 9, 11, 15, 25]\n",
    "lst2=[]\n",
    "#Type your answer here.\n",
    "for i in lst1:\n",
    "    a=i**2\n",
    "    lst2.append(a)\n",
    "    \n",
    "print(lst2)"
   ]
  },
  {
   "cell_type": "code",
   "execution_count": 14,
   "id": "461362af",
   "metadata": {},
   "outputs": [
    {
     "name": "stdout",
     "output_type": "stream",
     "text": [
      "[111, 32, 9, 85]\n"
     ]
    }
   ],
   "source": [
    "#Write a for loop using an if statement, that appends each number to the new list if it's positive.\n",
    "\n",
    "\n",
    "\n",
    "lst1=[111, 32, -9, -45, -17, 9, 85, -10]\n",
    "lst2=[]\n",
    "#Type your answer here.\n",
    "\n",
    "for i in lst1:\n",
    "    if i>=0:\n",
    "        lst2.append(i)\n",
    "\n",
    "print(lst2)\n",
    "\n"
   ]
  },
  {
   "cell_type": "markdown",
   "id": "d9e5c593",
   "metadata": {},
   "source": [
    "# bellow  program was done by me after doing all the above for loop examples\n"
   ]
  },
  {
   "cell_type": "code",
   "execution_count": 21,
   "id": "ad42c46a",
   "metadata": {},
   "outputs": [
    {
     "name": "stdout",
     "output_type": "stream",
     "text": [
      "[900, 100, 1300, 50, 2200, 400, 500]\n"
     ]
    }
   ],
   "source": [
    "#Using for loop and if statement, append the value minus 1000 for each key to the new list \n",
    "#if the value is above 1000. i.e.: if the value is 1500, 500 should be added to the new list.\n",
    "\n",
    "\n",
    "\n",
    "\n",
    "lst=[900,1100,2300,1050,3200,400,500]\n",
    "w=[]\n",
    "#Type your answer here.\n",
    "for i in lst:\n",
    "    if i>=1000:\n",
    "        i-=1000\n",
    "        w.append(i)\n",
    "    else:\n",
    "        i=i\n",
    "        w.append(i)\n",
    "print(w)\n",
    "\n",
    "\n"
   ]
  },
  {
   "cell_type": "code",
   "execution_count": 28,
   "id": "f9eef328",
   "metadata": {},
   "outputs": [
    {
     "name": "stdout",
     "output_type": "stream",
     "text": [
      "[<class 'float'>, <class 'int'>, <class 'str'>, <class 'bool'>, <class 'list'>, <class 'dict'>]\n"
     ]
    }
   ],
   "source": [
    "#Write a for loop which appends the type of each element in the first list to the second list.\n",
    "\n",
    "\n",
    "\n",
    "lst1=[3.14, 66, \"Teddy Bear\", True, [], {}]\n",
    "lst2=[]\n",
    "#Type your answer here.\n",
    "for i in lst1:\n",
    "    b=type(i)\n",
    "    lst2.append(b)\n",
    "\n",
    "\n",
    "print(lst2)\n"
   ]
  },
  {
   "cell_type": "code",
   "execution_count": 29,
   "id": "966e2871",
   "metadata": {},
   "outputs": [
    {
     "name": "stdout",
     "output_type": "stream",
     "text": [
      "[<class 'float'>, <class 'int'>, <class 'str'>, <class 'bool'>, <class 'list'>, <class 'dict'>]\n"
     ]
    }
   ],
   "source": [
    "#using insert method\n",
    "\n",
    "lst1=[3.14, 66, \"Teddy Bear\", True, [], {}]\n",
    "lst2=[]\n",
    "#Type your answer here.\n",
    "for i in lst1:\n",
    "    b=type(i)\n",
    "    lst2.insert(len(lst1),b)\n",
    "\n",
    "\n",
    "print(lst2)\n"
   ]
  },
  {
   "cell_type": "code",
   "execution_count": 32,
   "id": "c2f4284e",
   "metadata": {},
   "outputs": [
    {
     "name": "stdout",
     "output_type": "stream",
     "text": [
      "[<class 'float'>, <class 'int'>, <class 'str'>, <class 'bool'>, <class 'list'>, <class 'dict'>]\n"
     ]
    }
   ],
   "source": [
    "# answer by system\n",
    "#Write a for loop which appends the type of each element in the first list to the second list.\n",
    "\n",
    "lst1=[3.14, 66, \"Teddy Bear\", True, [], {}]\n",
    "lst2=[]\n",
    "for i in lst1:\n",
    "    lst2.append(type(i))\n",
    "print(lst2)\n"
   ]
  },
  {
   "cell_type": "code",
   "execution_count": 33,
   "id": "7953d46d",
   "metadata": {},
   "outputs": [
    {
     "name": "stdout",
     "output_type": "stream",
     "text": [
      "1 : 1505\n",
      "1 : 1540\n",
      "1 : 1575\n",
      "1 : 1610\n",
      "1 : 1645\n",
      "1 : 1680\n",
      "1 : 1715\n",
      "1 : 1750\n",
      "1 : 1785\n",
      "1 : 1820\n",
      "1 : 1855\n",
      "1 : 1890\n",
      "1 : 1925\n",
      "1 : 1960\n",
      "1 : 1995\n",
      "1 : 2030\n",
      "1 : 2065\n",
      "1 : 2100\n",
      "1 : 2135\n",
      "1 : 2170\n",
      "1 : 2205\n",
      "1 : 2240\n",
      "1 : 2275\n",
      "1 : 2310\n",
      "1 : 2345\n",
      "1 : 2380\n",
      "1 : 2415\n",
      "1 : 2450\n",
      "1 : 2485\n",
      "1 : 2520\n",
      "1 : 2555\n",
      "1 : 2590\n",
      "1 : 2625\n",
      "1 : 2660\n",
      "1 : 2695\n"
     ]
    }
   ],
   "source": [
    "#1. Write a Python program to find those numbers which are divisible by 7\n",
    "# and multiple of 5, between 1500 and 2700 (both included). Go to the editor\n",
    "\n",
    "a=1\n",
    "for i in range(1500,2701):\n",
    "    a=+1\n",
    "    if ((i%7)==0)&((i%5)==0):\n",
    "        print(a,':',i)"
   ]
  },
  {
   "cell_type": "code",
   "execution_count": 3,
   "id": "3eed2266",
   "metadata": {},
   "outputs": [
    {
     "name": "stdout",
     "output_type": "stream",
     "text": [
      "enter the temperature:45\n"
     ]
    },
    {
     "ename": "TypeError",
     "evalue": "unsupported operand type(s) for /: 'str' and 'int'",
     "output_type": "error",
     "traceback": [
      "\u001b[1;31m---------------------------------------------------------------------------\u001b[0m",
      "\u001b[1;31mTypeError\u001b[0m                                 Traceback (most recent call last)",
      "\u001b[1;32m<ipython-input-3-458efa1cf67a>\u001b[0m in \u001b[0;36m<module>\u001b[1;34m\u001b[0m\n\u001b[0;32m     10\u001b[0m     \u001b[0mprint\u001b[0m\u001b[1;33m(\u001b[0m\u001b[0mc\u001b[0m\u001b[1;33m)\u001b[0m\u001b[1;33m\u001b[0m\u001b[1;33m\u001b[0m\u001b[0m\n\u001b[0;32m     11\u001b[0m \u001b[1;32melse\u001b[0m\u001b[1;33m:\u001b[0m\u001b[1;33m\u001b[0m\u001b[1;33m\u001b[0m\u001b[0m\n\u001b[1;32m---> 12\u001b[1;33m     \u001b[0mf\u001b[0m\u001b[1;33m=\u001b[0m\u001b[1;33m(\u001b[0m\u001b[0ma\u001b[0m\u001b[1;33m/\u001b[0m\u001b[1;36m5\u001b[0m\u001b[1;33m)\u001b[0m\u001b[1;33m+\u001b[0m\u001b[1;33m(\u001b[0m\u001b[1;36m32\u001b[0m\u001b[1;33m/\u001b[0m\u001b[1;36m9\u001b[0m\u001b[1;33m)\u001b[0m\u001b[1;33m\u001b[0m\u001b[1;33m\u001b[0m\u001b[0m\n\u001b[0m\u001b[0;32m     13\u001b[0m     \u001b[0mprint\u001b[0m\u001b[1;33m(\u001b[0m\u001b[0mf\u001b[0m\u001b[1;33m)\u001b[0m\u001b[1;33m\u001b[0m\u001b[1;33m\u001b[0m\u001b[0m\n",
      "\u001b[1;31mTypeError\u001b[0m: unsupported operand type(s) for /: 'str' and 'int'"
     ]
    }
   ],
   "source": [
    "#2. Write a Python program to convert temperatures to and from celsius, fahrenheit. Go to the editor\n",
    "#[ Formula : c/5 = f-32/9 [ where c = temperature in celsius and f = temperature in fahrenheit ]\n",
    "#Expected Output :\n",
    "#60°C is 140 in Fahrenheit\n",
    "#45°F is 7 in Celsius\n",
    "\n",
    "a= (input(\"enter the temperature:\"))\n",
    "if (\"°C\" in a):\n",
    "    c = (a-32/9)*5\n",
    "    print(c)\n",
    "else:\n",
    "    f=(a/5)+(32/9)\n",
    "    print(f)\n"
   ]
  },
  {
   "cell_type": "code",
   "execution_count": 3,
   "id": "e10f8c98",
   "metadata": {},
   "outputs": [
    {
     "name": "stdout",
     "output_type": "stream",
     "text": [
      "please enter your integer guessing number between 0-105\n",
      "Please guess a new number7\n"
     ]
    }
   ],
   "source": [
    "###### Write a Python program to guess a number between 1 to 9. Go to the editor\n",
    "#Note : User is prompted to enter a guess. If the user guesses wrong then the prompt appears \n",
    "#again until the guess is correct, on successful guess, user will get a \"Well guessed!\" message, and the program will exit.\n",
    "\n",
    "guess=7\n",
    "a= int(input(\"please enter your integer guessing number between 0-10\"))\n",
    "if(a==guess):\n",
    "    Print(\"you have guessed it rite\")\n",
    "else:\n",
    "    a=int(input(\"Please guess a new number\"))\n",
    "    "
   ]
  },
  {
   "cell_type": "code",
   "execution_count": 1,
   "id": "97244b2b",
   "metadata": {},
   "outputs": [
    {
     "name": "stdout",
     "output_type": "stream",
     "text": [
      "1\n",
      "2\n",
      "3\n",
      "[1, 2, 3]\n",
      "a \n",
      "s\n"
     ]
    }
   ],
   "source": [
    "#for loop using nested list\n",
    "for i in [1,2,3,[1,2,3],\"a \" ,'s']:\n",
    "\n",
    "    print(i)"
   ]
  },
  {
   "cell_type": "code",
   "execution_count": 2,
   "id": "7d5d444b",
   "metadata": {},
   "outputs": [
    {
     "name": "stdout",
     "output_type": "stream",
     "text": [
      "please enter which table u want6\n",
      "1 X 1 = 6\n",
      "2 X 2 = 12\n",
      "3 X 3 = 18\n",
      "4 X 4 = 24\n",
      "5 X 5 = 30\n",
      "6 X 6 = 36\n",
      "7 X 7 = 42\n",
      "8 X 8 = 48\n",
      "9 X 9 = 54\n",
      "10 X 10 = 60\n"
     ]
    }
   ],
   "source": [
    "#to print any table by getting input from user\n",
    "\n",
    "a=int(input(\"please enter which table u want\"))\n",
    "for i in range(1,11):\n",
    "    b=i*a\n",
    "    print(i,\"X\",i,\"=\",b)"
   ]
  },
  {
   "cell_type": "code",
   "execution_count": 3,
   "id": "530808d1",
   "metadata": {},
   "outputs": [
    {
     "name": "stdout",
     "output_type": "stream",
     "text": [
      "[2, 4, 6, 8, 10, 12, 14]\n"
     ]
    }
   ],
   "source": [
    "#multiply the value of list a by 2 and store it in a new list b\n",
    "\n",
    "a=[1,2,3,4,5,6,7]\n",
    "b=[]\n",
    "for i in a:\n",
    "    b.append(i*2)\n",
    "print(b)"
   ]
  },
  {
   "cell_type": "code",
   "execution_count": 4,
   "id": "582c1506",
   "metadata": {},
   "outputs": [
    {
     "name": "stdout",
     "output_type": "stream",
     "text": [
      "[2, 4, 6, 8, 10]\n"
     ]
    }
   ],
   "source": [
    "a=[1,2,3,4,5,6,7,8,9,10]\n",
    "b=[]\n",
    "for i in a:\n",
    "    if (i%2==0):\n",
    "        b.append(i)\n",
    "print(b)        "
   ]
  },
  {
   "cell_type": "code",
   "execution_count": 5,
   "id": "9c4cd8f2",
   "metadata": {},
   "outputs": [
    {
     "name": "stdout",
     "output_type": "stream",
     "text": [
      "[2, 4, 6, 8, 10]\n"
     ]
    }
   ],
   "source": [
    "# list comprehension\n",
    "\n",
    "\n",
    "#syntax = [expresion for a var in iterable if condition]\n",
    "#expresion is 1 ,then for loop ,then if condition\n",
    "\n",
    "b=[i for i in a if (i%2==0)]\n",
    "\n",
    "\n",
    "print(b)"
   ]
  },
  {
   "cell_type": "code",
   "execution_count": 6,
   "id": "aa97ef22",
   "metadata": {},
   "outputs": [
    {
     "name": "stdout",
     "output_type": "stream",
     "text": [
      "['afsaan@gmail.com', 'akash@email.com', 'gulab@gmail.com', 'krishna@yahoo.in', 'pranali@xyz.in']\n"
     ]
    },
    {
     "ename": "AttributeError",
     "evalue": "'str' object has no attribute 'appendsplit'",
     "output_type": "error",
     "traceback": [
      "\u001b[1;31m---------------------------------------------------------------------------\u001b[0m",
      "\u001b[1;31mAttributeError\u001b[0m                            Traceback (most recent call last)",
      "\u001b[1;32m<ipython-input-6-ca1a3c20743a>\u001b[0m in \u001b[0;36m<module>\u001b[1;34m\u001b[0m\n\u001b[0;32m      5\u001b[0m \u001b[0mc\u001b[0m\u001b[1;33m=\u001b[0m\u001b[0mstr\u001b[0m\u001b[1;33m(\u001b[0m\u001b[0ma\u001b[0m\u001b[1;33m)\u001b[0m\u001b[1;33m\u001b[0m\u001b[1;33m\u001b[0m\u001b[0m\n\u001b[0;32m      6\u001b[0m \u001b[0mprint\u001b[0m\u001b[1;33m(\u001b[0m\u001b[0mc\u001b[0m\u001b[1;33m)\u001b[0m\u001b[1;33m\u001b[0m\u001b[1;33m\u001b[0m\u001b[0m\n\u001b[1;32m----> 7\u001b[1;33m \u001b[0mb\u001b[0m\u001b[1;33m=\u001b[0m\u001b[0mc\u001b[0m\u001b[1;33m.\u001b[0m\u001b[0mappendsplit\u001b[0m\u001b[1;33m(\u001b[0m\u001b[1;34m'@'\u001b[0m\u001b[1;33m,\u001b[0m\u001b[1;33m[\u001b[0m\u001b[1;36m0\u001b[0m\u001b[1;33m]\u001b[0m\u001b[1;33m)\u001b[0m\u001b[1;33m\u001b[0m\u001b[1;33m\u001b[0m\u001b[0m\n\u001b[0m\u001b[0;32m      8\u001b[0m \u001b[0mprint\u001b[0m\u001b[1;33m(\u001b[0m\u001b[0mb\u001b[0m\u001b[1;33m)\u001b[0m\u001b[1;33m\u001b[0m\u001b[1;33m\u001b[0m\u001b[0m\n\u001b[0;32m      9\u001b[0m \u001b[1;33m\u001b[0m\u001b[0m\n",
      "\u001b[1;31mAttributeError\u001b[0m: 'str' object has no attribute 'appendsplit'"
     ]
    }
   ],
   "source": [
    "# extract al the username alone  and store in list\n",
    "\n",
    "a = ['afsaan@gmail.com' , 'akash@email.com' , 'gulab@gmail.com' , 'krishna@yahoo.in' , 'pranali@xyz.in']\n",
    "b=[]\n",
    "c=str(a)\n",
    "print(c)\n",
    "b=c.appendsplit('@',[0])\n",
    "print(b)\n",
    "\n"
   ]
  },
  {
   "cell_type": "code",
   "execution_count": 7,
   "id": "5a736dfe",
   "metadata": {},
   "outputs": [
    {
     "name": "stdout",
     "output_type": "stream",
     "text": [
      "['afsaan', 'akash', 'gulab', 'krishna', 'pranali']\n"
     ]
    }
   ],
   "source": [
    "a = ['afsaan@gmail.com' , 'akash@email.com' , 'gulab@gmail.com' , 'krishna@yahoo.in' , 'pranali@xyz.in']\n",
    "\n",
    "b = []\n",
    "for i in a:\n",
    "    b.append(i.split('@')[0])\n",
    "print(b)    "
   ]
  },
  {
   "cell_type": "code",
   "execution_count": 8,
   "id": "1d6a2734",
   "metadata": {},
   "outputs": [
    {
     "name": "stdout",
     "output_type": "stream",
     "text": [
      "['afsaan', 'akash', 'gulab', 'krishna', 'pranali']\n"
     ]
    }
   ],
   "source": [
    "# list comprehenstion\n",
    "\n",
    "b=[i.split('@')[0] for i in a]\n",
    "print(b)"
   ]
  },
  {
   "cell_type": "code",
   "execution_count": 9,
   "id": "3ddffd82",
   "metadata": {},
   "outputs": [
    {
     "name": "stdout",
     "output_type": "stream",
     "text": [
      "1\n"
     ]
    }
   ],
   "source": [
    "a,b,c,r=1,2,(1,3,4),4\n",
    "print(c[0])"
   ]
  },
  {
   "cell_type": "code",
   "execution_count": null,
   "id": "a5a3bfaa",
   "metadata": {},
   "outputs": [],
   "source": []
  }
 ],
 "metadata": {
  "kernelspec": {
   "display_name": "Python 3",
   "language": "python",
   "name": "python3"
  },
  "language_info": {
   "codemirror_mode": {
    "name": "ipython",
    "version": 3
   },
   "file_extension": ".py",
   "mimetype": "text/x-python",
   "name": "python",
   "nbconvert_exporter": "python",
   "pygments_lexer": "ipython3",
   "version": "3.8.8"
  }
 },
 "nbformat": 4,
 "nbformat_minor": 5
}
