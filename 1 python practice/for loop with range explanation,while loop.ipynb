{
 "cells": [
  {
   "cell_type": "code",
   "execution_count": 3,
   "id": "1df81e13",
   "metadata": {},
   "outputs": [
    {
     "name": "stdout",
     "output_type": "stream",
     "text": [
      "p\n",
      "y\n",
      "h\n",
      "t\n",
      "o\n",
      "n\n"
     ]
    }
   ],
   "source": [
    "a=\"pyhton\"\n",
    "for i in a:\n",
    "    print(i)"
   ]
  },
  {
   "cell_type": "code",
   "execution_count": 4,
   "id": "398a12ad",
   "metadata": {},
   "outputs": [
    {
     "name": "stdout",
     "output_type": "stream",
     "text": [
      "0\n",
      "1\n",
      "2\n",
      "3\n",
      "4\n",
      "5\n"
     ]
    }
   ],
   "source": [
    "a=\"pyhton\"\n",
    "for i in range(0,len(a)):\n",
    "    print(i)"
   ]
  },
  {
   "cell_type": "code",
   "execution_count": 5,
   "id": "b9e425c1",
   "metadata": {},
   "outputs": [
    {
     "name": "stdout",
     "output_type": "stream",
     "text": [
      "1\n",
      "2\n",
      "3\n",
      "4\n",
      "5\n",
      "6\n"
     ]
    }
   ],
   "source": [
    "a=\"pyhton\"\n",
    "for i in range(1,len(a)+1):\n",
    "    print(i)"
   ]
  },
  {
   "cell_type": "code",
   "execution_count": 8,
   "id": "1cae68b6",
   "metadata": {},
   "outputs": [
    {
     "name": "stdout",
     "output_type": "stream",
     "text": [
      "p\n",
      "yy\n",
      "hhh\n",
      "tttt\n",
      "ooooo\n",
      "nnnnnn\n"
     ]
    }
   ],
   "source": [
    "a=\"pyhton\"\n",
    "for i in range(0,len(a)):\n",
    "    print(a[i]*(i+1))"
   ]
  },
  {
   "cell_type": "code",
   "execution_count": 11,
   "id": "999dbb23",
   "metadata": {},
   "outputs": [
    {
     "name": "stdout",
     "output_type": "stream",
     "text": [
      "nnnnnn\n",
      "ooooo\n",
      "tttt\n",
      "hhh\n",
      "yy\n",
      "p\n"
     ]
    }
   ],
   "source": [
    "a=\"pyhton\"\n",
    "for i in range(len(a)-1,-1,-1):\n",
    "    print(a[i]*(i+1))"
   ]
  },
  {
   "cell_type": "code",
   "execution_count": 1,
   "id": "1b4f042d",
   "metadata": {},
   "outputs": [
    {
     "name": "stdout",
     "output_type": "stream",
     "text": [
      "p\n",
      "yy\n",
      "hhh\n",
      "tttt\n",
      "ooooo\n",
      "nnnnnn\n"
     ]
    }
   ],
   "source": [
    "a=\"pyhton\"\n",
    "i=0\n",
    "while(i<len(a)):\n",
    "    print(a[i]*(i+1))\n",
    "    i=i+1"
   ]
  },
  {
   "cell_type": "code",
   "execution_count": 14,
   "id": "a8caa94c",
   "metadata": {},
   "outputs": [
    {
     "name": "stdout",
     "output_type": "stream",
     "text": [
      "n\n",
      "oo\n",
      "ttt\n",
      "hhhh\n",
      "yyyyy\n",
      "pppppp\n"
     ]
    }
   ],
   "source": [
    "a=\"pyhton\"\n",
    "i=0\n",
    "while(len(a)>i):\n",
    "    print(a[(len(a)-1)-i]*(i+1))\n",
    "    i=i+1"
   ]
  },
  {
   "cell_type": "code",
   "execution_count": 2,
   "id": "91e8f529",
   "metadata": {},
   "outputs": [
    {
     "name": "stdout",
     "output_type": "stream",
     "text": [
      "A\n",
      "n\n",
      "t\n",
      "a\n",
      "r\n",
      "c\n",
      "t\n",
      "i\n",
      "c\n",
      "a\n"
     ]
    }
   ],
   "source": [
    "str=\"Antarctica\"\n",
    "#Type your code here.\n",
    "for i in range(0,len(str)):\n",
    "    print(str[i])\n",
    "\n",
    "\n",
    "\n",
    "\n"
   ]
  },
  {
   "cell_type": "code",
   "execution_count": 7,
   "id": "c3af96f9",
   "metadata": {},
   "outputs": [
    {
     "name": "stdout",
     "output_type": "stream",
     "text": [
      "['Dr.Phil', 'Dr.Oz', 'Dr.Seuss', 'Dr.Dre']\n"
     ]
    }
   ],
   "source": [
    "lst1=[\"Phil\", \"Oz\", \"Seuss\", \"Dre\"]\n",
    "lst2=[]\n",
    "#Type your answer here.\n",
    "for i in lst1:\n",
    "    lst2.append(\"Dr.\"+i)\n",
    "\n",
    "\n",
    "\n",
    "print(lst2)\n",
    "\n",
    " "
   ]
  },
  {
   "cell_type": "code",
   "execution_count": 11,
   "id": "e7453266",
   "metadata": {},
   "outputs": [
    {
     "name": "stdout",
     "output_type": "stream",
     "text": [
      "[900, 100, 1300, 50, 2200, 400]\n"
     ]
    }
   ],
   "source": [
    "\n",
    "#using for loop just print the \n",
    "\n",
    "dict={\"z1\":900, \"t1\": 1100, \"p1\": 2300, \"r1\": 1050, \"k1\": 3200, \"g1\": 400}\n",
    "lst=[]\n",
    "#Type your answer here.\n",
    "for i in dict.values():\n",
    "    if(i>1000):\n",
    "        i=i-1000\n",
    "        lst.append(i)\n",
    "    else:\n",
    "        lst.append(i)\n",
    "\n",
    "\n",
    "print(lst)\n",
    "\n"
   ]
  },
  {
   "cell_type": "code",
   "execution_count": 1,
   "id": "1762753a",
   "metadata": {},
   "outputs": [
    {
     "name": "stdout",
     "output_type": "stream",
     "text": [
      "Joe\n",
      "Sarah\n",
      "Mike\n",
      "Jess\n",
      "Matt\n",
      "Greg\n",
      "['Joe', 'Sarah', 'Mike', 'Jess', 'Matt', 'Greg']\n"
     ]
    }
   ],
   "source": [
    "lst=[\"Joe\", \"Sarah\", \"Mike\", \"Jess\", \"\", \"Matt\", \"\", \"Greg\"]\n",
    "l=[]\n",
    "\n",
    "def adder(lst1):\n",
    "    i=0\n",
    "    while(i<len(lst1)):\n",
    "        if(lst1[i]!=\"\"):\n",
    "            print(lst1[i])\n",
    "            l.append(lst[i])\n",
    "            \n",
    "        i=i+1\n",
    "    print(l)\n",
    "adder(lst)"
   ]
  },
  {
   "cell_type": "code",
   "execution_count": 1,
   "id": "c04f03ee",
   "metadata": {},
   "outputs": [
    {
     "name": "stdout",
     "output_type": "stream",
     "text": [
      "['Joe', 'Sarah', 'Mike', 'Jess', 'Matt', 'Greg']\n"
     ]
    }
   ],
   "source": [
    "# Using while loop and an if statement write a function named name_adder\n",
    "# which appends all the elements in a list to a new list unless the element is an empty string: \"\".\n",
    "\n",
    "\n",
    "\n",
    "lst1=[\"Joe\", \"Sarah\", \"Mike\", \"Jess\", \"\", \"Matt\", \"\", \"Greg\"]\n",
    "\n",
    "lstemp=[]\n",
    "\n",
    "#Type your code here.\n",
    "\n",
    "def name_adder(lst):\n",
    "    i=0\n",
    "    while(i<len(lst)):\n",
    "        if(lst[i]!=\"\"):\n",
    "            lstemp.append(lst[i])\n",
    "        i=i+1\n",
    "    print(lstemp)\n",
    "    \n",
    "name_adder(lst1)\n",
    "\n",
    "\n"
   ]
  },
  {
   "cell_type": "code",
   "execution_count": 16,
   "id": "720440e7",
   "metadata": {},
   "outputs": [
    {
     "name": "stdout",
     "output_type": "stream",
     "text": [
      "['Sam']\n"
     ]
    }
   ],
   "source": [
    "# This time inside a function named name_adder, write a while loop that stops appending items to the new list\n",
    "# as soon as it encounters an empty string: \"\". And prints \"There is an empty string and returns the new list.\"\n",
    "\n",
    "\n",
    "lst1=[\"Sam\", \"\", \"Ben\", \"Olivia\", \"Alicia\"]\n",
    "l=[]\n",
    "#Type your answer here.    \n",
    "def new(lst):\n",
    "    i=0\n",
    "    while(i<len(lst)):\n",
    "        if(lst[i]!=\"\"):\n",
    "            l.append(lst[i])\n",
    "        else:\n",
    "            return l\n",
    "            break\n",
    "        i=i+1\n",
    "\n",
    "print(new(lst1))\n",
    "\n",
    "\n",
    "\n",
    "\n",
    "\n",
    "\n",
    "\n",
    "\n"
   ]
  },
  {
   "cell_type": "code",
   "execution_count": null,
   "id": "3434e554",
   "metadata": {},
   "outputs": [],
   "source": []
  }
 ],
 "metadata": {
  "kernelspec": {
   "display_name": "Python 3",
   "language": "python",
   "name": "python3"
  },
  "language_info": {
   "codemirror_mode": {
    "name": "ipython",
    "version": 3
   },
   "file_extension": ".py",
   "mimetype": "text/x-python",
   "name": "python",
   "nbconvert_exporter": "python",
   "pygments_lexer": "ipython3",
   "version": "3.8.8"
  }
 },
 "nbformat": 4,
 "nbformat_minor": 5
}
