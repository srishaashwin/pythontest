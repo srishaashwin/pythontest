{
 "cells": [
  {
   "cell_type": "code",
   "execution_count": 7,
   "id": "e0ced53c",
   "metadata": {},
   "outputs": [
    {
     "name": "stdout",
     "output_type": "stream",
     "text": [
      "54\n",
      "67\n",
      "987\n"
     ]
    }
   ],
   "source": [
    "#function to return max of 3 numbers\n",
    "\n",
    "def max2(a,b):\n",
    "  if(a>b):\n",
    "    return a\n",
    "  else:\n",
    "    return b\n",
    "    \n",
    "def max3(a,b,c):\n",
    "  return max2(c,max2(a,b))\n",
    "  \n",
    "\n",
    "print(max3(10,54,48))\n",
    "print(max2(3,67))\n",
    "print(max3(543,765,987))\n"
   ]
  },
  {
   "cell_type": "code",
   "execution_count": 2,
   "id": "5a729af8",
   "metadata": {},
   "outputs": [
    {
     "name": "stdout",
     "output_type": "stream",
     "text": [
      "23\n",
      "181\n",
      "15\n"
     ]
    }
   ],
   "source": [
    "#to sum all num in a list\n",
    "def sumall(a):\n",
    "    x=0\n",
    "    for i in a:\n",
    "        x=x+i\n",
    "    return x\n",
    "\n",
    "print(sumall([1,2,3,4,5,8])) #list   \n",
    "print(sumall((54,6,78,43) )) #tuple\n",
    "print(sumall({1,2,3,4,5}))#set\n",
    " "
   ]
  },
  {
   "cell_type": "code",
   "execution_count": 10,
   "id": "be80f325",
   "metadata": {},
   "outputs": [
    {
     "name": "stdout",
     "output_type": "stream",
     "text": [
      "ajsirs\n",
      "hsemar\n"
     ]
    }
   ],
   "source": [
    "#function to reverse a string\n",
    "\n",
    "def rev(a):\n",
    "    for i in a:\n",
    "        b=a[::-1] \n",
    "    return(b)\n",
    "\n",
    "\n",
    "print(rev(\"srisja\"))\n",
    "print(rev(\"ramesh\"))"
   ]
  },
  {
   "cell_type": "code",
   "execution_count": 12,
   "id": "bf9fcfa4",
   "metadata": {},
   "outputs": [
    {
     "name": "stdout",
     "output_type": "stream",
     "text": [
      "7 1\n"
     ]
    }
   ],
   "source": [
    "\n",
    "a=\"sruiSadd\"\n",
    "b=0\n",
    "c=0\n",
    "for i in a:\n",
    "    if i.isupper():\n",
    "        b=b+1\n",
    "    else:\n",
    "        c=c+1\n",
    "print(c,b)"
   ]
  },
  {
   "cell_type": "code",
   "execution_count": 13,
   "id": "1325c6fa",
   "metadata": {},
   "outputs": [
    {
     "name": "stdout",
     "output_type": "stream",
     "text": [
      "the number of upper case letters are :  3\n",
      "the number of upper case letters are :  18\n"
     ]
    }
   ],
   "source": [
    "def case(a):\n",
    "    b=0\n",
    "    c=0\n",
    "    for i in a:\n",
    "        if i.isupper():\n",
    "            b=b+1\n",
    "        else:\n",
    "            c=c+1\n",
    "    print(\"the number of upper case letters are : \",b)\n",
    "    print(\"the number of upper case letters are : \",c)\n",
    "    \n",
    "case(\"Coat the Value Of six\")\n"
   ]
  },
  {
   "cell_type": "code",
   "execution_count": null,
   "id": "4ad67b91",
   "metadata": {},
   "outputs": [],
   "source": []
  }
 ],
 "metadata": {
  "kernelspec": {
   "display_name": "Python 3",
   "language": "python",
   "name": "python3"
  },
  "language_info": {
   "codemirror_mode": {
    "name": "ipython",
    "version": 3
   },
   "file_extension": ".py",
   "mimetype": "text/x-python",
   "name": "python",
   "nbconvert_exporter": "python",
   "pygments_lexer": "ipython3",
   "version": "3.8.8"
  }
 },
 "nbformat": 4,
 "nbformat_minor": 5
}
