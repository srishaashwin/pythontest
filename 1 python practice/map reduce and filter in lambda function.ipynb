{
 "cells": [
  {
   "cell_type": "code",
   "execution_count": 8,
   "id": "fa716a6b",
   "metadata": {},
   "outputs": [
    {
     "name": "stdout",
     "output_type": "stream",
     "text": [
      "the number is prime\n",
      "the numb is not prime\n",
      "the number is prime\n"
     ]
    }
   ],
   "source": [
    "\n",
    "def prime(a):\n",
    "    for i in range(2,a//2):\n",
    "        if(a%i==0):\n",
    "            return(\"the numb is not prime\")\n",
    "        else:\n",
    "            return(\"the number is prime\")\n",
    "print(prime(53))\n",
    "print(prime(24))\n",
    "print(prime(11))\n",
    "        \n",
    "        "
   ]
  },
  {
   "cell_type": "code",
   "execution_count": 11,
   "id": "3d68965f",
   "metadata": {},
   "outputs": [
    {
     "name": "stdout",
     "output_type": "stream",
     "text": [
      "[2, 4, 6]\n"
     ]
    }
   ],
   "source": [
    "def even(a):\n",
    "    c=[]\n",
    "    for i in a:\n",
    "        if(i%2==0):\n",
    "            c.append(i)\n",
    "    return c\n",
    "print(even([1,2,3,4,5,6]))"
   ]
  },
  {
   "cell_type": "code",
   "execution_count": 13,
   "id": "dd6a618a",
   "metadata": {},
   "outputs": [
    {
     "data": {
      "text/plain": [
       "60"
      ]
     },
     "execution_count": 13,
     "metadata": {},
     "output_type": "execute_result"
    }
   ],
   "source": [
    "#lambda function\n",
    "\n",
    "(lambda a,b: a+b)(20,40)\n"
   ]
  },
  {
   "cell_type": "code",
   "execution_count": 18,
   "id": "3dece6b0",
   "metadata": {},
   "outputs": [
    {
     "data": {
      "text/plain": [
       "'odd'"
      ]
     },
     "execution_count": 18,
     "metadata": {},
     "output_type": "execute_result"
    }
   ],
   "source": [
    "#to find a numb is odd or even using lambda\n",
    "\n",
    "\n",
    "y=(lambda a:\"even\" if(a%2==0) else \"odd\") (19)\n",
    "y"
   ]
  },
  {
   "cell_type": "code",
   "execution_count": 19,
   "id": "b2f78f7b",
   "metadata": {},
   "outputs": [
    {
     "name": "stdout",
     "output_type": "stream",
     "text": [
      "[32.0, 72.5, 104.0, 212.0]\n"
     ]
    }
   ],
   "source": [
    "tem=[0,22.5,40,100]\n",
    "tempfar=[]\n",
    "for i in tem:\n",
    "    x=(9/5*i)+32\n",
    "    tempfar.append(x)\n",
    "print(tempfar)"
   ]
  },
  {
   "cell_type": "code",
   "execution_count": 2,
   "id": "c7d55174",
   "metadata": {},
   "outputs": [
    {
     "data": {
      "text/plain": [
       "[50.36, 113.0, 212.0]"
      ]
     },
     "execution_count": 2,
     "metadata": {},
     "output_type": "execute_result"
    }
   ],
   "source": [
    "\n",
    "\n",
    "(lambda a: [(9/5*i)+32 for i in a ])([10.2,45,100])\n",
    "    "
   ]
  },
  {
   "cell_type": "code",
   "execution_count": 10,
   "id": "de75977a",
   "metadata": {},
   "outputs": [
    {
     "data": {
      "text/plain": [
       "<map at 0x1ae718fb700>"
      ]
     },
     "execution_count": 10,
     "metadata": {},
     "output_type": "execute_result"
    }
   ],
   "source": [
    "#using map function \n",
    "\n",
    "\n",
    "a=[10,2,45,100]\n",
    "\n",
    "(map(lambda a:((9/5*a)+32),a)) "
   ]
  },
  {
   "cell_type": "code",
   "execution_count": 14,
   "id": "dcc1d753",
   "metadata": {},
   "outputs": [
    {
     "data": {
      "text/plain": [
       "['akzelxw',\n",
       " 'elum',\n",
       " 'akbar.caakaterasu',\n",
       " 'akarui.kibuno',\n",
       " 'ajsparkchick',\n",
       " 'ajmeia',\n",
       " 'ajhnstn87',\n",
       " 'ailuvzhoko4',\n",
       " 'ailuvzhoko3',\n",
       " 'ailuvzhoko2',\n",
       " 'ailuvzhoko',\n",
       " 'aillensiquioco',\n",
       " 'ahmovic_ines',\n",
       " 'ahmed_g300',\n",
       " 'ahmadjazlan',\n",
       " 'ahmad_ridho19']"
      ]
     },
     "execution_count": 14,
     "metadata": {},
     "output_type": "execute_result"
    }
   ],
   "source": [
    "#map\n",
    "#map function \n",
    "#to fing the user name from the mail id\n",
    "\n",
    "a = ['akzelxw@hotmail.com',\n",
    "'elum@gmail.com',\n",
    "'akbar.caakaterasu@gmail.com',\n",
    "'akarui.kibuno@gmail.com',\n",
    "'ajsparkchick@hotmail.com',\n",
    "'ajmeia@yahoo.com',\n",
    "'ajhnstn87@gmail.com',\n",
    "'ailuvzhoko4@hotmail.com',\n",
    "'ailuvzhoko3@hotmail.com',\n",
    "'ailuvzhoko2@hotmail.com',\n",
    "'ailuvzhoko@hotmail.com',\n",
    "'aillensiquioco@aol.com',\n",
    "'ahmovic_ines@hotmail.com',\n",
    "'ahmed_g300@yahoo.com',\n",
    "'ahmadjazlan@gmail.com',\n",
    "'ahmad_ridho19@yahoo.com']\n",
    "\n",
    "list(map(lambda a:a.split(\"@\")[0],a))"
   ]
  },
  {
   "cell_type": "code",
   "execution_count": 16,
   "id": "f64ed59f",
   "metadata": {},
   "outputs": [
    {
     "data": {
      "text/plain": [
       "['elum@gmail.com',\n",
       " 'akbar.caakaterasu@gmail.com',\n",
       " 'akarui.kibuno@gmail.com',\n",
       " 'ajhnstn87@gmail.com',\n",
       " 'ahmadjazlan@gmail.com']"
      ]
     },
     "execution_count": 16,
     "metadata": {},
     "output_type": "execute_result"
    }
   ],
   "source": [
    "#map\n",
    "#map function \n",
    "#to fing the user name from the mail id\n",
    "\n",
    "a = ['akzelxw@hotmail.com',\n",
    "'elum@gmail.com',\n",
    "'akbar.caakaterasu@gmail.com',\n",
    "'akarui.kibuno@gmail.com',\n",
    "'ajsparkchick@hotmail.com',\n",
    "'ajmeia@yahoo.com',\n",
    "'ajhnstn87@gmail.com',\n",
    "'ailuvzhoko4@hotmail.com',\n",
    "'ailuvzhoko3@hotmail.com',\n",
    "'ailuvzhoko2@hotmail.com',\n",
    "'ailuvzhoko@hotmail.com',\n",
    "'aillensiquioco@aol.com',\n",
    "'ahmovic_ines@hotmail.com',\n",
    "'ahmed_g300@yahoo.com',\n",
    "'ahmadjazlan@gmail.com',\n",
    "'ahmad_ridho19@yahoo.com']\n",
    "\n",
    "list(filter(lambda a: \"gmail.com\" in a ,a))"
   ]
  },
  {
   "cell_type": "code",
   "execution_count": 4,
   "id": "67fa0889",
   "metadata": {},
   "outputs": [
    {
     "data": {
      "text/plain": [
       "['elum@gmail.com',\n",
       " 'akbar.caakaterasu@gmail.com',\n",
       " 'akarui.kibuno@gmail.com',\n",
       " 'ajhnstn87@gmail.com',\n",
       " 'ahmadjazlan@gmail.com']"
      ]
     },
     "execution_count": 4,
     "metadata": {},
     "output_type": "execute_result"
    }
   ],
   "source": [
    "#map\n",
    "#map function \n",
    "#to fing the user name from the mail id\n",
    "\n",
    "a = ['akzelxw@hotmail.com',\n",
    "'elum@gmail.com',\n",
    "'akbar.caakaterasu@gmail.com',\n",
    "'akarui.kibuno@gmail.com',\n",
    "'ajsparkchick@hotmail.com',\n",
    "'ajmeia@yahoo.com',\n",
    "'ajhnstn87@gmail.com',\n",
    "'ailuvzhoko4@hotmail.com',\n",
    "'ailuvzhoko3@hotmail.com',\n",
    "'ailuvzhoko2@hotmail.com',\n",
    "'ailuvzhoko@hotmail.com',\n",
    "'aillensiquioco@aol.com',\n",
    "'ahmovic_ines@hotmail.com',\n",
    "'ahmed_g300@yahoo.com',\n",
    "'ahmadjazlan@gmail.com']\n",
    "list(filter(lambda a:a.endswith(\"@gmail.com\"),a))\n",
    "     "
   ]
  },
  {
   "cell_type": "markdown",
   "id": "87135931",
   "metadata": {},
   "source": [
    "# module"
   ]
  },
  {
   "cell_type": "code",
   "execution_count": 4,
   "id": "932e32a7",
   "metadata": {},
   "outputs": [
    {
     "name": "stdout",
     "output_type": "stream",
     "text": [
      "['In', 'Out', '_', '_2', '__', '___', '__builtin__', '__builtins__', '__doc__', '__loader__', '__name__', '__package__', '__spec__', '_dh', '_exit_code', '_i', '_i1', '_i2', '_i3', '_i4', '_ih', '_ii', '_iii', '_oh', 'exit', 'get_ipython', 'quit']\n"
     ]
    }
   ],
   "source": [
    "print(dir())\n",
    "\n",
    "import my_module\n",
    "\n"
   ]
  },
  {
   "cell_type": "code",
   "execution_count": 2,
   "id": "1be622de",
   "metadata": {},
   "outputs": [
    {
     "data": {
      "text/plain": [
       "'C:\\\\Users\\\\Admin\\\\1 python practice'"
      ]
     },
     "execution_count": 2,
     "metadata": {},
     "output_type": "execute_result"
    }
   ],
   "source": [
    "pwd\n"
   ]
  },
  {
   "cell_type": "code",
   "execution_count": 3,
   "id": "82afca3e",
   "metadata": {},
   "outputs": [
    {
     "name": "stdout",
     "output_type": "stream",
     "text": [
      " Volume in drive C has no label.\n",
      " Volume Serial Number is 0ADD-F2EC\n",
      "\n",
      " Directory of C:\\Users\\Admin\\1 python practice\n",
      "\n",
      "03-11-2021  08:41 PM    <DIR>          .\n",
      "03-11-2021  08:41 PM    <DIR>          ..\n",
      "02-11-2021  09:49 PM    <DIR>          .ipynb_checkpoints\n",
      "29-10-2021  02:11 PM            22,116 examples of (for loop(range),while loop and dict).ipynb\n",
      "27-10-2021  06:32 AM             3,093 examples of array .ipynb\n",
      "28-10-2021  01:05 PM            29,595 examples of list accessing and for loop.ipynb\n",
      "02-11-2021  06:49 PM             7,796 for loop with range explanation,while loop.ipynb\n",
      "30-10-2021  01:45 AM             3,395 functions.py.ipynb\n",
      "03-11-2021  08:41 PM             9,108 map reduce and filter in lambda function.ipynb\n",
      "               6 File(s)         75,103 bytes\n",
      "               3 Dir(s)  135,761,670,144 bytes free\n"
     ]
    }
   ],
   "source": [
    "ls\n"
   ]
  },
  {
   "cell_type": "code",
   "execution_count": 6,
   "id": "6adcdeb1",
   "metadata": {},
   "outputs": [
    {
     "name": "stdout",
     "output_type": "stream",
     "text": [
      "['In', 'Out', '_', '_2', '__', '___', '__builtin__', '__builtins__', '__doc__', '__loader__', '__name__', '__package__', '__spec__', '_dh', '_exit_code', '_i', '_i1', '_i2', '_i3', '_i4', '_i5', '_i6', '_ih', '_ii', '_iii', '_oh', 'exit', 'get_ipython', 'my_module', 'quit']\n"
     ]
    }
   ],
   "source": [
    "print(dir())"
   ]
  },
  {
   "cell_type": "code",
   "execution_count": 7,
   "id": "6ed0c253",
   "metadata": {},
   "outputs": [],
   "source": [
    "import my_module\n"
   ]
  },
  {
   "cell_type": "code",
   "execution_count": 9,
   "id": "508a65e7",
   "metadata": {},
   "outputs": [
    {
     "name": "stdout",
     "output_type": "stream",
     "text": [
      "['In', 'Out', '_', '_2', '__', '___', '__builtin__', '__builtins__', '__doc__', '__loader__', '__name__', '__package__', '__spec__', '_dh', '_exit_code', '_i', '_i1', '_i2', '_i3', '_i4', '_i5', '_i6', '_i7', '_i8', '_i9', '_ih', '_ii', '_iii', '_oh', 'exit', 'get_ipython', 'my_module', 'quit']\n"
     ]
    }
   ],
   "source": [
    "\n",
    "print(dir())"
   ]
  },
  {
   "cell_type": "code",
   "execution_count": 10,
   "id": "6e78212e",
   "metadata": {},
   "outputs": [
    {
     "name": "stdout",
     "output_type": "stream",
     "text": [
      "the numb is odd\n"
     ]
    }
   ],
   "source": [
    "my_module.odd_even(45)"
   ]
  },
  {
   "cell_type": "code",
   "execution_count": null,
   "id": "04eaa0b4",
   "metadata": {},
   "outputs": [],
   "source": []
  }
 ],
 "metadata": {
  "kernelspec": {
   "display_name": "Python 3",
   "language": "python",
   "name": "python3"
  },
  "language_info": {
   "codemirror_mode": {
    "name": "ipython",
    "version": 3
   },
   "file_extension": ".py",
   "mimetype": "text/x-python",
   "name": "python",
   "nbconvert_exporter": "python",
   "pygments_lexer": "ipython3",
   "version": "3.8.8"
  }
 },
 "nbformat": 4,
 "nbformat_minor": 5
}
