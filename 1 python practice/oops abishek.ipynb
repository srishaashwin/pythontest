{
 "cells": [
  {
   "cell_type": "code",
   "execution_count": 15,
   "id": "69420417",
   "metadata": {},
   "outputs": [
    {
     "name": "stdout",
     "output_type": "stream",
     "text": [
      "[3456789, 3224566, 876545, 8898764, 987654, 87906, 3456789]\n"
     ]
    }
   ],
   "source": [
    "#write a class which has a constructor and a class variable\n",
    "#the constructor has 3 attributes name,mobno,email\n",
    "#and every time the instanciation happens the mobile number should be appended \n",
    "#in the class variable \n",
    "\n",
    "\n",
    "\n",
    "\n",
    "class contact:\n",
    "    lst=[]#class variable\n",
    "    def __init__(self,name,mob,email):#constructor\n",
    "        self.n=name\n",
    "        self.m=mob\n",
    "        self.e=email\n",
    "        contact.lst.append(self.m)#apeending the mobno's to class variable\n",
    "c1=contact(\"sri\",3456789,'sriram@gmail.com')\n",
    "c1=contact(\"sriram\",3224566,'sriram@gmail.com')\n",
    "c1=contact(\"sriwin\",876545,'sriram@gmail.com')\n",
    "c1=contact(\"sri\",8898764,'sriram@gmail.com')\n",
    "c1=contact(\"dfrsri\",987654,'sriram@gmail.com')\n",
    "c1=contact(\"nhysri\",87906,'sriram@gmail.com')\n",
    "c1=contact(\"sri\",3456789,'sriram@gmail.com')\n",
    "print(contact.lst)#printing the class variable\n",
    "\n",
    "\n",
    "#we should call or print the class variable by using the class name\n",
    "\n"
   ]
  },
  {
   "cell_type": "code",
   "execution_count": 34,
   "id": "b4955637",
   "metadata": {},
   "outputs": [
    {
     "name": "stdout",
     "output_type": "stream",
     "text": [
      "[<__main__.contact object at 0x0000020A1ACFB610>, <__main__.contact object at 0x0000020A1AEAE5B0>, <__main__.contact object at 0x0000020A1AEAE520>, <__main__.contact object at 0x0000020A1AEAEC70>, <__main__.contact object at 0x0000020A1AEAE5E0>, <__main__.contact object at 0x0000020A1AEAE460>]\n"
     ]
    }
   ],
   "source": [
    "class contact:\n",
    "    lst=[]#class variable\n",
    "    def __init__(self,name,mob,email):#constructor\n",
    "        self.n=name\n",
    "        self.m=mob\n",
    "        self.e=email\n",
    "        contact.lst.append(self)  #apeending the contact details to class variable\n",
    "    \n",
    "        \n",
    "c1=contact(\"sri\",3456789,'sriram@gmail.com')\n",
    "c2=contact(\"sriram\",3224566,'sriram@gmail.com')\n",
    "c3=contact(\"sriwin\",876545,'sriram@gmail.com')\n",
    "c4=contact(\"sri\",8898764,'sriram@gmail.com')\n",
    "c5=contact(\"dfrsri\",987654,'sriram@gmail.com')\n",
    "c6=contact(\"nhysri\",87906,'sriram@gmail.com')\n",
    "print(contact.lst)"
   ]
  },
  {
   "cell_type": "code",
   "execution_count": 32,
   "id": "e766d825",
   "metadata": {},
   "outputs": [
    {
     "name": "stdout",
     "output_type": "stream",
     "text": [
      "[<__main__.contact object at 0x0000020A1AEAD700>, <__main__.contact object at 0x0000020A1AEAD040>, <__main__.contact object at 0x0000020A1AEAD940>, <__main__.contact object at 0x0000020A1AEAE130>, <__main__.contact object at 0x0000020A1AEAE490>]\n",
      "3456789\n",
      "sriram@gmail.com\n"
     ]
    }
   ],
   "source": [
    "#write a method for contact class which takes name of an object as a argument and \n",
    "#prints the mobile number and email of a particular contact\n",
    "\n",
    "\n",
    "\n",
    "\n",
    "class contact:\n",
    "    lst=[]#class variable\n",
    "    def __init__(self,name,mob,email):#constructor\n",
    "        self.n=name\n",
    "        self.m=mob\n",
    "        self.e=email\n",
    "        contact.lst.append(self)  #apeending the contact details to class variable\n",
    "        \n",
    "    def info(cls,name):#class method\n",
    "        for i in contact.lst:\n",
    "            if i.n ==name:\n",
    "                print(i.m)\n",
    "                print(i.e)\n",
    "c1=contact(\"sri\",3456789,'sriram@gmail.com')\n",
    "c2=contact(\"sriram\",3224566,'sriram@gmail.com')\n",
    "c3=contact(\"sriwin\",876545,'sriram@gmail.com')\n",
    "c5=contact(\"dfrsri\",987654,'sriram@gmail.com')\n",
    "c6=contact(\"nhysri\",87906,'sriram@gmail.com')\n",
    "\n",
    "contact.info(contact.lst,'sri')"
   ]
  },
  {
   "cell_type": "code",
   "execution_count": null,
   "id": "25457667",
   "metadata": {},
   "outputs": [],
   "source": []
  }
 ],
 "metadata": {
  "kernelspec": {
   "display_name": "Python 3",
   "language": "python",
   "name": "python3"
  },
  "language_info": {
   "codemirror_mode": {
    "name": "ipython",
    "version": 3
   },
   "file_extension": ".py",
   "mimetype": "text/x-python",
   "name": "python",
   "nbconvert_exporter": "python",
   "pygments_lexer": "ipython3",
   "version": "3.8.8"
  }
 },
 "nbformat": 4,
 "nbformat_minor": 5
}
