{
 "cells": [
  {
   "cell_type": "code",
   "execution_count": 1,
   "id": "8abbaa7a",
   "metadata": {},
   "outputs": [
    {
     "name": "stdout",
     "output_type": "stream",
     "text": [
      "<class 'str'>\n",
      "2915160494768\n"
     ]
    }
   ],
   "source": [
    "#Declare a string and store it in a variable. \n",
    "\n",
    "\n",
    "\n",
    "#Check the type and print the id of the same.\n",
    "\n",
    "a=\"This is a string test\"\n",
    "print(type(a))\n",
    "print(id(a))"
   ]
  },
  {
   "cell_type": "code",
   "execution_count": 2,
   "id": "e222ceac",
   "metadata": {},
   "outputs": [
    {
     "name": "stdout",
     "output_type": "stream",
     "text": [
      "This is Python class\n"
     ]
    }
   ],
   "source": [
    "#outputs with diferernt types of quotes \n",
    "\n",
    "\n",
    "print('This is Python class')\n"
   ]
  },
  {
   "cell_type": "code",
   "execution_count": 3,
   "id": "ff609e2b",
   "metadata": {},
   "outputs": [
    {
     "name": "stdout",
     "output_type": "stream",
     "text": [
      "This is Python class\n"
     ]
    }
   ],
   "source": [
    "print(\"This is Python class\")\n"
   ]
  },
  {
   "cell_type": "code",
   "execution_count": 4,
   "id": "0af9c170",
   "metadata": {},
   "outputs": [
    {
     "name": "stdout",
     "output_type": "stream",
     "text": [
      "This is Python class\n"
     ]
    }
   ],
   "source": [
    "print('''This is Python class''')"
   ]
  },
  {
   "cell_type": "code",
   "execution_count": 5,
   "id": "ec4d5405",
   "metadata": {},
   "outputs": [
    {
     "name": "stdout",
     "output_type": "stream",
     "text": [
      "This is Python class\n"
     ]
    }
   ],
   "source": [
    "print(\"\"\"This is Python class\"\"\")"
   ]
  },
  {
   "cell_type": "code",
   "execution_count": 6,
   "id": "1b594c69",
   "metadata": {},
   "outputs": [
    {
     "ename": "SyntaxError",
     "evalue": "invalid syntax (<ipython-input-6-dc3652bd4ef6>, line 1)",
     "output_type": "error",
     "traceback": [
      "\u001b[1;36m  File \u001b[1;32m\"<ipython-input-6-dc3652bd4ef6>\"\u001b[1;36m, line \u001b[1;32m1\u001b[0m\n\u001b[1;33m    print('This is Python's class')\u001b[0m\n\u001b[1;37m                          ^\u001b[0m\n\u001b[1;31mSyntaxError\u001b[0m\u001b[1;31m:\u001b[0m invalid syntax\n"
     ]
    }
   ],
   "source": [
    "print('This is Python's class')\n"
   ]
  },
  {
   "cell_type": "code",
   "execution_count": 7,
   "id": "cf2c6692",
   "metadata": {},
   "outputs": [
    {
     "ename": "SyntaxError",
     "evalue": "invalid syntax (<ipython-input-7-b7f812b8676f>, line 1)",
     "output_type": "error",
     "traceback": [
      "\u001b[1;36m  File \u001b[1;32m\"<ipython-input-7-b7f812b8676f>\"\u001b[1;36m, line \u001b[1;32m1\u001b[0m\n\u001b[1;33m    print(\"Learnbay provides \"Java\", \"Python\" classes\")\u001b[0m\n\u001b[1;37m                              ^\u001b[0m\n\u001b[1;31mSyntaxError\u001b[0m\u001b[1;31m:\u001b[0m invalid syntax\n"
     ]
    }
   ],
   "source": [
    "print(\"Learnbay provides \"Java\", \"Python\" classes\")"
   ]
  },
  {
   "cell_type": "code",
   "execution_count": 8,
   "id": "df4dd173",
   "metadata": {},
   "outputs": [
    {
     "name": "stdout",
     "output_type": "stream",
     "text": [
      "Learnbay provides 'Java', 'Python' classes\n"
     ]
    }
   ],
   "source": [
    "print(\"Learnbay provides 'Java', 'Python' classes\")\n"
   ]
  },
  {
   "cell_type": "code",
   "execution_count": 9,
   "id": "1d583cfd",
   "metadata": {},
   "outputs": [
    {
     "name": "stdout",
     "output_type": "stream",
     "text": [
      "This is Python's class\n"
     ]
    }
   ],
   "source": [
    "print(\"This is Python's class\")"
   ]
  },
  {
   "cell_type": "code",
   "execution_count": 10,
   "id": "585197d3",
   "metadata": {},
   "outputs": [
    {
     "name": "stdout",
     "output_type": "stream",
     "text": [
      "Learnbay provides \"Java\", \"Python\" classes\n"
     ]
    }
   ],
   "source": [
    "print(\"\"\"Learnbay provides \"Java\", \"Python\" classes\"\"\")"
   ]
  },
  {
   "cell_type": "code",
   "execution_count": 11,
   "id": "82a19fb9",
   "metadata": {},
   "outputs": [
    {
     "name": "stdout",
     "output_type": "stream",
     "text": [
      "Learnbay provides \"Java\", \"Python\" classes\n"
     ]
    }
   ],
   "source": [
    "print('''Learnbay provides \"Java\", \"Python\" classes''')"
   ]
  },
  {
   "cell_type": "code",
   "execution_count": 12,
   "id": "b02a78a0",
   "metadata": {},
   "outputs": [
    {
     "name": "stdout",
     "output_type": "stream",
     "text": [
      "Learnbay provides\n",
      "\"Java\", \"Python\" \n",
      "classes\n"
     ]
    }
   ],
   "source": [
    "print('''Learnbay provides\n",
    "\"Java\", \"Python\" \n",
    "classes''')"
   ]
  },
  {
   "cell_type": "code",
   "execution_count": 13,
   "id": "0f328649",
   "metadata": {},
   "outputs": [
    {
     "ename": "SyntaxError",
     "evalue": "EOL while scanning string literal (<ipython-input-13-96a1037219b9>, line 1)",
     "output_type": "error",
     "traceback": [
      "\u001b[1;36m  File \u001b[1;32m\"<ipython-input-13-96a1037219b9>\"\u001b[1;36m, line \u001b[1;32m1\u001b[0m\n\u001b[1;33m    print( 'This is\u001b[0m\n\u001b[1;37m                   ^\u001b[0m\n\u001b[1;31mSyntaxError\u001b[0m\u001b[1;31m:\u001b[0m EOL while scanning string literal\n"
     ]
    }
   ],
   "source": [
    "print( 'This is\n",
    "Python \n",
    "class')"
   ]
  },
  {
   "cell_type": "code",
   "execution_count": 20,
   "id": "13449883",
   "metadata": {},
   "outputs": [
    {
     "name": "stdout",
     "output_type": "stream",
     "text": [
      "The lenght of my_str is 66\n",
      "Id of my_str and my_str1 is same? False\n",
      "<class 'str'>\n",
      "<class 'str'>\n"
     ]
    }
   ],
   "source": [
    "# using formating and identity operator\n",
    "\n",
    "\n",
    "my_str = \"Although that way may not be obvious at first unless you're Dutch.\"\n",
    "my_str1 = \"Although that way may not be obvious at first unless you're Dutch.\"\n",
    "print(f'The lenght of my_str is {len(my_str)}')\n",
    "print(f'Id of my_str and my_str1 is same? {my_str is my_str1}')\n",
    "print(type(my_str))\n",
    "print(type(my_str1))"
   ]
  },
  {
   "cell_type": "markdown",
   "id": "1c307a54",
   "metadata": {},
   "source": [
    "# indexing\n",
    "\n"
   ]
  },
  {
   "cell_type": "code",
   "execution_count": 25,
   "id": "4311bc8c",
   "metadata": {},
   "outputs": [
    {
     "name": "stdout",
     "output_type": "stream",
     "text": [
      "The first character in my_str is:A\n"
     ]
    }
   ],
   "source": [
    "my_str = \"Although 8 that way may not be obvious at first unless you're Dutch\"\n",
    "print(f'The first character in my_str is:{my_str[0]}')#with positive index\n"
   ]
  },
  {
   "cell_type": "code",
   "execution_count": 26,
   "id": "63e5d759",
   "metadata": {},
   "outputs": [
    {
     "name": "stdout",
     "output_type": "stream",
     "text": [
      "67\n"
     ]
    }
   ],
   "source": [
    "print(len(my_str))"
   ]
  },
  {
   "cell_type": "code",
   "execution_count": 36,
   "id": "8ff3fdff",
   "metadata": {},
   "outputs": [
    {
     "ename": "IndexError",
     "evalue": "string index out of range",
     "output_type": "error",
     "traceback": [
      "\u001b[1;31m---------------------------------------------------------------------------\u001b[0m",
      "\u001b[1;31mIndexError\u001b[0m                                Traceback (most recent call last)",
      "\u001b[1;32m<ipython-input-36-74e7fb2b0557>\u001b[0m in \u001b[0;36m<module>\u001b[1;34m\u001b[0m\n\u001b[1;32m----> 1\u001b[1;33m \u001b[0mprint\u001b[0m\u001b[1;33m(\u001b[0m\u001b[1;34mf'The last character in my_str is:{my_str[67]}'\u001b[0m \u001b[1;33m)\u001b[0m\u001b[1;33m\u001b[0m\u001b[1;33m\u001b[0m\u001b[0m\n\u001b[0m",
      "\u001b[1;31mIndexError\u001b[0m: string index out of range"
     ]
    }
   ],
   "source": [
    "# proof that the address starts from 0 \n",
    "# to find the last character we must reduce the length by 1\n",
    "# understood the lenght is different from adress of indexing\n",
    "\n",
    "print(f'The last character in my_str is:{my_str[67]}' )"
   ]
  },
  {
   "cell_type": "code",
   "execution_count": 49,
   "id": "ec82c4c5",
   "metadata": {},
   "outputs": [
    {
     "name": "stdout",
     "output_type": "stream",
     "text": [
      "The first character in my_str is:A\n"
     ]
    }
   ],
   "source": [
    "print(f'The first character in my_str is:{my_str[-len(my_str)]}' )\n",
    "#used function inside address bracket\n",
    "#using negative indexing\n"
   ]
  },
  {
   "cell_type": "code",
   "execution_count": 35,
   "id": "3effcdaa",
   "metadata": {},
   "outputs": [
    {
     "name": "stdout",
     "output_type": "stream",
     "text": [
      "The last character in my_str is:h\n",
      "The last character in my_str is:h\n"
     ]
    }
   ],
   "source": [
    "#tried with 2 diff methods\n",
    "\n",
    "print(f'The last character in my_str is:{my_str[66]}' )#first found length and then indexed\n",
    "print(f'The last character in my_str is:{my_str[len(my_str)-1]}' )#used function inside address bracket\n"
   ]
  },
  {
   "cell_type": "code",
   "execution_count": 44,
   "id": "5cbb13fd",
   "metadata": {},
   "outputs": [
    {
     "name": "stdout",
     "output_type": "stream",
     "text": [
      "The character at index 10 in my_str is: \n",
      " \n",
      "t\n"
     ]
    }
   ],
   "source": [
    "# space has a seperate index value\n",
    "\n",
    "my_str = \"Although 8 that way may not be obvious at first unless you're Dutch\"\n",
    "print(f'The character at index 10 in my_str is:{my_str[10]}')# this is space so output is space which u cant c\n",
    "print(my_str[10])#this will create a empty line bcz of space\n",
    "print(my_str[11])"
   ]
  },
  {
   "cell_type": "code",
   "execution_count": 46,
   "id": "27f82b55",
   "metadata": {},
   "outputs": [
    {
     "name": "stdout",
     "output_type": "stream",
     "text": [
      "The last character in my_str is:h\n"
     ]
    }
   ],
   "source": [
    "print(f'The last character in my_str is:{my_str[-1]}')#with negative index\n"
   ]
  },
  {
   "cell_type": "code",
   "execution_count": 48,
   "id": "44d7537e",
   "metadata": {},
   "outputs": [
    {
     "name": "stdout",
     "output_type": "stream",
     "text": [
      "The character in my_str is:8\n"
     ]
    }
   ],
   "source": [
    "print(f'The character in my_str is:{my_str[9]}')#using positive indexing"
   ]
  },
  {
   "cell_type": "markdown",
   "id": "c14a5aa5",
   "metadata": {},
   "source": [
    "# slicing"
   ]
  },
  {
   "cell_type": "code",
   "execution_count": 1,
   "id": "ea4b7c04",
   "metadata": {},
   "outputs": [
    {
     "name": "stdout",
     "output_type": "stream",
     "text": [
      "Although that way may not be obvious at first unless you're Dutch.\n"
     ]
    }
   ],
   "source": [
    "my_str = \"Although that way may not be obvious at first unless you're Dutch.\"\n",
    "print(my_str)\n"
   ]
  },
  {
   "cell_type": "code",
   "execution_count": 2,
   "id": "9cfa3df7",
   "metadata": {},
   "outputs": [
    {
     "name": "stdout",
     "output_type": "stream",
     "text": [
      "Although that way may not be obvious at first unless you're Dutch.\n"
     ]
    }
   ],
   "source": [
    "#You have sliced: Although that way may not be obvious at first unless you're Dutch.with begin as 0 end using len and without step\n",
    "\n",
    "\n",
    "print(my_str[0:len(my_str)])"
   ]
  },
  {
   "cell_type": "code",
   "execution_count": 3,
   "id": "883964a5",
   "metadata": {},
   "outputs": [
    {
     "name": "stdout",
     "output_type": "stream",
     "text": [
      "Although that way may not be obvious at first unless you're Dutch.\n"
     ]
    }
   ],
   "source": [
    "#You have sliced: Although that way may not be obvious at first unless you're Dutch.without begin and end but using step\n",
    "\n",
    "print(my_str[::1])"
   ]
  },
  {
   "cell_type": "code",
   "execution_count": 4,
   "id": "2d067a4b",
   "metadata": {},
   "outputs": [
    {
     "name": "stdout",
     "output_type": "stream",
     "text": [
      "Although that way may not be obvious at first unless you're Dutch.\n"
     ]
    }
   ],
   "source": [
    "#You have sliced: Although that way may not be obvious at first unless you're Dutch.With begin, end and step\n",
    "\n",
    "\n",
    "print(my_str[0:len(my_str):1])"
   ]
  },
  {
   "cell_type": "code",
   "execution_count": 5,
   "id": "df292c3c",
   "metadata": {},
   "outputs": [
    {
     "name": "stdout",
     "output_type": "stream",
     "text": [
      "\n"
     ]
    }
   ],
   "source": [
    "#output:- You have sliced:   .with using begin and end using postive values and step as negative values.\n",
    "#Slicing command should print empty string.\n",
    "\n",
    "print(my_str[0:len(my_str):-1])"
   ]
  },
  {
   "cell_type": "code",
   "execution_count": 6,
   "id": "d7163310",
   "metadata": {},
   "outputs": [
    {
     "name": "stdout",
     "output_type": "stream",
     "text": [
      "Atog htwymyntb biu tfrtuls o'eDth\n"
     ]
    }
   ],
   "source": [
    "#You have sliced: Atog htwymyntb biu tfrtuls o'eDth\n",
    "\n",
    "print(my_str[0:len(my_str):2])"
   ]
  },
  {
   "cell_type": "code",
   "execution_count": 7,
   "id": "20d097fd",
   "metadata": {},
   "outputs": [
    {
     "name": "stdout",
     "output_type": "stream",
     "text": [
      "Ahgttam tebo  r lsorDc\n"
     ]
    }
   ],
   "source": [
    "#You have sliced: Ahgttam tebo  r lsorDc\n",
    "\n",
    "print(my_str[0:len(my_str):3])"
   ]
  },
  {
   "cell_type": "code",
   "execution_count": 10,
   "id": "7a740d4f",
   "metadata": {},
   "outputs": [
    {
     "name": "stdout",
     "output_type": "stream",
     "text": [
      ".hctuD er'uoy sselnu tsrif ta suoivbo eb ton yam yaw taht hguohtlA\n"
     ]
    }
   ],
   "source": [
    "#You have sliced: .hctuD er'uoy sselnu tsrif ta suoivbo eb ton yam yaw taht hguohtlA. Use only step\n",
    "\n",
    "print(my_str[::-1])"
   ]
  },
  {
   "cell_type": "code",
   "execution_count": 5,
   "id": "94c83ece",
   "metadata": {},
   "outputs": [
    {
     "name": "stdout",
     "output_type": "stream",
     "text": [
      ".hctuD er'uoy sselnu tsrif ta suoivbo eb ton yam yaw taht hguohtlA\n"
     ]
    }
   ],
   "source": [
    "# You have sliced: .hctuD er'uoy sselnu tsrif ta suoivbo eb ton yam yaw taht hguohtlA. Use begin end and step.\n",
    "\n",
    "my_str = \"Although that way may not be obvious at first unless you're Dutch.\"\n",
    "print(my_str[len(my_str)::-1])"
   ]
  },
  {
   "cell_type": "code",
   "execution_count": 6,
   "id": "523ca716",
   "metadata": {},
   "outputs": [
    {
     "name": "stdout",
     "output_type": "stream",
     "text": [
      ".cu ruysen si asovoe o a a athuhl\n"
     ]
    }
   ],
   "source": [
    "#output:- You have sliced: .cu ruysen si asovoe o a a athuhl. use only step\n",
    "\n",
    "print(my_str[::-2])"
   ]
  },
  {
   "cell_type": "code",
   "execution_count": 8,
   "id": "595b1dd9",
   "metadata": {},
   "outputs": [
    {
     "name": "stdout",
     "output_type": "stream",
     "text": [
      ".cu ruysen si asovoe o a a athuhl\n"
     ]
    }
   ],
   "source": [
    "#output:- You have sliced: .cu ruysen si asovoe o a a athuhl. use begin, end and step.\n",
    "\n",
    "print(my_str[len(my_str):0:-2])"
   ]
  },
  {
   "cell_type": "code",
   "execution_count": 9,
   "id": "0e9c1379",
   "metadata": {},
   "outputs": [
    {
     "name": "stdout",
     "output_type": "stream",
     "text": [
      "\n"
     ]
    }
   ],
   "source": [
    "print(my_str[10:17:-1])  # empty string bcz the direction of index is ltoR but slicing is RtoL\n",
    "#What will be the output?"
   ]
  },
  {
   "cell_type": "code",
   "execution_count": 15,
   "id": "4ff6b99e",
   "metadata": {},
   "outputs": [
    {
     "name": "stdout",
     "output_type": "stream",
     "text": [
      "yaw ta\n"
     ]
    }
   ],
   "source": [
    " #You have sliced: yaw ta, Using begin, end and step.\n",
    "my_str = \"Although that way may not be obvious at first unless you're Dutch.\"\n",
    "print(my_str[16:10:-1])"
   ]
  },
  {
   "cell_type": "code",
   "execution_count": 20,
   "id": "93c9118f",
   "metadata": {},
   "outputs": [
    {
     "name": "stdout",
     "output_type": "stream",
     "text": [
      "ess you\n"
     ]
    }
   ],
   "source": [
    "#You have sliced: ess you. Using begin, end and step.\n",
    "print(my_str[-17:-10:1])\n"
   ]
  },
  {
   "cell_type": "markdown",
   "id": "b0d5b0e9",
   "metadata": {},
   "source": [
    "#Basic operation on string\n",
    "concatination\n"
   ]
  },
  {
   "cell_type": "code",
   "execution_count": 25,
   "id": "5cc7e3cb",
   "metadata": {},
   "outputs": [
    {
     "name": "stdout",
     "output_type": "stream",
     "text": [
      "Learnbay Python\n"
     ]
    }
   ],
   "source": [
    "str1 = 'Learnbay '\n",
    "str2 = 'Python'\n",
    "str3 =10\n",
    "str4 =12.3\n",
    "print(str1+str2)"
   ]
  },
  {
   "cell_type": "code",
   "execution_count": 27,
   "id": "22da6c6f",
   "metadata": {},
   "outputs": [
    {
     "ename": "TypeError",
     "evalue": "can only concatenate str (not \"int\") to str",
     "output_type": "error",
     "traceback": [
      "\u001b[1;31m---------------------------------------------------------------------------\u001b[0m",
      "\u001b[1;31mTypeError\u001b[0m                                 Traceback (most recent call last)",
      "\u001b[1;32m<ipython-input-27-1c56487c09f5>\u001b[0m in \u001b[0;36m<module>\u001b[1;34m\u001b[0m\n\u001b[1;32m----> 1\u001b[1;33m \u001b[0mprint\u001b[0m\u001b[1;33m(\u001b[0m\u001b[0mstr1\u001b[0m\u001b[1;33m+\u001b[0m\u001b[0mstr3\u001b[0m\u001b[1;33m)\u001b[0m\u001b[1;33m\u001b[0m\u001b[1;33m\u001b[0m\u001b[0m\n\u001b[0m",
      "\u001b[1;31mTypeError\u001b[0m: can only concatenate str (not \"int\") to str"
     ]
    }
   ],
   "source": [
    "print(str1+str3)"
   ]
  },
  {
   "cell_type": "code",
   "execution_count": 26,
   "id": "bb145d9b",
   "metadata": {},
   "outputs": [
    {
     "ename": "TypeError",
     "evalue": "can only concatenate str (not \"float\") to str",
     "output_type": "error",
     "traceback": [
      "\u001b[1;31m---------------------------------------------------------------------------\u001b[0m",
      "\u001b[1;31mTypeError\u001b[0m                                 Traceback (most recent call last)",
      "\u001b[1;32m<ipython-input-26-31b674a9d962>\u001b[0m in \u001b[0;36m<module>\u001b[1;34m\u001b[0m\n\u001b[1;32m----> 1\u001b[1;33m \u001b[0mprint\u001b[0m\u001b[1;33m(\u001b[0m\u001b[0mstr1\u001b[0m\u001b[1;33m+\u001b[0m\u001b[0mstr4\u001b[0m\u001b[1;33m)\u001b[0m\u001b[1;33m\u001b[0m\u001b[1;33m\u001b[0m\u001b[0m\n\u001b[0m",
      "\u001b[1;31mTypeError\u001b[0m: can only concatenate str (not \"float\") to str"
     ]
    }
   ],
   "source": [
    "print(str1+str4)"
   ]
  },
  {
   "cell_type": "markdown",
   "id": "33f438c6",
   "metadata": {},
   "source": [
    "#repetation"
   ]
  },
  {
   "cell_type": "code",
   "execution_count": 30,
   "id": "b6b4952b",
   "metadata": {},
   "outputs": [
    {
     "name": "stdout",
     "output_type": "stream",
     "text": [
      "LearnbayLearnbayLearnbay\n"
     ]
    }
   ],
   "source": [
    "str1 = 'Learnbay'\n",
    "str2 = 'Python'\n",
    "str3 =3\n",
    "str4 =12.3\n",
    "print(str1*str3)"
   ]
  },
  {
   "cell_type": "code",
   "execution_count": 32,
   "id": "f8928890",
   "metadata": {},
   "outputs": [
    {
     "ename": "TypeError",
     "evalue": "can't multiply sequence by non-int of type 'float'",
     "output_type": "error",
     "traceback": [
      "\u001b[1;31m---------------------------------------------------------------------------\u001b[0m",
      "\u001b[1;31mTypeError\u001b[0m                                 Traceback (most recent call last)",
      "\u001b[1;32m<ipython-input-32-77a7105c6e5d>\u001b[0m in \u001b[0;36m<module>\u001b[1;34m\u001b[0m\n\u001b[1;32m----> 1\u001b[1;33m \u001b[0mprint\u001b[0m\u001b[1;33m(\u001b[0m\u001b[0mstr1\u001b[0m\u001b[1;33m*\u001b[0m\u001b[0mstr4\u001b[0m\u001b[1;33m)\u001b[0m\u001b[1;33m\u001b[0m\u001b[1;33m\u001b[0m\u001b[0m\n\u001b[0m",
      "\u001b[1;31mTypeError\u001b[0m: can't multiply sequence by non-int of type 'float'"
     ]
    }
   ],
   "source": [
    "print(str1*str4)"
   ]
  },
  {
   "cell_type": "code",
   "execution_count": 33,
   "id": "55b33da2",
   "metadata": {},
   "outputs": [
    {
     "ename": "TypeError",
     "evalue": "can't multiply sequence by non-int of type 'str'",
     "output_type": "error",
     "traceback": [
      "\u001b[1;31m---------------------------------------------------------------------------\u001b[0m",
      "\u001b[1;31mTypeError\u001b[0m                                 Traceback (most recent call last)",
      "\u001b[1;32m<ipython-input-33-4dd544401237>\u001b[0m in \u001b[0;36m<module>\u001b[1;34m\u001b[0m\n\u001b[1;32m----> 1\u001b[1;33m \u001b[0mprint\u001b[0m\u001b[1;33m(\u001b[0m\u001b[0mstr1\u001b[0m\u001b[1;33m*\u001b[0m\u001b[0mstr2\u001b[0m\u001b[1;33m)\u001b[0m\u001b[1;33m\u001b[0m\u001b[1;33m\u001b[0m\u001b[0m\n\u001b[0m",
      "\u001b[1;31mTypeError\u001b[0m: can't multiply sequence by non-int of type 'str'"
     ]
    }
   ],
   "source": [
    "print(str1*str2)"
   ]
  },
  {
   "cell_type": "code",
   "execution_count": 34,
   "id": "628a1dd7",
   "metadata": {},
   "outputs": [
    {
     "name": "stdout",
     "output_type": "stream",
     "text": [
      "True\n",
      "False\n",
      "False\n"
     ]
    }
   ],
   "source": [
    "# identity operator\n",
    "\n",
    "str1 = 'Python'\n",
    "str2 = 'Python'\n",
    "str3 = 'Python$'\n",
    "str4 = 'Python$'\n",
    "\n",
    "print(str1 is str2)\n",
    "print(str1 is str3)\n",
    "print(str4 is str3)\n",
    "\n"
   ]
  },
  {
   "cell_type": "code",
   "execution_count": 38,
   "id": "d49f205d",
   "metadata": {},
   "outputs": [
    {
     "name": "stdout",
     "output_type": "stream",
     "text": [
      "True\n",
      "True\n",
      "False\n"
     ]
    }
   ],
   "source": [
    "#membership operator\n",
    "\n",
    "print('P' in str1)\n",
    "print('$' in str3)\n",
    "print('N' in str3)\n"
   ]
  },
  {
   "cell_type": "code",
   "execution_count": 4,
   "id": "8c4b313a",
   "metadata": {},
   "outputs": [
    {
     "name": "stdout",
     "output_type": "stream",
     "text": [
      "This is my Python class\n",
      "This is my new class\n"
     ]
    }
   ],
   "source": [
    "str1 = \"This is my new class\"\n",
    "print(str1.replace(\"new\",\"Python\"))\n",
    "print(str1)"
   ]
  },
  {
   "cell_type": "markdown",
   "id": "13b5a6a5",
   "metadata": {},
   "source": [
    "# immutable\n"
   ]
  },
  {
   "cell_type": "code",
   "execution_count": 25,
   "id": "a2ba9072",
   "metadata": {},
   "outputs": [
    {
     "name": "stdout",
     "output_type": "stream",
     "text": [
      "8\n"
     ]
    },
    {
     "ename": "TypeError",
     "evalue": "'str' object does not support item assignment",
     "output_type": "error",
     "traceback": [
      "\u001b[1;31m---------------------------------------------------------------------------\u001b[0m",
      "\u001b[1;31mTypeError\u001b[0m                                 Traceback (most recent call last)",
      "\u001b[1;32m<ipython-input-25-0de42f5a2556>\u001b[0m in \u001b[0;36m<module>\u001b[1;34m\u001b[0m\n\u001b[0;32m      9\u001b[0m \u001b[0mstr1\u001b[0m \u001b[1;33m=\u001b[0m \u001b[1;34m\"This is Python class\"\u001b[0m\u001b[1;33m\u001b[0m\u001b[1;33m\u001b[0m\u001b[0m\n\u001b[0;32m     10\u001b[0m \u001b[0mprint\u001b[0m\u001b[1;33m(\u001b[0m\u001b[0mstr1\u001b[0m\u001b[1;33m.\u001b[0m\u001b[0mindex\u001b[0m\u001b[1;33m(\u001b[0m\u001b[1;34m\"P\"\u001b[0m\u001b[1;33m)\u001b[0m\u001b[1;33m)\u001b[0m\u001b[1;33m\u001b[0m\u001b[1;33m\u001b[0m\u001b[0m\n\u001b[1;32m---> 11\u001b[1;33m \u001b[0mstr1\u001b[0m\u001b[1;33m[\u001b[0m\u001b[1;36m8\u001b[0m\u001b[1;33m]\u001b[0m\u001b[1;33m=\u001b[0m\u001b[1;34m\"j\"\u001b[0m\u001b[1;33m\u001b[0m\u001b[1;33m\u001b[0m\u001b[0m\n\u001b[0m\u001b[0;32m     12\u001b[0m \u001b[0mx\u001b[0m \u001b[1;33m=\u001b[0m \u001b[0mstr1\u001b[0m\u001b[1;33m.\u001b[0m\u001b[0mreplace\u001b[0m\u001b[1;33m(\u001b[0m\u001b[1;34m\"Python\"\u001b[0m\u001b[1;33m,\u001b[0m\u001b[1;34m\"java\"\u001b[0m\u001b[1;33m)\u001b[0m\u001b[1;33m\u001b[0m\u001b[1;33m\u001b[0m\u001b[0m\n\u001b[0;32m     13\u001b[0m \u001b[0mprint\u001b[0m\u001b[1;33m(\u001b[0m\u001b[0mx\u001b[0m\u001b[1;33m)\u001b[0m\u001b[1;33m\u001b[0m\u001b[1;33m\u001b[0m\u001b[0m\n",
      "\u001b[1;31mTypeError\u001b[0m: 'str' object does not support item assignment"
     ]
    }
   ],
   "source": [
    "\n",
    "#Complete the below code\n",
    "str1 = 'This is Python class'\n",
    "#write the code to replace 'Python' with 'Java' and you should get below error.\n",
    "#TypeError: 'str' object does not support item assignment.\n",
    "\n",
    "\n",
    "\n",
    "\n",
    "str1 = \"This is Python class\"\n",
    "print(str1.index(\"P\"))\n",
    "str1[8]=\"j\"\n",
    "x = str1.replace(\"Python\",\"java\")\n",
    "print(x)\n",
    "str1= str1.replace(\"Python\",\"lava\")\n",
    "print(str1)"
   ]
  },
  {
   "cell_type": "code",
   "execution_count": 43,
   "id": "f3f54949",
   "metadata": {},
   "outputs": [
    {
     "name": "stdout",
     "output_type": "stream",
     "text": [
      "I like apples\n"
     ]
    }
   ],
   "source": [
    "txt = \"I like bananas\"\n",
    "\n",
    "x = txt.replace(\"bananas\", \"apples\")\n",
    "\n",
    "print(x)"
   ]
  },
  {
   "cell_type": "code",
   "execution_count": 19,
   "id": "7f377891",
   "metadata": {},
   "outputs": [
    {
     "name": "stdout",
     "output_type": "stream",
     "text": [
      "True\n",
      "True\n",
      "False\n",
      "False\n"
     ]
    }
   ],
   "source": [
    "str1 = 'A'\n",
    "str2 = 'A'\n",
    "print(str1<=str2)\n",
    "print(str1==str2)\n",
    "print(str1!=str2)\n",
    "print(str1>str2)"
   ]
  },
  {
   "cell_type": "code",
   "execution_count": 23,
   "id": "629a8956",
   "metadata": {},
   "outputs": [
    {
     "name": "stdout",
     "output_type": "stream",
     "text": [
      "True\n",
      "True\n",
      "False\n",
      "False\n"
     ]
    }
   ],
   "source": [
    "#comparision and equality operator\n",
    "\n",
    "str1 = 'A'\n",
    "str2 = '65'\n",
    "print(str1>=str2)\n",
    "print(str1!=str2)\n",
    "print(str1==str2)\n",
    "print(str1<str2)"
   ]
  },
  {
   "cell_type": "code",
   "execution_count": 26,
   "id": "16638bc4",
   "metadata": {},
   "outputs": [
    {
     "name": "stdout",
     "output_type": "stream",
     "text": [
      "True\n",
      "True\n",
      "False\n",
      "False\n"
     ]
    }
   ],
   "source": [
    "str1 = 'Python'\n",
    "str2 = 'python'\n",
    "print(str1<=str2)\n",
    "print(str1!=str2)\n",
    "print(str1==str2)\n",
    "print(str1>=str2)"
   ]
  },
  {
   "cell_type": "code",
   "execution_count": 32,
   "id": "282f279f",
   "metadata": {},
   "outputs": [
    {
     "name": "stdout",
     "output_type": "stream",
     "text": [
      "\n",
      "Python\n",
      "True\n",
      "False\n"
     ]
    }
   ],
   "source": [
    "#logical operator\n",
    "\n",
    "a = 'Python'\n",
    "b = ''\n",
    "print(a and b)\n",
    "print(a or b)\n",
    "print(not b)\n",
    "print(not a)"
   ]
  },
  {
   "cell_type": "code",
   "execution_count": 33,
   "id": "8717cd4c",
   "metadata": {},
   "outputs": [
    {
     "name": "stdout",
     "output_type": "stream",
     "text": [
      "\n",
      "\n",
      "True\n",
      "True\n"
     ]
    }
   ],
   "source": [
    "a = ''\n",
    "b = ''\n",
    "print(a and b)\n",
    "print(a or b)\n",
    "print(not b)\n",
    "print(not a)"
   ]
  },
  {
   "cell_type": "code",
   "execution_count": 34,
   "id": "4618dcf1",
   "metadata": {},
   "outputs": [
    {
     "name": "stdout",
     "output_type": "stream",
     "text": [
      "learnbay\n",
      "Python\n",
      "False\n",
      "False\n"
     ]
    }
   ],
   "source": [
    "a = 'Python'\n",
    "b = 'learnbay'\n",
    "print(a and b)\n",
    "print(a or b)\n",
    "print(not b)\n",
    "print(not a)\n"
   ]
  },
  {
   "cell_type": "code",
   "execution_count": 43,
   "id": "08d0c383",
   "metadata": {},
   "outputs": [
    {
     "name": "stdout",
     "output_type": "stream",
     "text": [
      "7\n",
      "2\n",
      "2\n"
     ]
    }
   ],
   "source": [
    "# count() returns numb of time value is printed\n",
    "#find() returns first address of occerance of a value((((dif is it gives -1 as op if the value is not found))))\n",
    "#index()  returns first address of occerance of a value(((it returns error)))\n",
    "\n",
    "my_str = \"Although 8 that way may not be obvious at first unless you're Dutch\"\n",
    "\n",
    "print(my_str.count(\"t\"))\n",
    "print(my_str.find('t'))\n",
    "print(my_str.index('t'))\n"
   ]
  },
  {
   "cell_type": "code",
   "execution_count": 40,
   "id": "454e8b7d",
   "metadata": {},
   "outputs": [
    {
     "name": "stdout",
     "output_type": "stream",
     "text": [
      "9\n",
      "9\n"
     ]
    }
   ],
   "source": [
    "\n",
    "#Write the code to get the index of '8' in my_str. Use find() and index() method.\n",
    "my_str = \"Although 8 that way may not be obvious at first unless you're Dutch\"\n",
    "print(my_str.find(\"8\"))\n",
    "print(my_str.index(\"8\"))\n"
   ]
  },
  {
   "cell_type": "code",
   "execution_count": 2,
   "id": "4dc66b61",
   "metadata": {},
   "outputs": [
    {
     "name": "stdout",
     "output_type": "stream",
     "text": [
      "-1\n",
      "11\n",
      "11\n",
      "63\n",
      "63\n"
     ]
    },
    {
     "ename": "ValueError",
     "evalue": "substring not found",
     "output_type": "error",
     "traceback": [
      "\u001b[1;31m---------------------------------------------------------------------------\u001b[0m",
      "\u001b[1;31mValueError\u001b[0m                                Traceback (most recent call last)",
      "\u001b[1;32m<ipython-input-2-ee833ab4c8df>\u001b[0m in \u001b[0;36m<module>\u001b[1;34m\u001b[0m\n\u001b[0;32m     18\u001b[0m \u001b[1;33m\u001b[0m\u001b[0m\n\u001b[0;32m     19\u001b[0m \u001b[1;33m\u001b[0m\u001b[0m\n\u001b[1;32m---> 20\u001b[1;33m \u001b[0mprint\u001b[0m\u001b[1;33m(\u001b[0m\u001b[0mmy_str\u001b[0m\u001b[1;33m.\u001b[0m\u001b[0mindex\u001b[0m\u001b[1;33m(\u001b[0m\u001b[1;34m'the'\u001b[0m\u001b[1;33m)\u001b[0m\u001b[1;33m)\u001b[0m\u001b[1;31m#the index will throw error if the substring is not found\u001b[0m\u001b[1;33m\u001b[0m\u001b[1;33m\u001b[0m\u001b[0m\n\u001b[0m",
      "\u001b[1;31mValueError\u001b[0m: substring not found"
     ]
    }
   ],
   "source": [
    "#find and index methods\n",
    "\n",
    "my_str = \"Although 8 that way may not be obvious at first unless you're Dutch\"\n",
    "\n",
    "print(my_str.find('the'))#find gives -1 if the substring is not found\n",
    "\n",
    "\n",
    "print(my_str.index('that'))\n",
    "\n",
    "\n",
    "print(my_str.find('t', 9, 15))\n",
    "\n",
    "\n",
    "print(my_str.rfind('u'))\n",
    "\n",
    "\n",
    "print(my_str.rindex('u'))\n",
    "\n",
    "\n",
    "print(my_str.index('the'))#the index will throw error if the substring is not found\n"
   ]
  },
  {
   "cell_type": "code",
   "execution_count": 45,
   "id": "7ad9237b",
   "metadata": {},
   "outputs": [
    {
     "name": "stdout",
     "output_type": "stream",
     "text": [
      "['__add__', '__class__', '__contains__', '__delattr__', '__dir__', '__doc__', '__eq__', '__format__', '__ge__', '__getattribute__', '__getitem__', '__getnewargs__', '__gt__', '__hash__', '__init__', '__init_subclass__', '__iter__', '__le__', '__len__', '__lt__', '__mod__', '__mul__', '__ne__', '__new__', '__reduce__', '__reduce_ex__', '__repr__', '__rmod__', '__rmul__', '__setattr__', '__sizeof__', '__str__', '__subclasshook__', 'capitalize', 'casefold', 'center', 'count', 'encode', 'endswith', 'expandtabs', 'find', 'format', 'format_map', 'index', 'isalnum', 'isalpha', 'isascii', 'isdecimal', 'isdigit', 'isidentifier', 'islower', 'isnumeric', 'isprintable', 'isspace', 'istitle', 'isupper', 'join', 'ljust', 'lower', 'lstrip', 'maketrans', 'partition', 'replace', 'rfind', 'rindex', 'rjust', 'rpartition', 'rsplit', 'rstrip', 'split', 'splitlines', 'startswith', 'strip', 'swapcase', 'title', 'translate', 'upper', 'zfill']\n"
     ]
    }
   ],
   "source": [
    "#to find the methods of string\n",
    "\n",
    "print(dir(str))"
   ]
  },
  {
   "cell_type": "code",
   "execution_count": 26,
   "id": "54e0da50",
   "metadata": {},
   "outputs": [
    {
     "name": "stdout",
     "output_type": "stream",
     "text": [
      "enter the string for striping:        Python\n",
      "Python\n"
     ]
    }
   ],
   "source": [
    "# strip(), lstrip() and rstrip()\n",
    "\n",
    "a=input(\"enter the string for striping:\")\n",
    "print(a.strip())"
   ]
  },
  {
   "cell_type": "code",
   "execution_count": 2,
   "id": "5cf0c361",
   "metadata": {},
   "outputs": [
    {
     "name": "stdout",
     "output_type": "stream",
     "text": [
      "enter the string for striping:*****python*****\n",
      "python\n"
     ]
    }
   ],
   "source": [
    "a=input(\"enter the string for striping:\")\n",
    "print(a.strip(\"*\"))"
   ]
  },
  {
   "cell_type": "code",
   "execution_count": 2,
   "id": "c11aeb49",
   "metadata": {},
   "outputs": [
    {
     "name": "stdout",
     "output_type": "stream",
     "text": [
      "enter the string for left striping    python   \n",
      "python   \n"
     ]
    }
   ],
   "source": [
    "a=input(\"enter the string for left striping \")\n",
    "print(a.lstrip())\n"
   ]
  },
  {
   "cell_type": "code",
   "execution_count": 4,
   "id": "72cef19d",
   "metadata": {},
   "outputs": [
    {
     "name": "stdout",
     "output_type": "stream",
     "text": [
      "enter the string for striping:*****python****\n",
      "python****\n"
     ]
    }
   ],
   "source": [
    "a=input(\"enter the string for striping:\")\n",
    "print(a.lstrip(\"*\"))"
   ]
  },
  {
   "cell_type": "code",
   "execution_count": 3,
   "id": "f78eaef9",
   "metadata": {},
   "outputs": [
    {
     "name": "stdout",
     "output_type": "stream",
     "text": [
      "enter the string for right striping    python   \n",
      "   python\n"
     ]
    }
   ],
   "source": [
    "a=input(\"enter the string for right striping \")\n",
    "print(a.rstrip())"
   ]
  },
  {
   "cell_type": "code",
   "execution_count": 3,
   "id": "673a0ffe",
   "metadata": {},
   "outputs": [
    {
     "name": "stdout",
     "output_type": "stream",
     "text": [
      "Enter a string:-          iam the actuall string to be striped     \n",
      "Applying strip method as string starts and ends with a space:  iam the actuall string to be striped\n"
     ]
    }
   ],
   "source": [
    "#program to fing the strip, rstrip and lstrip of any string\n",
    "\n",
    "my_str = input('Enter a string:- ')\n",
    "if my_str.startswith(' ') and my_str.endswith(' '): \n",
    "    print('Applying strip method as string starts and ends with a space: ', my_str.strip())\n",
    "elif my_str.startswith(' '): \n",
    "    print('Applying lstrip method as string starts with a space: ', my_str.lstrip())\n",
    "else:\n",
    "    print('Applying rstrip method as string ends with a space: ', my_str.rstrip())"
   ]
  },
  {
   "cell_type": "code",
   "execution_count": 6,
   "id": "caaf7cf1",
   "metadata": {},
   "outputs": [
    {
     "name": "stdout",
     "output_type": "stream",
     "text": [
      "ALTHOUGH 8 THAT WAY MAY NOT BE OBVIOUS AT FIRST UNLESS YOU'RE DUTCH\n",
      "although 8 that way may not be obvious at first unless you're dutch\n",
      "aLTHOUGH 8 THAT WAY MAY NOT BE OBVIOUS AT FIRST UNLESS YOU'RE dUTCH\n"
     ]
    }
   ],
   "source": [
    "#upper lower and swapcase\n",
    "\n",
    "\n",
    "my_str = \"Although 8 that way may not be obvious at first unless you're Dutch\"\n",
    "print(my_str.upper())\n",
    "print(my_str.lower())\n",
    "print(my_str.swapcase())"
   ]
  },
  {
   "cell_type": "code",
   "execution_count": 2,
   "id": "3d1f2318",
   "metadata": {},
   "outputs": [
    {
     "name": "stdout",
     "output_type": "stream",
     "text": [
      "enter the string for capitalizing the Room Was fiLLed WIth Books And NOtes\n",
      "The room was filled with books and notes\n",
      "enter the string for  titilingthe rooM waS fillED WIth Books anD NOTES\n",
      "The Room Was Filled With Books And Notes\n"
     ]
    }
   ],
   "source": [
    "# capitalize and title\n",
    "\n",
    "a=input(\"enter the string for capitalizing \")\n",
    "print(a.capitalize())\n",
    "b=input(\"enter the string for  titiling\")\n",
    "print(b.title())"
   ]
  },
  {
   "cell_type": "code",
   "execution_count": 2,
   "id": "48a53508",
   "metadata": {},
   "outputs": [
    {
     "name": "stdout",
     "output_type": "stream",
     "text": [
      "enter the string to know about the methed of string :Their are totally 79 girls and 54 boys who secured 99.9% in this exam held\n",
      "False\n",
      "False\n",
      "False\n",
      "False\n",
      "False\n",
      "False\n",
      "False\n",
      "False\n",
      "False\n"
     ]
    }
   ],
   "source": [
    "#methods which returns true or false\n",
    "\n",
    "a=input(\"enter the string to know about the methed of string :\")\n",
    "\n",
    "\n",
    "print(a.isalnum())\n",
    "\n",
    "print(a.isalpha())\n",
    "\n",
    "print(a.isdigit())\n",
    "\n",
    "print(a.islower())\n",
    "\n",
    "print(a.isupper())\n",
    "\n",
    "print(a.istitle())\n",
    "\n",
    "print(a.isspace())\n",
    "\n",
    "print(a.isnumeric())\n",
    "\n",
    "print(a.isdecimal())\n",
    "\n",
    "\n",
    "\n"
   ]
  },
  {
   "cell_type": "code",
   "execution_count": 5,
   "id": "d2faecd4",
   "metadata": {},
   "outputs": [
    {
     "name": "stdout",
     "output_type": "stream",
     "text": [
      "True\n",
      "True\n",
      "True\n",
      "True\n",
      "False\n",
      "False\n",
      "True\n",
      "True\n"
     ]
    }
   ],
   "source": [
    "#isidentifier()\n",
    "\n",
    "a=\"abc\"\n",
    "b='abc1'\n",
    "c='abc1c'\n",
    "d='ab1c' \n",
    "e='1abc' \n",
    "f='abc$'\n",
    "g='_abc'\n",
    "h='if'\n",
    "\n",
    "print(a.isidentifier())\n",
    "print(b.isidentifier())\n",
    "print(c.isidentifier())\n",
    "print(d.isidentifier())\n",
    "print(e.isidentifier())\n",
    "print(f.isidentifier())\n",
    "print(g.isidentifier())\n",
    "print(h.isidentifier())\n"
   ]
  },
  {
   "cell_type": "code",
   "execution_count": 9,
   "id": "66a18dcf",
   "metadata": {},
   "outputs": [
    {
     "name": "stdout",
     "output_type": "stream",
     "text": [
      "True\n",
      "True\n",
      "True\n",
      "True\n",
      "False\n",
      "False\n",
      "True\n",
      "True\n"
     ]
    }
   ],
   "source": [
    "# isascii()\n",
    "# only characters in keybord returns True even empty string\n",
    "my_string = '  '\n",
    "print(my_string.isascii())\n",
    "\n",
    "my_string = 'Studytonight'\n",
    "print(my_string.isascii())\n",
    "\n",
    "my_string = 'Study tonight'\n",
    "print(my_string.isascii())\n",
    "\n",
    "my_string = 'Studytonight@123'\n",
    "print(my_string.isascii())\n",
    "\n",
    "my_string = '°'\n",
    "print(my_string.isascii())\n",
    "\n",
    "my_string = 'ö'\n",
    "print(my_string.isascii())\n",
    "\n",
    "my_string = ''\n",
    "print(my_string.isascii())\n",
    "\n",
    "my_string = \"\"\n",
    "print(my_string.isascii())\n"
   ]
  },
  {
   "cell_type": "markdown",
   "id": "955a0bc3",
   "metadata": {},
   "source": [
    "# kow about the below cell"
   ]
  },
  {
   "cell_type": "code",
   "execution_count": 5,
   "id": "d1f80139",
   "metadata": {},
   "outputs": [
    {
     "name": "stdout",
     "output_type": "stream",
     "text": [
      "The strings are equal.\n",
      "der fluss\n",
      "der fluß\n"
     ]
    }
   ],
   "source": [
    "# The casefold() method removes all case distinctions present in a string. It is used for caseless matching,\n",
    "# i.e. ignores cases when comparing.\n",
    "\n",
    "# For example, the German lowercase letter ß is equivalent to ss. However, \n",
    "# since ß is already lowercase, the lower() method does nothing to it. But, casefold() converts it to ss.\n",
    "\n",
    "firstString = \"der Fluß\"\n",
    "secondString = \"der Fluss\"\n",
    "\n",
    "if firstString.casefold() == secondString.casefold():\n",
    "    print('The strings are equal.')\n",
    "else:\n",
    "    print('The strings are not equal.')\n",
    "    \n",
    "print(firstString.casefold())#it converts the lower casestring to ss    \n",
    "print(firstString.lower())#it will not conver the lower case one"
   ]
  },
  {
   "cell_type": "code",
   "execution_count": 13,
   "id": "92f4e0d8",
   "metadata": {},
   "outputs": [],
   "source": [
    "#Write the code to get below output\n",
    "#O/P 1:- python** (using ljust method)\n",
    "\n",
    "\n",
    "#Write the code to get below output\n",
    "#O/P 1:- **python (using rjust method)\n",
    "\n",
    "\n",
    "#Write the code to get below output\n",
    "#O/P 1:- **python** (using center method)"
   ]
  },
  {
   "cell_type": "code",
   "execution_count": 27,
   "id": "ac7bf1b6",
   "metadata": {},
   "outputs": [
    {
     "name": "stdout",
     "output_type": "stream",
     "text": [
      "the left aligned text:\n",
      "python**\n",
      "the left aligned text:\n",
      "**python\n",
      "the left aligned text:\n",
      "**python**\n"
     ]
    }
   ],
   "source": [
    "#ljust()- alignes the string towards left with the charecter given\n",
    "#rjust()- alignes the string towards right with the charecter mentioned or specified\n",
    "#center()- alignes the string towards center with the charecter mentioned or specified\n",
    "\n",
    "a=\"python\"\n",
    "print(\"the left aligned text:\")\n",
    "print(a.ljust(8, '*'))\n",
    "print(\"the left aligned text:\")\n",
    "print(a.rjust(8, '*'))\n",
    "print(\"the left aligned text:\")\n",
    "print(a.center(10, '*'))"
   ]
  },
  {
   "cell_type": "code",
   "execution_count": 32,
   "id": "23857d4c",
   "metadata": {},
   "outputs": [
    {
     "name": "stdout",
     "output_type": "stream",
     "text": [
      "55\n"
     ]
    }
   ],
   "source": [
    "#Write a Python program to find the length of the my_str:-\n",
    "\n",
    "#Input:- 'Write a Python program to find the length of the my_str'\n",
    "#Output:- 55\n",
    "a=\"the book given to us were really helpfull,made us happy\"\n",
    "print(len(a))"
   ]
  },
  {
   "cell_type": "code",
   "execution_count": 35,
   "id": "f7b539ca",
   "metadata": {},
   "outputs": [
    {
     "name": "stdout",
     "output_type": "stream",
     "text": [
      "9\n"
     ]
    }
   ],
   "source": [
    "#Write a Python program to find the total number of times letter 'p' is appeared in the below string:-\n",
    "    \n",
    "#Input:- 'peter piper picked a peck of pickled peppers.'\n",
    "#Output:- 9\n",
    "\n",
    "\n",
    "a='peter piper picked a peck of pickled peppers.'\n",
    "print(a.count(\"p\"))\n",
    "\n"
   ]
  },
  {
   "cell_type": "markdown",
   "id": "c43b0178",
   "metadata": {},
   "source": [
    "# #my programs before knowing for loop and range in for loop"
   ]
  },
  {
   "cell_type": "code",
   "execution_count": null,
   "id": "2d0d4591",
   "metadata": {},
   "outputs": [],
   "source": [
    "#Write a Python Program, to print all the indexes of all occurences of letter 'p' appeared in the string:-\n",
    "    \n",
    "#Input:- 'peter piper picked a peck of pickled peppers.'\n",
    "#Output:- \n",
    "# 0\n",
    "# 6\n",
    "# 8\n",
    "# 12\n",
    "# 21\n",
    "# 29\n",
    "# 37\n",
    "# 39\n",
    "# 40\n",
    "a= 'peter piper picked a peck of pickled peppers.'\n",
    "print(id(a))\n",
    "b=0\n",
    "if(a[b]==\"p\" ):\n",
    "  print(b)\n",
    "  b=b+1\n",
    "else:\n",
    "    if(a[b]!=\"p\"):  \n",
    "     b=b+1\n",
    "\n",
    "\n",
    "\n"
   ]
  },
  {
   "cell_type": "code",
   "execution_count": 5,
   "id": "42e4a3f1",
   "metadata": {},
   "outputs": [
    {
     "name": "stdout",
     "output_type": "stream",
     "text": [
      "0\n",
      "6\n",
      "8\n",
      "12\n",
      "21\n",
      "29\n",
      "37\n",
      "39\n",
      "40\n"
     ]
    }
   ],
   "source": [
    "#program i wrote before knowing about range in for loop\n",
    "\n",
    "a='peter piper picked a peck of pickled peppers.'\n",
    "b=\"p\"\n",
    "for i in range(0,len(a)):\n",
    "    if(a[i]==b):\n",
    "        print(i)"
   ]
  },
  {
   "cell_type": "markdown",
   "id": "9d278a75",
   "metadata": {},
   "source": [
    "\n",
    "\n",
    "a='peter piper picked a peck of pickled peppers.'\n",
    "b=\"p\"\n",
    "for i in range(0,len(a)):\n",
    "    if(a[i]==b):\n",
    "        print(i)"
   ]
  },
  {
   "cell_type": "code",
   "execution_count": 1,
   "id": "5b5135df",
   "metadata": {},
   "outputs": [
    {
     "name": "stdout",
     "output_type": "stream",
     "text": [
      "['peter', 'piper', 'picked', 'a', 'peck', 'of', 'pickled', 'peppers.']\n"
     ]
    }
   ],
   "source": [
    "#spliting\n",
    "\n",
    "#Write a python program to find below output:-\n",
    "\n",
    "#Input:- 'peter piper picked a peck of pickled peppers.'\n",
    "#Output:- ['peter', 'piper', 'picked', 'a', 'peck', 'of', 'pickled', 'peppers.']\n",
    "\n",
    "a='peter piper picked a peck of pickled peppers.'\n",
    "\n",
    "print(a.split())"
   ]
  },
  {
   "cell_type": "code",
   "execution_count": 8,
   "id": "b36f5117",
   "metadata": {},
   "outputs": [
    {
     "name": "stdout",
     "output_type": "stream",
     "text": [
      ".sreppep delkcip fo kcep a dekcip repip retep\n"
     ]
    }
   ],
   "source": [
    "#Write a python program to find below output:-\n",
    "\n",
    "#Input:- 'peter piper picked a peck of pickled peppers.'\n",
    "#Output:- '.sreppep delkcip fo kcep a dekcip repip retep'\n",
    "\n",
    "a= 'peter piper picked a peck of pickled peppers.'\n",
    "print(a[len(a)-1::-1])"
   ]
  },
  {
   "cell_type": "code",
   "execution_count": 6,
   "id": "78070596",
   "metadata": {},
   "outputs": [
    {
     "name": "stdout",
     "output_type": "stream",
     "text": [
      "peppers. pickled of peck a picked piper peter\n"
     ]
    }
   ],
   "source": [
    "#Write a python program to find below output:-\n",
    "\n",
    "#Input:- 'peter piper picked a peck of pickled peppers.'\n",
    "#Output:- 'peppers. pickled of peck a picked piper peter'\n",
    "\n",
    "x = 'peter piper picked a peck of pickled peppers.'\n",
    "print(' '.join(x.split()[::-1]))\n"
   ]
  },
  {
   "cell_type": "markdown",
   "id": "fe9ad732",
   "metadata": {},
   "source": [
    "# program writen by me b4 knowing list data type\n"
   ]
  },
  {
   "cell_type": "code",
   "execution_count": 9,
   "id": "95f4e13e",
   "metadata": {},
   "outputs": [
    {
     "name": "stdout",
     "output_type": "stream",
     "text": [
      "['peter', 'piper', 'picked', 'a', 'peck', 'of', 'pickled', 'peppers.']\n",
      "<class 'list'>\n",
      ".sreppep delkcip fo kcep a dekcip repip retep\n",
      "<class 'NoneType'>\n",
      "['peter', 'piper', 'picked', 'a', 'peck', 'of', 'pickled', 'peppers.']\n",
      "<class 'list'>\n",
      "['peppers.', 'pickled', 'of', 'peck', 'a', 'picked', 'piper', 'peter']\n"
     ]
    }
   ],
   "source": [
    "#Write a python program to find below output:-\n",
    "\n",
    "#Input:- 'peter piper picked a peck of pickled peppers.'\n",
    "#Output:- 'retep repip dekcip a kcep fo delkcip .sreppep'\n",
    "a= 'peter piper picked a peck of pickled peppers.'\n",
    "b= a.split()\n",
    "print(b)\n",
    "print(type(b))\n",
    "d= print(a[-1::-1])\n",
    "print(type(d))\n",
    "\n",
    "\n",
    "print(list(b))\n",
    "print(type(b))\n",
    "b.reverse()\n",
    "print(b)"
   ]
  },
  {
   "cell_type": "code",
   "execution_count": null,
   "id": "f34f92c8",
   "metadata": {},
   "outputs": [],
   "source": []
  },
  {
   "cell_type": "code",
   "execution_count": 7,
   "id": "e88022a5",
   "metadata": {},
   "outputs": [
    {
     "name": "stdout",
     "output_type": "stream",
     "text": [
      "['peter', 'piper', 'picked', 'a', 'peck', 'of', 'pickled', 'peppers.']\n",
      "retep repip dekcip a kcep fo delkcip .sreppep\n"
     ]
    }
   ],
   "source": [
    "# after knowing about list we can solve this question\n",
    "\n",
    "\n",
    "\n",
    "a= 'peter piper picked a peck of pickled peppers.'\n",
    "b= a.split()\n",
    "print(b)\n",
    "print(b[0][::-1],b[1][::-1],b[2][::-1],b[3][::-1],b[4][::-1],b[5][::-1],b[6][::-1],b[7][::-1])"
   ]
  },
  {
   "cell_type": "code",
   "execution_count": 7,
   "id": "45128288",
   "metadata": {},
   "outputs": [
    {
     "name": "stdout",
     "output_type": "stream",
     "text": [
      "retep repip dekcip a kcep fo delkcip .sreppep\n"
     ]
    }
   ],
   "source": [
    "#Write a python program to find below output:-\n",
    "\n",
    "#Input:- 'peter piper picked a peck of pickled peppers.'\n",
    "#Output:- 'retep repip dekcip a kcep fo delkcip .sreppep'\n",
    "\n",
    "inp_str = 'peter piper picked a peck of pickled peppers.'\n",
    "print(' '.join([i[::-1] for i in inp_str.split()]))\n"
   ]
  },
  {
   "cell_type": "code",
   "execution_count": 14,
   "id": "26a16808",
   "metadata": {},
   "outputs": [
    {
     "name": "stdout",
     "output_type": "stream",
     "text": [
      "Peter Piper Picked A Peck Of Pickled Peppers.\n"
     ]
    }
   ],
   "source": [
    "#Write a python program to find below output:-\n",
    "\n",
    "#Input:- 'peter piper picked a peck of pickled peppers.'\n",
    "#Output:- 'Peter Piper Picked A Peck Of Pickled Peppers.'\n",
    "a= 'peter piper picked a peck of pickled peppers.'\n",
    "print(a.title())"
   ]
  },
  {
   "cell_type": "code",
   "execution_count": 15,
   "id": "bd41fce1",
   "metadata": {},
   "outputs": [
    {
     "name": "stdout",
     "output_type": "stream",
     "text": [
      "Peter piper picked a peck of pickled peppers.\n"
     ]
    }
   ],
   "source": [
    "#Write a python program to find below output:-\n",
    "\n",
    "#Input:- 'Peter Piper Picked A Peck Of Pickled Peppers.'\n",
    "#Output:- 'Peter piper picked a peck of pickled peppers.'\n",
    "a= 'Peter Piper Picked A Peck Of Pickled Peppers.'\n",
    "print(a.capitalize())\n"
   ]
  },
  {
   "cell_type": "code",
   "execution_count": 16,
   "id": "13bfeb73",
   "metadata": {},
   "outputs": [
    {
     "name": "stdout",
     "output_type": "stream",
     "text": [
      "29\n"
     ]
    }
   ],
   "source": [
    "#Write a python program to implement index method. If sub_str is found in my_str then it will print the index\n",
    "# of first occurrence of first character of matching string in my_str:-\n",
    "\n",
    "#Input:- my_str = 'Peter Piper Picked A Peck Of Pickled Peppers.', sub_str = 'Pickl'\n",
    "#Output:- 29\n",
    "\n",
    "my_str = 'Peter Piper Picked A Peck Of Pickled Peppers.'\n",
    "sub_str = 'Pickl'\n",
    "print(my_str.index(\"Pickl\"))"
   ]
  },
  {
   "cell_type": "code",
   "execution_count": 9,
   "id": "f762aadc",
   "metadata": {},
   "outputs": [
    {
     "name": "stdout",
     "output_type": "stream",
     "text": [
      "Peter Piper Picked A Pack Of Pickled Peppers.\n",
      "Peter Piper Picked A Pack Of Pickled Peppers.\n",
      "three three was a race horse, two two was one too.\n",
      "Peter Piper Picked A Pack Of Pickled Peppers.\n",
      "Peter Piper Picked A Peck Of Pickled Peppers.\n"
     ]
    }
   ],
   "source": [
    "#replace() method  functions as follows\n",
    "\n",
    "#variable.replace(str to b replaced,new str,no of places to be replaced)\n",
    "\n",
    "my_str = 'Peter Piper Picked A Peck Of Pickled Peppers.'\n",
    "sub_str = 'Peck'\n",
    "new_str = 'Pack'\n",
    "print(my_str.replace(sub_str,new_str,1))\n",
    "\n",
    "\n",
    "my_str = 'Peter Piper Picked A Peck Of Pickled Peppers.'\n",
    "sub_str = 'Peck'\n",
    "new_str = 'Pack'\n",
    "y=(my_str.replace(sub_str,new_str,1))\n",
    "print(y)\n",
    "\n",
    "\n",
    "txt = \"one one was a race horse, two two was one too.\"\n",
    "\n",
    "x = txt.replace(\"one\", \"three\", 2)\n",
    "\n",
    "print(x)\n",
    "\n",
    "my_str = 'Peter Piper Picked A Peck Of Pickled Peppers.'\n",
    "sub_str = 'Peck'\n",
    "new_str = 'Pack'\n",
    "print(my_str.replace(sub_str,new_str,1))\n",
    "\n",
    "print(my_str.replace(\"aster\",\"am\"))"
   ]
  },
  {
   "cell_type": "code",
   "execution_count": 20,
   "id": "2b354db9",
   "metadata": {},
   "outputs": [
    {
     "name": "stdout",
     "output_type": "stream",
     "text": [
      "three three was a race horse, two two was one too.\n"
     ]
    }
   ],
   "source": [
    "txt = \"one one was a race horse, two two was one too.\"\n",
    "\n",
    "x = txt.replace(\"one\", \"three\", 2)\n",
    "\n",
    "print(x)"
   ]
  },
  {
   "cell_type": "markdown",
   "id": "eb5edd42",
   "metadata": {},
   "source": [
    "# my own example to understand replace method\n",
    "#syntax: variable.replace(\"the word to be replaced\",\"with\",no pf replacements)"
   ]
  },
  {
   "cell_type": "code",
   "execution_count": 40,
   "id": "3b869ca6",
   "metadata": {},
   "outputs": [
    {
     "name": "stdout",
     "output_type": "stream",
     "text": [
      "4\n",
      "i can see The sun, The moon and all The things at the world\n"
     ]
    }
   ],
   "source": [
    "a=\"i can see the sun, the moon and all the things at the world\"\n",
    "print(a.count(\"the\"))\n",
    "b= a.replace(\"the\",\"The\",3)\n",
    "print(b)"
   ]
  },
  {
   "cell_type": "code",
   "execution_count": null,
   "id": "78c51899",
   "metadata": {},
   "outputs": [],
   "source": []
  },
  {
   "cell_type": "markdown",
   "id": "6d64cee5",
   "metadata": {},
   "source": [
    "# pls check i did it with if statement(35 and 36)"
   ]
  },
  {
   "cell_type": "code",
   "execution_count": 8,
   "id": "3f717b86",
   "metadata": {},
   "outputs": [
    {
     "name": "stdout",
     "output_type": "stream",
     "text": [
      "Peter Piper Picked A Pack Of Pickled Peppers.\n"
     ]
    }
   ],
   "source": [
    "#Write a python program to implement replace method. If sub_str is found in my_str then it will replace the first \n",
    "#occurrence of sub_str with new_str else it will will print sub_str not found:-\n",
    "\n",
    "#Input:- my_str = 'Peter Piper Picked A Peck Of Pickled Peppers.', sub_str = 'Peck', new_str = 'Pack'\n",
    "#Output:- 'Peter Piper Picked A Pack Of Pickled Peppers.'\n",
    "\n",
    "my_str = 'Peter Piper Picked A Peck Of Pickled Peppers.'\n",
    "sub_str = 'Peck'\n",
    "new_str = 'Pack'\n",
    "if(sub_str in my_str):\n",
    "    print(my_str.replace(sub_str,new_str))\n",
    "else:\n",
    "    print(\"the substring does not found\")"
   ]
  },
  {
   "cell_type": "code",
   "execution_count": 36,
   "id": "910e5822",
   "metadata": {},
   "outputs": [
    {
     "name": "stdout",
     "output_type": "stream",
     "text": [
      "the substring does not found\n"
     ]
    }
   ],
   "source": [
    "my_str = 'Peter Piper Picked A Peck Of Pickled Peppers.'\n",
    "sub_str = 'Pook'\n",
    "new_str = 'Pack'\n",
    "if(sub_str in my_str):\n",
    "    print(my_str.replace(sub_str,new_str))\n",
    "else:\n",
    "    print(\"the substring does not found\")"
   ]
  },
  {
   "cell_type": "code",
   "execution_count": 13,
   "id": "e6882129",
   "metadata": {},
   "outputs": [
    {
     "name": "stdout",
     "output_type": "stream",
     "text": [
      "45\n",
      "Peter Piper Picked A Peck Of Pickled Peppers.\n",
      "*********************Peck********************\n",
      "*****************Peck************************\n"
     ]
    }
   ],
   "source": [
    "#Write a python program to find below output (implements rjust and ljust):-\n",
    "\n",
    "#Input:- 'Peter Piper Picked A Peck Of Pickled Peppers.', sub_str = 'Peck', \n",
    "#Output:- '*********************Peck********************'\n",
    "\n",
    "a='Peter Piper Picked A Peck Of Pickled Peppers.'\n",
    "print(len(a))\n",
    "str = 'Peck' \n",
    "y = (str.center(45,\"*\"))   #my own method\n",
    "z=str.rjust(a.find(str),'*').ljust(len(a),'*')# solution give by afsan\n",
    "\n",
    "print(a)\n",
    "print(y)\n",
    "print(z)"
   ]
  },
  {
   "cell_type": "code",
   "execution_count": null,
   "id": "54823bd5",
   "metadata": {},
   "outputs": [],
   "source": []
  },
  {
   "cell_type": "code",
   "execution_count": null,
   "id": "13f9c05b",
   "metadata": {},
   "outputs": [],
   "source": []
  }
 ],
 "metadata": {
  "kernelspec": {
   "display_name": "Python 3",
   "language": "python",
   "name": "python3"
  },
  "language_info": {
   "codemirror_mode": {
    "name": "ipython",
    "version": 3
   },
   "file_extension": ".py",
   "mimetype": "text/x-python",
   "name": "python",
   "nbconvert_exporter": "python",
   "pygments_lexer": "ipython3",
   "version": "3.8.8"
  }
 },
 "nbformat": 4,
 "nbformat_minor": 5
}
