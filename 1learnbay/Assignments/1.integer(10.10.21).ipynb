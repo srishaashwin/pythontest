{
 "cells": [
  {
   "cell_type": "code",
   "execution_count": 1,
   "id": "657a7665",
   "metadata": {},
   "outputs": [
    {
     "name": "stdout",
     "output_type": "stream",
     "text": [
      "<class 'int'>\n",
      "140724743908368\n"
     ]
    }
   ],
   "source": [
    "a=40\n",
    "print(type(a))\n",
    "print(id(a))"
   ]
  },
  {
   "cell_type": "code",
   "execution_count": 4,
   "id": "f710e68b",
   "metadata": {},
   "outputs": [
    {
     "name": "stdout",
     "output_type": "stream",
     "text": [
      "140724743914576\n",
      "140724743914576\n"
     ]
    }
   ],
   "source": [
    "b=234\n",
    "a=234\n",
    "print(id(a))\n",
    "print(id(b))\n",
    "\n",
    "#these two variables have same memory address\n",
    "#beacuse of the memory sharing concept of python"
   ]
  },
  {
   "cell_type": "code",
   "execution_count": 7,
   "id": "2299c0a2",
   "metadata": {},
   "outputs": [
    {
     "name": "stdout",
     "output_type": "stream",
     "text": [
      "140724743906960\n",
      "140724743906960\n"
     ]
    }
   ],
   "source": [
    "b=-4\n",
    "a=-4\n",
    "print(id(a))\n",
    "print(id(b))"
   ]
  },
  {
   "cell_type": "code",
   "execution_count": 6,
   "id": "ce2320e5",
   "metadata": {},
   "outputs": [
    {
     "name": "stdout",
     "output_type": "stream",
     "text": [
      "2294324172272\n",
      "2294324171952\n"
     ]
    }
   ],
   "source": [
    "d=-6\n",
    "c=-6\n",
    "print(id(c))\n",
    "print(id(d))\n",
    "# here different variables of same value  takes diffferent id \n",
    "# because the memory sharing works only on numbers from (-5 to 256)"
   ]
  },
  {
   "cell_type": "code",
   "execution_count": 13,
   "id": "0029a2de",
   "metadata": {},
   "outputs": [
    {
     "name": "stdout",
     "output_type": "stream",
     "text": [
      "the value after adding two numbers 85\n",
      "the value after subtracting two numbers 35\n",
      "the value after multiplying two numbers 1500\n",
      "the value after dividing two numbers 2.4\n",
      "the value of reminder after dividing two numbers 10\n",
      "the value of quotient after dividing two numbers 2\n",
      "the value of powering firt number to second number 284302880299297013760000000000000000000000000\n"
     ]
    }
   ],
   "source": [
    "#arithmetic operators\n",
    "a=60\n",
    "b=25\n",
    "c=a+b\n",
    "d=a-b\n",
    "e=a*b\n",
    "f=a/b\n",
    "g=a%b\n",
    "h=a**b\n",
    "i=a//b\n",
    "print(\"the value after adding two numbers\",c)\n",
    "print(\"the value after subtracting two numbers\",d)\n",
    "print(\"the value after multiplying two numbers\",e)\n",
    "print(\"the value after dividing two numbers\",f)\n",
    "print(\"the value of reminder after dividing two numbers\",g)\n",
    "print(\"the value of quotient after dividing two numbers\",i)\n",
    "print(\"the value of powering firt number to second number\",h)"
   ]
  },
  {
   "cell_type": "code",
   "execution_count": 16,
   "id": "5a6e6653",
   "metadata": {},
   "outputs": [
    {
     "name": "stdout",
     "output_type": "stream",
     "text": [
      "False\n",
      "True\n",
      "False\n",
      "True\n"
     ]
    }
   ],
   "source": [
    "#comparision operator\n",
    "a=30\n",
    "b=50\n",
    "print(a>b)\n",
    "print(a<b)\n",
    "print(a>=b)\n",
    "print(a<=b)"
   ]
  },
  {
   "cell_type": "code",
   "execution_count": 17,
   "id": "39e55c3d",
   "metadata": {},
   "outputs": [
    {
     "name": "stdout",
     "output_type": "stream",
     "text": [
      "True\n",
      "False\n"
     ]
    }
   ],
   "source": [
    "#Equality operator\n",
    "a=30\n",
    "b=30\n",
    "print(a==b)\n",
    "print(a!=b)"
   ]
  },
  {
   "cell_type": "code",
   "execution_count": 20,
   "id": "135643cc",
   "metadata": {},
   "outputs": [
    {
     "name": "stdout",
     "output_type": "stream",
     "text": [
      "20\n",
      "0\n",
      "0\n",
      "0\n",
      "10\n",
      "20\n",
      "20\n",
      "0\n",
      "False\n",
      "True\n"
     ]
    }
   ],
   "source": [
    "#Logical operator\n",
    "print(10 and 20)\n",
    "print(0 and 20)\n",
    "print(20 and 0)\n",
    "print(0 and 0)\n",
    "print(10 or 20)\n",
    "print(0 or 20)\n",
    "print(20 or 0)\n",
    "print(0 or 0)\n",
    "print(not 10)\n",
    "print(not 0)"
   ]
  },
  {
   "cell_type": "code",
   "execution_count": 23,
   "id": "a75509b9",
   "metadata": {},
   "outputs": [
    {
     "name": "stdout",
     "output_type": "stream",
     "text": [
      "0\n",
      "30\n",
      "30\n",
      "-11\n",
      "40\n",
      "2\n"
     ]
    }
   ],
   "source": [
    "#Bit wise operator\n",
    "print(10 & 20)\n",
    "print(10|20)\n",
    "print(10^20)\n",
    "print(~10)\n",
    "print(10<<2)\n",
    "print(10>>2)\n",
    "\n"
   ]
  },
  {
   "cell_type": "code",
   "execution_count": 24,
   "id": "f52a7120",
   "metadata": {},
   "outputs": [
    {
     "name": "stdout",
     "output_type": "stream",
     "text": [
      "True\n",
      "False\n"
     ]
    }
   ],
   "source": [
    "#memory reusability concept\n",
    "a=10\n",
    "b=10\n",
    "print(a is b)\n",
    "print(a is not b)\n"
   ]
  },
  {
   "cell_type": "code",
   "execution_count": 25,
   "id": "f78bc935",
   "metadata": {},
   "outputs": [
    {
     "name": "stdout",
     "output_type": "stream",
     "text": [
      "False\n",
      "True\n"
     ]
    }
   ],
   "source": [
    "#memory reusability range is (-5 to 256)\n",
    "a=1000\n",
    "b=1000\n",
    "print(a is b)\n",
    "print( a is not b)"
   ]
  },
  {
   "cell_type": "code",
   "execution_count": 27,
   "id": "c253fc9b",
   "metadata": {},
   "outputs": [
    {
     "name": "stdout",
     "output_type": "stream",
     "text": [
      "20\n"
     ]
    }
   ],
   "source": [
    "print(10+(10*32)//2**5&20+(~(-10))<<2)\n"
   ]
  },
  {
   "cell_type": "code",
   "execution_count": 15,
   "id": "8f4c5a00",
   "metadata": {},
   "outputs": [
    {
     "name": "stdout",
     "output_type": "stream",
     "text": [
      "True\n",
      "False\n",
      "True\n",
      "True\n",
      "True\n",
      "False\n",
      "True\n",
      "False\n",
      "True\n",
      "True\n",
      "False\n",
      "False\n"
     ]
    }
   ],
   "source": [
    "#membership operators(in , not in)\n",
    "print('2' in 'Python2.7.8')\n",
    "print('2' not in 'Python2.7.8')\n",
    "print(10 in [10,10.20,10+20j,'Python'])\n",
    "print(10 in (10,10.20,10+20j,'Python'))\n",
    "print(2 in {1,2,3})\n",
    "print(2 not in{1,2,3})\n",
    "print(3 in {1:100, 2:200, 3:300})\n",
    "print(3 in {5:100, 2:200, 6:300})\n",
    "print(10 in range(20))\n",
    "print(3 in range(20))\n",
    "print(3 in {20:100})\n",
    "print(10 in {1:100, 2:200, 3:300})"
   ]
  },
  {
   "cell_type": "code",
   "execution_count": 16,
   "id": "38274a38",
   "metadata": {},
   "outputs": [
    {
     "name": "stdout",
     "output_type": "stream",
     "text": [
      "80\n",
      "<class 'int'>\n"
     ]
    }
   ],
   "source": [
    "#to change binary to integer\n",
    "a = 0b1010000\n",
    "print(a)\n",
    "print(type(a))"
   ]
  },
  {
   "cell_type": "code",
   "execution_count": 2,
   "id": "f835789b",
   "metadata": {},
   "outputs": [
    {
     "name": "stdout",
     "output_type": "stream",
     "text": [
      "3870\n",
      "<class 'int'>\n"
     ]
    }
   ],
   "source": [
    "b = 0o7436\n",
    "print(b)\n",
    "print(type(b))"
   ]
  },
  {
   "cell_type": "code",
   "execution_count": 3,
   "id": "0a064ddb",
   "metadata": {},
   "outputs": [
    {
     "name": "stdout",
     "output_type": "stream",
     "text": [
      "64222\n",
      "<class 'int'>\n"
     ]
    }
   ],
   "source": [
    "c = 0xfade\n",
    "print(c)\n",
    "print(type(c))\n"
   ]
  },
  {
   "cell_type": "code",
   "execution_count": 5,
   "id": "437e3fa3",
   "metadata": {},
   "outputs": [
    {
     "name": "stdout",
     "output_type": "stream",
     "text": [
      "0b1010000\n"
     ]
    }
   ],
   "source": [
    "print(bin(80))"
   ]
  },
  {
   "cell_type": "code",
   "execution_count": 37,
   "id": "e8537117",
   "metadata": {},
   "outputs": [
    {
     "name": "stdout",
     "output_type": "stream",
     "text": [
      "0o7342\n"
     ]
    }
   ],
   "source": [
    "print(oct(3810))\n"
   ]
  },
  {
   "cell_type": "code",
   "execution_count": 8,
   "id": "621545f6",
   "metadata": {},
   "outputs": [
    {
     "name": "stdout",
     "output_type": "stream",
     "text": [
      "8\n",
      "0xfade\n",
      "0x8\n"
     ]
    }
   ],
   "source": [
    "print(0b1000)\n",
    "print(hex(64222))\n",
    "print(hex(0b1000))"
   ]
  },
  {
   "cell_type": "code",
   "execution_count": 39,
   "id": "753f8de2",
   "metadata": {},
   "outputs": [
    {
     "name": "stdout",
     "output_type": "stream",
     "text": [
      "0b1010000\n"
     ]
    }
   ],
   "source": [
    "print(bin(0b1010000))"
   ]
  },
  {
   "cell_type": "code",
   "execution_count": 40,
   "id": "4fc286c4",
   "metadata": {},
   "outputs": [
    {
     "name": "stdout",
     "output_type": "stream",
     "text": [
      "0b1111101011011110\n"
     ]
    }
   ],
   "source": [
    "print(bin(0xfade))"
   ]
  },
  {
   "cell_type": "code",
   "execution_count": 41,
   "id": "8b1f2f44",
   "metadata": {},
   "outputs": [
    {
     "name": "stdout",
     "output_type": "stream",
     "text": [
      "0o175336\n"
     ]
    }
   ],
   "source": [
    "print(oct(0xfade))"
   ]
  },
  {
   "cell_type": "code",
   "execution_count": 42,
   "id": "a231ee3c",
   "metadata": {},
   "outputs": [
    {
     "name": "stdout",
     "output_type": "stream",
     "text": [
      "0o7436\n"
     ]
    }
   ],
   "source": [
    "print(oct(0o7436))"
   ]
  },
  {
   "cell_type": "code",
   "execution_count": 43,
   "id": "35458533",
   "metadata": {},
   "outputs": [
    {
     "name": "stdout",
     "output_type": "stream",
     "text": [
      "0x50\n"
     ]
    }
   ],
   "source": [
    "print(hex(0b1010000))"
   ]
  },
  {
   "cell_type": "code",
   "execution_count": 44,
   "id": "c566b040",
   "metadata": {},
   "outputs": [
    {
     "name": "stdout",
     "output_type": "stream",
     "text": [
      "0xfade\n"
     ]
    }
   ],
   "source": [
    "print(hex(0xfade))"
   ]
  },
  {
   "cell_type": "code",
   "execution_count": 46,
   "id": "dd53abfe",
   "metadata": {},
   "outputs": [
    {
     "name": "stdout",
     "output_type": "stream",
     "text": [
      "<class 'str'>\n"
     ]
    }
   ],
   "source": [
    "print(type(hex(0xfade)))"
   ]
  },
  {
   "cell_type": "code",
   "execution_count": null,
   "id": "29174499",
   "metadata": {},
   "outputs": [],
   "source": []
  }
 ],
 "metadata": {
  "kernelspec": {
   "display_name": "Python 3",
   "language": "python",
   "name": "python3"
  },
  "language_info": {
   "codemirror_mode": {
    "name": "ipython",
    "version": 3
   },
   "file_extension": ".py",
   "mimetype": "text/x-python",
   "name": "python",
   "nbconvert_exporter": "python",
   "pygments_lexer": "ipython3",
   "version": "3.8.8"
  }
 },
 "nbformat": 4,
 "nbformat_minor": 5
}
