{
 "cells": [
  {
   "cell_type": "code",
   "execution_count": 3,
   "id": "96e1d7c8",
   "metadata": {},
   "outputs": [
    {
     "name": "stdout",
     "output_type": "stream",
     "text": [
      "2993914151920\n",
      "2993914151216\n",
      "<class 'float'>\n",
      "<class 'float'>\n"
     ]
    }
   ],
   "source": [
    "a=20.56\n",
    "b=34.65\n",
    "print(id(a))\n",
    "print(id(b))\n",
    "print(type(a))\n",
    "print(type(b))"
   ]
  },
  {
   "cell_type": "code",
   "execution_count": 4,
   "id": "4a9a4494",
   "metadata": {},
   "outputs": [
    {
     "name": "stdout",
     "output_type": "stream",
     "text": [
      "the value after adding two numbers 85.7684\n",
      "the value after subtracting two numbers 34.898399999999995\n",
      "the value after multiplying two numbers 1534.580029\n",
      "the value after dividing two numbers 2.372062119127187\n",
      "the value of reminder after dividing two numbers 9.4634\n",
      "the value of quotient after dividing two numbers 2.0\n",
      "the value of powering firt number to second number 1.943066408604889e+45\n"
     ]
    }
   ],
   "source": [
    "#arithmetic operators\n",
    "a=60.3334\n",
    "b=25.435\n",
    "c=a+b\n",
    "d=a-b\n",
    "e=a*b\n",
    "f=a/b\n",
    "g=a%b\n",
    "h=a**b\n",
    "i=a//b\n",
    "print(\"the value after adding two numbers\",c)\n",
    "print(\"the value after subtracting two numbers\",d)\n",
    "print(\"the value after multiplying two numbers\",e)\n",
    "print(\"the value after dividing two numbers\",f)\n",
    "print(\"the value of reminder after dividing two numbers\",g)\n",
    "print(\"the value of quotient after dividing two numbers\",i)\n",
    "print(\"the value of powering firt number to second number\",h)"
   ]
  },
  {
   "cell_type": "code",
   "execution_count": 5,
   "id": "37dca048",
   "metadata": {},
   "outputs": [
    {
     "name": "stdout",
     "output_type": "stream",
     "text": [
      "False\n",
      "True\n",
      "False\n",
      "True\n"
     ]
    }
   ],
   "source": [
    "#comparision operator\n",
    "a=3.54\n",
    "b=5.76\n",
    "print(a>b)\n",
    "print(a<b)\n",
    "print(a>=b)\n",
    "print(a<=b)"
   ]
  },
  {
   "cell_type": "code",
   "execution_count": 6,
   "id": "6b27ac08",
   "metadata": {},
   "outputs": [
    {
     "name": "stdout",
     "output_type": "stream",
     "text": [
      "True\n",
      "False\n"
     ]
    }
   ],
   "source": [
    "#Equality operator\n",
    "a=30.5\n",
    "b=30.5\n",
    "print(a==b)\n",
    "print(a!=b)"
   ]
  },
  {
   "cell_type": "code",
   "execution_count": 9,
   "id": "6a715e0b",
   "metadata": {},
   "outputs": [
    {
     "name": "stdout",
     "output_type": "stream",
     "text": [
      "20.12\n",
      "0.0\n",
      "0.0\n",
      "0.0\n",
      "10.42\n",
      "20.21\n",
      "20.98\n",
      "0.0\n",
      "False\n",
      "True\n"
     ]
    }
   ],
   "source": [
    "#Logical operator\n",
    "print(10.30 and 20.12)\n",
    "print(0.0 and 20.32)\n",
    "print(20.34 and 0.0)\n",
    "print(0.0 and 0)\n",
    "print(10.42 or 20.43)\n",
    "print(0.0 or 20.21)\n",
    "print(20.98 or 0)\n",
    "print(0.0 or 0.0)\n",
    "print(not 10.34)\n",
    "print(not 0.0)"
   ]
  },
  {
   "cell_type": "code",
   "execution_count": 10,
   "id": "0ccf94be",
   "metadata": {},
   "outputs": [
    {
     "name": "stdout",
     "output_type": "stream",
     "text": [
      "False\n",
      "True\n"
     ]
    }
   ],
   "source": [
    "#memory reusability concept or identity operators\n",
    "a=10.20\n",
    "b=10.20\n",
    "print(a is b)\n",
    "print(a is not b)\n"
   ]
  },
  {
   "cell_type": "code",
   "execution_count": 11,
   "id": "de0cd129",
   "metadata": {},
   "outputs": [
    {
     "name": "stdout",
     "output_type": "stream",
     "text": [
      "True\n",
      "True\n",
      "True\n",
      "True\n",
      "True\n",
      "True\n"
     ]
    }
   ],
   "source": [
    "#membership operation\n",
    "print('2.7' in 'Python2.7.8') \n",
    "print(10.20 in [10,10.20,10+20j,'Python']) \n",
    "print(10.20 in (10,10.20,10+20j,'Python')) \n",
    "print(20.30 in {1,20.30,30+40j}) \n",
    "print(2.3 in {1:100, 2.3:200, 30+40j:300}) \n",
    "print(10 in range(20)) "
   ]
  },
  {
   "cell_type": "code",
   "execution_count": null,
   "id": "7d6913d0",
   "metadata": {},
   "outputs": [],
   "source": []
  }
 ],
 "metadata": {
  "kernelspec": {
   "display_name": "Python 3",
   "language": "python",
   "name": "python3"
  },
  "language_info": {
   "codemirror_mode": {
    "name": "ipython",
    "version": 3
   },
   "file_extension": ".py",
   "mimetype": "text/x-python",
   "name": "python",
   "nbconvert_exporter": "python",
   "pygments_lexer": "ipython3",
   "version": "3.8.8"
  }
 },
 "nbformat": 4,
 "nbformat_minor": 5
}
