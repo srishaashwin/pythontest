{
 "cells": [
  {
   "cell_type": "code",
   "execution_count": 38,
   "id": "f3402cad",
   "metadata": {},
   "outputs": [
    {
     "name": "stdout",
     "output_type": "stream",
     "text": [
      "the sum of numbers 100\n"
     ]
    }
   ],
   "source": [
    "#Write a Python program to find the sum of all elements in a list using loop.\n",
    "#Input:- [10,20,30,40]\n",
    "#Output:- 100\n",
    "\n",
    "\n",
    "a=[10,20,30,40]\n",
    "b=0\n",
    "for i in a:\n",
    "    b=b+i   #sum of all numbers in list a\n",
    "print(\"the sum of numbers\",b)\n",
    "\n"
   ]
  },
  {
   "cell_type": "code",
   "execution_count": 39,
   "id": "3264e72b",
   "metadata": {},
   "outputs": [
    {
     "name": "stdout",
     "output_type": "stream",
     "text": [
      "the multiplication of numbers in list 240000\n"
     ]
    }
   ],
   "source": [
    "#Write a Python program to find the multiplication of all elements in a list using loop.\n",
    "#Input:- [10,20,30,40]\n",
    "#Output:- 240000\n",
    "\n",
    "\n",
    "a=[10,20,30,40]\n",
    "b=1\n",
    "for i in a:\n",
    "    b=b*i   #multiplication  of all numbers in list a\n",
    "print(\"the multiplication of numbers in list\",b)\n",
    "\n"
   ]
  },
  {
   "cell_type": "code",
   "execution_count": 15,
   "id": "57404963",
   "metadata": {},
   "outputs": [
    {
     "name": "stdout",
     "output_type": "stream",
     "text": [
      "[1, 2, 10, 100, 200, 2321]\n",
      "2321\n"
     ]
    }
   ],
   "source": [
    "#Write a Python program to find the largest number from a list using loop.\n",
    "#Input:- [10,100,2321, 1,200,2]\n",
    "#Output:- 2321\n",
    "\n",
    "a= [10,100,2321, 1,200,2]#my prog using sort function\n",
    "a.sort()\n",
    "print(a)\n",
    "print(a[-1])\n",
    "\n",
    "\n"
   ]
  },
  {
   "cell_type": "code",
   "execution_count": 25,
   "id": "c19b3323",
   "metadata": {},
   "outputs": [
    {
     "ename": "IndexError",
     "evalue": "list index out of range",
     "output_type": "error",
     "traceback": [
      "\u001b[1;31m---------------------------------------------------------------------------\u001b[0m",
      "\u001b[1;31mIndexError\u001b[0m                                Traceback (most recent call last)",
      "\u001b[1;32m<ipython-input-25-570c9adcf6f3>\u001b[0m in \u001b[0;36m<module>\u001b[1;34m\u001b[0m\n\u001b[0;32m      2\u001b[0m \u001b[0mb\u001b[0m\u001b[1;33m=\u001b[0m\u001b[0ma\u001b[0m\u001b[1;33m[\u001b[0m\u001b[1;36m0\u001b[0m\u001b[1;33m]\u001b[0m\u001b[1;33m\u001b[0m\u001b[1;33m\u001b[0m\u001b[0m\n\u001b[0;32m      3\u001b[0m \u001b[1;32mfor\u001b[0m \u001b[0mi\u001b[0m \u001b[1;32min\u001b[0m \u001b[0ma\u001b[0m\u001b[1;33m:\u001b[0m\u001b[1;33m\u001b[0m\u001b[1;33m\u001b[0m\u001b[0m\n\u001b[1;32m----> 4\u001b[1;33m     \u001b[1;32mif\u001b[0m\u001b[1;33m(\u001b[0m\u001b[0mb\u001b[0m\u001b[1;33m<=\u001b[0m\u001b[0ma\u001b[0m\u001b[1;33m[\u001b[0m\u001b[0mi\u001b[0m\u001b[1;33m]\u001b[0m\u001b[1;33m)\u001b[0m\u001b[1;33m:\u001b[0m\u001b[1;33m\u001b[0m\u001b[1;33m\u001b[0m\u001b[0m\n\u001b[0m\u001b[0;32m      5\u001b[0m         \u001b[0mb\u001b[0m\u001b[1;33m=\u001b[0m\u001b[0ma\u001b[0m\u001b[1;33m[\u001b[0m\u001b[0mi\u001b[0m\u001b[1;33m]\u001b[0m\u001b[1;33m\u001b[0m\u001b[1;33m\u001b[0m\u001b[0m\n\u001b[0;32m      6\u001b[0m \u001b[0mprint\u001b[0m\u001b[1;33m(\u001b[0m\u001b[0mb\u001b[0m\u001b[1;33m)\u001b[0m\u001b[1;33m\u001b[0m\u001b[1;33m\u001b[0m\u001b[0m\n",
      "\u001b[1;31mIndexError\u001b[0m: list index out of range"
     ]
    }
   ],
   "source": [
    "##tried by me with indexing\n",
    "\n",
    "a= [10,100,2321, 1,200,2]\n",
    "b=a[0]\n",
    "for i in a:\n",
    "    if(b<=a[i]):\n",
    "        b=a[i]\n",
    "print(b)"
   ]
  },
  {
   "cell_type": "code",
   "execution_count": 28,
   "id": "2db42c27",
   "metadata": {},
   "outputs": [
    {
     "name": "stdout",
     "output_type": "stream",
     "text": [
      "2321\n"
     ]
    }
   ],
   "source": [
    "#using for loop\n",
    "#analyized with the logic\n",
    "\n",
    "a= [10,100,2321, 1,200,2]\n",
    "b=0\n",
    "for i in a:\n",
    "    if(i>b):\n",
    "        b=i\n",
    "print(b)    "
   ]
  },
  {
   "cell_type": "code",
   "execution_count": 8,
   "id": "cc3ef2dc",
   "metadata": {},
   "outputs": [],
   "source": [
    "#for 3 dif cases\n",
    "\n",
    "#Write a Python program to find the smallest number from a list using loop.\n",
    "#Input:- [10,100,2321, 1,200,2]\n",
    "#Output:- 1\n"
   ]
  },
  {
   "cell_type": "code",
   "execution_count": 3,
   "id": "70a954fd",
   "metadata": {},
   "outputs": [
    {
     "name": "stdout",
     "output_type": "stream",
     "text": [
      "1\n"
     ]
    }
   ],
   "source": [
    "a= [10,100,2321,1,200,2]#given question\n",
    "b=1\n",
    "for i in a:\n",
    "    if(i<=b):\n",
    "        b=i\n",
    "print(b)        \n"
   ]
  },
  {
   "cell_type": "code",
   "execution_count": 6,
   "id": "8793b680",
   "metadata": {},
   "outputs": [
    {
     "name": "stdout",
     "output_type": "stream",
     "text": [
      "0\n"
     ]
    }
   ],
   "source": [
    "a= [10,100,2321,1,0,200,2]#with 0\n",
    "b=1\n",
    "for i in a:\n",
    "    if(i<=b):\n",
    "        b=i\n",
    "print(b)        \n"
   ]
  },
  {
   "cell_type": "code",
   "execution_count": 9,
   "id": "b42405d2",
   "metadata": {},
   "outputs": [
    {
     "name": "stdout",
     "output_type": "stream",
     "text": [
      "-10\n"
     ]
    }
   ],
   "source": [
    "\n",
    "a= [-10,100,2321,0,1,200,2]#-ve numbers\n",
    "b=1\n",
    "for i in a:\n",
    "    if(i<b):\n",
    "        b=i\n",
    "print(b)        \n"
   ]
  },
  {
   "cell_type": "code",
   "execution_count": 14,
   "id": "e933a1f8",
   "metadata": {},
   "outputs": [
    {
     "name": "stdout",
     "output_type": "stream",
     "text": [
      "[0, 1, 2, 3, 4]\n"
     ]
    }
   ],
   "source": [
    "#Write a Python program to count the number of strings having length more than 2 and are palindrome in a list using loop.\n",
    "#Input:- ['ab', 'abc', 'aba', 'xyz', '1991']\n",
    "#Output:- 2\n",
    "\n",
    "#step 1\n",
    "\n",
    "#finding the length of each value is more than 2\n",
    "x=[]\n",
    "a= ['ab', 'abc', 'aba', 'xyz', '1991']\n",
    "for i in range(0,len(a)):\n",
    "    if(len(a[i])>=2):\n",
    "        x.append(i)\n",
    "print(x)"
   ]
  },
  {
   "cell_type": "code",
   "execution_count": 6,
   "id": "b7c17469",
   "metadata": {},
   "outputs": [
    {
     "name": "stdout",
     "output_type": "stream",
     "text": [
      "[0, 1, 2, 3, 4]\n"
     ]
    }
   ],
   "source": [
    "#using list comprehension\n",
    "\n",
    "a= ['ab', 'abc', 'aba', 'xyz', '1991']\n",
    "i= [i  for i in range(0,len(a)) if(len(a[i])>=2)]\n",
    "print(i)"
   ]
  },
  {
   "cell_type": "code",
   "execution_count": 12,
   "id": "08736da0",
   "metadata": {},
   "outputs": [
    {
     "name": "stdout",
     "output_type": "stream",
     "text": [
      "2\n",
      "4\n"
     ]
    }
   ],
   "source": [
    "#step 2\n",
    "\n",
    "#finding the palindrome in a list\n",
    "\n",
    "a= ['ab', 'abc', 'aba', 'xyz', '1991']\n",
    "for i in range(0,len(a)):\n",
    "    if((a[i][::1])==(a[i][-1::-1])):\n",
    "        print(i)\n"
   ]
  },
  {
   "cell_type": "code",
   "execution_count": 15,
   "id": "5fc4ae55",
   "metadata": {},
   "outputs": [
    {
     "name": "stdout",
     "output_type": "stream",
     "text": [
      "2\n"
     ]
    }
   ],
   "source": [
    "#step 3\n",
    "\n",
    "#combining both the statement with and operator\n",
    "#using list to find the length\n",
    "\n",
    "a= ['ab', 'abc', 'aba', 'xyz', '1991']\n",
    "b=[]\n",
    "for i in range(0,len(a)):\n",
    "    if((a[i][::1])==(a[i][-1::-1]))&(len(a[i])>=2):\n",
    "        b.append(i)\n",
    "print(len(b))"
   ]
  },
  {
   "cell_type": "code",
   "execution_count": 5,
   "id": "2ebe7c5f",
   "metadata": {},
   "outputs": [
    {
     "name": "stdout",
     "output_type": "stream",
     "text": [
      "[1, 2, 9, 10, 65, 80, 100, 298, 483, 9213, 49876]\n"
     ]
    }
   ],
   "source": [
    "# sorting using built-in function\n",
    "\n",
    "\n",
    "a= [100,10,1,298,65,483,49876,2,80,9,9213]\n",
    "a.sort()\n",
    "print(a)"
   ]
  },
  {
   "cell_type": "code",
   "execution_count": 7,
   "id": "ef81c8fa",
   "metadata": {},
   "outputs": [
    {
     "name": "stdout",
     "output_type": "stream",
     "text": [
      "1\n",
      "[100, 10, 1, 298, 65, 483, 49876, 2, 80, 9, 9213]\n"
     ]
    }
   ],
   "source": [
    "#  not correct (tried by my own using different logic)\n",
    "#pls check below cell for answer\n",
    "\n",
    "\n",
    "#Write a Python program to sort a list in ascending order using loop.\n",
    "#Input:- [100,10,1,298,65,483,49876,2,80,9,9213]\n",
    "#Output:- [1,2,9,10,65,80,100,298,483,9213,49876]\n",
    "\n",
    "a= [100,10,1,298,65,483,49876,2,80,9,9213]\n",
    "b=[]\n",
    "c=1\n",
    "print(c)\n",
    "for i in a:\n",
    "    for j in \n",
    "    if(i>=c):#comparing LL THE NUMBERS with the const number \n",
    "        c=i\n",
    "        b.append(c)\n",
    "    else:\n",
    "        c=i\n",
    "        b.append(c)\n",
    "print(b)\n",
    "        \n",
    "\n",
    "\n"
   ]
  },
  {
   "cell_type": "code",
   "execution_count": 3,
   "id": "491d0716",
   "metadata": {},
   "outputs": [
    {
     "name": "stdout",
     "output_type": "stream",
     "text": [
      "[1, 2, 9, 10, 65, 80, 100, 298, 483, 9213, 49876]\n"
     ]
    }
   ],
   "source": [
    "#learnt the concept later\n",
    "\n",
    "a= [100,10,1,298,65,483,49876,2,80,9,9213]\n",
    "val=0\n",
    "for i in range(0,len(a)):#comparing the index i\n",
    "    for j in range(i+1,len(a)): #with inex i+1\n",
    "        if (a[i]>a[j]):\n",
    "            val=a[i]  #swapping the values of i and i+1 using a variable val=0\n",
    "            a[i]=a[j]\n",
    "            a[j]=val\n",
    "            \n",
    "print(a)            "
   ]
  },
  {
   "cell_type": "code",
   "execution_count": 33,
   "id": "e270e073",
   "metadata": {},
   "outputs": [
    {
     "name": "stdout",
     "output_type": "stream",
     "text": [
      "<class 'list'>\n"
     ]
    }
   ],
   "source": [
    "a=[(5,4),(9,1),(2,3),(5,9),(7,6),(5,5)]\n",
    "print(type(a))"
   ]
  },
  {
   "cell_type": "code",
   "execution_count": 27,
   "id": "7e08a891",
   "metadata": {},
   "outputs": [
    {
     "ename": "TypeError",
     "evalue": "'tuple' object does not support item assignment",
     "output_type": "error",
     "traceback": [
      "\u001b[1;31m---------------------------------------------------------------------------\u001b[0m",
      "\u001b[1;31mTypeError\u001b[0m                                 Traceback (most recent call last)",
      "\u001b[1;32m<ipython-input-27-1d1193cb1e44>\u001b[0m in \u001b[0;36m<module>\u001b[1;34m\u001b[0m\n\u001b[0;32m      9\u001b[0m             \u001b[1;32mif\u001b[0m \u001b[1;33m(\u001b[0m\u001b[0ma\u001b[0m\u001b[1;33m[\u001b[0m\u001b[0mi\u001b[0m\u001b[1;33m]\u001b[0m\u001b[1;33m[\u001b[0m\u001b[1;36m1\u001b[0m\u001b[1;33m]\u001b[0m\u001b[1;33m>\u001b[0m\u001b[0ma\u001b[0m\u001b[1;33m[\u001b[0m\u001b[0mj\u001b[0m\u001b[1;33m]\u001b[0m\u001b[1;33m[\u001b[0m\u001b[1;36m1\u001b[0m\u001b[1;33m]\u001b[0m\u001b[1;33m)\u001b[0m\u001b[1;33m:\u001b[0m\u001b[1;33m\u001b[0m\u001b[1;33m\u001b[0m\u001b[0m\n\u001b[0;32m     10\u001b[0m                 \u001b[0mval\u001b[0m\u001b[1;33m=\u001b[0m\u001b[0ma\u001b[0m\u001b[1;33m[\u001b[0m\u001b[0mi\u001b[0m\u001b[1;33m]\u001b[0m\u001b[1;33m[\u001b[0m\u001b[1;36m1\u001b[0m\u001b[1;33m]\u001b[0m\u001b[1;33m\u001b[0m\u001b[1;33m\u001b[0m\u001b[0m\n\u001b[1;32m---> 11\u001b[1;33m                 \u001b[0ma\u001b[0m\u001b[1;33m[\u001b[0m\u001b[0mi\u001b[0m\u001b[1;33m]\u001b[0m\u001b[1;33m[\u001b[0m\u001b[1;36m1\u001b[0m\u001b[1;33m]\u001b[0m\u001b[1;33m=\u001b[0m\u001b[0ma\u001b[0m\u001b[1;33m[\u001b[0m\u001b[0mj\u001b[0m\u001b[1;33m]\u001b[0m\u001b[1;33m[\u001b[0m\u001b[1;36m1\u001b[0m\u001b[1;33m]\u001b[0m\u001b[1;33m\u001b[0m\u001b[1;33m\u001b[0m\u001b[0m\n\u001b[0m\u001b[0;32m     12\u001b[0m                 \u001b[0ma\u001b[0m\u001b[1;33m[\u001b[0m\u001b[0mj\u001b[0m\u001b[1;33m]\u001b[0m\u001b[1;33m[\u001b[0m\u001b[1;36m1\u001b[0m\u001b[1;33m]\u001b[0m\u001b[1;33m=\u001b[0m\u001b[0mval\u001b[0m\u001b[1;33m\u001b[0m\u001b[1;33m\u001b[0m\u001b[0m\n\u001b[0;32m     13\u001b[0m \u001b[0mprint\u001b[0m\u001b[1;33m(\u001b[0m\u001b[0ma\u001b[0m\u001b[1;33m)\u001b[0m\u001b[1;33m\u001b[0m\u001b[1;33m\u001b[0m\u001b[0m\n",
      "\u001b[1;31mTypeError\u001b[0m: 'tuple' object does not support item assignment"
     ]
    }
   ],
   "source": [
    "#Write a Python program to get a sorted list in increasing order of last element in each tuple in a given list using loop.\n",
    "#Input:- [(5,4),(9,1),(2,3),(5,9),(7,6),(5,5)]\n",
    "#output:- [(9,1),(2,3),(5,4),(5,5),(7,6),(5,9)]\n",
    "\n",
    "a=[(5,4),(9,1),(2,3),(5,9),(7,6),(5,5)]\n",
    "val=0\n",
    "for i in range(0,len(a)):\n",
    "        for j in range(i+1,len(a)):\n",
    "            if (a[i][1]>a[j][1]):\n",
    "                val=a[i][1]  # the values cannot be assigned in to the tuple so let us remove the index of tuple\n",
    "                a[i][1]=a[j][1]\n",
    "                a[j][1]=val\n",
    "print(a)\n",
    "        \n",
    "#corrected o/p is bellow\n"
   ]
  },
  {
   "cell_type": "raw",
   "id": "9ac1cf46",
   "metadata": {},
   "source": []
  },
  {
   "cell_type": "markdown",
   "id": "8c66741a",
   "metadata": {},
   "source": [
    "# Answer"
   ]
  },
  {
   "cell_type": "code",
   "execution_count": 25,
   "id": "3893cc8b",
   "metadata": {},
   "outputs": [
    {
     "name": "stdout",
     "output_type": "stream",
     "text": [
      "[(9, 1), (2, 3), (5, 4), (5, 5), (7, 6), (5, 9)]\n"
     ]
    }
   ],
   "source": [
    "a=[(5,4),(9,1),(2,3),(5,9),(7,6),(5,5)]\n",
    "for i in range(0,len(a)):\n",
    "        for j in range(i+1,len(a)):\n",
    "            if (a[i][1]>a[j][1]):\n",
    "                val=a[i]\n",
    "                a[i]=a[j]\n",
    "                a[j]=val\n",
    "print(a)                "
   ]
  },
  {
   "cell_type": "code",
   "execution_count": null,
   "id": "d52fc87e",
   "metadata": {},
   "outputs": [],
   "source": [
    "# Write a Python program to remove fuplicate element from a list using loop.\n",
    "#Input:- [10,1,11,1,29,876,768,10,11,1,92,29,876]\n",
    "#Output:- [10,1,11,29,876,768,92]\n",
    "\n",
    "#just for knowlege\n",
    "\n",
    "# actuall program in in the cell 4\n",
    "\n",
    "a=[10,1,11,1,29,876,768,10,1,11,1,92,29,876,768,768]\n",
    "for i in a:\n",
    "    a.count(i)\n",
    "    if(a.count(i)>1):\n",
    "        c= a.index(i)\n",
    "        b=a.pop(c)  \n",
    "print(a)\n",
    "\n",
    "#because when the value of 10 is poped and the index of 1 is becomming now and \n",
    "#when the value of i changes-- it moves directly to 11\n",
    "\n",
    "#run it in python tutor and c"
   ]
  },
  {
   "cell_type": "code",
   "execution_count": 6,
   "id": "c2dd50be",
   "metadata": {},
   "outputs": [
    {
     "name": "stdout",
     "output_type": "stream",
     "text": [
      "[92]\n"
     ]
    }
   ],
   "source": [
    "#practice\n",
    "a=[10,1,11,1,29,876,768,10,1,11,1,92,29,876,768,768]\n",
    "\n",
    "for i in a:\n",
    "    a.count(i)\n",
    "    if(a.count(i)>1):\n",
    "        c= a.index(i)\n",
    "        b=a.remove(i) \n",
    "print(b)"
   ]
  },
  {
   "cell_type": "code",
   "execution_count": null,
   "id": "95ce7d3e",
   "metadata": {},
   "outputs": [],
   "source": [
    "#pratice by searching different options\n",
    "\n",
    "a=[10,1,11,1,29,876,768,10,1,11,1,92,29,876,768,768]\n",
    "c=[]\n",
    "for i in a:\n",
    "    a.count(i)\n",
    "    if(a.count(i)>1):\n",
    "        c.append(i)\n",
    "print(c)"
   ]
  },
  {
   "cell_type": "code",
   "execution_count": 4,
   "id": "8ef4b96f",
   "metadata": {},
   "outputs": [
    {
     "name": "stdout",
     "output_type": "stream",
     "text": [
      "[10, 1, 11, 29, 876, 768, 92]\n"
     ]
    }
   ],
   "source": [
    "## knowing the concept from googling\n",
    "#simple solution\n",
    "\n",
    "a=[10,1,11,1,29,876,768,10,1,11,1,92,29,876,768,768]\n",
    "c=[]\n",
    "for i in a:\n",
    "    if i not in c:\n",
    "        c.append(i)\n",
    "        \n",
    "print(c)"
   ]
  },
  {
   "cell_type": "code",
   "execution_count": 10,
   "id": "02f5c9e9",
   "metadata": {},
   "outputs": [
    {
     "name": "stdout",
     "output_type": "stream",
     "text": [
      "enter the list[1.2,4,5,6,8]\n",
      "[1.2, 4, 5, 6, 8]\n"
     ]
    }
   ],
   "source": [
    "#Write a Python program to check a list is empty or not?\n",
    "#Input:- []\n",
    "#Output:- List is empty\n",
    "#Input:- [10,20,30]\n",
    "#Output:- List is not empty\n",
    "\n",
    "a=eval(input(\"enter the list\"))\n",
    "if(a==[]):\n",
    "    print(\"The list is empty\")\n",
    "else:\n",
    "    print(\"The list is not empty\")\n"
   ]
  },
  {
   "cell_type": "code",
   "execution_count": 11,
   "id": "a15b30ad",
   "metadata": {},
   "outputs": [
    {
     "name": "stdout",
     "output_type": "stream",
     "text": [
      "enter the list[]\n",
      "The list is empty\n"
     ]
    }
   ],
   "source": [
    "a=eval(input(\"enter the list\"))\n",
    "if(a==[]):\n",
    "    print(\"The list is empty\")\n",
    "else:\n",
    "    print(\"The list is not empty\")\n"
   ]
  },
  {
   "cell_type": "code",
   "execution_count": 12,
   "id": "c0ebd14a",
   "metadata": {},
   "outputs": [
    {
     "name": "stdout",
     "output_type": "stream",
     "text": [
      "enter the list[10,10.20,10+20j, 'Python', [10,20], (10,20)]\n",
      "[10, 10.2, (10+20j), 'Python', [10, 20], (10, 20)]\n"
     ]
    }
   ],
   "source": [
    "#Write a Python program to copy a list using loop.\n",
    "#inp_lst = [10,10.20,10+20j, 'Python', [10,20], (10,20)]\n",
    "#out_lst = [10,10.20,10+20j, 'Python', [10,20], (10,20)]\n",
    "\n",
    "a=eval(input(\"enter the list\"))\n",
    "b=[]\n",
    "for i in a:\n",
    "    b.append(i)\n",
    "print(b)    \n"
   ]
  },
  {
   "cell_type": "code",
   "execution_count": 1,
   "id": "44b99d71",
   "metadata": {},
   "outputs": [
    {
     "name": "stdout",
     "output_type": "stream",
     "text": [
      "['How', 'much', 'wood', 'would', 'a', 'woodchuck', 'chuck', 'if', 'a', 'woodchuck', 'could', 'chuck', 'wood']\n",
      "['much', 'wood', 'would', 'woodchuck', 'chuck', 'could']\n"
     ]
    }
   ],
   "source": [
    "# my own program..\n",
    "\n",
    "\n",
    "#Write a Python program to find the list of words that are longer than or equal to 4 from a given string.\n",
    "#Input:- 'How much wood would a woodchuck chuck if a woodchuck could chuck wood'\n",
    "#Output:- ['much', 'wood', 'would', 'woodchuck', 'chuck', 'could']\n",
    "#Note:- Duplicate should be avoided.\n",
    "\n",
    "\n",
    "a='How much wood would a woodchuck chuck if a woodchuck could chuck wood'\n",
    "b=[]\n",
    "c=[]\n",
    "b=a.split()\n",
    "print(b)\n",
    "for i in b:\n",
    "    if (len(i)>=4) & (i not in c):\n",
    "        c.append(i)\n",
    "print(c)\n"
   ]
  },
  {
   "cell_type": "markdown",
   "id": "f8ff3537",
   "metadata": {},
   "source": [
    "# have dbout in this list comprehension"
   ]
  },
  {
   "cell_type": "code",
   "execution_count": 33,
   "id": "889686d6",
   "metadata": {},
   "outputs": [
    {
     "name": "stdout",
     "output_type": "stream",
     "text": [
      "['How', 'much', 'wood', 'would', 'a', 'woodchuck', 'chuck', 'if', 'a', 'woodchuck', 'could', 'chuck', 'wood']\n",
      "['much', 'wood', 'would', 'woodchuck', 'chuck', 'woodchuck', 'could', 'chuck', 'wood']\n"
     ]
    }
   ],
   "source": [
    "a='How much wood would a woodchuck chuck if a woodchuck could chuck wood'\n",
    "b=[]\n",
    "b=a.split()\n",
    "print(b)\n",
    "c = [i for i in b if ((len(i)>=4) & (i not in c))]\n",
    "print(c)"
   ]
  },
  {
   "cell_type": "code",
   "execution_count": 4,
   "id": "1109721c",
   "metadata": {},
   "outputs": [
    {
     "name": "stdout",
     "output_type": "stream",
     "text": [
      "please enter the list for finding common elements  in list [10,20,'Python', 10.20, 10+20j, [10,20,30], (10,20,30)]\n",
      "please enter the list for finding common elements  in list [10,20,'Python', 10.20, 10+20j, [10,20,30], (10,20,30)]\n",
      "True\n"
     ]
    }
   ],
   "source": [
    "# my own program\n",
    "\n",
    "#Write a Python program which takes two list as input and returns True if they have at least 3 common elements.\n",
    "#inp_lst1 = [10,20,'Python', 10.20, 10+20j, [10,20,30], (10,20,30)]\n",
    "#inp_lst2 = #inp_lst1 = [10,20,'Python', 10.20, 10+20j, [10,20,30], (10,20,30)]\n",
    "\n",
    "#Output:- True\n",
    "\n",
    "a=eval(input(\"please enter the list for finding common elements  in list\" ))\n",
    "b=eval(input(\"please enter the list for finding common elements  in list\" ))\n",
    "c=0\n",
    "for i in range(0,len(a)):\n",
    "    if(a[i] in b):\n",
    "        c=c+1\n",
    "if (c>=3):\n",
    "    print(\"True\")\n",
    "else:\n",
    "    print(\"false\")"
   ]
  },
  {
   "cell_type": "code",
   "execution_count": 1,
   "id": "16538e36",
   "metadata": {},
   "outputs": [
    {
     "name": "stdout",
     "output_type": "stream",
     "text": [
      "please enter the list for finding common elements  in list[1,2,3,4,5]\n",
      "please enter the list for finding common elements  in list[4,5,6,7,8,9]\n",
      "false\n"
     ]
    }
   ],
   "source": [
    "a=eval(input(\"please enter the list for finding common elements  in list\" ))\n",
    "b=eval(input(\"please enter the list for finding common elements  in list\" ))\n",
    "c=0\n",
    "for i in range(0,len(a)):\n",
    "    if(a[i] in b):\n",
    "        c=c+1\n",
    "if (c>=3):\n",
    "    print(\"True\")\n",
    "else:\n",
    "    print(\"false\")"
   ]
  },
  {
   "cell_type": "code",
   "execution_count": 7,
   "id": "2777d337",
   "metadata": {},
   "outputs": [
    {
     "name": "stdout",
     "output_type": "stream",
     "text": [
      "please enter the list for 4X4 2D matrix[0,0,0,0]\n",
      "please enter the list for 4X4 2D matrix[0,1,2,3]\n",
      "please enter the list for 4X4 2D matrix[0,2,3,4]\n",
      "please enter the list for 4X4 2D matrix[0,3,6,9]\n",
      "[[0, 0, 0, 0], [0, 1, 2, 3], [0, 2, 3, 4], [0, 3, 6, 9]]\n"
     ]
    }
   ],
   "source": [
    "#just getting input from user\n",
    "# pls check the bellow cell for answer\n",
    "\n",
    "#Write a Python program to create a 4X4 2D matrix with below elements using loop and list comprehension both.\n",
    "#Output:- [[0,0,0,0],[0,1,2,3],[0,2,4,6],[0,3,6,9]]\n",
    "\n",
    "#just by getting list input from user\n",
    "\n",
    "a=[]\n",
    "b=[]\n",
    "for i in range(0 , 4):\n",
    "    a=eval(input(\"please enter the list for 4X4 2D matrix\" ))\n",
    "    b.append(a)\n",
    "print(b)"
   ]
  },
  {
   "cell_type": "code",
   "execution_count": 2,
   "id": "aaf900d1",
   "metadata": {},
   "outputs": [
    {
     "name": "stdout",
     "output_type": "stream",
     "text": [
      "pls enter the number of row in an array4\n",
      "pls enter the number of column in an array4\n",
      "[[0, 0, 0, 0], [0, 1, 2, 3], [0, 2, 4, 6], [0, 3, 6, 9]]\n"
     ]
    }
   ],
   "source": [
    "# this is 4x4 2D array\n",
    "\n",
    "# initially pass empty list for making rows, \n",
    "#then to fill the numbers in column specify the index to append and then pass the values of an array\n",
    "\n",
    "\n",
    "array=[]\n",
    "row=int(input(\"pls enter the number of row in an array\"))\n",
    "column=int(input(\"pls enter the number of column in an array\"))\n",
    "for i in range(row):\n",
    "    array.append([])\n",
    "    for j in range(column):\n",
    "        array[i].append(i*j)\n",
    "print(array)"
   ]
  },
  {
   "cell_type": "code",
   "execution_count": 32,
   "id": "fabe01dc",
   "metadata": {},
   "outputs": [
    {
     "name": "stdout",
     "output_type": "stream",
     "text": [
      "pls enter the number of row in an array3\n",
      "pls enter the number of column in an array4\n",
      "pls enter the numberof elements in an array6\n",
      "The 3D array is: [[[0, 0, 0, 0, 0, 0], [0, 0, 0, 0, 0, 0], [0, 0, 0, 0, 0, 0], [0, 0, 0, 0, 0, 0]], [[0, 0, 0, 0, 0, 0], [1, 1, 1, 1, 1, 1], [2, 2, 2, 2, 2, 2], [3, 3, 3, 3, 3, 3]], [[0, 0, 0, 0, 0, 0], [2, 2, 2, 2, 2, 2], [4, 4, 4, 4, 4, 4], [6, 6, 6, 6, 6, 6]]]\n"
     ]
    }
   ],
   "source": [
    "# this is 3x4x6 3D array\n",
    "\n",
    "# initially pass empty list for making rows, then pass empty list to the index of i in each row make no of columns\n",
    "#then to fill the elements in array specifing the index of (i and sub index j )to append values to an array\n",
    "\n",
    "\n",
    "\n",
    "\n",
    "#Write a Python program to create a 3X4X6 3D matrix wiith below elements using loop\n",
    "#Output:- \n",
    "# [\n",
    "#     [[0,0,0,0,0,0],[0,0,0,0,0,0],[0,0,0,0,0,0],[0,0,0,0,0,0]],\n",
    "#     [[0,0,0,0,0,0],[1,1,1,1,1,1],[2,2,2,2,2,2],[3,3,3,3,3,3]],\n",
    "#     [[0,0,0,0,0,0],[2,2,2,2,2,2],[4,4,4,4,4,4],[6,6,6,6,6,6]]\n",
    "# ]\n",
    "\n",
    "\n",
    "array=[]\n",
    "\n",
    "row=int(input(\"pls enter the number of row in an array\"))\n",
    "\n",
    "column=int(input(\"pls enter the number of column in an array\"))\n",
    "\n",
    "element=int(input(\"pls enter the numberof elements in an array\"))\n",
    "\n",
    "\n",
    "#why are we giving range bcz row is not in sequence like list or string here row is a integer i cant make a loop\n",
    "\n",
    "for i in range(row):#passing empty list to make no of rows\n",
    "    array.append([])\n",
    "    \n",
    "    for j in range(column):# passing empty list in the i index to make columns\n",
    "        array[i].append([])\n",
    "        \n",
    "        for k in range(element):# passing values in the specified index[i][j] for proper array\n",
    "            array[i][j].append(i*j)\n",
    "    \n",
    "print(\"The 3D array is:\",array)"
   ]
  },
  {
   "cell_type": "code",
   "execution_count": 36,
   "id": "9c86bb64",
   "metadata": {},
   "outputs": [
    {
     "name": "stdout",
     "output_type": "stream",
     "text": [
      "pls enter the number of row in an array3\n",
      "pls enter the number of column in an array4\n",
      "pls enter the numberof elements in an array6\n",
      "The 3D array is: [[[0, 0, 0], [0, 1, 2], [0, 2, 4], [0, 3, 6]], [[0, 0, 0], [0, 1, 2], [0, 2, 4], [0, 3, 6]], [[0, 0, 0], [0, 1, 2], [0, 2, 4], [0, 3, 6]], [[0, 0, 0], [0, 1, 2], [0, 2, 4], [0, 3, 6]], [[0, 0, 0], [0, 1, 2], [0, 2, 4], [0, 3, 6]], [[0, 0, 0], [0, 1, 2], [0, 2, 4], [0, 3, 6]]]\n"
     ]
    }
   ],
   "source": [
    "#list comprehension (but this methon makes a wrong array bcz)\n",
    "\n",
    "# i have given forloop for row firat the follewed by remaining\n",
    "# but actually the row should be the outer loop so should be writen at last\n",
    "#and element loop should be the inner one so it should come at first\n",
    "\n",
    "array=[]\n",
    "\n",
    "row=int(input(\"pls enter the number of row in an array\"))\n",
    "\n",
    "column=int(input(\"pls enter the number of column in an array\"))\n",
    "\n",
    "element=int(input(\"pls enter the numberof elements in an array\"))\n",
    "\n",
    "array=[[[(i*j) for i in range(row)] for j in range(column)] for k in range(element)]\n",
    "    \n",
    "print(\"The 3D array is:\",array)"
   ]
  },
  {
   "cell_type": "code",
   "execution_count": 37,
   "id": "d785a3ff",
   "metadata": {},
   "outputs": [
    {
     "name": "stdout",
     "output_type": "stream",
     "text": [
      "pls enter the number of row in an array3\n",
      "pls enter the number of column in an array4\n",
      "pls enter the numberof elements in an array6\n",
      "The 3D array is: [[[0, 0, 0, 0, 0, 0], [0, 0, 0, 0, 0, 0], [0, 0, 0, 0, 0, 0], [0, 0, 0, 0, 0, 0]], [[0, 0, 0, 0, 0, 0], [1, 1, 1, 1, 1, 1], [2, 2, 2, 2, 2, 2], [3, 3, 3, 3, 3, 3]], [[0, 0, 0, 0, 0, 0], [2, 2, 2, 2, 2, 2], [4, 4, 4, 4, 4, 4], [6, 6, 6, 6, 6, 6]]]\n"
     ]
    }
   ],
   "source": [
    "#list comprehension of a 3x4x6 3D Array\n",
    "\n",
    "\n",
    "array=[]\n",
    "\n",
    "row=int(input(\"pls enter the number of row in an array\"))\n",
    "\n",
    "column=int(input(\"pls enter the number of column in an array\"))\n",
    "\n",
    "element=int(input(\"pls enter the numberof elements in an array\"))\n",
    "\n",
    "array=[[[(i*j) for k in range(element)] for j in range(column)] for i in range(row)]\n",
    "    \n",
    "print(\"The 3D array is:\",array)"
   ]
  },
  {
   "cell_type": "code",
   "execution_count": 5,
   "id": "5f43a4de",
   "metadata": {},
   "outputs": [
    {
     "name": "stdout",
     "output_type": "stream",
     "text": [
      "please enter the int number list for finding odd numbers in list[10,21,22,98,87,45,33,1,2,100]\n",
      "[21, 87, 45, 33, 1]\n"
     ]
    }
   ],
   "source": [
    "#Write a Python program which takes a list of numbers as input and prints a new list after removing even numbers from it.\n",
    "#Input:- [10,21,22,98,87,45,33,1,2,100]\n",
    "#Output:- [21,87,45,33,1]\n",
    "\n",
    "a=eval(input(\"please enter the int number list for finding odd numbers in list\" ))\n",
    "b=[]\n",
    "for i in a:\n",
    "    if(i%2 != 0):\n",
    "        b.append(i)\n",
    "print(b)        \n"
   ]
  },
  {
   "cell_type": "code",
   "execution_count": 11,
   "id": "d07250dc",
   "metadata": {},
   "outputs": [
    {
     "name": "stdout",
     "output_type": "stream",
     "text": [
      "the list before suffling: [10, 21, 22, 98, 87, 45, 33, 1, 2, 100]\n",
      "the list after suffling : [87, 21, 1, 45, 33, 10, 98, 100, 2, 22]\n"
     ]
    }
   ],
   "source": [
    "#by importing random module  and suffle method \n",
    "\n",
    "#Write a Python program which takes a list from the user and prints it after reshuffling the elements of the list.\n",
    "#Input:- [10,21,22,98,87,45,33,1,2,100]\n",
    "#Output:- [1,87,21,10,33,2,100,45,98,22] (It may be any randon list but with same elements)\n",
    "\n",
    "import random\n",
    "\n",
    "a= [10,21,22,98,87,45,33,1,2,100]\n",
    "print(\"the list before suffling:\",a)\n",
    "random.shuffle(a)\n",
    "print(\"the list after suffling :\",a)\n",
    "\n",
    "\n"
   ]
  },
  {
   "cell_type": "code",
   "execution_count": null,
   "id": "40de55c5",
   "metadata": {},
   "outputs": [],
   "source": []
  },
  {
   "cell_type": "code",
   "execution_count": null,
   "id": "e7919096",
   "metadata": {},
   "outputs": [],
   "source": []
  }
 ],
 "metadata": {
  "kernelspec": {
   "display_name": "Python 3",
   "language": "python",
   "name": "python3"
  },
  "language_info": {
   "codemirror_mode": {
    "name": "ipython",
    "version": 3
   },
   "file_extension": ".py",
   "mimetype": "text/x-python",
   "name": "python",
   "nbconvert_exporter": "python",
   "pygments_lexer": "ipython3",
   "version": "3.8.8"
  }
 },
 "nbformat": 4,
 "nbformat_minor": 5
}
