{
 "cells": [
  {
   "cell_type": "code",
   "execution_count": null,
   "metadata": {},
   "outputs": [],
   "source": [
    "wed - github end , different ways to execute python file , Python programming component\n",
    "\n",
    "\n",
    "thrusday - datatypes , int\n",
    "\n",
    "\n",
    "friday - float , complex , None , Boolean , intro of string"
   ]
  },
  {
   "cell_type": "markdown",
   "metadata": {},
   "source": [
    "# Different ways to execute the python file"
   ]
  },
  {
   "cell_type": "code",
   "execution_count": null,
   "metadata": {},
   "outputs": [],
   "source": [
    "extension of a python file .py\n",
    "extension of jupyter notebook .ipynb"
   ]
  },
  {
   "cell_type": "code",
   "execution_count": null,
   "metadata": {},
   "outputs": [],
   "source": [
    "1. jupyter notebbok\n",
    "2. python interpretor\n",
    "3.  python file and run through anaconda prompt"
   ]
  },
  {
   "cell_type": "code",
   "execution_count": 1,
   "metadata": {},
   "outputs": [
    {
     "name": "stdout",
     "output_type": "stream",
     "text": [
      "hello world\n"
     ]
    }
   ],
   "source": [
    "print('hello world')"
   ]
  },
  {
   "cell_type": "code",
   "execution_count": null,
   "metadata": {},
   "outputs": [],
   "source": [
    "# Python Programming components\n",
    "\n",
    "- literals\n",
    "- Constants\n",
    "- Varibale\n",
    "- identifiers\n",
    "- Reserevd Words\n",
    "- Statment and Eexpression\n",
    "- block and indentation\n",
    "- comments"
   ]
  },
  {
   "cell_type": "code",
   "execution_count": null,
   "metadata": {},
   "outputs": [],
   "source": [
    "# Literals\n",
    "\n",
    "- any value that you se in programming is called as literals\n",
    "\n",
    "- different types o lietrals\n",
    "\n",
    "1. int - any value without a decimal point eg -100 , 99 , 990 , 11 ,2\n",
    "2. float - any value with decimal point eg 100.0 , -100.999 , 11.02\n",
    "3. Complex - any value that can be wriiten in form a + bj where a is real and b is img\n",
    "4. None \n",
    "5. Boolean - True/False\n",
    "6. String - anything inside '...' , \"...\" , '''....''' , \"\"\"...\"\"\""
   ]
  },
  {
   "cell_type": "code",
   "execution_count": null,
   "metadata": {},
   "outputs": [],
   "source": [
    "a = 10 # int\n",
    "b = -20 # int\n",
    "c = None # None\n",
    "d = 100.0 # Float\n",
    "e = '100.0'\n",
    "f = 'True'\n",
    "g = True"
   ]
  },
  {
   "cell_type": "code",
   "execution_count": null,
   "metadata": {},
   "outputs": [],
   "source": [
    "# Constant, Varibale, identifiers\n",
    "\n",
    "constants and varibale are subset of identifers\n",
    "\n",
    "Indetifer - any name used in python program like varibale name , fucntion name , class name , constant name\n",
    "\n",
    "Rules\n",
    "\n",
    "1. Allowed charcters A-Z , a-z , 0-9 , _\n",
    "2. not allowed - specail charac are not allowed\n",
    "3. should not start with number\n",
    "4. are case sensitive\n",
    "5. all constant shoud be in capital letters\n",
    "6. Reserved(keywords) words should not be used"
   ]
  },
  {
   "cell_type": "markdown",
   "metadata": {},
   "source": [
    "1 . Allowed charcters A-Z , a-z , 0-9 , _\n",
    "\n",
    "a = 10 # valid\n",
    "a_123 # valid\n",
    "_123 # valid\n",
    "__1__ #valid\n",
    "A_abc # valid\n",
    "@abc123 # not valid ---> no special characters are alloweed"
   ]
  },
  {
   "cell_type": "code",
   "execution_count": null,
   "metadata": {},
   "outputs": [],
   "source": [
    "a ---> varibale\n",
    "\n",
    "= --->op\n",
    "\n",
    "10 ---> int literal /value"
   ]
  },
  {
   "cell_type": "code",
   "execution_count": 5,
   "metadata": {},
   "outputs": [
    {
     "ename": "SyntaxError",
     "evalue": "invalid syntax (<ipython-input-5-0adebbfa5191>, line 5)",
     "output_type": "error",
     "traceback": [
      "\u001b[0;36m  File \u001b[0;32m\"<ipython-input-5-0adebbfa5191>\"\u001b[0;36m, line \u001b[0;32m5\u001b[0m\n\u001b[0;31m    11abc = 30\u001b[0m\n\u001b[0m      ^\u001b[0m\n\u001b[0;31mSyntaxError\u001b[0m\u001b[0;31m:\u001b[0m invalid syntax\n"
     ]
    }
   ],
   "source": [
    "# 3. should not start with number\n",
    "\n",
    "abc = 10\n",
    "abc11 = 20\n",
    "11abc = 30"
   ]
  },
  {
   "cell_type": "code",
   "execution_count": null,
   "metadata": {},
   "outputs": [],
   "source": [
    "python  = 10\n",
    "Python  = 10"
   ]
  },
  {
   "cell_type": "code",
   "execution_count": 7,
   "metadata": {},
   "outputs": [
    {
     "name": "stdout",
     "output_type": "stream",
     "text": [
      "20\n"
     ]
    }
   ],
   "source": [
    "a = 10\n",
    "A = 20\n",
    "\n",
    "print(A)"
   ]
  },
  {
   "cell_type": "code",
   "execution_count": 10,
   "metadata": {},
   "outputs": [
    {
     "ename": "SyntaxError",
     "evalue": "invalid syntax (<ipython-input-10-609da7056891>, line 2)",
     "output_type": "error",
     "traceback": [
      "\u001b[0;36m  File \u001b[0;32m\"<ipython-input-10-609da7056891>\"\u001b[0;36m, line \u001b[0;32m2\u001b[0m\n\u001b[0;31m    if = 10\u001b[0m\n\u001b[0m       ^\u001b[0m\n\u001b[0;31mSyntaxError\u001b[0m\u001b[0;31m:\u001b[0m invalid syntax\n"
     ]
    }
   ],
   "source": [
    "# 6. Reserved(keywords) words should not be used\n",
    "\n",
    "if = 10"
   ]
  },
  {
   "cell_type": "code",
   "execution_count": 11,
   "metadata": {},
   "outputs": [
    {
     "name": "stdout",
     "output_type": "stream",
     "text": [
      "['False', 'None', 'True', 'and', 'as', 'assert', 'async', 'await', 'break', 'class', 'continue', 'def', 'del', 'elif', 'else', 'except', 'finally', 'for', 'from', 'global', 'if', 'import', 'in', 'is', 'lambda', 'nonlocal', 'not', 'or', 'pass', 'raise', 'return', 'try', 'while', 'with', 'yield']\n"
     ]
    }
   ],
   "source": [
    "import keyword\n",
    "print(keyword.kwlist)"
   ]
  },
  {
   "cell_type": "markdown",
   "metadata": {},
   "source": [
    " abc  # valid\n",
    " _abc # Valid\n",
    " +bcd # invalid\n",
    " If # valid\n",
    " True # invalid\n",
    " if # invalid\n",
    " False # invalid\n",
    " 12abc # invalid\n",
    " 123@abc # invalid\n",
    " abc@123 #invalid\n",
    " yielD # valid\n",
    " paSS # valid\n",
    " pass # invalid\n",
    " Else # valid"
   ]
  },
  {
   "cell_type": "code",
   "execution_count": null,
   "metadata": {},
   "outputs": [],
   "source": [
    "# Statment and Expression\n",
    "\n",
    "Expression - conimation of varibale and lietrals to give out some value , alwasy give an output on the screen\n",
    "\n",
    "statment - dosnot give the output on the screen"
   ]
  },
  {
   "cell_type": "code",
   "execution_count": 12,
   "metadata": {},
   "outputs": [
    {
     "data": {
      "text/plain": [
       "30"
      ]
     },
     "execution_count": 12,
     "metadata": {},
     "output_type": "execute_result"
    }
   ],
   "source": [
    "10+20 # expression"
   ]
  },
  {
   "cell_type": "code",
   "execution_count": 13,
   "metadata": {},
   "outputs": [
    {
     "data": {
      "text/plain": [
       "'dataSceince'"
      ]
     },
     "execution_count": 13,
     "metadata": {},
     "output_type": "execute_result"
    }
   ],
   "source": [
    "'data' + 'Sceince'"
   ]
  },
  {
   "cell_type": "code",
   "execution_count": 14,
   "metadata": {},
   "outputs": [
    {
     "data": {
      "text/plain": [
       "10"
      ]
     },
     "execution_count": 14,
     "metadata": {},
     "output_type": "execute_result"
    }
   ],
   "source": [
    "10  # the smallest exp that we have is literals"
   ]
  },
  {
   "cell_type": "code",
   "execution_count": 15,
   "metadata": {},
   "outputs": [],
   "source": [
    "# statments\n",
    "\n",
    "a = 10 "
   ]
  },
  {
   "cell_type": "code",
   "execution_count": 16,
   "metadata": {},
   "outputs": [],
   "source": [
    "for i in range(5):\n",
    "    pass"
   ]
  },
  {
   "cell_type": "code",
   "execution_count": null,
   "metadata": {},
   "outputs": [],
   "source": []
  }
 ],
 "metadata": {
  "kernelspec": {
   "display_name": "Python 3",
   "language": "python",
   "name": "python3"
  },
  "language_info": {
   "codemirror_mode": {
    "name": "ipython",
    "version": 3
   },
   "file_extension": ".py",
   "mimetype": "text/x-python",
   "name": "python",
   "nbconvert_exporter": "python",
   "pygments_lexer": "ipython3",
   "version": "3.8.5"
  }
 },
 "nbformat": 4,
 "nbformat_minor": 4
}
