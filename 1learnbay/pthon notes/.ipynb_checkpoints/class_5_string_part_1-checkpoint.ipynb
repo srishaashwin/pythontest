{
 "cells": [
  {
   "cell_type": "code",
   "execution_count": 1,
   "metadata": {},
   "outputs": [],
   "source": [
    "# aything that can be inside a '..' , \"..\" , '''...''' , \"\"\"..\"\"\""
   ]
  },
  {
   "cell_type": "code",
   "execution_count": 5,
   "metadata": {},
   "outputs": [
    {
     "name": "stdout",
     "output_type": "stream",
     "text": [
      "11 <class 'str'>\n"
     ]
    }
   ],
   "source": [
    "a = \"11\"\n",
    "print(a , type(a))"
   ]
  },
  {
   "cell_type": "code",
   "execution_count": 6,
   "metadata": {},
   "outputs": [
    {
     "name": "stdout",
     "output_type": "stream",
     "text": [
      "python\n",
      "python\n",
      "python\n"
     ]
    }
   ],
   "source": [
    "a = 'python'\n",
    "b = \"python\"\n",
    "c = '''python'''\n",
    "\n",
    "print(a)\n",
    "print(b)\n",
    "print(c)"
   ]
  },
  {
   "cell_type": "code",
   "execution_count": 7,
   "metadata": {},
   "outputs": [
    {
     "ename": "SyntaxError",
     "evalue": "invalid syntax (<ipython-input-7-6b771668283d>, line 1)",
     "output_type": "error",
     "traceback": [
      "\u001b[0;36m  File \u001b[0;32m\"<ipython-input-7-6b771668283d>\"\u001b[0;36m, line \u001b[0;32m1\u001b[0m\n\u001b[0;31m    a = 'this is a python's class'\u001b[0m\n\u001b[0m                          ^\u001b[0m\n\u001b[0;31mSyntaxError\u001b[0m\u001b[0;31m:\u001b[0m invalid syntax\n"
     ]
    }
   ],
   "source": [
    "a = 'this is a python's class'"
   ]
  },
  {
   "cell_type": "code",
   "execution_count": 8,
   "metadata": {},
   "outputs": [
    {
     "name": "stdout",
     "output_type": "stream",
     "text": [
      "this is a python's class\n"
     ]
    }
   ],
   "source": [
    "a = \"this is a python's class\"\n",
    "print(a)"
   ]
  },
  {
   "cell_type": "code",
   "execution_count": 14,
   "metadata": {},
   "outputs": [
    {
     "name": "stdout",
     "output_type": "stream",
     "text": [
      "this is '''learnbay'''\n",
      "python classs\n"
     ]
    }
   ],
   "source": [
    "a = \"\"\"this is '''learnbay'''\n",
    "python classs\"\"\"\n",
    "print(a)"
   ]
  },
  {
   "cell_type": "code",
   "execution_count": 15,
   "metadata": {},
   "outputs": [
    {
     "ename": "SyntaxError",
     "evalue": "invalid syntax (<ipython-input-15-e2a992d16908>, line 3)",
     "output_type": "error",
     "traceback": [
      "\u001b[0;36m  File \u001b[0;32m\"<ipython-input-15-e2a992d16908>\"\u001b[0;36m, line \u001b[0;32m3\u001b[0m\n\u001b[0;31m    - String is a seq data type - it allows +ve and -ve indexing\u001b[0m\n\u001b[0m                  ^\u001b[0m\n\u001b[0;31mSyntaxError\u001b[0m\u001b[0;31m:\u001b[0m invalid syntax\n"
     ]
    }
   ],
   "source": [
    "# String properties\n",
    "\n",
    "- String is a seq data type - it allows +ve and -ve indexing"
   ]
  },
  {
   "cell_type": "code",
   "execution_count": 16,
   "metadata": {},
   "outputs": [
    {
     "name": "stdout",
     "output_type": "stream",
     "text": [
      "140658355834608\n"
     ]
    }
   ],
   "source": [
    "a = 'python'\n",
    "\n",
    "print(id(a))"
   ]
  },
  {
   "cell_type": "code",
   "execution_count": 18,
   "metadata": {},
   "outputs": [
    {
     "name": "stdout",
     "output_type": "stream",
     "text": [
      "o\n",
      "o\n"
     ]
    }
   ],
   "source": [
    "# +ve\n",
    "print(a[4])\n",
    "\n",
    "# -ve\n",
    "print(a[-2])"
   ]
  },
  {
   "cell_type": "code",
   "execution_count": 19,
   "metadata": {},
   "outputs": [
    {
     "name": "stdout",
     "output_type": "stream",
     "text": [
      "140658361783920\n"
     ]
    }
   ],
   "source": [
    "print(id(a[4]))"
   ]
  },
  {
   "cell_type": "code",
   "execution_count": 21,
   "metadata": {},
   "outputs": [],
   "source": [
    "a = 'python'\n",
    "b = 'cython'"
   ]
  },
  {
   "cell_type": "code",
   "execution_count": 22,
   "metadata": {},
   "outputs": [
    {
     "name": "stdout",
     "output_type": "stream",
     "text": [
      "140658355834608\n",
      "140658349881328\n"
     ]
    }
   ],
   "source": [
    "print(id(a))\n",
    "print(id(b))"
   ]
  },
  {
   "cell_type": "code",
   "execution_count": 23,
   "metadata": {},
   "outputs": [
    {
     "name": "stdout",
     "output_type": "stream",
     "text": [
      "t\n",
      "t\n"
     ]
    }
   ],
   "source": [
    "# extract t from python\n",
    "print(a[2])\n",
    "\n",
    "# extract t from cython\n",
    "print(b[2])"
   ]
  },
  {
   "cell_type": "code",
   "execution_count": 24,
   "metadata": {},
   "outputs": [
    {
     "name": "stdout",
     "output_type": "stream",
     "text": [
      "140658361773808 140658361773808\n"
     ]
    }
   ],
   "source": [
    "print(id(a[2]) , id(b[2]))"
   ]
  },
  {
   "cell_type": "code",
   "execution_count": 25,
   "metadata": {},
   "outputs": [
    {
     "name": "stdout",
     "output_type": "stream",
     "text": [
      "140658361085488 140658361783856\n"
     ]
    }
   ],
   "source": [
    "print(id(a[0]) , id(b[0]))"
   ]
  },
  {
   "cell_type": "code",
   "execution_count": 28,
   "metadata": {},
   "outputs": [
    {
     "name": "stdout",
     "output_type": "stream",
     "text": [
      "140658174696624\n",
      "140658174695472\n"
     ]
    }
   ],
   "source": [
    "# indexing - extarcting single value at a time\n",
    "\n",
    "a = 'afsaankhan$'\n",
    "b = 'afsaankhan$'\n",
    "\n",
    "print(id(a))\n",
    "print(id(b))"
   ]
  },
  {
   "cell_type": "code",
   "execution_count": 30,
   "metadata": {},
   "outputs": [
    {
     "name": "stdout",
     "output_type": "stream",
     "text": [
      "lionel\n",
      "lionel\n"
     ]
    }
   ],
   "source": [
    "a = 'lionel messi'\n",
    "\n",
    "#+ve\n",
    "print(a[0:6])\n",
    "\n",
    "#-ve\n",
    "print(a[-12:-6])"
   ]
  },
  {
   "cell_type": "code",
   "execution_count": null,
   "metadata": {},
   "outputs": [],
   "source": [
    "# slicing\n",
    "\n",
    "syntax = var[start_index : stop_index : step]\n",
    "\n",
    "start_index ---> inclusive\n",
    "stop_index ---> exclusive\n",
    "\n",
    "Default values\n",
    "\n",
    "a[:]\n",
    "\n",
    "start_index = 0\n",
    "stop_index = len(str) --> end of the string\n",
    "step = 1\n",
    "\n",
    "a[::1]\n",
    "\n",
    "start_index = 0\n",
    "stop_index = len(str)\n",
    "step = 1\n",
    "\n",
    "a[::-1]\n",
    "\n",
    "start_index = -1\n",
    "stop_index = -len(str)-1 --> end of the stirng\n",
    "step = -1\n",
    "\n",
    "Step\n",
    "\n",
    "- when step is +ve ----->slicing will be done from left to right\n",
    "- when step is -ve ----->slicing will be done from right to left\n",
    "\n",
    "\n",
    "so step can be\n",
    "\n",
    "+1 - every char from left to right\n",
    "or\n",
    "-1 - every char from right to left\n",
    "\n",
    "\n",
    "+2 - every 2nd char from left to right\n",
    "or\n",
    "-2 - every 2nd char from right to left\n",
    "\n",
    "+n - every nnd char from left to right\n",
    "or\n",
    "-n - every nnd char from right to left"
   ]
  },
  {
   "cell_type": "code",
   "execution_count": 31,
   "metadata": {},
   "outputs": [
    {
     "name": "stdout",
     "output_type": "stream",
     "text": [
      "lionel messi\n"
     ]
    }
   ],
   "source": [
    "a = 'lionel messi'\n",
    "print(a[:]) #----> a[0:11:1]"
   ]
  },
  {
   "cell_type": "code",
   "execution_count": 32,
   "metadata": {},
   "outputs": [
    {
     "name": "stdout",
     "output_type": "stream",
     "text": [
      "lionel messi\n"
     ]
    }
   ],
   "source": [
    "a = 'lionel messi'\n",
    "print(a[::1]) #----> a[0:11:1]"
   ]
  },
  {
   "cell_type": "code",
   "execution_count": null,
   "metadata": {},
   "outputs": [],
   "source": [
    "\n",
    "# -6 -5 -4 -3 -2 -1  <--------- (-ve)   \n",
    "#  P  y  t  h  o  n \n",
    "#  0  1  2  3  4  5   ------>   (+ve)"
   ]
  },
  {
   "cell_type": "code",
   "execution_count": null,
   "metadata": {},
   "outputs": [],
   "source": [
    "a[-1:-7:-1] --> -(len(a))-1"
   ]
  },
  {
   "cell_type": "code",
   "execution_count": null,
   "metadata": {},
   "outputs": [],
   "source": [
    "a = 'python'"
   ]
  },
  {
   "cell_type": "code",
   "execution_count": 33,
   "metadata": {},
   "outputs": [
    {
     "data": {
      "text/plain": [
       "'issem lenoil'"
      ]
     },
     "execution_count": 33,
     "metadata": {},
     "output_type": "execute_result"
    }
   ],
   "source": [
    "a= 'pyhton'"
   ]
  },
  {
   "cell_type": "code",
   "execution_count": 45,
   "metadata": {},
   "outputs": [
    {
     "name": "stdout",
     "output_type": "stream",
     "text": [
      "science\n",
      "science\n",
      "science\n",
      "science\n",
      "dt\n",
      "dt\n",
      "dt\n",
      "ecneics\n",
      "ecneics\n",
      "ecneics\n"
     ]
    }
   ],
   "source": [
    "a = 'data sciences'\n",
    "\n",
    "# extract scinece from varibale a\n",
    "print(a[5:])\n",
    "print(a[5:len(a)])\n",
    "print(a[5:12])\n",
    "print(a[-7:])\n",
    "\n",
    "\n",
    "# extract every 2nd char of 'data'\n",
    "\n",
    "print(a[:4:2])\n",
    "print(a[0:4:2])\n",
    "print(a[-len(a):-8:2])\n",
    "\n",
    "\n",
    "# reverse science\n",
    "print(a[:-8:-1])\n",
    "print(a[-1:-8:-1])\n",
    "print(a[12:4:-1])"
   ]
  },
  {
   "cell_type": "code",
   "execution_count": 46,
   "metadata": {},
   "outputs": [
    {
     "data": {
      "text/plain": [
       "12"
      ]
     },
     "execution_count": 46,
     "metadata": {},
     "output_type": "execute_result"
    }
   ],
   "source": [
    "len(a)"
   ]
  },
  {
   "cell_type": "code",
   "execution_count": 44,
   "metadata": {},
   "outputs": [
    {
     "data": {
      "text/plain": [
       "3"
      ]
     },
     "execution_count": 44,
     "metadata": {},
     "output_type": "execute_result"
    }
   ],
   "source": [
    "a = 'abc'\n",
    "\n",
    "len(a)"
   ]
  },
  {
   "cell_type": "code",
   "execution_count": 47,
   "metadata": {},
   "outputs": [
    {
     "data": {
      "text/plain": [
       "'/home/hulk/courses/ongoing_class/oct_batches/30_sept_python_batch/python_class'"
      ]
     },
     "execution_count": 47,
     "metadata": {},
     "output_type": "execute_result"
    }
   ],
   "source": [
    "pwd"
   ]
  },
  {
   "cell_type": "code",
   "execution_count": null,
   "metadata": {},
   "outputs": [],
   "source": [
    "# palindrome\n",
    "\n",
    "a = 'abc'\n",
    "b = 'cab'"
   ]
  }
 ],
 "metadata": {
  "kernelspec": {
   "display_name": "Python 3",
   "language": "python",
   "name": "python3"
  },
  "language_info": {
   "codemirror_mode": {
    "name": "ipython",
    "version": 3
   },
   "file_extension": ".py",
   "mimetype": "text/x-python",
   "name": "python",
   "nbconvert_exporter": "python",
   "pygments_lexer": "ipython3",
   "version": "3.8.5"
  }
 },
 "nbformat": 4,
 "nbformat_minor": 4
}
