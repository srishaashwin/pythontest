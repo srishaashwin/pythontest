{
 "cells": [
  {
   "cell_type": "markdown",
   "metadata": {},
   "source": [
    "# Properties of String\n",
    "\n",
    "- string is a seq data type - it allows +ve and -ve indexing\n",
    "- +ve indexing start from l to R with 0\n",
    "- ive indexing start from r to l from -1\n",
    "- indexing(accesing only 1 char) , slicing(exceeping multiple char) , concatination , repetion , indentity , Membership\n",
    "- string is immutable - you cannot chnage the object "
   ]
  },
  {
   "cell_type": "code",
   "execution_count": 7,
   "metadata": {},
   "outputs": [
    {
     "name": "stdout",
     "output_type": "stream",
     "text": [
      "a\n",
      "y\n",
      " \n"
     ]
    }
   ],
   "source": [
    "# indexing\n",
    "\n",
    "a = 'learn bay'\n",
    "\n",
    "print(a[2])\n",
    "print(a[-1])\n",
    "print(a[5])"
   ]
  },
  {
   "cell_type": "code",
   "execution_count": 11,
   "metadata": {},
   "outputs": [
    {
     "name": "stdout",
     "output_type": "stream",
     "text": [
      "learn\n",
      "bay\n"
     ]
    }
   ],
   "source": [
    "# slicing\n",
    "\n",
    "a = 'learnbay'\n",
    "\n",
    "print(a[:5])\n",
    "print(a[5:])"
   ]
  },
  {
   "cell_type": "code",
   "execution_count": null,
   "metadata": {
    "collapsed": true
   },
   "outputs": [],
   "source": [
    "# concatination\n",
    "\n",
    "op - +\n",
    "operands - both should be string data type"
   ]
  },
  {
   "cell_type": "code",
   "execution_count": 20,
   "metadata": {},
   "outputs": [
    {
     "ename": "TypeError",
     "evalue": "can only concatenate str (not \"int\") to str",
     "output_type": "error",
     "traceback": [
      "\u001b[0;31m---------------------------------------------------------------------------\u001b[0m",
      "\u001b[0;31mTypeError\u001b[0m                                 Traceback (most recent call last)",
      "\u001b[0;32m<ipython-input-20-433a6bde4031>\u001b[0m in \u001b[0;36m<module>\u001b[0;34m\u001b[0m\n\u001b[1;32m      3\u001b[0m \u001b[0mc\u001b[0m \u001b[0;34m=\u001b[0m \u001b[0;36m1\u001b[0m\u001b[0;34m\u001b[0m\u001b[0;34m\u001b[0m\u001b[0m\n\u001b[1;32m      4\u001b[0m \u001b[0;34m\u001b[0m\u001b[0m\n\u001b[0;32m----> 5\u001b[0;31m \u001b[0mprint\u001b[0m\u001b[0;34m(\u001b[0m\u001b[0;34m'2'\u001b[0m\u001b[0;34m+\u001b[0m\u001b[0;36m3\u001b[0m\u001b[0;34m)\u001b[0m\u001b[0;34m\u001b[0m\u001b[0;34m\u001b[0m\u001b[0m\n\u001b[0m",
      "\u001b[0;31mTypeError\u001b[0m: can only concatenate str (not \"int\") to str"
     ]
    }
   ],
   "source": [
    "a = 'learn'\n",
    "b = 'bay'\n",
    "c = 1\n",
    "\n",
    "print('2'+3)"
   ]
  },
  {
   "cell_type": "code",
   "execution_count": 14,
   "metadata": {},
   "outputs": [
    {
     "data": {
      "text/plain": [
       "3"
      ]
     },
     "execution_count": 14,
     "metadata": {},
     "output_type": "execute_result"
    }
   ],
   "source": [
    "# repetition\n",
    "\n",
    "op - *\n",
    "operand = one should be string and other should be int(1 to inf)"
   ]
  },
  {
   "cell_type": "code",
   "execution_count": 24,
   "metadata": {},
   "outputs": [
    {
     "name": "stdout",
     "output_type": "stream",
     "text": [
      "\n"
     ]
    }
   ],
   "source": [
    "a = 'abc '\n",
    "b = 'xyz'\n",
    "c = 2\n",
    "\n",
    "print(a*0)"
   ]
  },
  {
   "cell_type": "code",
   "execution_count": null,
   "metadata": {},
   "outputs": [],
   "source": [
    "# identity\n",
    "\n",
    "op - is and is not\n",
    "- tells if the addres of two operands is same or not\n",
    "- it always return boolean value"
   ]
  },
  {
   "cell_type": "code",
   "execution_count": 25,
   "metadata": {},
   "outputs": [
    {
     "name": "stdout",
     "output_type": "stream",
     "text": [
      "True\n"
     ]
    }
   ],
   "source": [
    "a = 'afsaan'\n",
    "b = 'afsaan'\n",
    "\n",
    "print(a is b)"
   ]
  },
  {
   "cell_type": "code",
   "execution_count": 27,
   "metadata": {},
   "outputs": [
    {
     "name": "stdout",
     "output_type": "stream",
     "text": [
      "140004659664304\n",
      "140004659664496\n",
      "False\n"
     ]
    }
   ],
   "source": [
    "a = 'afsaan '\n",
    "b = 'afsaan '\n",
    "\n",
    "print(id(a))\n",
    "print(id(b))\n",
    "\n",
    "print(a is b)"
   ]
  },
  {
   "cell_type": "code",
   "execution_count": null,
   "metadata": {},
   "outputs": [],
   "source": [
    "# memebrship operators\n",
    "\n",
    "op - in and not in\n",
    "- tell if a sub seq is present inside a seq or not\n",
    "- alwasy return true or false ( Boolean value)"
   ]
  },
  {
   "cell_type": "code",
   "execution_count": 28,
   "metadata": {},
   "outputs": [
    {
     "name": "stdout",
     "output_type": "stream",
     "text": [
      "True\n"
     ]
    }
   ],
   "source": [
    "a = 'this is the september batch of learnbay'\n",
    "\n",
    "print('batch' in a)"
   ]
  },
  {
   "cell_type": "code",
   "execution_count": 30,
   "metadata": {},
   "outputs": [
    {
     "name": "stdout",
     "output_type": "stream",
     "text": [
      "True\n"
     ]
    }
   ],
   "source": [
    "a = 'this is the september batch of learnbay'\n",
    "\n",
    "print('September' in a)"
   ]
  },
  {
   "cell_type": "code",
   "execution_count": 38,
   "metadata": {},
   "outputs": [
    {
     "name": "stdout",
     "output_type": "stream",
     "text": [
      "True\n"
     ]
    }
   ],
   "source": [
    "a = 'this is the september batch of learnbay 2.8'\n",
    "\n",
    "print('8' in a)"
   ]
  },
  {
   "cell_type": "code",
   "execution_count": null,
   "metadata": {},
   "outputs": [],
   "source": [
    "# immutable - once the object is defined you cannot change that object (assignment operatoe is not possible)"
   ]
  },
  {
   "cell_type": "code",
   "execution_count": 40,
   "metadata": {},
   "outputs": [
    {
     "ename": "TypeError",
     "evalue": "'str' object does not support item assignment",
     "output_type": "error",
     "traceback": [
      "\u001b[0;31m---------------------------------------------------------------------------\u001b[0m",
      "\u001b[0;31mTypeError\u001b[0m                                 Traceback (most recent call last)",
      "\u001b[0;32m<ipython-input-40-b419db6097f5>\u001b[0m in \u001b[0;36m<module>\u001b[0;34m\u001b[0m\n\u001b[1;32m      1\u001b[0m \u001b[0ma\u001b[0m \u001b[0;34m=\u001b[0m \u001b[0;34m'leanrbay'\u001b[0m\u001b[0;34m\u001b[0m\u001b[0;34m\u001b[0m\u001b[0m\n\u001b[1;32m      2\u001b[0m \u001b[0;34m\u001b[0m\u001b[0m\n\u001b[0;32m----> 3\u001b[0;31m \u001b[0ma\u001b[0m\u001b[0;34m[\u001b[0m\u001b[0;36m2\u001b[0m\u001b[0;34m]\u001b[0m \u001b[0;34m=\u001b[0m \u001b[0;34m'p'\u001b[0m\u001b[0;34m\u001b[0m\u001b[0;34m\u001b[0m\u001b[0m\n\u001b[0m",
      "\u001b[0;31mTypeError\u001b[0m: 'str' object does not support item assignment"
     ]
    }
   ],
   "source": [
    "a = 'leanrbay'\n",
    "\n",
    "a[2] = 'p'"
   ]
  },
  {
   "cell_type": "code",
   "execution_count": 44,
   "metadata": {},
   "outputs": [],
   "source": [
    "a = [1,2,3,4]\n",
    "\n",
    "a[2] = 100"
   ]
  },
  {
   "cell_type": "code",
   "execution_count": 45,
   "metadata": {},
   "outputs": [
    {
     "data": {
      "text/plain": [
       "[1, 2, 100, 4]"
      ]
     },
     "execution_count": 45,
     "metadata": {},
     "output_type": "execute_result"
    }
   ],
   "source": [
    "# String methods"
   ]
  },
  {
   "cell_type": "code",
   "execution_count": 48,
   "metadata": {},
   "outputs": [
    {
     "name": "stdout",
     "output_type": "stream",
     "text": [
      "['__add__', '__class__', '__contains__', '__delattr__', '__dir__', '__doc__', '__eq__', '__format__', '__ge__', '__getattribute__', '__getitem__', '__getnewargs__', '__gt__', '__hash__', '__init__', '__init_subclass__', '__iter__', '__le__', '__len__', '__lt__', '__mod__', '__mul__', '__ne__', '__new__', '__reduce__', '__reduce_ex__', '__repr__', '__rmod__', '__rmul__', '__setattr__', '__sizeof__', '__str__', '__subclasshook__', 'capitalize', 'casefold', 'center', 'count', 'encode', 'endswith', 'expandtabs', 'find', 'format', 'format_map', 'index', 'isalnum', 'isalpha', 'isascii', 'isdecimal', 'isdigit', 'isidentifier', 'islower', 'isnumeric', 'isprintable', 'isspace', 'istitle', 'isupper', 'join', 'ljust', 'lower', 'lstrip', 'maketrans', 'partition', 'replace', 'rfind', 'rindex', 'rjust', 'rpartition', 'rsplit', 'rstrip', 'split', 'splitlines', 'startswith', 'strip', 'swapcase', 'title', 'translate', 'upper', 'zfill']\n"
     ]
    }
   ],
   "source": [
    "print(dir(str))"
   ]
  },
  {
   "cell_type": "code",
   "execution_count": 67,
   "metadata": {},
   "outputs": [
    {
     "name": "stdout",
     "output_type": "stream",
     "text": [
      "This is a python class\n",
      "APPLE BANANA\n",
      "this is a python class\n",
      "aPPLE banana\n",
      "Apple Banana\n"
     ]
    }
   ],
   "source": [
    "s = 'this is a python Class'\n",
    "\n",
    "# capitalize - it capitalises the first letter of the sentence and lower case all the other letter\n",
    "print(s.capitalize())\n",
    "\n",
    "# upper - convert all the word to upper case\n",
    "print('Apple BANANA'.upper())\n",
    "\n",
    "# lower - convert all the word to lower case\n",
    "print(s.lower())\n",
    "\n",
    "# swapcase - converts upper case to lowercase and vice versa\n",
    "print('Apple BANANA'.swapcase())\n",
    "\n",
    "# title - converts each words first letter to caps and rest all in lower case\n",
    "print('Apple BANANA'.title())"
   ]
  },
  {
   "cell_type": "code",
   "execution_count": 86,
   "metadata": {},
   "outputs": [
    {
     "name": "stdout",
     "output_type": "stream",
     "text": [
      "False\n",
      "False\n",
      "True\n",
      "False\n"
     ]
    }
   ],
   "source": [
    "# methods that return boolean values\n",
    "\n",
    "# 1. startswith - return true if string starts with the specified prefix , false otherwise\n",
    "s = 'hello world'\n",
    "print(s.startswith('el'))\n",
    "\n",
    "s = 'hello world'\n",
    "print(s.startswith('El' , 1,9))  # ello wor\n",
    "\n",
    "# 2. endswith - return true if string end with the specified suffix , false otherwise\n",
    "s = 'hello world'\n",
    "print(s.endswith('ld'))\n",
    "\n",
    "s = 'hello world'\n",
    "print(s.endswith('WOR' , 1,9)) # ello wor"
   ]
  },
  {
   "cell_type": "code",
   "execution_count": 91,
   "metadata": {},
   "outputs": [
    {
     "name": "stdout",
     "output_type": "stream",
     "text": [
      "True\n",
      "True\n",
      "False\n",
      "True\n",
      "-------------------------------------\n",
      "True\n",
      "False\n",
      "False\n",
      "False\n",
      "-------------------------------------\n",
      "False\n",
      "False\n",
      "False\n",
      "True\n",
      "-------------------------------------\n",
      "True\n",
      "False\n",
      "False\n",
      "False\n",
      "True\n",
      "True\n",
      "True\n",
      "True\n",
      "True\n",
      "False\n"
     ]
    }
   ],
   "source": [
    "s1 = 'abc'\n",
    "s2 = '123abc'\n",
    "s3 = '*'\n",
    "s4 = '112'\n",
    "\n",
    "#3 isalnum - return true if string is either alphabet / number . mix of both , else false\n",
    "print(s1.isalnum()) # True\n",
    "print(s2.isalnum()) # True\n",
    "print(s3.isalnum()) # False\n",
    "print(s4.isalnum()) # True\n",
    "\n",
    "print('-------------------------------------')\n",
    "#3 isaplha - return true if all characters are aplhabets , ele false\n",
    "print(s1.isalpha()) # True\n",
    "print(s2.isalpha()) # False\n",
    "print(s3.isalpha()) # False\n",
    "print(s4.isalpha()) # False\n",
    "\n",
    "print('-------------------------------------')\n",
    "s1 = 'abc'\n",
    "s2 = '123abc'\n",
    "s3 = '*'\n",
    "s4 = '112'\n",
    "#3 isnumeric - return true if all characters are numbers , ele false\n",
    "print(s1.isnumeric()) # False\n",
    "print(s2.isnumeric()) # False\n",
    "print(s3.isnumeric()) # False\n",
    "print(s4.isnumeric()) # True\n",
    "\n",
    "\n",
    "print('-------------------------------------')\n",
    "s1 = 'abc'\n",
    "s2 = '123abc'\n",
    "s3 = '*'\n",
    "s4 = '112'\n",
    "s5 = '_123'\n",
    "# 1. Allowed charcters A-Z , a-z , 0-9 , _\n",
    "# 2. not allowed - specail charac are not allowed\n",
    "# 3. should not start with number\n",
    "# 4. are case sensitive\n",
    "# 5. all constant shoud be in capital letters\n",
    "# 6. Reserved(keywords) words should not be used\n",
    "#3 isidentifier - return true if it is a valid identifier , else false\n",
    "print(s1.isidentifier()) # True\n",
    "print(s2.isidentifier()) # False\n",
    "print(s3.isidentifier()) # False\n",
    "print(s4.isidentifier()) # False\n",
    "print(s5.isidentifier()) # True\n",
    "\n",
    "\n",
    "\n",
    "# print('-------------------------------------')\n",
    "s1 = 'abc'\n",
    "s2 = '123abc'\n",
    "s3 = '*'\n",
    "s4 = '112'\n",
    "s5 = 'बहे'\n",
    "#3 isascii - return true if it is all the char are in ascii table , else false\n",
    "print(s1.isascii()) # True\n",
    "print(s2.isascii()) # true\n",
    "print(s3.isascii()) # true\n",
    "print(s4.isascii()) # true\n",
    "print(s5.isascii()) # False"
   ]
  },
  {
   "cell_type": "markdown",
   "metadata": {},
   "source": [
    "# Next Class is ON Monday"
   ]
  },
  {
   "cell_type": "code",
   "execution_count": null,
   "metadata": {},
   "outputs": [],
   "source": []
  }
 ],
 "metadata": {
  "kernelspec": {
   "display_name": "Python 3",
   "language": "python",
   "name": "python3"
  },
  "language_info": {
   "codemirror_mode": {
    "name": "ipython",
    "version": 3
   },
   "file_extension": ".py",
   "mimetype": "text/x-python",
   "name": "python",
   "nbconvert_exporter": "python",
   "pygments_lexer": "ipython3",
   "version": "3.8.5"
  }
 },
 "nbformat": 4,
 "nbformat_minor": 4
}
