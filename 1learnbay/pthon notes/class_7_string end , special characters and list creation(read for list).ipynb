{
 "cells": [
  {
   "cell_type": "code",
   "execution_count": null,
   "metadata": {},
   "outputs": [],
   "source": [
    "# Specail and Escape characters in python"
   ]
  },
  {
   "cell_type": "code",
   "execution_count": 1,
   "metadata": {},
   "outputs": [
    {
     "name": "stdout",
     "output_type": "stream",
     "text": [
      "hello\n",
      "world\n"
     ]
    }
   ],
   "source": [
    "# \\n --->new line\n",
    "\n",
    "print('hello\\nworld')"
   ]
  },
  {
   "cell_type": "code",
   "execution_count": 2,
   "metadata": {},
   "outputs": [
    {
     "name": "stdout",
     "output_type": "stream",
     "text": [
      "hello\\nworld\n"
     ]
    }
   ],
   "source": [
    "# back slash \\- escape characeter\n",
    "\n",
    "print('hello\\\\nworld')"
   ]
  },
  {
   "cell_type": "code",
   "execution_count": 4,
   "metadata": {},
   "outputs": [
    {
     "name": "stdout",
     "output_type": "stream",
     "text": [
      "python's class\n"
     ]
    }
   ],
   "source": [
    "a = 'python\\'s class'\n",
    "print(a)"
   ]
  },
  {
   "cell_type": "code",
   "execution_count": 5,
   "metadata": {},
   "outputs": [
    {
     "name": "stdout",
     "output_type": "stream",
     "text": [
      "python\"s class\n"
     ]
    }
   ],
   "source": [
    "a = \"python\\\"s class\"\n",
    "print(a)"
   ]
  },
  {
   "cell_type": "code",
   "execution_count": 6,
   "metadata": {},
   "outputs": [
    {
     "name": "stdout",
     "output_type": "stream",
     "text": [
      "abc\bcd\n"
     ]
    }
   ],
   "source": [
    "# \\b - backspace - deletes the previous characters\n",
    "\n",
    "print('abc\\bcd')"
   ]
  },
  {
   "cell_type": "code",
   "execution_count": 7,
   "metadata": {},
   "outputs": [
    {
     "name": "stdout",
     "output_type": "stream",
     "text": [
      "afsan \bkhan\n"
     ]
    }
   ],
   "source": [
    "print('afsan \\bkhan')"
   ]
  },
  {
   "cell_type": "code",
   "execution_count": 8,
   "metadata": {},
   "outputs": [
    {
     "name": "stdout",
     "output_type": "stream",
     "text": [
      "ab\bc\n"
     ]
    }
   ],
   "source": [
    "print('ab'+'\\b'+'c')  # ab\\bc\n",
    "print('ab\\bc')"
   ]
  },
  {
   "cell_type": "code",
   "execution_count": 9,
   "metadata": {},
   "outputs": [
    {
     "data": {
      "text/plain": [
       "'afsaabkhan'"
      ]
     },
     "execution_count": 9,
     "metadata": {},
     "output_type": "execute_result"
    }
   ],
   "source": [
    "'afsaab'+'khan'"
   ]
  },
  {
   "cell_type": "code",
   "execution_count": 10,
   "metadata": {},
   "outputs": [
    {
     "name": "stdout",
     "output_type": "stream",
     "text": [
      "hello\r",
      "wor\n"
     ]
    }
   ],
   "source": [
    "# \\r - carriage return - moves all the character after the Cr to the beg of the line while overiding the same character\n",
    "\n",
    "txt = \"hello\\rwor\"\n",
    "print(txt)"
   ]
  },
  {
   "cell_type": "code",
   "execution_count": 12,
   "metadata": {},
   "outputs": [
    {
     "name": "stdout",
     "output_type": "stream",
     "text": [
      "hello\r",
      "indian\n"
     ]
    }
   ],
   "source": [
    "txt = \"hello\\rindian\"\n",
    "print(txt)"
   ]
  },
  {
   "cell_type": "code",
   "execution_count": 16,
   "metadata": {},
   "outputs": [
    {
     "name": "stdout",
     "output_type": "stream",
     "text": [
      "hello\tworld\n"
     ]
    }
   ],
   "source": [
    "# \\t - tab (4 spaces)\n",
    "\n",
    "print('hello\\tworld')"
   ]
  },
  {
   "cell_type": "code",
   "execution_count": 17,
   "metadata": {},
   "outputs": [
    {
     "name": "stdout",
     "output_type": "stream",
     "text": [
      "hello\\tworld\n"
     ]
    }
   ],
   "source": [
    "print('hello\\\\tworld')"
   ]
  },
  {
   "cell_type": "code",
   "execution_count": 20,
   "metadata": {},
   "outputs": [
    {
     "name": "stdout",
     "output_type": "stream",
     "text": [
      "123\\456\n"
     ]
    }
   ],
   "source": [
    "# r - rawstring(to avoid all the special characters inside the string... \n",
    "#it prints as it is)\n",
    "\n",
    "print(r'123\\456')"
   ]
  },
  {
   "cell_type": "code",
   "execution_count": 28,
   "metadata": {},
   "outputs": [
    {
     "name": "stdout",
     "output_type": "stream",
     "text": [
      "False\n",
      "True\n",
      "False\n",
      "False\n",
      "False\n",
      "-------------------------\n",
      "True\n",
      "False\n",
      "False\n",
      "False\n",
      "-------------------------\n",
      "False\n",
      "False\n",
      "False\n",
      "False\n",
      "True\n"
     ]
    }
   ],
   "source": [
    "s1 = 'abc'\n",
    "s2 = 'ABC*'\n",
    "s3 = '*'\n",
    "s4 = '112'\n",
    "s5 = 'ABCabc1'\n",
    "\n",
    "# isupper - return true if character is uupercase else false\n",
    "print(s1.isupper()) #false\n",
    "print(s2.isupper()) # True\n",
    "print(s3.isupper()) # False\n",
    "print(s4.isupper()) # False\n",
    "print(s5.isupper()) # False\n",
    "\n",
    "\n",
    "print('-------------------------')\n",
    "# isloswer - return true if char is lowercase else false\n",
    "print(s1.islower()) #true\n",
    "print(s2.islower()) # False\n",
    "print(s3.islower()) # False\n",
    "print(s4.islower()) # False\n",
    "\n",
    "\n",
    "s1 = 'abc'\n",
    "s2 = 'ABC*'\n",
    "s3 = '*'\n",
    "s4 = '112'\n",
    "s5 = 'ABCabc1'\n",
    "\n",
    "print('-------------------------')\n",
    "# istitle - return true if string is titledcase else false\n",
    "print(s1.istitle()) # False\n",
    "print(s2.istitle()) # False\n",
    "print(s3.istitle()) # False\n",
    "print(s4.istitle()) # False\n",
    "print('Python Class'.istitle()) # False"
   ]
  },
  {
   "cell_type": "markdown",
   "metadata": {},
   "source": [
    "### strip , rstrip , lstrip\n",
    "- removes the character specified from the end\n",
    "- if specified char is not mentioned then the default will be space"
   ]
  },
  {
   "cell_type": "code",
   "execution_count": 34,
   "metadata": {},
   "outputs": [
    {
     "name": "stdout",
     "output_type": "stream",
     "text": [
      "     afsaan        \n",
      "afsaan\n"
     ]
    }
   ],
   "source": [
    "# strip - removes the specified char from both the ends\n",
    "print('     afsaan        ')\n",
    "print('     afsaan        '.strip())\n",
    "\n",
    "print('**afsaa*n******')\n",
    "print('**afsaa*n******'.strip('*'))\n",
    "\n",
    "print('afsanppppp')\n",
    "print('afsanppppp'.strip('p'))"
   ]
  },
  {
   "cell_type": "code",
   "execution_count": 40,
   "metadata": {},
   "outputs": [
    {
     "name": "stdout",
     "output_type": "stream",
     "text": [
      "     afsaan        \n",
      "     afsaan\n",
      "**afsaa*n******\n",
      "**afsaa*n\n",
      "afsanppppp\n",
      "afsan\n"
     ]
    }
   ],
   "source": [
    "# rstrip - removes the specified char form rhs\n",
    "print('     afsaan        ')\n",
    "print('     afsaan        '.rstrip())\n",
    "\n",
    "print('**afsaa*n******')\n",
    "print('**afsaa*n******'.rstrip('*'))\n",
    "\n",
    "print('afsanppppp')\n",
    "print('afsanppppp'.rstrip('p'))"
   ]
  },
  {
   "cell_type": "code",
   "execution_count": 41,
   "metadata": {},
   "outputs": [
    {
     "name": "stdout",
     "output_type": "stream",
     "text": [
      "     afsaan        \n",
      "afsaan        \n",
      "**afsaa*n******\n",
      "afsaa*n******\n",
      "afsanppppp\n",
      "afsanppppp\n"
     ]
    }
   ],
   "source": [
    "# lstrip - removes the specified char form lhs\n",
    "print('     afsaan        ')\n",
    "print('     afsaan        '.lstrip())\n",
    "\n",
    "print('**afsaa*n******')\n",
    "print('**afsaa*n******'.lstrip('*'))\n",
    "\n",
    "print('afsanppppp')\n",
    "print('afsanppppp'.lstrip('p'))"
   ]
  },
  {
   "cell_type": "code",
   "execution_count": 45,
   "metadata": {},
   "outputs": [
    {
     "name": "stdout",
     "output_type": "stream",
     "text": [
      "please enter your usernameafsaan         \n",
      "please enetr your password   khan\n",
      "looged in\n"
     ]
    }
   ],
   "source": [
    "#used case (for password error correction by the developer \n",
    "# if the user gives spaces or any )\n",
    "username = input('please enter your username')\n",
    "password = input('please enetr your password')\n",
    "\n",
    "if username.strip() == 'afsaan' and password.strip() == 'khan':\n",
    "    print('looged in')\n",
    "else:\n",
    "    print('incorrect info')"
   ]
  },
  {
   "cell_type": "code",
   "execution_count": 43,
   "metadata": {},
   "outputs": [
    {
     "data": {
      "text/plain": [
       "False"
      ]
     },
     "execution_count": 43,
     "metadata": {},
     "output_type": "execute_result"
    }
   ],
   "source": [
    "' khan' == 'khan'"
   ]
  },
  {
   "cell_type": "code",
   "execution_count": 51,
   "metadata": {},
   "outputs": [
    {
     "data": {
      "text/plain": [
       "0"
      ]
     },
     "execution_count": 51,
     "metadata": {},
     "output_type": "execute_result"
    }
   ],
   "source": [
    "# count \n",
    "my_str = 'afsaan loves to watch football'\n",
    "my_str.count('sf')"
   ]
  },
  {
   "cell_type": "code",
   "execution_count": 57,
   "metadata": {},
   "outputs": [
    {
     "name": "stdout",
     "output_type": "stream",
     "text": [
      "6\n",
      "29\n",
      "6\n",
      "29\n"
     ]
    }
   ],
   "source": [
    "# find , rfind , index, rindex\n",
    "\n",
    "# find - finds the index from l to R\n",
    "my_str = 'afsaan loves to watch football'\n",
    "print(my_str.find(' '))\n",
    "\n",
    "# rfind - finds the index from r to l\n",
    "my_str = 'afsaan loves to watch football'\n",
    "print(my_str.rfind('l'))\n",
    "\n",
    "# index - finds the index from l to R\n",
    "my_str = 'afsaan loves to watch football'\n",
    "print(my_str.index(' '))\n",
    "\n",
    "# rindex - finds the index from r to l\n",
    "my_str = 'afsaan loves to watch football'\n",
    "print(my_str.rindex('l'))"
   ]
  },
  {
   "cell_type": "markdown",
   "metadata": {},
   "source": [
    "# difference between index and find\n",
    "\n",
    "- diiference is if any char is not found oin the string find will return -1 whereas index will raise an error"
   ]
  },
  {
   "cell_type": "code",
   "execution_count": 59,
   "metadata": {},
   "outputs": [
    {
     "name": "stdout",
     "output_type": "stream",
     "text": [
      "-1\n"
     ]
    },
    {
     "ename": "ValueError",
     "evalue": "substring not found",
     "output_type": "error",
     "traceback": [
      "\u001b[0;31m---------------------------------------------------------------------------\u001b[0m",
      "\u001b[0;31mValueError\u001b[0m                                Traceback (most recent call last)",
      "\u001b[0;32m<ipython-input-59-06b1ca36f29d>\u001b[0m in \u001b[0;36m<module>\u001b[0;34m\u001b[0m\n\u001b[1;32m      5\u001b[0m \u001b[0;31m# index - finds the index from l to R\u001b[0m\u001b[0;34m\u001b[0m\u001b[0;34m\u001b[0m\u001b[0;34m\u001b[0m\u001b[0m\n\u001b[1;32m      6\u001b[0m \u001b[0mmy_str\u001b[0m \u001b[0;34m=\u001b[0m \u001b[0;34m'afsaan loves to watch football'\u001b[0m\u001b[0;34m\u001b[0m\u001b[0;34m\u001b[0m\u001b[0m\n\u001b[0;32m----> 7\u001b[0;31m \u001b[0mprint\u001b[0m\u001b[0;34m(\u001b[0m\u001b[0mmy_str\u001b[0m\u001b[0;34m.\u001b[0m\u001b[0mindex\u001b[0m\u001b[0;34m(\u001b[0m\u001b[0;34m'z'\u001b[0m\u001b[0;34m)\u001b[0m\u001b[0;34m)\u001b[0m\u001b[0;34m\u001b[0m\u001b[0;34m\u001b[0m\u001b[0m\n\u001b[0m",
      "\u001b[0;31mValueError\u001b[0m: substring not found"
     ]
    }
   ],
   "source": [
    "# index - finds the index from l to R\n",
    "my_str = 'afsaan loves to watch football'\n",
    "print(my_str.find('z'))\n",
    "\n",
    "# index - finds the index from l to R\n",
    "my_str = 'afsaan loves to watch football'\n",
    "print(my_str.index('z'))"
   ]
  },
  {
   "cell_type": "code",
   "execution_count": 63,
   "metadata": {},
   "outputs": [
    {
     "name": "stdout",
     "output_type": "stream",
     "text": [
      "afsan                hello word\n"
     ]
    }
   ],
   "source": [
    "#ljust(left adjustment)  , rjust(right adjustment)\n",
    "\n",
    "#allignment according to the index given\n",
    "txt = 'afsan'\n",
    "\n",
    "print(txt.ljust(20), 'hello word'.ljust(10))"
   ]
  },
  {
   "cell_type": "code",
   "execution_count": 61,
   "metadata": {},
   "outputs": [
    {
     "name": "stdout",
     "output_type": "stream",
     "text": [
      "               afsan hello world\n"
     ]
    }
   ],
   "source": [
    "txt = 'afsan'\n",
    "\n",
    "print(txt.rjust(20), 'hello world')"
   ]
  },
  {
   "cell_type": "code",
   "execution_count": 66,
   "metadata": {},
   "outputs": [
    {
     "name": "stdout",
     "output_type": "stream",
     "text": [
      "pfsppn loves to wptch footbpll\n",
      "afsaan loves is watch football\n"
     ]
    }
   ],
   "source": [
    "# replace - replace the character\n",
    "\n",
    "my_str = 'afsaan loves to watch football'\n",
    "print(my_str.replace('a' , 'p'))\n",
    "\n",
    "my_str = 'afsaan loves to watch football'\n",
    "print(my_str.replace('to' , 'is'))"
   ]
  },
  {
   "cell_type": "code",
   "execution_count": 65,
   "metadata": {},
   "outputs": [
    {
     "data": {
      "text/plain": [
       "'afsaan loves to watch football'"
      ]
     },
     "execution_count": 65,
     "metadata": {},
     "output_type": "execute_result"
    }
   ],
   "source": [
    "my_str"
   ]
  },
  {
   "cell_type": "code",
   "execution_count": 80,
   "metadata": {},
   "outputs": [
    {
     "data": {
      "text/plain": [
       "['afsaan', 'loves', 'to', 'watch', 'football', 'loves']"
      ]
     },
     "execution_count": 80,
     "metadata": {},
     "output_type": "execute_result"
    }
   ],
   "source": [
    "# split - it converts the the string to a list based on the split characters and if not  provided default is space\n",
    "\n",
    "my_str = 'afsaan loves to watch football loves'\n",
    "my_str.split()"
   ]
  },
  {
   "cell_type": "code",
   "execution_count": 68,
   "metadata": {},
   "outputs": [
    {
     "data": {
      "text/plain": [
       "['afsaan loves', 'to watch football']"
      ]
     },
     "execution_count": 68,
     "metadata": {},
     "output_type": "execute_result"
    }
   ],
   "source": [
    "my_str = 'afsaan loves*to watch football'\n",
    "my_str.split('*')"
   ]
  },
  {
   "cell_type": "code",
   "execution_count": 75,
   "metadata": {},
   "outputs": [],
   "source": [
    "my_str = 'afsaan loves*to watch football'\n",
    "a = my_str.split('a')"
   ]
  },
  {
   "cell_type": "code",
   "execution_count": 74,
   "metadata": {},
   "outputs": [
    {
     "data": {
      "text/plain": [
       "list"
      ]
     },
     "execution_count": 74,
     "metadata": {},
     "output_type": "execute_result"
    }
   ],
   "source": [
    "# join - list abck to string"
   ]
  },
  {
   "cell_type": "code",
   "execution_count": 79,
   "metadata": {},
   "outputs": [
    {
     "data": {
      "text/plain": [
       "'afsaan--->loves--->to--->watch--->football--->loves'"
      ]
     },
     "execution_count": 79,
     "metadata": {},
     "output_type": "execute_result"
    }
   ],
   "source": [
    "lst = ['afsaan', 'loves', 'to', 'watch', 'football', 'loves']\n",
    "\n",
    "\"---> \".join(lst)"
   ]
  },
  {
   "cell_type": "code",
   "execution_count": null,
   "metadata": {},
   "outputs": [],
   "source": [
    "# list\n",
    "\n",
    "- any value written inside a sqaure brackets and seperated by commas"
   ]
  },
  {
   "cell_type": "code",
   "execution_count": 82,
   "metadata": {},
   "outputs": [
    {
     "name": "stdout",
     "output_type": "stream",
     "text": [
      "<class 'list'>\n"
     ]
    }
   ],
   "source": [
    "a = [1,2,3,4,5]\n",
    "print(type(a))"
   ]
  },
  {
   "cell_type": "code",
   "execution_count": 83,
   "metadata": {},
   "outputs": [
    {
     "data": {
      "text/plain": [
       "5"
      ]
     },
     "execution_count": 83,
     "metadata": {},
     "output_type": "execute_result"
    }
   ],
   "source": [
    "len(a)"
   ]
  },
  {
   "cell_type": "code",
   "execution_count": 84,
   "metadata": {},
   "outputs": [
    {
     "data": {
      "text/plain": [
       "6"
      ]
     },
     "execution_count": 84,
     "metadata": {},
     "output_type": "execute_result"
    }
   ],
   "source": [
    "len('afsaan')"
   ]
  },
  {
   "cell_type": "markdown",
   "metadata": {},
   "source": [
    "# Creation of list"
   ]
  },
  {
   "cell_type": "code",
   "execution_count": 86,
   "metadata": {},
   "outputs": [
    {
     "name": "stdout",
     "output_type": "stream",
     "text": [
      "['banana', 'mangao', 'grapes']\n"
     ]
    }
   ],
   "source": [
    "# 1 . you already know the element\n",
    "\n",
    "lst1 = ['banana' , 'mangao' , 'grapes']\n",
    "print(lst1)"
   ]
  },
  {
   "cell_type": "code",
   "execution_count": 88,
   "metadata": {},
   "outputs": [
    {
     "name": "stdout",
     "output_type": "stream",
     "text": [
      "plese enter a list[1,2,3,4,]\n",
      "[1, 2, 3, 4] <class 'list'>\n"
     ]
    }
   ],
   "source": [
    "#2 . taking a user input()\n",
    "\n",
    "lst = eval(input('plese enter a list'))\n",
    "print(lst , type(lst))"
   ]
  },
  {
   "cell_type": "code",
   "execution_count": 90,
   "metadata": {},
   "outputs": [
    {
     "name": "stdout",
     "output_type": "stream",
     "text": [
      "['a', 'b', 'c']\n",
      "[1, 2, 3]\n"
     ]
    }
   ],
   "source": [
    "#3. type casting\n",
    "\n",
    "a = 'abc'\n",
    "c = (1,2,3)\n",
    "\n",
    "print(list(a))\n",
    "print(list(c))"
   ]
  },
  {
   "cell_type": "code",
   "execution_count": 91,
   "metadata": {},
   "outputs": [
    {
     "data": {
      "text/plain": [
       "['afsaan', 'loves', 'to', 'watch', 'football', 'loves']"
      ]
     },
     "execution_count": 91,
     "metadata": {},
     "output_type": "execute_result"
    }
   ],
   "source": [
    "#4. split method\n",
    "\n",
    "my_str = 'afsaan loves to watch football loves'\n",
    "my_str.split()"
   ]
  },
  {
   "cell_type": "code",
   "execution_count": null,
   "metadata": {},
   "outputs": [],
   "source": [
    "# properties of list\n",
    "\n",
    "- Seq data type\n",
    "- indexing(accesing one element) and slicing(accessing multiple elements) is supported\n",
    "- supoorts both -ve and +ve indexing\n",
    "- mutable\n",
    "- Allows duplication\n",
    "- it is hetrogenous - can store multiple data type\n",
    "- basic op , slicing , indexing , concatination , repetition , indenety, Memebership"
   ]
  },
  {
   "cell_type": "code",
   "execution_count": 94,
   "metadata": {},
   "outputs": [
    {
     "data": {
      "text/plain": [
       "10"
      ]
     },
     "execution_count": 94,
     "metadata": {},
     "output_type": "execute_result"
    }
   ],
   "source": [
    "# indexing\n",
    "\n",
    "a = [1,2,3,4,5,6,7,8,9,10]\n",
    "a[-1]\n",
    "a[len(a)-1]"
   ]
  },
  {
   "cell_type": "code",
   "execution_count": 95,
   "metadata": {},
   "outputs": [
    {
     "data": {
      "text/plain": [
       "[]"
      ]
     },
     "execution_count": 95,
     "metadata": {},
     "output_type": "execute_result"
    }
   ],
   "source": [
    "# indexing\n",
    "\n",
    "a = [1,2,3,4,5,6,7,8,9,10]\n",
    "a[1:5:-1]"
   ]
  },
  {
   "cell_type": "code",
   "execution_count": 96,
   "metadata": {},
   "outputs": [
    {
     "data": {
      "text/plain": [
       "[10, 9, 8, 7, 6, 5, 4, 3, 2, 1]"
      ]
     },
     "execution_count": 96,
     "metadata": {},
     "output_type": "execute_result"
    }
   ],
   "source": [
    "a = [1,2,3,4,5,6,7,8,9,10]\n",
    "a[::-1]"
   ]
  },
  {
   "cell_type": "code",
   "execution_count": 97,
   "metadata": {},
   "outputs": [
    {
     "data": {
      "text/plain": [
       "[10, 8, 6, 4]"
      ]
     },
     "execution_count": 97,
     "metadata": {},
     "output_type": "execute_result"
    }
   ],
   "source": [
    "a = [1,2,3,4,5,6,7,8,9,10]\n",
    "a[-1:-9:-2]"
   ]
  },
  {
   "cell_type": "code",
   "execution_count": 98,
   "metadata": {},
   "outputs": [
    {
     "name": "stdout",
     "output_type": "stream",
     "text": [
      "[1, 1, 1, 1, 2, 2, 2, 3, 3, 3]\n"
     ]
    }
   ],
   "source": [
    "# - Allows duplication\n",
    "\n",
    "lst = [1,1,1,1,2,2,2,3,3,3]\n",
    "print(lst)"
   ]
  },
  {
   "cell_type": "code",
   "execution_count": 99,
   "metadata": {},
   "outputs": [
    {
     "name": "stdout",
     "output_type": "stream",
     "text": [
      "[1, 1.2, '1.2', True, None, [1, 2, 3], (1, 2, 3), {1, 2, 3}, (10+6j)]\n"
     ]
    }
   ],
   "source": [
    "# it is hetrogenous - can store multiple data type\n",
    "\n",
    "lst = [1 , 1.2 , '1.2' , True , None , [1,2,3] , (1,2,3) , {1,2,3} , 10+6j]\n",
    "print(lst)"
   ]
  },
  {
   "cell_type": "code",
   "execution_count": 100,
   "metadata": {},
   "outputs": [
    {
     "data": {
      "text/plain": [
       "{1, 2, 3}"
      ]
     },
     "execution_count": 100,
     "metadata": {},
     "output_type": "execute_result"
    }
   ],
   "source": []
  },
  {
   "cell_type": "markdown",
   "metadata": {},
   "source": [
    "# basic operation"
   ]
  },
  {
   "cell_type": "code",
   "execution_count": 101,
   "metadata": {},
   "outputs": [
    {
     "name": "stdout",
     "output_type": "stream",
     "text": [
      "[1, 2, 3, 5, 6, 7]\n"
     ]
    }
   ],
   "source": [
    "# concatination\n",
    "\n",
    "# op - +\n",
    "# operand - both the operand should be list\n",
    "\n",
    "a = [1,2,3]\n",
    "b = [5,6,7]\n",
    "print(a+b)"
   ]
  },
  {
   "cell_type": "code",
   "execution_count": 104,
   "metadata": {},
   "outputs": [
    {
     "name": "stdout",
     "output_type": "stream",
     "text": [
      "[1, 2, 3, 1, 2, 3, 1, 2, 3, 1, 2, 3, 1, 2, 3, 1, 2, 3, 1, 2, 3, 1, 2, 3, 1, 2, 3, 1, 2, 3]\n"
     ]
    }
   ],
   "source": [
    "# repetition\n",
    "\n",
    "# op - *\n",
    "# operand - one should be list and other should be int number\n",
    "\n",
    "a = [1,2,3]\n",
    "b = 10\n",
    "print(a*b)"
   ]
  },
  {
   "cell_type": "code",
   "execution_count": 105,
   "metadata": {},
   "outputs": [
    {
     "name": "stdout",
     "output_type": "stream",
     "text": [
      "False\n"
     ]
    }
   ],
   "source": [
    "# Indentity\n",
    "\n",
    "# op - is and is not\n",
    "# - returns bool values\n",
    "# - if address is same or not\n",
    "\n",
    "a = [1,2,3,4]\n",
    "b = [1,2,3,4]\n",
    "\n",
    "print(a is b)"
   ]
  },
  {
   "cell_type": "code",
   "execution_count": 109,
   "metadata": {},
   "outputs": [
    {
     "name": "stdout",
     "output_type": "stream",
     "text": [
      "False\n"
     ]
    }
   ],
   "source": [
    "# Membership operator\n",
    "\n",
    "# op - in and not in\n",
    "# - return bool\n",
    "\n",
    "\n",
    "a = ['afsaan' , 'Aman' , 'srikant' , 'mizba' , 'niharika' , 'gaurav']\n",
    "print('gaurav' not in a)"
   ]
  },
  {
   "cell_type": "code",
   "execution_count": null,
   "metadata": {},
   "outputs": [],
   "source": [
    "# nesting list\n",
    "# all methods in list\n",
    "# for loop\n",
    "# list comphresion"
   ]
  },
  {
   "cell_type": "code",
   "execution_count": 110,
   "metadata": {},
   "outputs": [
    {
     "data": {
      "text/plain": [
       "['__add__',\n",
       " '__class__',\n",
       " '__contains__',\n",
       " '__delattr__',\n",
       " '__delitem__',\n",
       " '__dir__',\n",
       " '__doc__',\n",
       " '__eq__',\n",
       " '__format__',\n",
       " '__ge__',\n",
       " '__getattribute__',\n",
       " '__getitem__',\n",
       " '__gt__',\n",
       " '__hash__',\n",
       " '__iadd__',\n",
       " '__imul__',\n",
       " '__init__',\n",
       " '__init_subclass__',\n",
       " '__iter__',\n",
       " '__le__',\n",
       " '__len__',\n",
       " '__lt__',\n",
       " '__mul__',\n",
       " '__ne__',\n",
       " '__new__',\n",
       " '__reduce__',\n",
       " '__reduce_ex__',\n",
       " '__repr__',\n",
       " '__reversed__',\n",
       " '__rmul__',\n",
       " '__setattr__',\n",
       " '__setitem__',\n",
       " '__sizeof__',\n",
       " '__str__',\n",
       " '__subclasshook__',\n",
       " 'append',\n",
       " 'clear',\n",
       " 'copy',\n",
       " 'count',\n",
       " 'extend',\n",
       " 'index',\n",
       " 'insert',\n",
       " 'pop',\n",
       " 'remove',\n",
       " 'reverse',\n",
       " 'sort']"
      ]
     },
     "execution_count": 110,
     "metadata": {},
     "output_type": "execute_result"
    }
   ],
   "source": [
    "dir(list)"
   ]
  },
  {
   "cell_type": "code",
   "execution_count": 112,
   "metadata": {},
   "outputs": [
    {
     "name": "stdout",
     "output_type": "stream",
     "text": [
      "140154765763888\n",
      "140154765762800\n"
     ]
    }
   ],
   "source": [
    "a = 'python$'\n",
    "b = 'python$'\n",
    "\n",
    "print(id(a))\n",
    "print(id(b))"
   ]
  },
  {
   "cell_type": "code",
   "execution_count": null,
   "metadata": {},
   "outputs": [],
   "source": []
  },
  {
   "cell_type": "code",
   "execution_count": null,
   "metadata": {},
   "outputs": [],
   "source": []
  }
 ],
 "metadata": {
  "kernelspec": {
   "display_name": "Python 3",
   "language": "python",
   "name": "python3"
  },
  "language_info": {
   "codemirror_mode": {
    "name": "ipython",
    "version": 3
   },
   "file_extension": ".py",
   "mimetype": "text/x-python",
   "name": "python",
   "nbconvert_exporter": "python",
   "pygments_lexer": "ipython3",
   "version": "3.8.8"
  }
 },
 "nbformat": 4,
 "nbformat_minor": 4
}
