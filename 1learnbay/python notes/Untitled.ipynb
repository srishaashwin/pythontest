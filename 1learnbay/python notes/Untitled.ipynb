{
 "cells": [
  {
   "cell_type": "code",
   "execution_count": 8,
   "id": "d5eab01b",
   "metadata": {},
   "outputs": [],
   "source": [
    "#function to find a string is palandrome or not\n",
    "\n",
    "def pal(a):\n",
    "    str=a.lower() # coverting the string to lower so will work for the cap letters too\n",
    "    if str ==str[::-1]:\n",
    "        print(\"the string is palan\")\n",
    "    else:\n",
    "        print(\"the str is not palan\")"
   ]
  },
  {
   "cell_type": "code",
   "execution_count": 6,
   "id": "43e0c852",
   "metadata": {},
   "outputs": [
    {
     "name": "stdout",
     "output_type": "stream",
     "text": [
      "the string is palan\n"
     ]
    }
   ],
   "source": [
    "pal(\"mam\")"
   ]
  },
  {
   "cell_type": "code",
   "execution_count": 7,
   "id": "085d02fd",
   "metadata": {},
   "outputs": [
    {
     "name": "stdout",
     "output_type": "stream",
     "text": [
      "the str is not palan\n"
     ]
    }
   ],
   "source": [
    "pal(\"srisha\")"
   ]
  },
  {
   "cell_type": "code",
   "execution_count": 9,
   "id": "d36cbdca",
   "metadata": {},
   "outputs": [
    {
     "name": "stdout",
     "output_type": "stream",
     "text": [
      "the string is palan\n"
     ]
    }
   ],
   "source": [
    "pal(\"Engne\")"
   ]
  },
  {
   "cell_type": "code",
   "execution_count": 11,
   "id": "f6977ae2",
   "metadata": {},
   "outputs": [
    {
     "name": "stdout",
     "output_type": "stream",
     "text": [
      "the odd numbers in list are [1, 3, 5]\n",
      "the even numbs [2, 4]\n"
     ]
    }
   ],
   "source": [
    "#write a func which will sep the numbers from the list to odd and even list\n",
    "\n",
    "\n",
    "def odd_even(a):\n",
    "    c=[]\n",
    "    b=[]\n",
    "    for i in a:\n",
    "        if(i%2==0):\n",
    "            c.append(i)\n",
    "        else:\n",
    "            b.append(i)\n",
    "    print(\"the odd numbers in list are\",b)\n",
    "    print(\"the even numbs\",c)\n",
    "odd_even([1,2,3,4,5])"
   ]
  },
  {
   "cell_type": "code",
   "execution_count": 13,
   "id": "e35e29aa",
   "metadata": {},
   "outputs": [
    {
     "name": "stdout",
     "output_type": "stream",
     "text": [
      "the odd numbers in list are [91, 3, 5]\n",
      "the even numbs [2, 4, 6]\n"
     ]
    }
   ],
   "source": [
    "odd_even((91,2,3,4,5,6))"
   ]
  },
  {
   "cell_type": "code",
   "execution_count": 15,
   "id": "83528c2e",
   "metadata": {},
   "outputs": [
    {
     "name": "stdout",
     "output_type": "stream",
     "text": [
      "the number is multiple of 7  : 35\n",
      "the number is multiple of 7  : 63\n",
      "the number is not multiples of 7 \n"
     ]
    }
   ],
   "source": [
    "#function to find the number multiple of 7\n",
    "\n",
    "def seven(a):\n",
    "    if (a%7==0):\n",
    "        print(\"the number is multiple of 7  :\",a)\n",
    "    else:\n",
    "        print(\"the number is not multiples of 7 \")\n",
    "        \n",
    "        \n",
    "seven(35)\n",
    "seven(63)\n",
    "seven(20)"
   ]
  },
  {
   "cell_type": "code",
   "execution_count": null,
   "id": "894b02c2",
   "metadata": {},
   "outputs": [],
   "source": [
    "def seven(a):"
   ]
  }
 ],
 "metadata": {
  "kernelspec": {
   "display_name": "Python 3",
   "language": "python",
   "name": "python3"
  },
  "language_info": {
   "codemirror_mode": {
    "name": "ipython",
    "version": 3
   },
   "file_extension": ".py",
   "mimetype": "text/x-python",
   "name": "python",
   "nbconvert_exporter": "python",
   "pygments_lexer": "ipython3",
   "version": "3.8.8"
  }
 },
 "nbformat": 4,
 "nbformat_minor": 5
}
