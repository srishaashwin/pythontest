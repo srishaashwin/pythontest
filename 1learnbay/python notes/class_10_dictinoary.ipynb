{
 "cells": [
  {
   "cell_type": "markdown",
   "metadata": {},
   "source": [
    "# dictionary"
   ]
  },
  {
   "cell_type": "code",
   "execution_count": 3,
   "metadata": {},
   "outputs": [
    {
     "name": "stdout",
     "output_type": "stream",
     "text": [
      "Afsan\n",
      "24\n",
      "700000\n"
     ]
    }
   ],
   "source": [
    "emp_data = ['Afsan' , 24 , 700000]\n",
    "\n",
    "# name of the employee\n",
    "print(emp_data[0])\n",
    "\n",
    "# age of the employee\n",
    "print(emp_data[1])\n",
    "\n",
    "\n",
    "# salary of the employee\n",
    "print(emp_data[2])"
   ]
  },
  {
   "cell_type": "code",
   "execution_count": null,
   "metadata": {},
   "outputs": [],
   "source": [
    "# problem 2\n",
    "emp_data = ['Afsan' , 24 , 24]\n",
    "\n",
    "# name of the employee\n",
    "print(emp_data[0])\n",
    "\n",
    "# age of the employee\n",
    "print(emp_data[1])\n",
    "\n",
    "\n",
    "# salary of the employee\n",
    "print(emp_data[2])"
   ]
  },
  {
   "cell_type": "code",
   "execution_count": null,
   "metadata": {},
   "outputs": [],
   "source": [
    "# problem 2\n",
    "emp_data = [ 24 , 700000,'Afsan']\n",
    "\n",
    "# name of the employee\n",
    "print(emp_data[0])\n",
    "\n",
    "# age of the employee\n",
    "print(emp_data[1])\n",
    "\n",
    "\n",
    "# salary of the employee\n",
    "print(emp_data[2])"
   ]
  },
  {
   "cell_type": "code",
   "execution_count": 5,
   "metadata": {},
   "outputs": [
    {
     "name": "stdout",
     "output_type": "stream",
     "text": [
      "Afsan\n",
      "24\n",
      "24\n"
     ]
    }
   ],
   "source": [
    "# Dictionary 0 it is used to represent the structured daata\n",
    "\n",
    "emp_data = {'age':24 , 'salary':24 , 'name':'Afsan' }\n",
    "\n",
    "# name of the employee\n",
    "print(emp_data['name'])\n",
    "\n",
    "# age of the employee\n",
    "print(emp_data['age'])\n",
    "\n",
    "\n",
    "# salary of the employee\n",
    "print(emp_data['salary'])"
   ]
  },
  {
   "cell_type": "code",
   "execution_count": null,
   "metadata": {},
   "outputs": [],
   "source": [
    "# properties of dictinoaries\n",
    "\n",
    "- it is a collection of key value pair\n",
    "- a key, value is called as item\n",
    "- items are sep by commas(,)\n",
    "- key and value are seperated by (:)\n",
    "- key cannot be duplicated whereas value can be duplicated\n",
    "- key cannot be mutable (imutable)\n",
    "- value can be anything (mutable / immutable)\n",
    "- all item are into curly bracktes and sep by commas\n",
    "- is not a seq data type so der is no indexing , slicing , concatination , repetition\n",
    "- membership op are only applicable on keys and true if key is present\n",
    "- idenity op is possible\n",
    "- it is mutable"
   ]
  },
  {
   "cell_type": "markdown",
   "metadata": {},
   "source": [
    "# how to crate a dictionary"
   ]
  },
  {
   "cell_type": "code",
   "execution_count": 7,
   "metadata": {},
   "outputs": [
    {
     "name": "stdout",
     "output_type": "stream",
     "text": [
      "{'emp1': {'age': 24, 'salary': 24, 'name': 'Afsan'}, 'emp2': {'age': 23, 'salary': 70, 'name': 'Rahul'}} <class 'dict'>\n"
     ]
    }
   ],
   "source": [
    "# if you already know the value\n",
    "\n",
    "emp_data = {'emp1' : {'age':24 , 'salary':24 , 'name':'Afsan' } , \n",
    "            'emp2' : {'age':23 , 'salary':70 , 'name':'Rahul' }}\n",
    "\n",
    "print(emp_data , type(emp_data))"
   ]
  },
  {
   "cell_type": "code",
   "execution_count": 9,
   "metadata": {},
   "outputs": [
    {
     "name": "stdout",
     "output_type": "stream",
     "text": [
      "Enter a dic{1: 2}\n",
      "{1: 2} <class 'dict'>\n"
     ]
    }
   ],
   "source": [
    "# 2. taking user input\n",
    "\n",
    "data = eval(input('Enter a dic'))\n",
    "print(data , type(data))"
   ]
  },
  {
   "cell_type": "markdown",
   "metadata": {},
   "source": [
    "# 3. type casting - dict()\n",
    "\n",
    "- dict function takes a seq of inner seq where inner seq will have a pair of value and out of the pair the first value will be a key and second value will be a value"
   ]
  },
  {
   "cell_type": "code",
   "execution_count": 11,
   "metadata": {},
   "outputs": [
    {
     "name": "stdout",
     "output_type": "stream",
     "text": [
      "{1: 'a', 2: 'b', 3: 'c', 4: 'd', 5: 'e'}\n"
     ]
    }
   ],
   "source": [
    "a = [(1,'a'),(2,'b'),(3,'c'),(4,'d'),(5,'e')]\n",
    "print(dict(a))"
   ]
  },
  {
   "cell_type": "markdown",
   "metadata": {},
   "source": [
    "# 4. zip function"
   ]
  },
  {
   "cell_type": "code",
   "execution_count": null,
   "metadata": {},
   "outputs": [],
   "source": [
    "syntax zip(iter1 , iter2)"
   ]
  },
  {
   "cell_type": "code",
   "execution_count": 33,
   "metadata": {},
   "outputs": [
    {
     "data": {
      "text/plain": [
       "{1: 'a', 2: 'b', 3: 'c'}"
      ]
     },
     "execution_count": 33,
     "metadata": {},
     "output_type": "execute_result"
    }
   ],
   "source": [
    "dict(zip([1,2,3] , ['a' , 'b' , 'c']))"
   ]
  },
  {
   "cell_type": "code",
   "execution_count": null,
   "metadata": {},
   "outputs": [],
   "source": [
    "# - it is a collection of key value pair\n",
    "# - a key, value is called as item\n",
    "# - items are sep by commas(,)\n",
    "# - key and value are seperated by (:)\n",
    "\n",
    "emp_data = {'emp1' : {'age':24 , 'salary':24 , 'name':'Afsan' } , \n",
    "            'emp2' : {'age':23 , 'salary':70 , 'name':'Rahul' }}"
   ]
  },
  {
   "cell_type": "code",
   "execution_count": 21,
   "metadata": {},
   "outputs": [
    {
     "name": "stdout",
     "output_type": "stream",
     "text": [
      "{'emp1': {'age': 24, 'salary': 24, 'name': 'Afsan'}, 'emp2': {'age': 23, 'salary': 70, 'name': 'Rahul'}, 'emp3': {'age': 23, 'salary': 70, 'name': 'Rahul'}}\n"
     ]
    }
   ],
   "source": [
    "# 5. key cannot be duplicated whereas value can be duplicated\n",
    "\n",
    "emp_data = {'emp1' : {'age':24 , 'salary':24 , 'name':'Afsan' } , \n",
    "            'emp2' : {'age':23 , 'salary':70 , 'name':'Rahul' } , \n",
    "            'emp3' : {'age':23 , 'salary':70 , 'name':'Rahul' }}\n",
    "\n",
    "print(emp_data)"
   ]
  },
  {
   "cell_type": "code",
   "execution_count": 23,
   "metadata": {},
   "outputs": [
    {
     "name": "stdout",
     "output_type": "stream",
     "text": [
      "{'emp1': {'age': 24, 'salary': 24, 'name': 'Afsan'}, 'emp2': {'age': 23, 'salary': 70, 'name': 'Gaurav'}}\n"
     ]
    }
   ],
   "source": [
    "emp_data = {'emp1' : {'age':24 , 'salary':24 , 'name':'Afsan' } , \n",
    "            'emp2' : {'age':23 , 'salary':70 , 'name':'Rahul' } , \n",
    "            'emp2' : {'age':23 , 'salary':70 , 'name':'Gaurav' }}\n",
    "\n",
    "print(emp_data)"
   ]
  },
  {
   "cell_type": "code",
   "execution_count": 25,
   "metadata": {},
   "outputs": [
    {
     "name": "stdout",
     "output_type": "stream",
     "text": [
      "{'emp1': {'age': 27, 'name': 'Afsan'}, 'emp2': {'age': 70, 'name': 'Gaurav'}}\n"
     ]
    }
   ],
   "source": [
    "emp_data = {'emp1' : {'age':24 , 'age':27 , 'name':'Afsan' } , \n",
    "            'emp2' : {'age':23 , 'age':70 , 'name':'Rahul' } , \n",
    "            'emp2' : {'age':23 , 'age':70 , 'name':'Gaurav' }}\n",
    "\n",
    "print(emp_data)"
   ]
  },
  {
   "cell_type": "markdown",
   "metadata": {},
   "source": [
    "### Note - if you have the muliple key with the same name then the latest one will be considered"
   ]
  },
  {
   "cell_type": "code",
   "execution_count": null,
   "metadata": {},
   "outputs": [],
   "source": [
    "# 6. key can be only immutable\n",
    "\n",
    "emp_data = {'emp1' : {'age':24 , 'age':27 , 'name':'Afsan' } , \n",
    "            'emp2' : {'age':23 , 'age':70 , 'name':'Rahul' } , \n",
    "            'emp2' : {'age':23 , 'age':70 , 'name':'Gaurav' }}\n",
    "\n",
    "print(emp_data)"
   ]
  },
  {
   "cell_type": "code",
   "execution_count": 26,
   "metadata": {},
   "outputs": [
    {
     "name": "stdout",
     "output_type": "stream",
     "text": [
      "{1: {'age': 27, 'name': 'Afsan'}, 'emp2': {'age': 70, 'name': 'Gaurav'}}\n"
     ]
    }
   ],
   "source": [
    "emp_data = { 1 : {'age':24 , 'age':27 , 'name':'Afsan' } , \n",
    "            'emp2' : {'age':23 , 'age':70 , 'name':'Rahul' } , \n",
    "            'emp2' : {'age':23 , 'age':70 , 'name':'Gaurav' }}\n",
    "\n",
    "print(emp_data)"
   ]
  },
  {
   "cell_type": "code",
   "execution_count": 29,
   "metadata": {},
   "outputs": [
    {
     "name": "stdout",
     "output_type": "stream",
     "text": [
      "{(6+7j): {'age': 27, 'name': 'Afsan'}, 'emp2': {'age': 70, 'name': 'Gaurav'}}\n"
     ]
    }
   ],
   "source": [
    "emp_data = { (6+7j) : {'age':24 , 'age':27 , 'name':'Afsan' } , \n",
    "            'emp2' : {'age':23 , 'age':70 , 'name':'Rahul' } , \n",
    "            'emp2' : {'age':23 , 'age':70 , 'name':'Gaurav' }}\n",
    "\n",
    "print(emp_data)"
   ]
  },
  {
   "cell_type": "code",
   "execution_count": null,
   "metadata": {},
   "outputs": [],
   "source": [
    "key can be\n",
    "\n",
    "- int\n",
    "- string\n",
    "- float\n",
    "- tuple\n",
    "- Bool\n",
    "- complex\n",
    "\n",
    "value can be\n",
    "\n",
    "- any data types"
   ]
  },
  {
   "cell_type": "code",
   "execution_count": 30,
   "metadata": {},
   "outputs": [
    {
     "name": "stdout",
     "output_type": "stream",
     "text": [
      "{(6+7j): {'age': 27, 'name': 'Afsan'}, 'emp2': (1, 2, 3)}\n"
     ]
    }
   ],
   "source": [
    "# value can be anything of your choice ( immutable , mutable)\n",
    "\n",
    "emp_data = { (6+7j) : {'age':24 , 'age':27 , 'name':'Afsan' } , \n",
    "            'emp2' :1 , \n",
    "            'emp2' : (1,2,3)}\n",
    "\n",
    "print(emp_data)"
   ]
  },
  {
   "cell_type": "code",
   "execution_count": 34,
   "metadata": {},
   "outputs": [],
   "source": [
    "# - is not a seq data type so der is no indexing , slicing , concatination , repetition\n",
    "\n",
    "emp_data = { (6+7j) : {'age':24 , 'age':27 , 'name':'Afsan' } , \n",
    "            'emp2' :1 , \n",
    "            'emp2' : (1,2,3)}"
   ]
  },
  {
   "cell_type": "code",
   "execution_count": 35,
   "metadata": {},
   "outputs": [
    {
     "ename": "KeyError",
     "evalue": "0",
     "output_type": "error",
     "traceback": [
      "\u001b[0;31m---------------------------------------------------------------------------\u001b[0m",
      "\u001b[0;31mKeyError\u001b[0m                                  Traceback (most recent call last)",
      "\u001b[0;32m<ipython-input-35-ca9c125ccff5>\u001b[0m in \u001b[0;36m<module>\u001b[0;34m\u001b[0m\n\u001b[1;32m      1\u001b[0m \u001b[0;31m# slcing\u001b[0m\u001b[0;34m\u001b[0m\u001b[0;34m\u001b[0m\u001b[0;34m\u001b[0m\u001b[0m\n\u001b[0;32m----> 2\u001b[0;31m \u001b[0memp_data\u001b[0m\u001b[0;34m[\u001b[0m\u001b[0;36m0\u001b[0m\u001b[0;34m]\u001b[0m\u001b[0;34m\u001b[0m\u001b[0;34m\u001b[0m\u001b[0m\n\u001b[0m",
      "\u001b[0;31mKeyError\u001b[0m: 0"
     ]
    }
   ],
   "source": [
    "# indexing\n",
    "emp_data[0]"
   ]
  },
  {
   "cell_type": "code",
   "execution_count": 36,
   "metadata": {},
   "outputs": [
    {
     "ename": "TypeError",
     "evalue": "unhashable type: 'slice'",
     "output_type": "error",
     "traceback": [
      "\u001b[0;31m---------------------------------------------------------------------------\u001b[0m",
      "\u001b[0;31mTypeError\u001b[0m                                 Traceback (most recent call last)",
      "\u001b[0;32m<ipython-input-36-4cc70bb8174b>\u001b[0m in \u001b[0;36m<module>\u001b[0;34m\u001b[0m\n\u001b[1;32m      1\u001b[0m \u001b[0;31m# slicing\u001b[0m\u001b[0;34m\u001b[0m\u001b[0;34m\u001b[0m\u001b[0;34m\u001b[0m\u001b[0m\n\u001b[0;32m----> 2\u001b[0;31m \u001b[0memp_data\u001b[0m\u001b[0;34m[\u001b[0m\u001b[0;36m0\u001b[0m\u001b[0;34m:\u001b[0m\u001b[0;36m2\u001b[0m\u001b[0;34m]\u001b[0m\u001b[0;34m\u001b[0m\u001b[0;34m\u001b[0m\u001b[0m\n\u001b[0m",
      "\u001b[0;31mTypeError\u001b[0m: unhashable type: 'slice'"
     ]
    }
   ],
   "source": [
    "# slicing\n",
    "emp_data[0:2]"
   ]
  },
  {
   "cell_type": "code",
   "execution_count": 37,
   "metadata": {},
   "outputs": [
    {
     "ename": "TypeError",
     "evalue": "unsupported operand type(s) for +: 'dict' and 'dict'",
     "output_type": "error",
     "traceback": [
      "\u001b[0;31m---------------------------------------------------------------------------\u001b[0m",
      "\u001b[0;31mTypeError\u001b[0m                                 Traceback (most recent call last)",
      "\u001b[0;32m<ipython-input-37-6912cff73404>\u001b[0m in \u001b[0;36m<module>\u001b[0;34m\u001b[0m\n\u001b[1;32m      1\u001b[0m \u001b[0;31m# concatination\u001b[0m\u001b[0;34m\u001b[0m\u001b[0;34m\u001b[0m\u001b[0;34m\u001b[0m\u001b[0m\n\u001b[1;32m      2\u001b[0m \u001b[0;34m\u001b[0m\u001b[0m\n\u001b[0;32m----> 3\u001b[0;31m \u001b[0memp_data\u001b[0m \u001b[0;34m+\u001b[0m \u001b[0memp_data\u001b[0m\u001b[0;34m\u001b[0m\u001b[0;34m\u001b[0m\u001b[0m\n\u001b[0m",
      "\u001b[0;31mTypeError\u001b[0m: unsupported operand type(s) for +: 'dict' and 'dict'"
     ]
    }
   ],
   "source": [
    "# concatination\n",
    "\n",
    "emp_data + emp_data"
   ]
  },
  {
   "cell_type": "code",
   "execution_count": 38,
   "metadata": {},
   "outputs": [
    {
     "ename": "TypeError",
     "evalue": "unsupported operand type(s) for *: 'dict' and 'int'",
     "output_type": "error",
     "traceback": [
      "\u001b[0;31m---------------------------------------------------------------------------\u001b[0m",
      "\u001b[0;31mTypeError\u001b[0m                                 Traceback (most recent call last)",
      "\u001b[0;32m<ipython-input-38-bbbe5ee39cc0>\u001b[0m in \u001b[0;36m<module>\u001b[0;34m\u001b[0m\n\u001b[1;32m      1\u001b[0m \u001b[0;31m# repetition\u001b[0m\u001b[0;34m\u001b[0m\u001b[0;34m\u001b[0m\u001b[0;34m\u001b[0m\u001b[0m\n\u001b[1;32m      2\u001b[0m \u001b[0;34m\u001b[0m\u001b[0m\n\u001b[0;32m----> 3\u001b[0;31m \u001b[0memp_data\u001b[0m \u001b[0;34m*\u001b[0m \u001b[0;36m2\u001b[0m\u001b[0;34m\u001b[0m\u001b[0;34m\u001b[0m\u001b[0m\n\u001b[0m",
      "\u001b[0;31mTypeError\u001b[0m: unsupported operand type(s) for *: 'dict' and 'int'"
     ]
    }
   ],
   "source": [
    "# repetition\n",
    "\n",
    "emp_data * 2"
   ]
  },
  {
   "cell_type": "code",
   "execution_count": 40,
   "metadata": {},
   "outputs": [
    {
     "name": "stdout",
     "output_type": "stream",
     "text": [
      "140314617350720\n",
      "140314617350656\n",
      "True\n"
     ]
    }
   ],
   "source": [
    "# identity\n",
    "\n",
    "# op - is and is not\n",
    "# - bool values\n",
    "\n",
    "a = {1:'a'}\n",
    "b = {1:'a'}\n",
    "\n",
    "\n",
    "print(id(a))\n",
    "print(id(b))\n",
    "\n",
    "print(a is not b)"
   ]
  },
  {
   "cell_type": "code",
   "execution_count": 56,
   "metadata": {},
   "outputs": [],
   "source": [
    "# Memership op\n",
    "# - membership operator is applicable only on keys and return True if key is present otherwise False\n",
    "\n",
    "\n",
    "emp_data = { (6+7j) : {'age':24 , 'age':27 , 'name':'Afsan' } , \n",
    "            'emp2' :1 , \n",
    "            'emp2' : (1,2,3)}"
   ]
  },
  {
   "cell_type": "code",
   "execution_count": 57,
   "metadata": {},
   "outputs": [
    {
     "name": "stdout",
     "output_type": "stream",
     "text": [
      "{(6+7j): {'age': 27, 'name': 'Afsan'}, 'emp2': (1, 2, 3)}\n"
     ]
    }
   ],
   "source": [
    "print(emp_data)"
   ]
  },
  {
   "cell_type": "code",
   "execution_count": 64,
   "metadata": {},
   "outputs": [
    {
     "ename": "TypeError",
     "evalue": "tuple indices must be integers or slices, not str",
     "output_type": "error",
     "traceback": [
      "\u001b[0;31m---------------------------------------------------------------------------\u001b[0m",
      "\u001b[0;31mTypeError\u001b[0m                                 Traceback (most recent call last)",
      "\u001b[0;32m<ipython-input-64-ecfc01b149e5>\u001b[0m in \u001b[0;36m<module>\u001b[0;34m\u001b[0m\n\u001b[0;32m----> 1\u001b[0;31m \u001b[0;36m1\u001b[0m \u001b[0;32min\u001b[0m \u001b[0memp_data\u001b[0m\u001b[0;34m[\u001b[0m\u001b[0;34m'emp2'\u001b[0m\u001b[0;34m]\u001b[0m\u001b[0;34m[\u001b[0m\u001b[0;34m'name'\u001b[0m\u001b[0;34m]\u001b[0m\u001b[0;34m\u001b[0m\u001b[0;34m\u001b[0m\u001b[0m\n\u001b[0m",
      "\u001b[0;31mTypeError\u001b[0m: tuple indices must be integers or slices, not str"
     ]
    }
   ],
   "source": [
    "1 in emp_data['emp2']['name']"
   ]
  },
  {
   "cell_type": "code",
   "execution_count": 59,
   "metadata": {},
   "outputs": [
    {
     "data": {
      "text/plain": [
       "True"
      ]
     },
     "execution_count": 59,
     "metadata": {},
     "output_type": "execute_result"
    }
   ],
   "source": [
    "1 in emp_data['emp2']"
   ]
  },
  {
   "cell_type": "code",
   "execution_count": 49,
   "metadata": {},
   "outputs": [],
   "source": [
    "# Accesing a value inside a dictionary\n",
    "\n",
    "employee_details = { 'emp1' : {'name':'Afsan' , 'age': 23 , 'salary':70000} ,\n",
    "                    'emp2' : {'name':'rahul' , 'age': 23 , 'salary':6000}}\n"
   ]
  },
  {
   "cell_type": "code",
   "execution_count": 2,
   "metadata": {},
   "outputs": [
    {
     "data": {
      "text/plain": [
       "'Afsan'"
      ]
     },
     "execution_count": 2,
     "metadata": {},
     "output_type": "execute_result"
    }
   ],
   "source": [
    "# extract afsaan from a employee_details\n",
    "employee_details = { 'emp1' : {'name':'Afsan' , 'age': 23 , 'salary':70000} ,\n",
    "                    'emp2' : {'name':'rahul' , 'age': 23 , 'salary':6000}}\n",
    "\n",
    "employee_details['emp1']['name']"
   ]
  },
  {
   "cell_type": "code",
   "execution_count": 54,
   "metadata": {},
   "outputs": [
    {
     "data": {
      "text/plain": [
       "'luhar'"
      ]
     },
     "execution_count": 54,
     "metadata": {},
     "output_type": "execute_result"
    }
   ],
   "source": [
    "# extract Rahul from a employee_details and reverse it\n",
    "\n",
    "employee_details['emp2']['name'][::-1]"
   ]
  },
  {
   "cell_type": "code",
   "execution_count": 65,
   "metadata": {},
   "outputs": [],
   "source": [
    "employee_details = { 'emp1' : {'name':'Afsan' , 'age': 23 , 'salary':70000} ,\n",
    "                    'emp2' : {'name':'rahul' , 'age': 26 , 'salary':6000} , \n",
    "                   'emp3' : {'name':'saurav' , 'age': 27 , 'salary':6000} , }"
   ]
  },
  {
   "cell_type": "code",
   "execution_count": 69,
   "metadata": {},
   "outputs": [
    {
     "name": "stdout",
     "output_type": "stream",
     "text": [
      "rahul\n",
      "saurav\n"
     ]
    }
   ],
   "source": [
    "# extract all the name where age is more than 25\n",
    "\n",
    "for i in employee_details.keys():\n",
    "    if employee_details[i]['age'] > 25:\n",
    "        print(employee_details[i]['name'])"
   ]
  },
  {
   "cell_type": "markdown",
   "metadata": {},
   "source": [
    "# update the dic"
   ]
  },
  {
   "cell_type": "markdown",
   "metadata": {},
   "source": [
    "1. if key is not present\n",
    "\n",
    "- add a new key"
   ]
  },
  {
   "cell_type": "code",
   "execution_count": 72,
   "metadata": {},
   "outputs": [],
   "source": [
    "employee_details = { 'emp1' : {'name':'Afsan' , 'age': 23 , 'salary':70000} ,\n",
    "                    'emp2' : {'name':'rahul' , 'age': 26 , 'salary':6000} , \n",
    "                   'emp3' : {'name':'saurav' , 'age': 27 , 'salary':6000} , }"
   ]
  },
  {
   "cell_type": "code",
   "execution_count": 73,
   "metadata": {},
   "outputs": [
    {
     "name": "stdout",
     "output_type": "stream",
     "text": [
      "{'emp1': {'name': 'Afsan', 'age': 23, 'salary': 70000}, 'emp2': {'name': 'rahul', 'age': 26, 'salary': 6000}, 'emp3': {'name': 'saurav', 'age': 27, 'salary': 6000}, 'emp4': {'name': 'Vani', 'age': 27, 'salary': 6000000}}\n"
     ]
    }
   ],
   "source": [
    "employee_details['emp4'] = {'name':'Vani' , 'age': 27 , 'salary':6000000}\n",
    "\n",
    "print(employee_details)"
   ]
  },
  {
   "cell_type": "code",
   "execution_count": 75,
   "metadata": {},
   "outputs": [
    {
     "name": "stdout",
     "output_type": "stream",
     "text": [
      "{'emp1': {'name': 'Afsan', 'age': 23, 'salary': 70000}, 'emp2': {'name': 'rahul', 'age': 26, 'salary': 6000}, 'emp3': {'name': 'saurav', 'age': 27, 'salary': 6000}, 'emp4': {'name': 'pavani', 'age': 25, 'salary': '1 crore'}}\n"
     ]
    }
   ],
   "source": [
    "# 2. if is present\n",
    "\n",
    "# - it will update the key\n",
    "\n",
    "employee_details = {'emp1': {'name': 'Afsan', 'age': 23, 'salary': 70000}, \n",
    " 'emp2': {'name': 'rahul', 'age': 26, 'salary': 6000}, \n",
    " 'emp3': {'name': 'saurav', 'age': 27, 'salary': 6000}, \n",
    " 'emp4': {'name': 'Vani', 'age': 27, 'salary': 6000000}}\n",
    "\n",
    "employee_details['emp4'] = {'name':'pavani' , 'age': 25 , 'salary':'1 crore'}\n",
    "\n",
    "print(employee_details)"
   ]
  },
  {
   "cell_type": "markdown",
   "metadata": {},
   "source": [
    "# methods present inside a Dict"
   ]
  },
  {
   "cell_type": "code",
   "execution_count": 76,
   "metadata": {},
   "outputs": [
    {
     "name": "stdout",
     "output_type": "stream",
     "text": [
      "['__class__', '__contains__', '__delattr__', '__delitem__', '__dir__', '__doc__', '__eq__', '__format__', '__ge__', '__getattribute__', '__getitem__', '__gt__', '__hash__', '__init__', '__init_subclass__', '__iter__', '__le__', '__len__', '__lt__', '__ne__', '__new__', '__reduce__', '__reduce_ex__', '__repr__', '__reversed__', '__setattr__', '__setitem__', '__sizeof__', '__str__', '__subclasshook__', 'clear', 'copy', 'fromkeys', 'get', 'items', 'keys', 'pop', 'popitem', 'setdefault', 'update', 'values']\n"
     ]
    }
   ],
   "source": [
    "print(dir(dict))"
   ]
  },
  {
   "cell_type": "markdown",
   "metadata": {},
   "source": [
    "# Methods to add and access the element from the dic\n",
    "\n",
    "1. get\n",
    "2. setdeafult\n",
    "3. update"
   ]
  },
  {
   "cell_type": "code",
   "execution_count": null,
   "metadata": {},
   "outputs": [],
   "source": [
    "## 1.get\n",
    "\n",
    "- if key is present it returns the value , else returns a deafult value"
   ]
  },
  {
   "cell_type": "code",
   "execution_count": 77,
   "metadata": {},
   "outputs": [
    {
     "name": "stdout",
     "output_type": "stream",
     "text": [
      "{'name': 'rahul', 'age': 26, 'salary': 6000}\n"
     ]
    }
   ],
   "source": [
    "# a. if key is present\n",
    "\n",
    "employee_details = {'emp1': {'name': 'Afsan', 'age': 23, 'salary': 70000}, \n",
    " 'emp2': {'name': 'rahul', 'age': 26, 'salary': 6000}, \n",
    " 'emp3': {'name': 'saurav', 'age': 27, 'salary': 6000}, \n",
    " 'emp4': {'name': 'Vani', 'age': 27, 'salary': 6000000}}\n",
    "\n",
    "print(employee_details.get('emp2' , None))"
   ]
  },
  {
   "cell_type": "code",
   "execution_count": 78,
   "metadata": {},
   "outputs": [
    {
     "name": "stdout",
     "output_type": "stream",
     "text": [
      "None\n"
     ]
    }
   ],
   "source": [
    "# b. if jey is not present\n",
    "\n",
    "employee_details = {'emp1': {'name': 'Afsan', 'age': 23, 'salary': 70000}, \n",
    " 'emp2': {'name': 'rahul', 'age': 26, 'salary': 6000}, \n",
    " 'emp3': {'name': 'saurav', 'age': 27, 'salary': 6000}, \n",
    " 'emp4': {'name': 'Vani', 'age': 27, 'salary': 6000000}}\n",
    "\n",
    "print(employee_details.get('emp10' , None))"
   ]
  },
  {
   "cell_type": "code",
   "execution_count": 79,
   "metadata": {},
   "outputs": [
    {
     "name": "stdout",
     "output_type": "stream",
     "text": [
      "not found\n"
     ]
    }
   ],
   "source": [
    "# you can give you own custom message\n",
    "\n",
    "employee_details = {'emp1': {'name': 'Afsan', 'age': 23, 'salary': 70000}, \n",
    " 'emp2': {'name': 'rahul', 'age': 26, 'salary': 6000}, \n",
    " 'emp3': {'name': 'saurav', 'age': 27, 'salary': 6000}, \n",
    " 'emp4': {'name': 'Vani', 'age': 27, 'salary': 6000000}}\n",
    "\n",
    "print(employee_details.get('emp10' , 'not found'))"
   ]
  },
  {
   "cell_type": "markdown",
   "metadata": {},
   "source": [
    "2. setdafault\n",
    "\n",
    "Insert the key with value of the deafult if key is not in the dic , else return the value of the key"
   ]
  },
  {
   "cell_type": "code",
   "execution_count": 80,
   "metadata": {},
   "outputs": [
    {
     "name": "stdout",
     "output_type": "stream",
     "text": [
      "{'name': 'saurav', 'age': 27, 'salary': 6000}\n"
     ]
    }
   ],
   "source": [
    "# a. if key is present\n",
    "\n",
    "employee_details = {'emp1': {'name': 'Afsan', 'age': 23, 'salary': 70000}, \n",
    " 'emp2': {'name': 'rahul', 'age': 26, 'salary': 6000}, \n",
    " 'emp3': {'name': 'saurav', 'age': 27, 'salary': 6000}, \n",
    " 'emp4': {'name': 'Vani', 'age': 27, 'salary': 6000000}}\n",
    "\n",
    "print(employee_details.setdefault('emp3' , None))"
   ]
  },
  {
   "cell_type": "code",
   "execution_count": 81,
   "metadata": {},
   "outputs": [
    {
     "name": "stdout",
     "output_type": "stream",
     "text": [
      "None\n"
     ]
    }
   ],
   "source": [
    "# b. if key is not present\n",
    "\n",
    "employee_details = {'emp1': {'name': 'Afsan', 'age': 23, 'salary': 70000}, \n",
    " 'emp2': {'name': 'rahul', 'age': 26, 'salary': 6000}, \n",
    " 'emp3': {'name': 'saurav', 'age': 27, 'salary': 6000}, \n",
    " 'emp4': {'name': 'Vani', 'age': 27, 'salary': 6000000}}\n",
    "\n",
    "print(employee_details.setdefault('emp10' , None))"
   ]
  },
  {
   "cell_type": "code",
   "execution_count": 82,
   "metadata": {},
   "outputs": [
    {
     "data": {
      "text/plain": [
       "{'emp1': {'name': 'Afsan', 'age': 23, 'salary': 70000},\n",
       " 'emp2': {'name': 'rahul', 'age': 26, 'salary': 6000},\n",
       " 'emp3': {'name': 'saurav', 'age': 27, 'salary': 6000},\n",
       " 'emp4': {'name': 'Vani', 'age': 27, 'salary': 6000000},\n",
       " 'emp10': None}"
      ]
     },
     "execution_count": 82,
     "metadata": {},
     "output_type": "execute_result"
    }
   ],
   "source": [
    "employee_details"
   ]
  },
  {
   "cell_type": "code",
   "execution_count": 85,
   "metadata": {},
   "outputs": [
    {
     "name": "stdout",
     "output_type": "stream",
     "text": [
      "{'name': 'Vani', 'age': 27, 'salary': 6000000}\n"
     ]
    }
   ],
   "source": [
    "# you can give you won custom message\n",
    "\n",
    "employee_details = {'emp1': {'name': 'Afsan', 'age': 23, 'salary': 70000}, \n",
    " 'emp2': {'name': 'rahul', 'age': 26, 'salary': 6000}, \n",
    " 'emp3': {'name': 'saurav', 'age': 27, 'salary': 6000}, \n",
    " 'emp4': {'name': 'Vani', 'age': 27, 'salary': 6000000}}\n",
    "\n",
    "print(employee_details.setdefault('emp10' , {'name': 'Vani', 'age': 27, 'salary': 6000000}))"
   ]
  },
  {
   "cell_type": "code",
   "execution_count": 86,
   "metadata": {},
   "outputs": [
    {
     "data": {
      "text/plain": [
       "{'emp1': {'name': 'Afsan', 'age': 23, 'salary': 70000},\n",
       " 'emp2': {'name': 'rahul', 'age': 26, 'salary': 6000},\n",
       " 'emp3': {'name': 'saurav', 'age': 27, 'salary': 6000},\n",
       " 'emp4': {'name': 'Vani', 'age': 27, 'salary': 6000000},\n",
       " 'emp10': {'name': 'Vani', 'age': 27, 'salary': 6000000}}"
      ]
     },
     "execution_count": 86,
     "metadata": {},
     "output_type": "execute_result"
    }
   ],
   "source": [
    "employee_details"
   ]
  },
  {
   "cell_type": "code",
   "execution_count": null,
   "metadata": {},
   "outputs": [],
   "source": []
  }
 ],
 "metadata": {
  "kernelspec": {
   "display_name": "Python 3",
   "language": "python",
   "name": "python3"
  },
  "language_info": {
   "codemirror_mode": {
    "name": "ipython",
    "version": 3
   },
   "file_extension": ".py",
   "mimetype": "text/x-python",
   "name": "python",
   "nbconvert_exporter": "python",
   "pygments_lexer": "ipython3",
   "version": "3.8.8"
  }
 },
 "nbformat": 4,
 "nbformat_minor": 4
}
