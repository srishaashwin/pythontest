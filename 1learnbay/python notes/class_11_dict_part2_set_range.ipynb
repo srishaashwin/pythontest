{
 "cells": [
  {
   "cell_type": "code",
   "execution_count": 1,
   "metadata": {},
   "outputs": [],
   "source": [
    "t = (4, 6, 2, 8, 3, 90, 88, 90, 34, 22, 46,90) "
   ]
  },
  {
   "cell_type": "code",
   "execution_count": 2,
   "metadata": {},
   "outputs": [
    {
     "data": {
      "text/plain": [
       "['__add__',\n",
       " '__class__',\n",
       " '__contains__',\n",
       " '__delattr__',\n",
       " '__dir__',\n",
       " '__doc__',\n",
       " '__eq__',\n",
       " '__format__',\n",
       " '__ge__',\n",
       " '__getattribute__',\n",
       " '__getitem__',\n",
       " '__getnewargs__',\n",
       " '__gt__',\n",
       " '__hash__',\n",
       " '__init__',\n",
       " '__init_subclass__',\n",
       " '__iter__',\n",
       " '__le__',\n",
       " '__len__',\n",
       " '__lt__',\n",
       " '__mul__',\n",
       " '__ne__',\n",
       " '__new__',\n",
       " '__reduce__',\n",
       " '__reduce_ex__',\n",
       " '__repr__',\n",
       " '__rmul__',\n",
       " '__setattr__',\n",
       " '__sizeof__',\n",
       " '__str__',\n",
       " '__subclasshook__',\n",
       " 'count',\n",
       " 'index']"
      ]
     },
     "execution_count": 2,
     "metadata": {},
     "output_type": "execute_result"
    }
   ],
   "source": [
    "dir(t)"
   ]
  },
  {
   "cell_type": "code",
   "execution_count": 3,
   "metadata": {},
   "outputs": [
    {
     "data": {
      "text/plain": [
       "5"
      ]
     },
     "execution_count": 3,
     "metadata": {},
     "output_type": "execute_result"
    }
   ],
   "source": [
    "t = (4, 6, 2, 8, 3, 90, 88, 90, 34, 22, 46,90) \n",
    "\n",
    "t.index(90)"
   ]
  },
  {
   "cell_type": "code",
   "execution_count": 7,
   "metadata": {},
   "outputs": [
    {
     "data": {
      "text/plain": [
       "7"
      ]
     },
     "execution_count": 7,
     "metadata": {},
     "output_type": "execute_result"
    }
   ],
   "source": [
    "t = (4, 6, 2, 8, 3, 90, 88, 90, 34, 22, 46,90) \n",
    "\n",
    "t.index(90 , 6 , 8)"
   ]
  },
  {
   "cell_type": "code",
   "execution_count": null,
   "metadata": {},
   "outputs": [],
   "source": [
    "# 3. update\n",
    "\n",
    "update method in dic is similar extend in list"
   ]
  },
  {
   "cell_type": "code",
   "execution_count": 9,
   "metadata": {},
   "outputs": [],
   "source": [
    "a = [1,2,3]\n",
    "b = [6,7]\n",
    "a.append(b)"
   ]
  },
  {
   "cell_type": "code",
   "execution_count": 10,
   "metadata": {},
   "outputs": [
    {
     "data": {
      "text/plain": [
       "[1, 2, 3, [6, 7]]"
      ]
     },
     "execution_count": 10,
     "metadata": {},
     "output_type": "execute_result"
    }
   ],
   "source": [
    "a"
   ]
  },
  {
   "cell_type": "code",
   "execution_count": 11,
   "metadata": {},
   "outputs": [],
   "source": [
    "a = [1,2,3]\n",
    "b = [6,7]\n",
    "a.extend(b)"
   ]
  },
  {
   "cell_type": "code",
   "execution_count": 12,
   "metadata": {},
   "outputs": [
    {
     "data": {
      "text/plain": [
       "[1, 2, 3, 6, 7]"
      ]
     },
     "execution_count": 12,
     "metadata": {},
     "output_type": "execute_result"
    }
   ],
   "source": [
    "a"
   ]
  },
  {
   "cell_type": "code",
   "execution_count": 16,
   "metadata": {},
   "outputs": [],
   "source": [
    "employee_details = {'emp1': {'name': 'Afsan', 'age': 23, 'salary': 70000}, \n",
    " 'emp2': {'name': 'rahul', 'age': 26, 'salary': 6000}, \n",
    " 'emp3': {'name': 'saurav', 'age': 27, 'salary': 6000}, \n",
    " 'emp4': {'name': 'Vani', 'age': 27, 'salary': 6000000}}\n",
    "\n",
    "new_employee = {'abc':678,\n",
    "               'emp6': {'name': 'Afsan', 'age': 23, 'salary': 70000}}"
   ]
  },
  {
   "cell_type": "code",
   "execution_count": 17,
   "metadata": {},
   "outputs": [],
   "source": [
    "employee_details.update(new_employee)"
   ]
  },
  {
   "cell_type": "code",
   "execution_count": 18,
   "metadata": {},
   "outputs": [
    {
     "data": {
      "text/plain": [
       "{'emp1': {'name': 'Afsan', 'age': 23, 'salary': 70000},\n",
       " 'emp2': {'name': 'rahul', 'age': 26, 'salary': 6000},\n",
       " 'emp3': {'name': 'saurav', 'age': 27, 'salary': 6000},\n",
       " 'emp4': {'name': 'Vani', 'age': 27, 'salary': 6000000},\n",
       " 'abc': 678,\n",
       " 'emp6': {'name': 'Afsan', 'age': 23, 'salary': 70000}}"
      ]
     },
     "execution_count": 18,
     "metadata": {},
     "output_type": "execute_result"
    }
   ],
   "source": [
    "employee_details"
   ]
  },
  {
   "cell_type": "code",
   "execution_count": 20,
   "metadata": {},
   "outputs": [],
   "source": [
    "# methods to delete the items from the dic\n",
    "\n",
    "# 1. pop\n",
    "# 2. popitem"
   ]
  },
  {
   "cell_type": "markdown",
   "metadata": {},
   "source": [
    "# 1. pop\n",
    "\n",
    "removes the specified key and return the corresponing value, if the key is not found, default returned if given other wise key error is raised"
   ]
  },
  {
   "cell_type": "code",
   "execution_count": 21,
   "metadata": {},
   "outputs": [
    {
     "name": "stdout",
     "output_type": "stream",
     "text": [
      "{'name': 'Afsan', 'age': 23, 'salary': 70000}\n"
     ]
    }
   ],
   "source": [
    "# a.) key is present\n",
    "\n",
    "employee_details = {'emp1': {'name': 'Afsan', 'age': 23, 'salary': 70000}, \n",
    " 'emp2': {'name': 'rahul', 'age': 26, 'salary': 6000}, \n",
    " 'emp3': {'name': 'saurav', 'age': 27, 'salary': 6000}, \n",
    " 'emp4': {'name': 'Vani', 'age': 27, 'salary': 6000000}}\n",
    "\n",
    "print(employee_details.pop('emp1'))"
   ]
  },
  {
   "cell_type": "code",
   "execution_count": 22,
   "metadata": {},
   "outputs": [
    {
     "data": {
      "text/plain": [
       "{'emp2': {'name': 'rahul', 'age': 26, 'salary': 6000},\n",
       " 'emp3': {'name': 'saurav', 'age': 27, 'salary': 6000},\n",
       " 'emp4': {'name': 'Vani', 'age': 27, 'salary': 6000000}}"
      ]
     },
     "execution_count": 22,
     "metadata": {},
     "output_type": "execute_result"
    }
   ],
   "source": [
    "employee_details"
   ]
  },
  {
   "cell_type": "code",
   "execution_count": 23,
   "metadata": {},
   "outputs": [
    {
     "ename": "KeyError",
     "evalue": "'emp5'",
     "output_type": "error",
     "traceback": [
      "\u001b[0;31m---------------------------------------------------------------------------\u001b[0m",
      "\u001b[0;31mKeyError\u001b[0m                                  Traceback (most recent call last)",
      "\u001b[0;32m<ipython-input-23-e0539483bc68>\u001b[0m in \u001b[0;36m<module>\u001b[0;34m\u001b[0m\n\u001b[1;32m      6\u001b[0m  'emp4': {'name': 'Vani', 'age': 27, 'salary': 6000000}}\n\u001b[1;32m      7\u001b[0m \u001b[0;34m\u001b[0m\u001b[0m\n\u001b[0;32m----> 8\u001b[0;31m \u001b[0mprint\u001b[0m\u001b[0;34m(\u001b[0m\u001b[0memployee_details\u001b[0m\u001b[0;34m.\u001b[0m\u001b[0mpop\u001b[0m\u001b[0;34m(\u001b[0m\u001b[0;34m'emp5'\u001b[0m\u001b[0;34m)\u001b[0m\u001b[0;34m)\u001b[0m\u001b[0;34m\u001b[0m\u001b[0;34m\u001b[0m\u001b[0m\n\u001b[0m",
      "\u001b[0;31mKeyError\u001b[0m: 'emp5'"
     ]
    }
   ],
   "source": [
    "# b.) key is not present\n",
    "\n",
    "employee_details = {'emp1': {'name': 'Afsan', 'age': 23, 'salary': 70000}, \n",
    " 'emp2': {'name': 'rahul', 'age': 26, 'salary': 6000}, \n",
    " 'emp3': {'name': 'saurav', 'age': 27, 'salary': 6000}, \n",
    " 'emp4': {'name': 'Vani', 'age': 27, 'salary': 6000000}}\n",
    "\n",
    "print(employee_details.pop('emp5'))"
   ]
  },
  {
   "cell_type": "code",
   "execution_count": 25,
   "metadata": {},
   "outputs": [
    {
     "name": "stdout",
     "output_type": "stream",
     "text": [
      "key not found\n"
     ]
    }
   ],
   "source": [
    "employee_details = {'emp1': {'name': 'Afsan', 'age': 23, 'salary': 70000}, \n",
    " 'emp2': {'name': 'rahul', 'age': 26, 'salary': 6000}, \n",
    " 'emp3': {'name': 'saurav', 'age': 27, 'salary': 6000}, \n",
    " 'emp4': {'name': 'Vani', 'age': 27, 'salary': 6000000}}\n",
    "\n",
    "print(employee_details.pop('emp7' , 'key not found'))"
   ]
  },
  {
   "cell_type": "code",
   "execution_count": 26,
   "metadata": {},
   "outputs": [
    {
     "ename": "TypeError",
     "evalue": "pop expected at least 1 argument, got 0",
     "output_type": "error",
     "traceback": [
      "\u001b[0;31m---------------------------------------------------------------------------\u001b[0m",
      "\u001b[0;31mTypeError\u001b[0m                                 Traceback (most recent call last)",
      "\u001b[0;32m<ipython-input-26-1f7fdf656e5d>\u001b[0m in \u001b[0;36m<module>\u001b[0;34m\u001b[0m\n\u001b[1;32m      6\u001b[0m  'emp4': {'name': 'Vani', 'age': 27, 'salary': 6000000}}\n\u001b[1;32m      7\u001b[0m \u001b[0;34m\u001b[0m\u001b[0m\n\u001b[0;32m----> 8\u001b[0;31m \u001b[0mprint\u001b[0m\u001b[0;34m(\u001b[0m\u001b[0memployee_details\u001b[0m\u001b[0;34m.\u001b[0m\u001b[0mpop\u001b[0m\u001b[0;34m(\u001b[0m\u001b[0;34m)\u001b[0m\u001b[0;34m)\u001b[0m\u001b[0;34m\u001b[0m\u001b[0;34m\u001b[0m\u001b[0m\n\u001b[0m",
      "\u001b[0;31mTypeError\u001b[0m: pop expected at least 1 argument, got 0"
     ]
    }
   ],
   "source": [
    "# b.) key is not present\n",
    "\n",
    "employee_details = {'emp1': {'name': 'Afsan', 'age': 23, 'salary': 70000}, \n",
    " 'emp2': {'name': 'rahul', 'age': 26, 'salary': 6000}, \n",
    " 'emp3': {'name': 'saurav', 'age': 27, 'salary': 6000}, \n",
    " 'emp4': {'name': 'Vani', 'age': 27, 'salary': 6000000}}\n",
    "\n",
    "print(employee_details.pop())"
   ]
  },
  {
   "cell_type": "code",
   "execution_count": null,
   "metadata": {},
   "outputs": [],
   "source": [
    "# 2. popitem\n",
    "\n",
    "remove and return (key,value) pair as a tuple of 2 elements from the last"
   ]
  },
  {
   "cell_type": "code",
   "execution_count": 27,
   "metadata": {},
   "outputs": [
    {
     "name": "stdout",
     "output_type": "stream",
     "text": [
      "('emp4', {'name': 'Vani', 'age': 27, 'salary': 6000000})\n"
     ]
    }
   ],
   "source": [
    "employee_details = {'emp1': {'name': 'Afsan', 'age': 23, 'salary': 70000}, \n",
    " 'emp2': {'name': 'rahul', 'age': 26, 'salary': 6000}, \n",
    " 'emp3': {'name': 'saurav', 'age': 27, 'salary': 6000}, \n",
    " 'emp4': {'name': 'Vani', 'age': 27, 'salary': 6000000}}\n",
    "\n",
    "print(employee_details.popitem())"
   ]
  },
  {
   "cell_type": "code",
   "execution_count": 29,
   "metadata": {},
   "outputs": [
    {
     "name": "stdout",
     "output_type": "stream",
     "text": [
      "('emp3', {'name': 'saurav', 'age': 27, 'salary': 6000})\n"
     ]
    }
   ],
   "source": [
    "print(employee_details.popitem())"
   ]
  },
  {
   "cell_type": "code",
   "execution_count": 30,
   "metadata": {},
   "outputs": [
    {
     "data": {
      "text/plain": [
       "{'emp1': {'name': 'Afsan', 'age': 23, 'salary': 70000},\n",
       " 'emp2': {'name': 'rahul', 'age': 26, 'salary': 6000}}"
      ]
     },
     "execution_count": 30,
     "metadata": {},
     "output_type": "execute_result"
    }
   ],
   "source": [
    "employee_details"
   ]
  },
  {
   "cell_type": "code",
   "execution_count": 33,
   "metadata": {},
   "outputs": [
    {
     "data": {
      "text/plain": [
       "dict_keys(['emp1', 'emp2', 'emp3', 'emp4'])"
      ]
     },
     "execution_count": 33,
     "metadata": {},
     "output_type": "execute_result"
    }
   ],
   "source": [
    "# methods to check all the keys in a dic\n",
    "\n",
    "employee_details = {'emp1': {'name': 'Afsan', 'age': 23, 'salary': 70000}, \n",
    " 'emp2': {'name': 'rahul', 'age': 26, 'salary': 6000}, \n",
    " 'emp3': {'name': 'saurav', 'age': 27, 'salary': 6000}, \n",
    " 'emp4': {'name': 'Vani', 'age': 27, 'salary': 6000000}}\n",
    "\n",
    "employee_details.keys()"
   ]
  },
  {
   "cell_type": "code",
   "execution_count": 34,
   "metadata": {},
   "outputs": [
    {
     "data": {
      "text/plain": [
       "dict_values([{'name': 'Afsan', 'age': 23, 'salary': 70000}, {'name': 'rahul', 'age': 26, 'salary': 6000}, {'name': 'saurav', 'age': 27, 'salary': 6000}, {'name': 'Vani', 'age': 27, 'salary': 6000000}])"
      ]
     },
     "execution_count": 34,
     "metadata": {},
     "output_type": "execute_result"
    }
   ],
   "source": [
    "# method to check all the values in a dic\n",
    "employee_details.values()"
   ]
  },
  {
   "cell_type": "code",
   "execution_count": 35,
   "metadata": {},
   "outputs": [
    {
     "data": {
      "text/plain": [
       "dict_keys(['name', 'age', 'salary'])"
      ]
     },
     "execution_count": 35,
     "metadata": {},
     "output_type": "execute_result"
    }
   ],
   "source": [
    "employee_details['emp1'].keys()"
   ]
  },
  {
   "cell_type": "code",
   "execution_count": 36,
   "metadata": {},
   "outputs": [
    {
     "data": {
      "text/plain": [
       "dict_items([('emp1', {'name': 'Afsan', 'age': 23, 'salary': 70000}), ('emp2', {'name': 'rahul', 'age': 26, 'salary': 6000}), ('emp3', {'name': 'saurav', 'age': 27, 'salary': 6000}), ('emp4', {'name': 'Vani', 'age': 27, 'salary': 6000000})])"
      ]
     },
     "execution_count": 36,
     "metadata": {},
     "output_type": "execute_result"
    }
   ],
   "source": [
    "# method to check all the items in a dic\n",
    "\n",
    "employee_details = {'emp1': {'name': 'Afsan', 'age': 23, 'salary': 70000}, \n",
    " 'emp2': {'name': 'rahul', 'age': 26, 'salary': 6000}, \n",
    " 'emp3': {'name': 'saurav', 'age': 27, 'salary': 6000}, \n",
    " 'emp4': {'name': 'Vani', 'age': 27, 'salary': 6000000}}\n",
    "\n",
    "employee_details.items()"
   ]
  },
  {
   "cell_type": "code",
   "execution_count": 37,
   "metadata": {},
   "outputs": [
    {
     "name": "stdout",
     "output_type": "stream",
     "text": [
      "emp1\n",
      "{'name': 'Afsan', 'age': 23, 'salary': 70000}\n",
      "emp2\n",
      "{'name': 'rahul', 'age': 26, 'salary': 6000}\n",
      "emp3\n",
      "{'name': 'saurav', 'age': 27, 'salary': 6000}\n",
      "emp4\n",
      "{'name': 'Vani', 'age': 27, 'salary': 6000000}\n"
     ]
    }
   ],
   "source": [
    "for i,j in employee_details.items():\n",
    "    print(i)\n",
    "    print(j)"
   ]
  },
  {
   "cell_type": "code",
   "execution_count": 39,
   "metadata": {},
   "outputs": [],
   "source": [
    "#fromkeys\n",
    "\n",
    "# Create a new dic with keys from iterable abd value set to value\n",
    "\n",
    "d2 = dict.fromkeys([1,2,3,4,5,6])"
   ]
  },
  {
   "cell_type": "code",
   "execution_count": 40,
   "metadata": {},
   "outputs": [
    {
     "data": {
      "text/plain": [
       "{1: None, 2: None, 3: None, 4: None, 5: None, 6: None}"
      ]
     },
     "execution_count": 40,
     "metadata": {},
     "output_type": "execute_result"
    }
   ],
   "source": [
    "d2"
   ]
  },
  {
   "cell_type": "code",
   "execution_count": 47,
   "metadata": {},
   "outputs": [],
   "source": [
    "d2 = dict.fromkeys([1,2,3,4,5,6,] , [1,2,3])"
   ]
  },
  {
   "cell_type": "code",
   "execution_count": 48,
   "metadata": {},
   "outputs": [],
   "source": [
    "d2[5]=10"
   ]
  },
  {
   "cell_type": "code",
   "execution_count": 49,
   "metadata": {},
   "outputs": [
    {
     "data": {
      "text/plain": [
       "{1: [1, 2, 3], 2: [1, 2, 3], 3: [1, 2, 3], 4: [1, 2, 3], 5: 10, 6: [1, 2, 3]}"
      ]
     },
     "execution_count": 49,
     "metadata": {},
     "output_type": "execute_result"
    }
   ],
   "source": [
    "d2"
   ]
  },
  {
   "cell_type": "code",
   "execution_count": 53,
   "metadata": {},
   "outputs": [
    {
     "name": "stdout",
     "output_type": "stream",
     "text": [
      "10 40\n",
      "50 140\n",
      "80 180\n"
     ]
    }
   ],
   "source": [
    "for i,j in [(1,2) , (5,7) , (8,9)]:\n",
    "    print(i*10 , j*20)"
   ]
  },
  {
   "cell_type": "code",
   "execution_count": null,
   "metadata": {},
   "outputs": [],
   "source": [
    "for iteration 1 = i,j = (1,2)\n",
    "        1,2\n",
    "for iter 2 = i,j = (5,7)\n",
    "        5,7"
   ]
  },
  {
   "cell_type": "code",
   "execution_count": 55,
   "metadata": {},
   "outputs": [
    {
     "data": {
      "text/plain": [
       "{'emp1': {'name': 'Afsan', 'age': 23, 'salary': 70000},\n",
       " 'emp2': {'name': 'rahul', 'age': 26, 'salary': 6000},\n",
       " 'emp3': {'name': 'saurav', 'age': 27, 'salary': 6000},\n",
       " 'emp4': {'name': 'Vani', 'age': 27, 'salary': 6000000}}"
      ]
     },
     "execution_count": 55,
     "metadata": {},
     "output_type": "execute_result"
    }
   ],
   "source": [
    "# clear()\n",
    "\n",
    "employee_details"
   ]
  },
  {
   "cell_type": "code",
   "execution_count": 56,
   "metadata": {},
   "outputs": [],
   "source": [
    "employee_details.clear()"
   ]
  },
  {
   "cell_type": "code",
   "execution_count": 57,
   "metadata": {},
   "outputs": [
    {
     "data": {
      "text/plain": [
       "{}"
      ]
     },
     "execution_count": 57,
     "metadata": {},
     "output_type": "execute_result"
    }
   ],
   "source": [
    "employee_details"
   ]
  },
  {
   "cell_type": "code",
   "execution_count": 58,
   "metadata": {},
   "outputs": [],
   "source": [
    "del employee_details"
   ]
  },
  {
   "cell_type": "code",
   "execution_count": 64,
   "metadata": {},
   "outputs": [
    {
     "data": {
      "text/plain": [
       "{4}"
      ]
     },
     "execution_count": 64,
     "metadata": {},
     "output_type": "execute_result"
    }
   ],
   "source": [
    "# dic comprehension\n",
    "-synatx = {key:value for var in iterable if condition}\n",
    "\n",
    "{i:i**2 for i in [1,2,3] if i%2==0}"
   ]
  },
  {
   "cell_type": "code",
   "execution_count": 62,
   "metadata": {},
   "outputs": [
    {
     "name": "stdout",
     "output_type": "stream",
     "text": [
      "0 emp1\n",
      "1 emp2\n",
      "2 emp3\n",
      "3 emp4\n"
     ]
    }
   ],
   "source": [
    "empoyee_details = {'emp1': {'name': 'Afsan', 'age': 23, 'salary': 70000},\n",
    " 'emp2': {'name': 'rahul', 'age': 26, 'salary': 6000},\n",
    " 'emp3': {'name': 'saurav', 'age': 27, 'salary': 6000},\n",
    " 'emp4': {'name': 'Vani', 'age': 27, 'salary': 6000000}}\n",
    "\n",
    "for i,j in enumerate(empoyee_details):\n",
    "    print(i , j)"
   ]
  },
  {
   "cell_type": "code",
   "execution_count": null,
   "metadata": {},
   "outputs": [],
   "source": [
    "# Range Datatype\n",
    "\n",
    "it is used with the for loop\n",
    "\n",
    "syntax = range(start , stop , step)\n",
    "\n",
    "start is inclusive\n",
    "stop is exclusive\n",
    "\n",
    "default\n",
    "start value is 0\n",
    "stop value should be given by user\n",
    "step value is 1"
   ]
  },
  {
   "cell_type": "code",
   "execution_count": 68,
   "metadata": {},
   "outputs": [
    {
     "data": {
      "text/plain": [
       "[5, 6, 7, 8, 9]"
      ]
     },
     "execution_count": 68,
     "metadata": {},
     "output_type": "execute_result"
    }
   ],
   "source": [
    "list(range(5,10))\n",
    "\n",
    "# start = 0\n",
    "# stop = 10\n",
    "# step = 1"
   ]
  },
  {
   "cell_type": "code",
   "execution_count": 69,
   "metadata": {},
   "outputs": [
    {
     "data": {
      "text/plain": [
       "[]"
      ]
     },
     "execution_count": 69,
     "metadata": {},
     "output_type": "execute_result"
    }
   ],
   "source": [
    "list(range(5,10,-1))"
   ]
  },
  {
   "cell_type": "code",
   "execution_count": 74,
   "metadata": {},
   "outputs": [
    {
     "data": {
      "text/plain": [
       "[]"
      ]
     },
     "execution_count": 74,
     "metadata": {},
     "output_type": "execute_result"
    }
   ],
   "source": [
    "list(range(10,1))"
   ]
  },
  {
   "cell_type": "code",
   "execution_count": 75,
   "metadata": {},
   "outputs": [
    {
     "ename": "TypeError",
     "evalue": "'int' object is not iterable",
     "output_type": "error",
     "traceback": [
      "\u001b[0;31m---------------------------------------------------------------------------\u001b[0m",
      "\u001b[0;31mTypeError\u001b[0m                                 Traceback (most recent call last)",
      "\u001b[0;32m<ipython-input-75-db069e433967>\u001b[0m in \u001b[0;36m<module>\u001b[0;34m\u001b[0m\n\u001b[1;32m      1\u001b[0m \u001b[0;32mfor\u001b[0m \u001b[0mi\u001b[0m \u001b[0;32min\u001b[0m \u001b[0mrange\u001b[0m\u001b[0;34m(\u001b[0m\u001b[0;36m1\u001b[0m\u001b[0;34m,\u001b[0m\u001b[0;36m10\u001b[0m\u001b[0;34m,\u001b[0m\u001b[0;36m2\u001b[0m\u001b[0;34m)\u001b[0m\u001b[0;34m:\u001b[0m\u001b[0;34m\u001b[0m\u001b[0;34m\u001b[0m\u001b[0m\n\u001b[0;32m----> 2\u001b[0;31m     \u001b[0mprint\u001b[0m\u001b[0;34m(\u001b[0m\u001b[0mlist\u001b[0m\u001b[0;34m(\u001b[0m\u001b[0mi\u001b[0m\u001b[0;34m)\u001b[0m\u001b[0;34m)\u001b[0m\u001b[0;34m\u001b[0m\u001b[0;34m\u001b[0m\u001b[0m\n\u001b[0m",
      "\u001b[0;31mTypeError\u001b[0m: 'int' object is not iterable"
     ]
    }
   ],
   "source": [
    "for i in range(1,10,2):\n",
    "    print(list(i))"
   ]
  },
  {
   "cell_type": "code",
   "execution_count": null,
   "metadata": {},
   "outputs": [],
   "source": [
    "# set data type\n",
    "\n",
    "-  colection of values and it is not a seq\n",
    "- indexing and slicing is not possible\n",
    "- collection of unique values\n",
    "- mutable\n",
    "- cannot contain a list"
   ]
  },
  {
   "cell_type": "code",
   "execution_count": 76,
   "metadata": {},
   "outputs": [
    {
     "name": "stdout",
     "output_type": "stream",
     "text": [
      "{1, 2, 3, 4, 5, 10}\n"
     ]
    }
   ],
   "source": [
    "a = {1,2,3,4,5,10}\n",
    "print(a)"
   ]
  },
  {
   "cell_type": "code",
   "execution_count": 77,
   "metadata": {},
   "outputs": [
    {
     "ename": "TypeError",
     "evalue": "'set' object is not subscriptable",
     "output_type": "error",
     "traceback": [
      "\u001b[0;31m---------------------------------------------------------------------------\u001b[0m",
      "\u001b[0;31mTypeError\u001b[0m                                 Traceback (most recent call last)",
      "\u001b[0;32m<ipython-input-77-6a1284577a36>\u001b[0m in \u001b[0;36m<module>\u001b[0;34m\u001b[0m\n\u001b[0;32m----> 1\u001b[0;31m \u001b[0ma\u001b[0m\u001b[0;34m[\u001b[0m\u001b[0;36m0\u001b[0m\u001b[0;34m]\u001b[0m\u001b[0;34m\u001b[0m\u001b[0;34m\u001b[0m\u001b[0m\n\u001b[0m",
      "\u001b[0;31mTypeError\u001b[0m: 'set' object is not subscriptable"
     ]
    }
   ],
   "source": [
    "a[0]"
   ]
  },
  {
   "cell_type": "code",
   "execution_count": 78,
   "metadata": {},
   "outputs": [
    {
     "name": "stdout",
     "output_type": "stream",
     "text": [
      "{1, 2, 3, 4, 5, 10}\n"
     ]
    }
   ],
   "source": [
    "a = {1,2,3,4,5,10,10,10,10}\n",
    "print(a)"
   ]
  },
  {
   "cell_type": "code",
   "execution_count": 79,
   "metadata": {},
   "outputs": [
    {
     "data": {
      "text/plain": [
       "['__and__',\n",
       " '__class__',\n",
       " '__contains__',\n",
       " '__delattr__',\n",
       " '__dir__',\n",
       " '__doc__',\n",
       " '__eq__',\n",
       " '__format__',\n",
       " '__ge__',\n",
       " '__getattribute__',\n",
       " '__gt__',\n",
       " '__hash__',\n",
       " '__iand__',\n",
       " '__init__',\n",
       " '__init_subclass__',\n",
       " '__ior__',\n",
       " '__isub__',\n",
       " '__iter__',\n",
       " '__ixor__',\n",
       " '__le__',\n",
       " '__len__',\n",
       " '__lt__',\n",
       " '__ne__',\n",
       " '__new__',\n",
       " '__or__',\n",
       " '__rand__',\n",
       " '__reduce__',\n",
       " '__reduce_ex__',\n",
       " '__repr__',\n",
       " '__ror__',\n",
       " '__rsub__',\n",
       " '__rxor__',\n",
       " '__setattr__',\n",
       " '__sizeof__',\n",
       " '__str__',\n",
       " '__sub__',\n",
       " '__subclasshook__',\n",
       " '__xor__',\n",
       " 'add',\n",
       " 'clear',\n",
       " 'copy',\n",
       " 'difference',\n",
       " 'difference_update',\n",
       " 'discard',\n",
       " 'intersection',\n",
       " 'intersection_update',\n",
       " 'isdisjoint',\n",
       " 'issubset',\n",
       " 'issuperset',\n",
       " 'pop',\n",
       " 'remove',\n",
       " 'symmetric_difference',\n",
       " 'symmetric_difference_update',\n",
       " 'union',\n",
       " 'update']"
      ]
     },
     "execution_count": 79,
     "metadata": {},
     "output_type": "execute_result"
    }
   ],
   "source": [
    "dir(a)"
   ]
  },
  {
   "cell_type": "code",
   "execution_count": 80,
   "metadata": {},
   "outputs": [
    {
     "name": "stdout",
     "output_type": "stream",
     "text": [
      "None\n"
     ]
    }
   ],
   "source": [
    "a = {1,2,3,4,5}\n",
    "print(a.add(6))"
   ]
  },
  {
   "cell_type": "code",
   "execution_count": 86,
   "metadata": {},
   "outputs": [],
   "source": [
    "a = {'abc' , True , 1 , 0 , False}"
   ]
  },
  {
   "cell_type": "code",
   "execution_count": 87,
   "metadata": {},
   "outputs": [
    {
     "data": {
      "text/plain": [
       "{0, True, 'abc'}"
      ]
     },
     "execution_count": 87,
     "metadata": {},
     "output_type": "execute_result"
    }
   ],
   "source": [
    "a"
   ]
  },
  {
   "cell_type": "code",
   "execution_count": 88,
   "metadata": {},
   "outputs": [
    {
     "name": "stdout",
     "output_type": "stream",
     "text": [
      "{1, 2, 3, 5, 9}\n"
     ]
    }
   ],
   "source": [
    "a = {1,2,3,9,5}\n",
    "print(a)"
   ]
  },
  {
   "cell_type": "code",
   "execution_count": 102,
   "metadata": {},
   "outputs": [
    {
     "name": "stdout",
     "output_type": "stream",
     "text": [
      "{40, 10, 20, 30}\n"
     ]
    }
   ],
   "source": [
    "a = {10,20,30,40}\n",
    "print(a)"
   ]
  },
  {
   "cell_type": "markdown",
   "metadata": {},
   "source": [
    "# conditional Statements"
   ]
  },
  {
   "cell_type": "code",
   "execution_count": null,
   "metadata": {},
   "outputs": [],
   "source": [
    "# stat1\n",
    "# stat2\n",
    "# stat3\n",
    "# if cond:\n",
    "#     stat4\n",
    "#     stat5\n",
    "\n",
    "# if the condition is True - 1,2,3,4,5\n",
    "if the condtion is false - 1,2,3"
   ]
  },
  {
   "cell_type": "code",
   "execution_count": 104,
   "metadata": {},
   "outputs": [],
   "source": [
    "# stat1\n",
    "# stat2\n",
    "# stat3\n",
    "# if cond:\n",
    "#     stat4\n",
    "#     stat5\n",
    "# stat6\n",
    "# stat7\n",
    "\n",
    "\n",
    "# if the condition is True - 1,2,3,4,5,6,7\n",
    "if the condtion is false - 1,2,3,6,7"
   ]
  },
  {
   "cell_type": "code",
   "execution_count": null,
   "metadata": {},
   "outputs": [],
   "source": [
    "# if else\n",
    "\n",
    "# stat1\n",
    "# stat2\n",
    "# stat3\n",
    "# if cond:\n",
    "#     stat4\n",
    "#     stat5\n",
    "# else:\n",
    "#     stat6\n",
    "#     stat7\n",
    "# stat8\n",
    "# stat9\n",
    "\n",
    "# if the condition is True - 1,2,3,4,5,8,9\n",
    "if the condtion is false - 1,2,3,6.7.8.9"
   ]
  },
  {
   "cell_type": "code",
   "execution_count": null,
   "metadata": {},
   "outputs": [],
   "source": [
    "# stat1\n",
    "# stat2\n",
    "# stat3\n",
    "# if cond1:\n",
    "#     stat4\n",
    "#     stat5\n",
    "# if cond2:\n",
    "#     stat6\n",
    "#     stat7\n",
    "# if cond3:\n",
    "#     stat8\n",
    "#     stat9\n",
    "# else:\n",
    "#     stat10\n",
    "#     stat11\n",
    "# stat12\n",
    "# stat13\n",
    "\n",
    "condition 1 is true and all are false - 1,2,3,4,5,10,11,12,13\n",
    "condition 1 and 2 is true rest all are false - 1,2,3,4,5,6,7,10,11,12,13\n",
    "if all condition are false - 1,2,3,10,11,12,13"
   ]
  },
  {
   "cell_type": "code",
   "execution_count": null,
   "metadata": {},
   "outputs": [],
   "source": [
    "# stat1\n",
    "# stat2\n",
    "# stat3\n",
    "# if cond1:\n",
    "#     stat4\n",
    "#     stat5\n",
    "# else:\n",
    "#     stat6\n",
    "#     stat7\n",
    "# if cond2:\n",
    "#     stat8\n",
    "#     stat9\n",
    "# if cond3:\n",
    "#     stat10\n",
    "#     stat11\n",
    "# else:\n",
    "#     stat12\n",
    "#     stat13\n",
    "# stat14\n",
    "# stat15\n",
    "\n",
    "condition 1 is true and all are false - 1,2,3,4,5,12,13,14,15\n",
    "condition 1 is false rest all true - 1,2,3,6,7,8,9,10,11,14,15"
   ]
  },
  {
   "cell_type": "code",
   "execution_count": null,
   "metadata": {},
   "outputs": [],
   "source": [
    "# if , elif , else\n",
    "\n",
    "# stat1\n",
    "# stat2\n",
    "# stat3\n",
    "# if cond1:\n",
    "#     stat4\n",
    "#     stat5\n",
    "# elif cond2:\n",
    "#     stat8\n",
    "#     stat9\n",
    "# elif cond3:\n",
    "#     stat10\n",
    "#     stat11\n",
    "# else:\n",
    "#     stat12\n",
    "#     stat13\n",
    "# stat14\n",
    "# stat15\n",
    "\n",
    "condition 1 2 , is true and rest is false - 1,2,3,4,5,14,15\n",
    "condtion 1 is false 2,3 is true - 1,2,3,8,9,14,15"
   ]
  },
  {
   "cell_type": "code",
   "execution_count": null,
   "metadata": {},
   "outputs": [],
   "source": [
    "if any of the condition becomes true the below condition will not work in any condition\n",
    "# or\n",
    "if any coindition is false then it will go to the next condtion if all are false then it will go to else"
   ]
  },
  {
   "cell_type": "code",
   "execution_count": 105,
   "metadata": {},
   "outputs": [
    {
     "name": "stdout",
     "output_type": "stream",
     "text": [
      "messi\n",
      "kante\n"
     ]
    }
   ],
   "source": [
    "a = 33\n",
    "b = 333\n",
    "if b>a:\n",
    "    print('messi')\n",
    "print('kante')"
   ]
  },
  {
   "cell_type": "code",
   "execution_count": 106,
   "metadata": {},
   "outputs": [
    {
     "ename": "IndentationError",
     "evalue": "expected an indented block (<ipython-input-106-0517a4cb8e46>, line 4)",
     "output_type": "error",
     "traceback": [
      "\u001b[0;36m  File \u001b[0;32m\"<ipython-input-106-0517a4cb8e46>\"\u001b[0;36m, line \u001b[0;32m4\u001b[0m\n\u001b[0;31m    print('messi')\u001b[0m\n\u001b[0m    ^\u001b[0m\n\u001b[0;31mIndentationError\u001b[0m\u001b[0;31m:\u001b[0m expected an indented block\n"
     ]
    }
   ],
   "source": [
    "a = 33\n",
    "b = 333\n",
    "if b>a:\n",
    "print('messi')\n",
    "print('kante')"
   ]
  },
  {
   "cell_type": "code",
   "execution_count": 107,
   "metadata": {},
   "outputs": [
    {
     "name": "stdout",
     "output_type": "stream",
     "text": [
      "kante\n",
      "bruno\n"
     ]
    }
   ],
   "source": [
    "a = 20\n",
    "b = 20\n",
    "\n",
    "if a<b:\n",
    "    print('messi')\n",
    "elif a == b:\n",
    "    print('kante')\n",
    "else:\n",
    "    print('neymar')\n",
    "print('bruno')"
   ]
  },
  {
   "cell_type": "code",
   "execution_count": 108,
   "metadata": {},
   "outputs": [
    {
     "name": "stdout",
     "output_type": "stream",
     "text": [
      "footbal\n",
      "sports\n"
     ]
    }
   ],
   "source": [
    "a = 200\n",
    "b = 100\n",
    "c = 700\n",
    "\n",
    "if a >b and c > a :\n",
    "    print('footbal')\n",
    "else:\n",
    "    print('cricket')\n",
    "print('sports')"
   ]
  },
  {
   "cell_type": "code",
   "execution_count": 112,
   "metadata": {},
   "outputs": [
    {
     "name": "stdout",
     "output_type": "stream",
     "text": [
      "footbal\n",
      "sports\n"
     ]
    }
   ],
   "source": [
    "a = 200\n",
    "b = 100\n",
    "c = 700\n",
    "\n",
    "if a <b or c > 100 :\n",
    "    print('footbal')\n",
    "else:\n",
    "    print('cricket')\n",
    "print('sports')"
   ]
  },
  {
   "cell_type": "markdown",
   "metadata": {},
   "source": [
    "<!-- nested if - if statement inside if statment -->"
   ]
  },
  {
   "cell_type": "code",
   "execution_count": 115,
   "metadata": {},
   "outputs": [
    {
     "name": "stdout",
     "output_type": "stream",
     "text": [
      "barcelona\n",
      "psg\n"
     ]
    }
   ],
   "source": [
    "x = 2\n",
    "\n",
    "if x > 10:\n",
    "    print('holaa')\n",
    "    if x>20:\n",
    "        print('bhuvan')\n",
    "    else:\n",
    "        print('india')\n",
    "else:\n",
    "    print('barcelona')\n",
    "print('psg')"
   ]
  },
  {
   "cell_type": "code",
   "execution_count": null,
   "metadata": {},
   "outputs": [],
   "source": []
  }
 ],
 "metadata": {
  "kernelspec": {
   "display_name": "Python 3",
   "language": "python",
   "name": "python3"
  },
  "language_info": {
   "codemirror_mode": {
    "name": "ipython",
    "version": 3
   },
   "file_extension": ".py",
   "mimetype": "text/x-python",
   "name": "python",
   "nbconvert_exporter": "python",
   "pygments_lexer": "ipython3",
   "version": "3.8.8"
  }
 },
 "nbformat": 4,
 "nbformat_minor": 4
}
