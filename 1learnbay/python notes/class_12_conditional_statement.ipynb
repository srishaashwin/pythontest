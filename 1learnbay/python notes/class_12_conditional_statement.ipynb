{
 "cells": [
  {
   "cell_type": "code",
   "execution_count": 4,
   "metadata": {},
   "outputs": [
    {
     "name": "stdout",
     "output_type": "stream",
     "text": [
      "\n",
      "<class 'str'>\n"
     ]
    }
   ],
   "source": [
    "a=input() #1.2 \n",
    "print(type(a)) "
   ]
  },
  {
   "cell_type": "code",
   "execution_count": 3,
   "metadata": {},
   "outputs": [
    {
     "name": "stdout",
     "output_type": "stream",
     "text": [
      "10\n",
      "9\n",
      "8\n",
      "7\n",
      "6\n",
      "5\n",
      "4\n",
      "3\n",
      "2\n",
      "1\n"
     ]
    }
   ],
   "source": [
    "for i in range(10,0,-1):\n",
    "    print(i)"
   ]
  },
  {
   "cell_type": "code",
   "execution_count": 11,
   "metadata": {},
   "outputs": [
    {
     "name": "stdout",
     "output_type": "stream",
     "text": [
      "Enter a number in the range from one to six4.5\n",
      "invalid\n"
     ]
    }
   ],
   "source": [
    "# you have to take a number from 1 - 6 by user and you have to give its word form\n",
    "\n",
    "# 2 -- > two\n",
    "# 1 ---> one\n",
    "\n",
    "a= eval(input(\"Enter a number in the range from one to six\")) \n",
    "if a>6 or a<1:\n",
    "    print(\"invalid number\") \n",
    "else: \n",
    "    if a==1: \n",
    "        print(\"one\") \n",
    "    elif a==2: \n",
    "        print(\"two\") \n",
    "    elif a==3: \n",
    "        print(\"three\") \n",
    "    elif a==4: \n",
    "        print(\"four\") \n",
    "    elif a==5: \n",
    "        print(\"five\") \n",
    "    elif a==6:\n",
    "        print(\"six\")\n",
    "    else:\n",
    "        print('invalid')"
   ]
  },
  {
   "cell_type": "code",
   "execution_count": 16,
   "metadata": {},
   "outputs": [
    {
     "name": "stdout",
     "output_type": "stream",
     "text": [
      "Enter the stringlevel\n",
      "Its a palindrome\n"
     ]
    }
   ],
   "source": [
    "# write a program to find if a string is palindrome or not\n",
    "\n",
    "# level --> level\n",
    "\n",
    "a =input(\"Enter the string\").lower() \n",
    "if a==a[::-1]:\n",
    "    print(\"Its a palindrome\") \n",
    "else: print('not palindrome') "
   ]
  },
  {
   "cell_type": "code",
   "execution_count": null,
   "metadata": {},
   "outputs": [],
   "source": [
    "# write a code to find if year entered by a user is leap year or not\n",
    "\n",
    "if year%4 ==0\n",
    "    if year%400 ==0\n",
    "        print()"
   ]
  },
  {
   "cell_type": "code",
   "execution_count": null,
   "metadata": {},
   "outputs": [],
   "source": [
    "a=int(input('enter a year'))\n",
    "if a%4==0:\n",
    "    if a%100==0:\n",
    "        if a%400==0:\n",
    "            print(f'{year} is a leap year')\n",
    "else:\n",
    "print(f'{year} is a leap year') "
   ]
  },
  {
   "cell_type": "code",
   "execution_count": null,
   "metadata": {},
   "outputs": [],
   "source": [
    "a = int(input(\"please enter a year\")) \n",
    "if a%400==0: \n",
    "    print(\"Leap Year\") \n",
    "elif a%4==0 and a%100!=0: \n",
    "    print(\"Leap Year\") \n",
    "else: print(\"Not a Leap Year\") "
   ]
  },
  {
   "cell_type": "code",
   "execution_count": null,
   "metadata": {},
   "outputs": [],
   "source": [
    "year divisible by 4 and not divisible by 100 --> leap\n",
    "year is divsivbly by 400 ---> leap year"
   ]
  },
  {
   "cell_type": "code",
   "execution_count": null,
   "metadata": {},
   "outputs": [],
   "source": [
    "year = eval(input(\"Enter a year\")) \n",
    "if( year %4 ==0) and (year % 100 !=0) or ( year % 400 ==0): \n",
    "    print(\"Yes, It\\'s a leap year\") \n",
    "else: print(\"Yes, It\\'s not a leap year\") "
   ]
  },
  {
   "cell_type": "code",
   "execution_count": 17,
   "metadata": {},
   "outputs": [
    {
     "name": "stdout",
     "output_type": "stream",
     "text": [
      "Enter number 1 - 2.3\n",
      "Enter number 2 - 4.5\n",
      "Enter the operation (+,-,*,/) - *\n",
      "10.35\n"
     ]
    }
   ],
   "source": [
    "# desgin a basic caluclator + - * /\n",
    "\n",
    "# a = 10\n",
    "# b = 20\n",
    "# op = +\n",
    "\n",
    "a = eval(input(\"Enter number 1 - \")) \n",
    "b = eval(input(\"Enter number 2 - \")) \n",
    "op = input(\"Enter the operation (+,-,*,/) - \") \n",
    "if op == \"+\": \n",
    "    print(a+b) \n",
    "elif op == \"-\": \n",
    "    print(a-b) \n",
    "elif op == \"*\": \n",
    "    print(a*b) \n",
    "elif op == \"/\": \n",
    "    print(a/b) \n",
    "else : print(\"Invalid operator\") "
   ]
  },
  {
   "cell_type": "code",
   "execution_count": null,
   "metadata": {},
   "outputs": [],
   "source": [
    "def sum(a,b): \n",
    "    print(a+b) \n",
    "def multiply(a,b): \n",
    "    print(a*b) \n",
    "def diff(a,b): \n",
    "    print(a-b) \n",
    "a=int(input('please eter the first number')) \n",
    "b=int(input('please eter the second number')) \n",
    "c=input('please choose operator') \n",
    "print(c(a,b)) "
   ]
  },
  {
   "cell_type": "code",
   "execution_count": 18,
   "metadata": {},
   "outputs": [
    {
     "name": "stdout",
     "output_type": "stream",
     "text": [
      "Input first number100\n",
      "Input second number200\n",
      "Input the operation to be performedsum\n",
      "error\n"
     ]
    }
   ],
   "source": [
    "a=eval(input(\"Input first number\")) \n",
    "b=eval(input(\"Input second number\")) \n",
    "c=input(\"Input the operation to be performed\").lower() \n",
    "if (c == \"add\") or (c == \"+\"): \n",
    "    pirnt(a+b) \n",
    "elif (c==\"sub\") or (c==\"-\"): \n",
    "    pirnt(a-b) \n",
    "elif (c==\"mul\") or (c==\"*\"): \n",
    "    pirnt(a*b) \n",
    "elif (c==\"div\") or (c==\"/\"): \n",
    "    pirnt(a/b) \n",
    "else: print(\"error\") "
   ]
  },
  {
   "cell_type": "code",
   "execution_count": null,
   "metadata": {},
   "outputs": [],
   "source": []
  }
 ],
 "metadata": {
  "kernelspec": {
   "display_name": "Python 3",
   "language": "python",
   "name": "python3"
  },
  "language_info": {
   "codemirror_mode": {
    "name": "ipython",
    "version": 3
   },
   "file_extension": ".py",
   "mimetype": "text/x-python",
   "name": "python",
   "nbconvert_exporter": "python",
   "pygments_lexer": "ipython3",
   "version": "3.8.5"
  }
 },
 "nbformat": 4,
 "nbformat_minor": 4
}
