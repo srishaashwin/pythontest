{
 "cells": [
  {
   "cell_type": "code",
   "execution_count": 3,
   "metadata": {},
   "outputs": [
    {
     "name": "stdout",
     "output_type": "stream",
     "text": [
      "nnnnnn\n",
      "ooooo\n",
      "hhhh\n",
      "ttt\n",
      "yy\n",
      "P\n"
     ]
    }
   ],
   "source": [
    "a = 'Python' \n",
    "for i in range(6,0,-1):\n",
    "    print(a[i-1]*(i)) "
   ]
  },
  {
   "cell_type": "code",
   "execution_count": 2,
   "metadata": {},
   "outputs": [
    {
     "data": {
      "text/plain": [
       "[5, 4, 3, 2, 1]"
      ]
     },
     "execution_count": 2,
     "metadata": {},
     "output_type": "execute_result"
    }
   ],
   "source": [
    "list(range(5,0,-1))"
   ]
  },
  {
   "cell_type": "code",
   "execution_count": 4,
   "metadata": {},
   "outputs": [
    {
     "name": "stdout",
     "output_type": "stream",
     "text": [
      "nnnnnn\n",
      "ooooo\n",
      "hhhh\n",
      "ttt\n",
      "yy\n",
      "p\n",
      "\n",
      "\n",
      "\n",
      "\n",
      "\n",
      "\n"
     ]
    },
    {
     "ename": "IndexError",
     "evalue": "string index out of range",
     "output_type": "error",
     "traceback": [
      "\u001b[0;31m---------------------------------------------------------------------------\u001b[0m",
      "\u001b[0;31mIndexError\u001b[0m                                Traceback (most recent call last)",
      "\u001b[0;32m<ipython-input-4-aa351a9bf426>\u001b[0m in \u001b[0;36m<module>\u001b[0;34m\u001b[0m\n\u001b[1;32m      2\u001b[0m \u001b[0mi\u001b[0m \u001b[0;34m=\u001b[0m \u001b[0;36m5\u001b[0m\u001b[0;34m\u001b[0m\u001b[0;34m\u001b[0m\u001b[0m\n\u001b[1;32m      3\u001b[0m \u001b[0;32mwhile\u001b[0m \u001b[0mi\u001b[0m \u001b[0;34m<\u001b[0m\u001b[0mlen\u001b[0m\u001b[0;34m(\u001b[0m\u001b[0ma\u001b[0m\u001b[0;34m)\u001b[0m\u001b[0;34m:\u001b[0m\u001b[0;34m\u001b[0m\u001b[0;34m\u001b[0m\u001b[0m\n\u001b[0;32m----> 4\u001b[0;31m     \u001b[0mprint\u001b[0m\u001b[0;34m(\u001b[0m\u001b[0ma\u001b[0m\u001b[0;34m[\u001b[0m\u001b[0mi\u001b[0m\u001b[0;34m]\u001b[0m\u001b[0;34m*\u001b[0m\u001b[0;34m(\u001b[0m\u001b[0mi\u001b[0m\u001b[0;34m+\u001b[0m\u001b[0;36m1\u001b[0m\u001b[0;34m)\u001b[0m\u001b[0;34m)\u001b[0m\u001b[0;34m\u001b[0m\u001b[0;34m\u001b[0m\u001b[0m\n\u001b[0m\u001b[1;32m      5\u001b[0m     \u001b[0mi\u001b[0m\u001b[0;34m-=\u001b[0m\u001b[0;36m1\u001b[0m\u001b[0;34m\u001b[0m\u001b[0;34m\u001b[0m\u001b[0m\n",
      "\u001b[0;31mIndexError\u001b[0m: string index out of range"
     ]
    }
   ],
   "source": [
    "a = 'python' \n",
    "i = 5 \n",
    "while i <len(a): \n",
    "    print(a[i]*(i+1)) \n",
    "    i-=1 "
   ]
  },
  {
   "cell_type": "code",
   "execution_count": 6,
   "metadata": {},
   "outputs": [],
   "source": [
    "# Functions\n",
    "\n",
    "# - Why we need functions?"
   ]
  },
  {
   "cell_type": "code",
   "execution_count": 7,
   "metadata": {},
   "outputs": [
    {
     "name": "stdout",
     "output_type": "stream",
     "text": [
      "no\n",
      "30\n",
      "no\n"
     ]
    }
   ],
   "source": [
    "#task1\n",
    "str1 = 'abc'\n",
    "\n",
    "if str1 == str1[::-1]:\n",
    "    print('yes')\n",
    "else:\n",
    "    print('no')\n",
    "    \n",
    "# task2\n",
    "num_1 = 10\n",
    "num_2 = 20\n",
    "\n",
    "print(num_1 + num_2)\n",
    "\n",
    "# task3\n",
    "str1 = 'xyz'\n",
    "\n",
    "if str1 == str1[::-1]:\n",
    "    print('yes')\n",
    "else:\n",
    "    print('no')"
   ]
  },
  {
   "cell_type": "code",
   "execution_count": null,
   "metadata": {},
   "outputs": [],
   "source": [
    "# best practices\n",
    "\n",
    "- code should be written in such a maaner so that it is understandable\n",
    "2. code should be wriiten in minimun line possible"
   ]
  },
  {
   "cell_type": "code",
   "execution_count": null,
   "metadata": {},
   "outputs": [],
   "source": [
    "Fucntion - DRY\n",
    "\n",
    "- function defination - we define the code  that we want to do\n",
    "- function call - we execute the function\n",
    "\n",
    "syntax\n",
    "1. function def\n",
    "    \n",
    "    - def func_name(parameter):\n",
    "        statment1\n",
    "        statmet2\n",
    "        return statment3\n",
    "\n",
    "# things whihc are optional in function def\n",
    "- paramter\n",
    "- return\n",
    "\n",
    "2. function call\n",
    "- func_name(args)\n",
    "\n",
    "# please note -- if paramter is der then arg will be also der and vice versa"
   ]
  },
  {
   "cell_type": "code",
   "execution_count": 2,
   "metadata": {},
   "outputs": [],
   "source": [
    "# create a function to add two number\n",
    "\n",
    "\n",
    "# function def\n",
    "def sum():\n",
    "    print(10+20)"
   ]
  },
  {
   "cell_type": "code",
   "execution_count": 3,
   "metadata": {},
   "outputs": [
    {
     "name": "stdout",
     "output_type": "stream",
     "text": [
      "30\n"
     ]
    }
   ],
   "source": [
    "# function call\n",
    "sum()"
   ]
  },
  {
   "cell_type": "code",
   "execution_count": 12,
   "metadata": {},
   "outputs": [
    {
     "name": "stdout",
     "output_type": "stream",
     "text": [
      "30\n",
      "30\n",
      "30\n"
     ]
    }
   ],
   "source": [
    "sum()\n",
    "sum()\n",
    "sum()"
   ]
  },
  {
   "cell_type": "code",
   "execution_count": 4,
   "metadata": {},
   "outputs": [],
   "source": [
    "# function def\n",
    "def sum(a,b):\n",
    "    print(a+b)"
   ]
  },
  {
   "cell_type": "code",
   "execution_count": 6,
   "metadata": {},
   "outputs": [
    {
     "name": "stdout",
     "output_type": "stream",
     "text": [
      "40\n",
      "80\n"
     ]
    }
   ],
   "source": [
    "sum(10,30)\n",
    "sum(20,60)"
   ]
  },
  {
   "cell_type": "code",
   "execution_count": 8,
   "metadata": {},
   "outputs": [],
   "source": [
    "# write a function to check if user given string is palindrome or not\n",
    "\n",
    "def palindrome(a):\n",
    "    b = a.lower()\n",
    "    if b == b[::-1]:\n",
    "        print(\"It's a Palindrome!!!\")\n",
    "    else:\n",
    "        print(\"Not a Palindrome!!!\") "
   ]
  },
  {
   "cell_type": "code",
   "execution_count": 11,
   "metadata": {},
   "outputs": [
    {
     "name": "stdout",
     "output_type": "stream",
     "text": [
      "It's a Palindrome!!!\n",
      "It's a Palindrome!!!\n",
      "It's a Palindrome!!!\n"
     ]
    }
   ],
   "source": [
    "palindrome('level')\n",
    "palindrome('maam')\n",
    "palindrome('Level')"
   ]
  },
  {
   "cell_type": "markdown",
   "metadata": {},
   "source": [
    "# types of arguments\n",
    "\n",
    "3 types of args\n",
    "\n",
    "1. Positional arguments\n",
    "   - the order is imp\n",
    "   - num of args should match with number of parameter"
   ]
  },
  {
   "cell_type": "code",
   "execution_count": 12,
   "metadata": {},
   "outputs": [
    {
     "name": "stdout",
     "output_type": "stream",
     "text": [
      "afsan\n",
      "zero\n",
      "24\n"
     ]
    }
   ],
   "source": [
    "def emp_info(emp_name , emp_sal , emp_age):\n",
    "    print(emp_name)\n",
    "    print(emp_sal)    \n",
    "    print(emp_age)    \n",
    "    \n",
    "emp_info('afsan' , 'zero' , '24')"
   ]
  },
  {
   "cell_type": "code",
   "execution_count": null,
   "metadata": {},
   "outputs": [],
   "source": [
    "# the order is imp\n",
    "\n",
    "def emp_info(emp_name , emp_sal , emp_age):\n",
    "    print(emp_name)\n",
    "    print(emp_sal)    \n",
    "    print(emp_age)    \n",
    "    \n",
    "emp_info('zero' , 'afsaan' , '24')"
   ]
  },
  {
   "cell_type": "code",
   "execution_count": 13,
   "metadata": {},
   "outputs": [
    {
     "ename": "TypeError",
     "evalue": "emp_info() missing 1 required positional argument: 'emp_age'",
     "output_type": "error",
     "traceback": [
      "\u001b[0;31m---------------------------------------------------------------------------\u001b[0m",
      "\u001b[0;31mTypeError\u001b[0m                                 Traceback (most recent call last)",
      "\u001b[0;32m<ipython-input-13-61c8ee5160f6>\u001b[0m in \u001b[0;36m<module>\u001b[0;34m\u001b[0m\n\u001b[1;32m      4\u001b[0m     \u001b[0mprint\u001b[0m\u001b[0;34m(\u001b[0m\u001b[0memp_age\u001b[0m\u001b[0;34m)\u001b[0m\u001b[0;34m\u001b[0m\u001b[0;34m\u001b[0m\u001b[0m\n\u001b[1;32m      5\u001b[0m \u001b[0;34m\u001b[0m\u001b[0m\n\u001b[0;32m----> 6\u001b[0;31m \u001b[0memp_info\u001b[0m\u001b[0;34m(\u001b[0m\u001b[0;34m'zero'\u001b[0m \u001b[0;34m,\u001b[0m \u001b[0;34m'afsaan'\u001b[0m\u001b[0;34m)\u001b[0m\u001b[0;34m\u001b[0m\u001b[0;34m\u001b[0m\u001b[0m\n\u001b[0m",
      "\u001b[0;31mTypeError\u001b[0m: emp_info() missing 1 required positional argument: 'emp_age'"
     ]
    }
   ],
   "source": [
    "# num of args should match with number of parameter\n",
    "\n",
    "def emp_info(emp_name , emp_sal , emp_age):\n",
    "    print(emp_name)\n",
    "    print(emp_sal)    \n",
    "    print(emp_age)    \n",
    "    \n",
    "emp_info('zero' , 'afsaan')"
   ]
  },
  {
   "cell_type": "markdown",
   "metadata": {},
   "source": [
    "# 2 . default args"
   ]
  },
  {
   "cell_type": "code",
   "execution_count": 14,
   "metadata": {},
   "outputs": [
    {
     "name": "stdout",
     "output_type": "stream",
     "text": [
      "afsan\n",
      "zero\n",
      "24\n",
      "goa\n"
     ]
    }
   ],
   "source": [
    "def emp_info(emp_name , emp_sal , emp_age , emp_location = 'goa'):\n",
    "    print(emp_name)\n",
    "    print(emp_sal)    \n",
    "    print(emp_age) \n",
    "    print(emp_location)    \n",
    "    \n",
    "    \n",
    "emp_info('afsan' , 'zero' , '24')"
   ]
  },
  {
   "cell_type": "code",
   "execution_count": 16,
   "metadata": {},
   "outputs": [
    {
     "name": "stdout",
     "output_type": "stream",
     "text": [
      "afsan\n",
      "zero\n",
      "24\n",
      "goa\n"
     ]
    }
   ],
   "source": [
    "def emp_info(emp_name , emp_sal , emp_age , emp_location = 'goa'):\n",
    "    print(emp_name)\n",
    "    print(emp_sal)    \n",
    "    print(emp_age) \n",
    "    print(emp_location)    \n",
    "    \n",
    "    \n",
    "emp_info('afsan' , 'zero' , '24' , )"
   ]
  },
  {
   "cell_type": "code",
   "execution_count": 18,
   "metadata": {},
   "outputs": [
    {
     "name": "stdout",
     "output_type": "stream",
     "text": [
      "vani\n",
      "zero\n",
      "24\n",
      "goa\n",
      "gajanatd\n",
      "5lakh\n",
      "21\n",
      "kerela\n"
     ]
    }
   ],
   "source": [
    "emp_info('vani' , 'zero' , '24' )\n",
    "emp_info('gajanatd' , '5lakh' , '21' , 'kerela' )"
   ]
  },
  {
   "cell_type": "markdown",
   "metadata": {},
   "source": [
    "important point - if der is a combination of postional args and deafult args then deafult args should be followed by postionla args\n",
    "    \n"
   ]
  },
  {
   "cell_type": "code",
   "execution_count": 19,
   "metadata": {},
   "outputs": [
    {
     "name": "stdout",
     "output_type": "stream",
     "text": [
      "afsan\n",
      "zero\n",
      "24\n",
      "goa\n",
      "403801\n"
     ]
    }
   ],
   "source": [
    "def emp_info(emp_name , emp_sal , emp_age , emp_location = 'goa' , emp_pin = '403801'):\n",
    "    print(emp_name)\n",
    "    print(emp_sal)    \n",
    "    print(emp_age) \n",
    "    print(emp_location)    \n",
    "    print(emp_pin)    \n",
    "    \n",
    "    \n",
    "    \n",
    "emp_info('afsan' , 'zero' , '24' )"
   ]
  },
  {
   "cell_type": "code",
   "execution_count": 20,
   "metadata": {},
   "outputs": [
    {
     "name": "stdout",
     "output_type": "stream",
     "text": [
      "afsan\n",
      "zero\n",
      "24\n",
      "banglore\n",
      "403801\n"
     ]
    }
   ],
   "source": [
    "def emp_info(emp_name , emp_sal , emp_age , emp_location = 'goa' , emp_pin = '403801'):\n",
    "    print(emp_name)\n",
    "    print(emp_sal)    \n",
    "    print(emp_age) \n",
    "    print(emp_location)    \n",
    "    print(emp_pin)    \n",
    "    \n",
    "    \n",
    "    \n",
    "emp_info('afsan' , 'zero' , '24'  , 'banglore')"
   ]
  },
  {
   "cell_type": "code",
   "execution_count": 21,
   "metadata": {},
   "outputs": [
    {
     "name": "stdout",
     "output_type": "stream",
     "text": [
      "afsan\n",
      "zero\n",
      "24\n",
      "banglore\n",
      "11234\n"
     ]
    }
   ],
   "source": [
    "def emp_info(emp_name , emp_sal , emp_age , emp_location = 'goa' , emp_pin = '403801'):\n",
    "    print(emp_name)\n",
    "    print(emp_sal)    \n",
    "    print(emp_age) \n",
    "    print(emp_location)    \n",
    "    print(emp_pin)    \n",
    "    \n",
    "    \n",
    "    \n",
    "emp_info('afsan' , 'zero' , '24'  , 'banglore' , 11234)"
   ]
  },
  {
   "cell_type": "code",
   "execution_count": 22,
   "metadata": {},
   "outputs": [
    {
     "ename": "SyntaxError",
     "evalue": "non-default argument follows default argument (<ipython-input-22-011b1566e8e2>, line 1)",
     "output_type": "error",
     "traceback": [
      "\u001b[0;36m  File \u001b[0;32m\"<ipython-input-22-011b1566e8e2>\"\u001b[0;36m, line \u001b[0;32m1\u001b[0m\n\u001b[0;31m    def emp_info(emp_location = 'goa' , emp_name , emp_sal , emp_age , emp_pin = '403801'):\u001b[0m\n\u001b[0m                 ^\u001b[0m\n\u001b[0;31mSyntaxError\u001b[0m\u001b[0;31m:\u001b[0m non-default argument follows default argument\n"
     ]
    }
   ],
   "source": [
    "def emp_info(emp_location = 'goa' , emp_name , emp_sal , emp_age , emp_pin = '403801'):\n",
    "    print(emp_name)\n",
    "    print(emp_sal)    \n",
    "    print(emp_age) \n",
    "    print(emp_location)    \n",
    "    print(emp_pin)    \n",
    "    \n",
    "    \n",
    "    \n",
    "emp_info('afsan' , 'zero' , '24'  , 'banglore' , 11234)"
   ]
  },
  {
   "cell_type": "code",
   "execution_count": 23,
   "metadata": {},
   "outputs": [
    {
     "name": "stdout",
     "output_type": "stream",
     "text": [
      "afsan\n",
      "zero\n",
      "24\n",
      "11234\n",
      "banglore\n"
     ]
    }
   ],
   "source": [
    "def emp_info( emp_name , emp_sal , emp_age , emp_pin = '403801' , emp_location = 'goa' ):\n",
    "    print(emp_name)\n",
    "    print(emp_sal)    \n",
    "    print(emp_age) \n",
    "    print(emp_location)    \n",
    "    print(emp_pin)    \n",
    "    \n",
    "    \n",
    "    \n",
    "emp_info('afsan' , 'zero' , '24'  , 'banglore' , 11234)"
   ]
  },
  {
   "cell_type": "code",
   "execution_count": 33,
   "metadata": {},
   "outputs": [
    {
     "name": "stdout",
     "output_type": "stream",
     "text": [
      "afsan\n",
      "zero\n",
      "24\n",
      "\n",
      "\n"
     ]
    }
   ],
   "source": [
    "def emp_info( emp_name , emp_sal , emp_age , emp_area = 'abc' , emp_location = 'goa' ):\n",
    "    print(emp_name)\n",
    "    print(emp_sal)    \n",
    "    print(emp_age) \n",
    "    print(emp_location)    \n",
    "    print(emp_area)    \n",
    "    \n",
    "    \n",
    "    \n",
    "emp_info('afsan' , 'zero' , '24' , '', '')"
   ]
  },
  {
   "cell_type": "code",
   "execution_count": 35,
   "metadata": {},
   "outputs": [
    {
     "ename": "TypeError",
     "evalue": "emp_info() got an unexpected keyword argument 'emp_area'",
     "output_type": "error",
     "traceback": [
      "\u001b[0;31m---------------------------------------------------------------------------\u001b[0m",
      "\u001b[0;31mTypeError\u001b[0m                                 Traceback (most recent call last)",
      "\u001b[0;32m<ipython-input-35-a90fed34cb8c>\u001b[0m in \u001b[0;36m<module>\u001b[0;34m\u001b[0m\n\u001b[1;32m     10\u001b[0m \u001b[0ma\u001b[0m \u001b[0;34m=\u001b[0m \u001b[0;34m[\u001b[0m\u001b[0;34m'afsan'\u001b[0m \u001b[0;34m,\u001b[0m \u001b[0;34m'50k'\u001b[0m \u001b[0;34m,\u001b[0m \u001b[0;36m34\u001b[0m\u001b[0;34m]\u001b[0m\u001b[0;34m\u001b[0m\u001b[0;34m\u001b[0m\u001b[0m\n\u001b[1;32m     11\u001b[0m \u001b[0;34m\u001b[0m\u001b[0m\n\u001b[0;32m---> 12\u001b[0;31m \u001b[0memp_info\u001b[0m\u001b[0;34m(\u001b[0m\u001b[0ma\u001b[0m\u001b[0;34m[\u001b[0m\u001b[0;36m0\u001b[0m\u001b[0;34m]\u001b[0m \u001b[0;34m,\u001b[0m \u001b[0ma\u001b[0m\u001b[0;34m[\u001b[0m\u001b[0;36m1\u001b[0m\u001b[0;34m]\u001b[0m \u001b[0;34m,\u001b[0m \u001b[0ma\u001b[0m\u001b[0;34m[\u001b[0m\u001b[0;36m2\u001b[0m\u001b[0;34m]\u001b[0m\u001b[0;34m,\u001b[0m \u001b[0memp_location\u001b[0m \u001b[0;34m=\u001b[0m \u001b[0;34m[\u001b[0m\u001b[0;36m1\u001b[0m\u001b[0;34m,\u001b[0m\u001b[0;36m2\u001b[0m\u001b[0;34m,\u001b[0m\u001b[0;36m3\u001b[0m\u001b[0;34m,\u001b[0m\u001b[0;36m4\u001b[0m\u001b[0;34m]\u001b[0m \u001b[0;34m,\u001b[0m \u001b[0memp_area\u001b[0m \u001b[0;34m=\u001b[0m \u001b[0;34m'abc'\u001b[0m \u001b[0;34m)\u001b[0m\u001b[0;34m\u001b[0m\u001b[0;34m\u001b[0m\u001b[0m\n\u001b[0m",
      "\u001b[0;31mTypeError\u001b[0m: emp_info() got an unexpected keyword argument 'emp_area'"
     ]
    }
   ],
   "source": [
    "# 3. keyword args\n",
    "\n",
    "def emp_info( emp_name , emp_sal , emp_age ,  emp_location = 'goa' ):\n",
    "    print(emp_name)\n",
    "    print(emp_sal)    \n",
    "    print(emp_age) \n",
    "    print(emp_location)    \n",
    "    print(emp_area)    \n",
    "    \n",
    "a = ['afsan' , '50k' , 34]\n",
    "    \n",
    "emp_info(a[0] , a[1] , a[2], emp_location = [1,2,3,4] , emp_area = 'abc' )"
   ]
  },
  {
   "cell_type": "code",
   "execution_count": null,
   "metadata": {},
   "outputs": [],
   "source": [
    "[1,2,3,4,5,6,7,8,9,10]\n",
    "\n",
    "function\n",
    "\n",
    "even lits\n",
    "odd list"
   ]
  },
  {
   "cell_type": "code",
   "execution_count": 36,
   "metadata": {},
   "outputs": [
    {
     "name": "stdout",
     "output_type": "stream",
     "text": [
      "[2, 4, 6, 8, 10]\n",
      "[1, 3, 5, 7, 9]\n",
      "None\n"
     ]
    }
   ],
   "source": [
    "a = [1,2,3,4,5,6,7,8,9,10] \n",
    "\n",
    "def odd_even(a): \n",
    "    even =[] \n",
    "    odd = [] \n",
    "    for i in a: \n",
    "        if i%2 == 0: \n",
    "            even.append(i) \n",
    "        else: \n",
    "            odd.append(i) \n",
    "    print(even) \n",
    "    print(odd) \n",
    "print(odd_even(a)) "
   ]
  },
  {
   "cell_type": "code",
   "execution_count": 4,
   "metadata": {},
   "outputs": [
    {
     "name": "stdout",
     "output_type": "stream",
     "text": [
      "('abc', 'xyz')\n",
      "{'name': 'afsan', 'age': 24}\n"
     ]
    }
   ],
   "source": [
    "# Vriable length args\n",
    "\n",
    "# - *args - takes variable legth positonal args and store the value in tuple\n",
    "# - **kwargs - take varibale length keywords args and store the value in dic\n",
    "\n",
    "def odd_even(*args  ,**kwargs): \n",
    "    print(args)\n",
    "    print(kwargs)\n",
    "odd_even('abc' , 'xyz' , name = 'afsan' , age = 24)"
   ]
  },
  {
   "cell_type": "code",
   "execution_count": 40,
   "metadata": {},
   "outputs": [
    {
     "name": "stdout",
     "output_type": "stream",
     "text": [
      "{'name': 'afsan', 'age': 24}\n"
     ]
    }
   ],
   "source": [
    "def odd_even(**kwargs): \n",
    "    print(kwargs)\n",
    "odd_even(name = 'afsan' , age = 24)"
   ]
  },
  {
   "cell_type": "code",
   "execution_count": 42,
   "metadata": {},
   "outputs": [
    {
     "name": "stdout",
     "output_type": "stream",
     "text": [
      "[2, 4, 6, 8, 10]\n",
      "[1, 3, 5, 7, 9]\n",
      "None\n"
     ]
    }
   ],
   "source": [
    "a = [1,2,3,4,5,6,7,8,9,10] \n",
    "\n",
    "def odd_even(a): \n",
    "    even =[i for i in a if i%2==0] \n",
    "    odd = [i for i in a if i%2!=0] \n",
    "    print(even) \n",
    "    print(odd) \n",
    "print(odd_even(a)) "
   ]
  },
  {
   "cell_type": "code",
   "execution_count": 46,
   "metadata": {},
   "outputs": [
    {
     "name": "stdout",
     "output_type": "stream",
     "text": [
      "enter the list[1,2,3]\n",
      "None\n"
     ]
    }
   ],
   "source": [
    "def odd_even(): \n",
    "    list_=eval(input(\"enter the list\")) \n",
    "    list1=[] \n",
    "    list2=[] \n",
    "    for i in list_: \n",
    "        if i%2==0: \n",
    "            list1.append(i) \n",
    "        else: \n",
    "            list2.append(i) \n",
    "    \n",
    "    \n",
    "print(odd_even())"
   ]
  },
  {
   "cell_type": "code",
   "execution_count": null,
   "metadata": {},
   "outputs": [],
   "source": [
    "# return statment in functions\n",
    "\n",
    "-it is optional\n",
    "- if the return is not used by deafult returned value will be None"
   ]
  },
  {
   "cell_type": "code",
   "execution_count": 45,
   "metadata": {},
   "outputs": [
    {
     "name": "stdout",
     "output_type": "stream",
     "text": [
      "enter the list[1,2,3,4,5]\n",
      "None\n"
     ]
    }
   ],
   "source": [
    "def odd_even(): \n",
    "    list_=eval(input(\"enter the list\")) \n",
    "    list1=[] \n",
    "    list2=[] \n",
    "    for i in list_: \n",
    "        if i%2==0: \n",
    "            list1.append(i) \n",
    "        else: \n",
    "            list2.append(i) \n",
    "    \n",
    "    \n",
    "print(odd_even())"
   ]
  },
  {
   "cell_type": "code",
   "execution_count": 1,
   "metadata": {},
   "outputs": [
    {
     "name": "stdout",
     "output_type": "stream",
     "text": [
      "30\n",
      "30\n",
      "10\n",
      "20\n"
     ]
    },
    {
     "ename": "NameError",
     "evalue": "name 'a' is not defined",
     "output_type": "error",
     "traceback": [
      "\u001b[0;31m---------------------------------------------------------------------------\u001b[0m",
      "\u001b[0;31mNameError\u001b[0m                                 Traceback (most recent call last)",
      "\u001b[0;32m<ipython-input-1-4beeeed90aaf>\u001b[0m in \u001b[0;36m<module>\u001b[0;34m\u001b[0m\n\u001b[1;32m     16\u001b[0m \u001b[0mprint\u001b[0m\u001b[0;34m(\u001b[0m\u001b[0mx\u001b[0m\u001b[0;34m)\u001b[0m\u001b[0;34m\u001b[0m\u001b[0;34m\u001b[0m\u001b[0m\n\u001b[1;32m     17\u001b[0m \u001b[0mprint\u001b[0m\u001b[0;34m(\u001b[0m\u001b[0my\u001b[0m\u001b[0;34m)\u001b[0m\u001b[0;34m\u001b[0m\u001b[0;34m\u001b[0m\u001b[0m\n\u001b[0;32m---> 18\u001b[0;31m \u001b[0mprint\u001b[0m\u001b[0;34m(\u001b[0m\u001b[0ma\u001b[0m\u001b[0;34m)\u001b[0m\u001b[0;34m\u001b[0m\u001b[0;34m\u001b[0m\u001b[0m\n\u001b[0m\u001b[1;32m     19\u001b[0m \u001b[0mprint\u001b[0m\u001b[0;34m(\u001b[0m\u001b[0mb\u001b[0m\u001b[0;34m)\u001b[0m\u001b[0;34m\u001b[0m\u001b[0;34m\u001b[0m\u001b[0m\n\u001b[1;32m     20\u001b[0m \u001b[0mprint\u001b[0m\u001b[0;34m(\u001b[0m\u001b[0mc\u001b[0m\u001b[0;34m)\u001b[0m\u001b[0;34m\u001b[0m\u001b[0;34m\u001b[0m\u001b[0m\n",
      "\u001b[0;31mNameError\u001b[0m: name 'a' is not defined"
     ]
    }
   ],
   "source": [
    "# golabl and local\n",
    "\n",
    "# global varibales\n",
    "x = 10\n",
    "y = 20\n",
    "\n",
    "\n",
    "def sum(a,b):\n",
    "    c = a+b\n",
    "    d = x+y\n",
    "    print(d)\n",
    "    print(c)\n",
    "    \n",
    "sum(10,20)\n",
    "\n",
    "print(x)\n",
    "print(y)\n",
    "print(a)\n",
    "print(b)\n",
    "print(c)\n",
    "print(d)"
   ]
  },
  {
   "cell_type": "code",
   "execution_count": null,
   "metadata": {},
   "outputs": [],
   "source": [
    "# return statment in functions\n",
    "\n",
    "- it is optional\n",
    "- if the return is not used by user  deafult returned value will be None\n",
    "- if it is used by the user then the deauflt will the data type that is used\n",
    "- you can return any object\n",
    "- you can return any functions"
   ]
  },
  {
   "cell_type": "code",
   "execution_count": null,
   "metadata": {},
   "outputs": [],
   "source": []
  },
  {
   "cell_type": "code",
   "execution_count": null,
   "metadata": {},
   "outputs": [],
   "source": []
  },
  {
   "cell_type": "code",
   "execution_count": null,
   "metadata": {},
   "outputs": [],
   "source": []
  },
  {
   "cell_type": "code",
   "execution_count": null,
   "metadata": {},
   "outputs": [],
   "source": []
  },
  {
   "cell_type": "code",
   "execution_count": null,
   "metadata": {},
   "outputs": [],
   "source": []
  }
 ],
 "metadata": {
  "kernelspec": {
   "display_name": "Python 3",
   "language": "python",
   "name": "python3"
  },
  "language_info": {
   "codemirror_mode": {
    "name": "ipython",
    "version": 3
   },
   "file_extension": ".py",
   "mimetype": "text/x-python",
   "name": "python",
   "nbconvert_exporter": "python",
   "pygments_lexer": "ipython3",
   "version": "3.8.5"
  }
 },
 "nbformat": 4,
 "nbformat_minor": 4
}
