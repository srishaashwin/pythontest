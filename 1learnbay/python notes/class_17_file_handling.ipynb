{
 "cells": [
  {
   "cell_type": "code",
   "execution_count": null,
   "metadata": {},
   "outputs": [],
   "source": [
    "# textfile - nromal text , pdf , notpad\n",
    "# binary - images , videos , audio"
   ]
  },
  {
   "cell_type": "markdown",
   "metadata": {},
   "source": [
    "# poin to keep in mind  while working with file handling\n",
    "\n",
    "1. to read a file using file handling firs we have to open\n",
    "\n",
    "syntax:\n",
    "    - f = open('file_name.ext' , 'mode')\n",
    "    - f.close()\n",
    "\n",
    "    closing a file is important otherwise changes will not take place\n",
    "    \n",
    "2. data read from the file is alwasy in string format\n",
    "\n",
    "3. mode of operation - text file\n",
    "\n",
    "- Read mode - 'r'\n",
    "- write mode - 'w'\n",
    "- append mode - 'a'\n",
    "- read and write mode - 'r+'\n",
    "- write and read mode - 'w+'\n",
    "- append and read mode - 'a+'\n",
    "\n",
    "4. mode of operation - binary file\n",
    "\n",
    "- Read mode - 'rb'\n",
    "- write mode - 'wb'\n",
    "- append mode - 'ab'\n",
    "- read and write mode - 'r+b'\n",
    "- write and read mode - 'w+b'\n",
    "- append and read mode - 'a+b'\n",
    "\n",
    "5. method on file objects\n",
    "\n",
    "- read() - reading a content from the file\n",
    "- write - writing a content to a file\n",
    "- tell - tells the cursor postion\n",
    "- seek - moves to cursor to the specific index loacation"
   ]
  },
  {
   "cell_type": "markdown",
   "metadata": {},
   "source": [
    "# Modes of operation"
   ]
  },
  {
   "cell_type": "markdown",
   "metadata": {},
   "source": [
    "## 1. Read mode - 'r'\n",
    "- If the file exists then it will open the file in read mode and places the cursor at the begining of the file\n",
    "- if the file does not exists then it will give FileNotFoundError\n",
    "- You are allowed only to read from the file but not allowed to write into the file"
   ]
  },
  {
   "cell_type": "code",
   "execution_count": 1,
   "metadata": {},
   "outputs": [
    {
     "name": "stdout",
     "output_type": "stream",
     "text": [
      " class_10_dictinoary.ipynb\r\n",
      " class_11_dict_part2_set_range.ipynb\r\n",
      " class_12_conditional_statement.ipynb\r\n",
      " class_13_loops.ipynb\r\n",
      " class_14_functions.ipynb\r\n",
      " class_15_return_map_reduce_filter_enumerate_iterator.ipynb\r\n",
      " class_16_enumerate_iterators_module.ipynb\r\n",
      " class_17_file_handling.ipynb\r\n",
      "'class_1_Indroduction to python.ipynb'\r\n",
      " class_2_datatypes_integer.ipynb\r\n",
      " class_3_integr_part2_float_complex_None_Boolean.ipynb\r\n",
      " class_4_float,Complex,None_bool_type_casting_input_output_functions.ipynb\r\n",
      " class_5_string_part_1.ipynb\r\n",
      " class_6_string_part_2.ipynb\r\n",
      " class_7_string_part_3_list.ipynb\r\n",
      " class_8_list_part_2.ipynb\r\n",
      "'class_9_list comprehension_tuple.ipynb'\r\n",
      " my_module.py\r\n",
      " \u001b[0m\u001b[01;34m__pycache__\u001b[0m/\r\n",
      " test.py\r\n",
      " Untitled.ipynb\r\n"
     ]
    }
   ],
   "source": [
    "ls"
   ]
  },
  {
   "cell_type": "code",
   "execution_count": 2,
   "metadata": {},
   "outputs": [
    {
     "ename": "FileNotFoundError",
     "evalue": "[Errno 2] No such file or directory: 'read_mode.txt'",
     "output_type": "error",
     "traceback": [
      "\u001b[0;31m---------------------------------------------------------------------------\u001b[0m",
      "\u001b[0;31mFileNotFoundError\u001b[0m                         Traceback (most recent call last)",
      "\u001b[0;32m<ipython-input-2-4c5d557b93d9>\u001b[0m in \u001b[0;36m<module>\u001b[0;34m\u001b[0m\n\u001b[1;32m      1\u001b[0m \u001b[0;31m# file is not present\u001b[0m\u001b[0;34m\u001b[0m\u001b[0;34m\u001b[0m\u001b[0;34m\u001b[0m\u001b[0m\n\u001b[1;32m      2\u001b[0m \u001b[0;34m\u001b[0m\u001b[0m\n\u001b[0;32m----> 3\u001b[0;31m \u001b[0mf\u001b[0m \u001b[0;34m=\u001b[0m \u001b[0mopen\u001b[0m\u001b[0;34m(\u001b[0m\u001b[0;34m'read_mode.txt'\u001b[0m \u001b[0;34m,\u001b[0m \u001b[0;34m'r'\u001b[0m\u001b[0;34m)\u001b[0m\u001b[0;34m\u001b[0m\u001b[0;34m\u001b[0m\u001b[0m\n\u001b[0m",
      "\u001b[0;31mFileNotFoundError\u001b[0m: [Errno 2] No such file or directory: 'read_mode.txt'"
     ]
    }
   ],
   "source": [
    "# file is not present\n",
    "\n",
    "f = open('read_mode.txt' , 'r')"
   ]
  },
  {
   "cell_type": "code",
   "execution_count": 3,
   "metadata": {},
   "outputs": [
    {
     "name": "stdout",
     "output_type": "stream",
     "text": [
      " class_10_dictinoary.ipynb\r\n",
      " class_11_dict_part2_set_range.ipynb\r\n",
      " class_12_conditional_statement.ipynb\r\n",
      " class_13_loops.ipynb\r\n",
      " class_14_functions.ipynb\r\n",
      " class_15_return_map_reduce_filter_enumerate_iterator.ipynb\r\n",
      " class_16_enumerate_iterators_module.ipynb\r\n",
      " class_17_file_handling.ipynb\r\n",
      "'class_1_Indroduction to python.ipynb'\r\n",
      " class_2_datatypes_integer.ipynb\r\n",
      " class_3_integr_part2_float_complex_None_Boolean.ipynb\r\n",
      " class_4_float,Complex,None_bool_type_casting_input_output_functions.ipynb\r\n",
      " class_5_string_part_1.ipynb\r\n",
      " class_6_string_part_2.ipynb\r\n",
      " class_7_string_part_3_list.ipynb\r\n",
      " class_8_list_part_2.ipynb\r\n",
      "'class_9_list comprehension_tuple.ipynb'\r\n",
      " my_module.py\r\n",
      " \u001b[0m\u001b[01;34m__pycache__\u001b[0m/\r\n",
      " read_mode.py\r\n",
      " test.py\r\n",
      " Untitled1.ipynb\r\n",
      "\u001b[01;34m'Untitled Folder'\u001b[0m/\r\n",
      " Untitled.ipynb\r\n"
     ]
    }
   ],
   "source": [
    "ls"
   ]
  },
  {
   "cell_type": "code",
   "execution_count": 8,
   "metadata": {},
   "outputs": [
    {
     "name": "stdout",
     "output_type": "stream",
     "text": [
      "0\n",
      "<class 'str'>\n",
      "37\n"
     ]
    }
   ],
   "source": [
    "# file is present\n",
    "\n",
    "f = open('read_mode.py' , 'r')\n",
    "print(f.tell())\n",
    "print(type(f.read()))\n",
    "print(f.tell())"
   ]
  },
  {
   "cell_type": "code",
   "execution_count": 10,
   "metadata": {},
   "outputs": [
    {
     "name": "stdout",
     "output_type": "stream",
     "text": [
      "0\n",
      "5\n",
      " this is the learnbay institute \n",
      "\n"
     ]
    }
   ],
   "source": [
    "f = open('read_mode.py' , 'r')\n",
    "print(f.tell())\n",
    "f.seek(5)\n",
    "print(f.tell())\n",
    "print(f.read())\n",
    "print(f.read())"
   ]
  },
  {
   "cell_type": "markdown",
   "metadata": {},
   "source": [
    "## 2. Write mode - 'w'\n",
    "- If the file exists then it will open the file in write mode and deletes the content of the file\n",
    "- if the file does not exists then it will create a file with given name and extension\n",
    "- You are allowed only to write into the file but not allowed to read from the file"
   ]
  },
  {
   "cell_type": "code",
   "execution_count": 12,
   "metadata": {},
   "outputs": [],
   "source": [
    "# if file does not exist\n",
    "\n",
    "f = open('write_mode.py' , 'w')"
   ]
  },
  {
   "cell_type": "code",
   "execution_count": 13,
   "metadata": {},
   "outputs": [
    {
     "name": "stdout",
     "output_type": "stream",
     "text": [
      " class_10_dictinoary.ipynb\r\n",
      " class_11_dict_part2_set_range.ipynb\r\n",
      " class_12_conditional_statement.ipynb\r\n",
      " class_13_loops.ipynb\r\n",
      " class_14_functions.ipynb\r\n",
      " class_15_return_map_reduce_filter_enumerate_iterator.ipynb\r\n",
      " class_16_enumerate_iterators_module.ipynb\r\n",
      " class_17_file_handling.ipynb\r\n",
      "'class_1_Indroduction to python.ipynb'\r\n",
      " class_2_datatypes_integer.ipynb\r\n",
      " class_3_integr_part2_float_complex_None_Boolean.ipynb\r\n",
      " class_4_float,Complex,None_bool_type_casting_input_output_functions.ipynb\r\n",
      " class_5_string_part_1.ipynb\r\n",
      " class_6_string_part_2.ipynb\r\n",
      " class_7_string_part_3_list.ipynb\r\n",
      " class_8_list_part_2.ipynb\r\n",
      "'class_9_list comprehension_tuple.ipynb'\r\n",
      " my_module.py\r\n",
      " \u001b[0m\u001b[01;34m__pycache__\u001b[0m/\r\n",
      " read_mode.py\r\n",
      " test.py\r\n",
      " Untitled1.ipynb\r\n",
      "\u001b[01;34m'Untitled Folder'\u001b[0m/\r\n",
      " Untitled.ipynb\r\n",
      " write_mode.py\r\n"
     ]
    }
   ],
   "source": [
    "ls"
   ]
  },
  {
   "cell_type": "code",
   "execution_count": 16,
   "metadata": {},
   "outputs": [
    {
     "name": "stdout",
     "output_type": "stream",
     "text": [
      "0\n",
      "12\n",
      "12\n"
     ]
    }
   ],
   "source": [
    "# if the file exist\n",
    "\n",
    "f = open('write_mode.py' , 'w')\n",
    "print(f.tell())\n",
    "# print(f.read()) # not allowed\n",
    "print(f.write('hey learnbay'))\n",
    "print(f.seek(3))\n",
    "print(f.tell())\n",
    "f.close()"
   ]
  },
  {
   "cell_type": "code",
   "execution_count": 27,
   "metadata": {},
   "outputs": [
    {
     "name": "stdout",
     "output_type": "stream",
     "text": [
      "0\n",
      "12\n",
      "3\n",
      "3\n",
      "4\n"
     ]
    }
   ],
   "source": [
    "f = open('write_mode.py' , 'w')\n",
    "print(f.tell())\n",
    "# print(f.read()) # not allowed\n",
    "f.write('hey learnbay')\n",
    "print(f.tell())\n",
    "print(f.seek(3))\n",
    "print(f.tell())\n",
    "print(f.write('hola'))\n",
    "# print(f.tell())\n",
    "f.close()"
   ]
  },
  {
   "cell_type": "markdown",
   "metadata": {},
   "source": [
    "## 3. Append mode - 'a'\n",
    "- If the file exists then it will open the file in write mode and places the cursor at the end of the file\n",
    "- if the file does not exists then it will create a file with given name and extension\n",
    "- You are allowed only to write into the file but not allowed to read from the file\n",
    "- append will always write the the content at the end of the file so seek() will not work here"
   ]
  },
  {
   "cell_type": "code",
   "execution_count": 17,
   "metadata": {},
   "outputs": [],
   "source": [
    "# if the file does not exist\n",
    "\n",
    "f = open('append_mode.txt' , 'a')"
   ]
  },
  {
   "cell_type": "code",
   "execution_count": 18,
   "metadata": {},
   "outputs": [
    {
     "name": "stdout",
     "output_type": "stream",
     "text": [
      " append_mode.txt\r\n",
      " class_10_dictinoary.ipynb\r\n",
      " class_11_dict_part2_set_range.ipynb\r\n",
      " class_12_conditional_statement.ipynb\r\n",
      " class_13_loops.ipynb\r\n",
      " class_14_functions.ipynb\r\n",
      " class_15_return_map_reduce_filter_enumerate_iterator.ipynb\r\n",
      " class_16_enumerate_iterators_module.ipynb\r\n",
      " class_17_file_handling.ipynb\r\n",
      "'class_1_Indroduction to python.ipynb'\r\n",
      " class_2_datatypes_integer.ipynb\r\n",
      " class_3_integr_part2_float_complex_None_Boolean.ipynb\r\n",
      " class_4_float,Complex,None_bool_type_casting_input_output_functions.ipynb\r\n",
      " class_5_string_part_1.ipynb\r\n",
      " class_6_string_part_2.ipynb\r\n",
      " class_7_string_part_3_list.ipynb\r\n",
      " class_8_list_part_2.ipynb\r\n",
      "'class_9_list comprehension_tuple.ipynb'\r\n",
      " my_module.py\r\n",
      " \u001b[0m\u001b[01;34m__pycache__\u001b[0m/\r\n",
      " read_mode.py\r\n",
      " test.py\r\n",
      " Untitled1.ipynb\r\n",
      "\u001b[01;34m'Untitled Folder'\u001b[0m/\r\n",
      " Untitled.ipynb\r\n",
      " write_mode.py\r\n"
     ]
    }
   ],
   "source": [
    "ls"
   ]
  },
  {
   "cell_type": "code",
   "execution_count": 25,
   "metadata": {},
   "outputs": [
    {
     "name": "stdout",
     "output_type": "stream",
     "text": [
      "90\n",
      "1\n",
      "9\n",
      "10\n",
      "10\n"
     ]
    }
   ],
   "source": [
    "# if the file exists\n",
    "\n",
    "f = open('append_mode.txt' , 'a')\n",
    "print(f.tell())\n",
    "print(f.write('\\n'))\n",
    "print(f.write('barcelona'))\n",
    "print(f.seek(10))\n",
    "print(f.tell())\n",
    "f.write('paris')\n",
    "f.close()"
   ]
  },
  {
   "cell_type": "markdown",
   "metadata": {},
   "source": [
    "## 4. Write and read mode - 'w+'\n",
    "- If the file exists then it will open the file in write mode and deletes the content of the file\n",
    "- if the file does not exists then it will create a file with given name and extension\n",
    "- You are allowed to write into the file and also allowed to read from the file"
   ]
  },
  {
   "cell_type": "code",
   "execution_count": 28,
   "metadata": {},
   "outputs": [],
   "source": [
    "# if file does not der\n",
    "\n",
    "f = open('write_read_mode.py' , 'w+')"
   ]
  },
  {
   "cell_type": "code",
   "execution_count": 32,
   "metadata": {},
   "outputs": [
    {
     "name": "stdout",
     "output_type": "stream",
     "text": [
      "0\n",
      "4\n",
      "\n",
      "hola\n"
     ]
    }
   ],
   "source": [
    "# if the file is present\n",
    "f = open('write_read_mode.py' , 'w+')\n",
    "print(f.tell())\n",
    "f.write('hola')\n",
    "print(f.tell())\n",
    "print(f.read())\n",
    "f.seek(0)\n",
    "print(f.read())"
   ]
  },
  {
   "cell_type": "markdown",
   "metadata": {},
   "source": [
    "## 5. read and write - 'r+'\n",
    "- If the file exists then it will open the file in read mode and places the cursor at the begining of the file\n",
    "- if the file does not exists then it will give FileNotFoundError\n",
    "- You are allowed to write into the file and also allowed to read from the file"
   ]
  },
  {
   "cell_type": "code",
   "execution_count": 33,
   "metadata": {},
   "outputs": [
    {
     "ename": "FileNotFoundError",
     "evalue": "[Errno 2] No such file or directory: 'read_write_mode.txt'",
     "output_type": "error",
     "traceback": [
      "\u001b[0;31m---------------------------------------------------------------------------\u001b[0m",
      "\u001b[0;31mFileNotFoundError\u001b[0m                         Traceback (most recent call last)",
      "\u001b[0;32m<ipython-input-33-5268a655cd4d>\u001b[0m in \u001b[0;36m<module>\u001b[0;34m\u001b[0m\n\u001b[1;32m      1\u001b[0m \u001b[0;31m# if file is not der\u001b[0m\u001b[0;34m\u001b[0m\u001b[0;34m\u001b[0m\u001b[0;34m\u001b[0m\u001b[0m\n\u001b[1;32m      2\u001b[0m \u001b[0;34m\u001b[0m\u001b[0m\n\u001b[0;32m----> 3\u001b[0;31m \u001b[0mf\u001b[0m \u001b[0;34m=\u001b[0m \u001b[0mopen\u001b[0m\u001b[0;34m(\u001b[0m\u001b[0;34m'read_write_mode.txt'\u001b[0m \u001b[0;34m,\u001b[0m \u001b[0;34m'r+'\u001b[0m\u001b[0;34m)\u001b[0m\u001b[0;34m\u001b[0m\u001b[0;34m\u001b[0m\u001b[0m\n\u001b[0m",
      "\u001b[0;31mFileNotFoundError\u001b[0m: [Errno 2] No such file or directory: 'read_write_mode.txt'"
     ]
    }
   ],
   "source": [
    "# if file is not der\n",
    "\n",
    "f = open('read_write_mode.txt' , 'r+')"
   ]
  },
  {
   "cell_type": "code",
   "execution_count": 37,
   "metadata": {},
   "outputs": [
    {
     "name": "stdout",
     "output_type": "stream",
     "text": [
      "0\n",
      "10\n",
      "e file handling class\n",
      "\n",
      "0\n"
     ]
    },
    {
     "data": {
      "text/plain": [
       "' is the file handling class'"
      ]
     },
     "execution_count": 37,
     "metadata": {},
     "output_type": "execute_result"
    }
   ],
   "source": [
    "# if the file is present\n",
    "\n",
    "f = open('read_write_mode.py' , 'r+')\n",
    "print(f.tell())\n",
    "print(f.seek(10))\n",
    "print(f.read())\n",
    "print(f.read())\n",
    "print(f.seek(0))\n",
    "f.write('hola')\n",
    "f.read()"
   ]
  },
  {
   "cell_type": "markdown",
   "metadata": {},
   "source": [
    "# 6. Append and read mode - 'a+'\n",
    "\n",
    "- If the file exists then it will open the file in append mode and places the cursor at the end of the file\n",
    "- if the file does not exists then it will create a file with given name and extension\n",
    "- You are allowed to write into the file and also allowed to read from the file\n",
    "- append will always write the the content at the end of the file so seek() will not here"
   ]
  },
  {
   "cell_type": "code",
   "execution_count": 39,
   "metadata": {},
   "outputs": [],
   "source": [
    "# if file is not present\n",
    "\n",
    "f = open('append_read.py', 'a+')"
   ]
  },
  {
   "cell_type": "code",
   "execution_count": 46,
   "metadata": {},
   "outputs": [
    {
     "name": "stdout",
     "output_type": "stream",
     "text": [
      "\n",
      "hey iiiiii\n"
     ]
    }
   ],
   "source": [
    "# if the file is present\n",
    "f = open('append_read.py', 'a+')\n",
    "f.tell()\n",
    "f.seek(2)\n",
    "f.write('i')\n",
    "print(f.read())\n",
    "f.seek(0)\n",
    "print(f.read())\n",
    "f.close()"
   ]
  },
  {
   "cell_type": "markdown",
   "metadata": {},
   "source": [
    "# Methods to do the operation on Read mode\n",
    "\n",
    "- read() - reads the whole content of the file and returns a string object\n",
    "- read(char) - reads the specified no of characters from current position and returns string\n",
    "- readline() - reads the current line from the current position of the cursor and retruns a string object\n",
    "- readlines() - reads the whole content of the file and retuns a list of string where every element is a string and represents a line"
   ]
  },
  {
   "cell_type": "code",
   "execution_count": 48,
   "metadata": {},
   "outputs": [
    {
     "data": {
      "text/plain": [
       "'messi plays for paris\\nronaldo plays for manu\\nneymar plays form paris\\nxavi is the new coah of barcelona'"
      ]
     },
     "execution_count": 48,
     "metadata": {},
     "output_type": "execute_result"
    }
   ],
   "source": [
    "# \n",
    "f  = open('football.txt' , 'r')\n",
    "f.read()"
   ]
  },
  {
   "cell_type": "code",
   "execution_count": 51,
   "metadata": {},
   "outputs": [
    {
     "data": {
      "text/plain": [
       "'messi play'"
      ]
     },
     "execution_count": 51,
     "metadata": {},
     "output_type": "execute_result"
    }
   ],
   "source": [
    "f  = open('football.txt' , 'r')\n",
    "f.read(10)"
   ]
  },
  {
   "cell_type": "code",
   "execution_count": 54,
   "metadata": {},
   "outputs": [
    {
     "data": {
      "text/plain": [
       "'neymar plays form paris\\n'"
      ]
     },
     "execution_count": 54,
     "metadata": {},
     "output_type": "execute_result"
    }
   ],
   "source": [
    "f  = open('football.txt' , 'r')\n",
    "f.seek(45)\n",
    "f.readline()"
   ]
  },
  {
   "cell_type": "code",
   "execution_count": 58,
   "metadata": {},
   "outputs": [
    {
     "data": {
      "text/plain": [
       "['messi plays for paris\\n',\n",
       " 'ronaldo plays for manu\\n',\n",
       " 'neymar plays form paris\\n',\n",
       " 'xavi is the new coah of barcelona']"
      ]
     },
     "execution_count": 58,
     "metadata": {},
     "output_type": "execute_result"
    }
   ],
   "source": [
    "f  = open('football.txt' , 'r')\n",
    "f.readlines()"
   ]
  },
  {
   "cell_type": "markdown",
   "metadata": {},
   "source": [
    "# Methods to do the operation on Write mode\n",
    "- write('str')\n",
    "- writelines(['str1\\n', 'str2\\n', 'str3\\n'])"
   ]
  },
  {
   "cell_type": "code",
   "execution_count": 60,
   "metadata": {},
   "outputs": [],
   "source": [
    "f = open('methods_write.py' , 'w')\n",
    "f.write('abc')\n",
    "f.close()"
   ]
  },
  {
   "cell_type": "code",
   "execution_count": 61,
   "metadata": {},
   "outputs": [],
   "source": [
    "f = open('methods_write.py' , 'w')\n",
    "f.writelines(['str1\\n', 'str2\\n', 'str3\\n'])\n",
    "f.close()"
   ]
  },
  {
   "cell_type": "code",
   "execution_count": null,
   "metadata": {},
   "outputs": [],
   "source": [
    "# file handling with statment\n",
    "\n",
    "the problem with the normal way is \n",
    "- if close stmt is not wriiten the file is not saved"
   ]
  },
  {
   "cell_type": "code",
   "execution_count": null,
   "metadata": {},
   "outputs": [],
   "source": [
    "f = open('filename.ext' , mode)\n",
    "f.close()"
   ]
  },
  {
   "cell_type": "code",
   "execution_count": 62,
   "metadata": {},
   "outputs": [],
   "source": [
    "with open('f1.py' , 'w+') as f:\n",
    "    f.write('abc')"
   ]
  },
  {
   "cell_type": "code",
   "execution_count": 64,
   "metadata": {},
   "outputs": [
    {
     "name": "stdout",
     "output_type": "stream",
     "text": [
      "4\n",
      "575\n",
      "91\n"
     ]
    }
   ],
   "source": [
    "# task1\n",
    "\n",
    "# 1. count the number of char , words , lines from a file\n",
    "\n",
    "with open('task.txt' , 'r') as f:\n",
    "    no_of_lines = len(f.readlines())\n",
    "    f.seek(0)\n",
    "    no_of_char = len(f.read())\n",
    "    f.seek(0)\n",
    "    no_of_words = len(f.read().split())\n",
    "    \n",
    "print(no_of_lines)\n",
    "print(no_of_char)\n",
    "print(no_of_words)"
   ]
  },
  {
   "cell_type": "code",
   "execution_count": null,
   "metadata": {},
   "outputs": [],
   "source": [
    "# task 2\n",
    "\n",
    "take one image file as img1.png , copy the content of img1.png to new file img2.jpg"
   ]
  },
  {
   "cell_type": "code",
   "execution_count": 65,
   "metadata": {},
   "outputs": [],
   "source": [
    "with open('img1.png' , 'rb') as f:\n",
    "    a = f.read()\n",
    "    \n",
    "with open('img2.jpg' , 'wb') as f:\n",
    "    f.write(a)"
   ]
  },
  {
   "cell_type": "code",
   "execution_count": 66,
   "metadata": {},
   "outputs": [
    {
     "data": {
      "text/plain": [
       "'/home/hulk/courses/ongoing_class/oct_batches/30_sept_python_batch/python_class'"
      ]
     },
     "execution_count": 66,
     "metadata": {},
     "output_type": "execute_result"
    }
   ],
   "source": [
    "with open('img1.png' , 'rb') as f:\n",
    "    with open('img2.jpg' , 'wb') as f1:\n",
    "    f1.write(f.read())   "
   ]
  },
  {
   "cell_type": "code",
   "execution_count": null,
   "metadata": {},
   "outputs": [],
   "source": [
    "tues - excetional handling\n",
    "wed - regex\n",
    "thrusday - numpy\n",
    "friday - numpy\n",
    "\n",
    "pandas\n",
    "matplot and seabron\n",
    "usecase"
   ]
  }
 ],
 "metadata": {
  "kernelspec": {
   "display_name": "Python 3",
   "language": "python",
   "name": "python3"
  },
  "language_info": {
   "codemirror_mode": {
    "name": "ipython",
    "version": 3
   },
   "file_extension": ".py",
   "mimetype": "text/x-python",
   "name": "python",
   "nbconvert_exporter": "python",
   "pygments_lexer": "ipython3",
   "version": "3.8.5"
  }
 },
 "nbformat": 4,
 "nbformat_minor": 4
}
