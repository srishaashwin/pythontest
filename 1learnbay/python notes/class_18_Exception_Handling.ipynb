{
 "cells": [
  {
   "cell_type": "code",
   "execution_count": null,
   "metadata": {},
   "outputs": [],
   "source": [
    "- types of error\n",
    "\n",
    "1. compile time error - syntax , indentation\n",
    "2. run time error - dividie by zero , type error, Name error \n",
    "3. logical error - whihc is made by user\n",
    "\n",
    "Note: Exception handling can handle only run time errors"
   ]
  },
  {
   "cell_type": "code",
   "execution_count": null,
   "metadata": {},
   "outputs": [],
   "source": [
    "python---->compiled(syntax and indentation)-----> interpreter(run time error)"
   ]
  },
  {
   "cell_type": "code",
   "execution_count": 2,
   "metadata": {
    "scrolled": true
   },
   "outputs": [
    {
     "name": "stdout",
     "output_type": "stream",
     "text": [
      "['ArithmeticError', 'AssertionError', 'AttributeError', 'BaseException', 'BlockingIOError', 'BrokenPipeError', 'BufferError', 'BytesWarning', 'ChildProcessError', 'ConnectionAbortedError', 'ConnectionError', 'ConnectionRefusedError', 'ConnectionResetError', 'DeprecationWarning', 'EOFError', 'Ellipsis', 'EnvironmentError', 'Exception', 'False', 'FileExistsError', 'FileNotFoundError', 'FloatingPointError', 'FutureWarning', 'GeneratorExit', 'IOError', 'ImportError', 'ImportWarning', 'IndentationError', 'IndexError', 'InterruptedError', 'IsADirectoryError', 'KeyError', 'KeyboardInterrupt', 'LookupError', 'MemoryError', 'ModuleNotFoundError', 'NameError', 'None', 'NotADirectoryError', 'NotImplemented', 'NotImplementedError', 'OSError', 'OverflowError', 'PendingDeprecationWarning', 'PermissionError', 'ProcessLookupError', 'RecursionError', 'ReferenceError', 'ResourceWarning', 'RuntimeError', 'RuntimeWarning', 'StopAsyncIteration', 'StopIteration', 'SyntaxError', 'SyntaxWarning', 'SystemError', 'SystemExit', 'TabError', 'TimeoutError', 'True', 'TypeError', 'UnboundLocalError', 'UnicodeDecodeError', 'UnicodeEncodeError', 'UnicodeError', 'UnicodeTranslateError', 'UnicodeWarning', 'UserWarning', 'ValueError', 'Warning', 'ZeroDivisionError', '__IPYTHON__', '__build_class__', '__debug__', '__doc__', '__import__', '__loader__', '__name__', '__package__', '__spec__', 'abs', 'all', 'any', 'ascii', 'bin', 'bool', 'breakpoint', 'bytearray', 'bytes', 'callable', 'chr', 'classmethod', 'compile', 'complex', 'copyright', 'credits', 'delattr', 'dict', 'dir', 'display', 'divmod', 'enumerate', 'eval', 'exec', 'filter', 'float', 'format', 'frozenset', 'get_ipython', 'getattr', 'globals', 'hasattr', 'hash', 'help', 'hex', 'id', 'input', 'int', 'isinstance', 'issubclass', 'iter', 'len', 'license', 'list', 'locals', 'map', 'max', 'memoryview', 'min', 'next', 'object', 'oct', 'open', 'ord', 'pow', 'print', 'property', 'range', 'repr', 'reversed', 'round', 'set', 'setattr', 'slice', 'sorted', 'staticmethod', 'str', 'sum', 'super', 'tuple', 'type', 'vars', 'zip']\n"
     ]
    }
   ],
   "source": [
    "# list of errors\n",
    "print(dir(__builtins__))"
   ]
  },
  {
   "cell_type": "code",
   "execution_count": null,
   "metadata": {},
   "outputs": [],
   "source": [
    "# keywords that we will using in Exception handling\n",
    "\n",
    "- try\n",
    "- except\n",
    "- else\n",
    "- finally\n",
    "- raise"
   ]
  },
  {
   "cell_type": "code",
   "execution_count": 6,
   "metadata": {},
   "outputs": [
    {
     "name": "stdout",
     "output_type": "stream",
     "text": [
      "enter the number: 100\n",
      "enter the number 2: 0\n"
     ]
    },
    {
     "ename": "ZeroDivisionError",
     "evalue": "division by zero",
     "output_type": "error",
     "traceback": [
      "\u001b[0;31m---------------------------------------------------------------------------\u001b[0m",
      "\u001b[0;31mZeroDivisionError\u001b[0m                         Traceback (most recent call last)",
      "\u001b[0;32m<ipython-input-6-26626162fcf6>\u001b[0m in \u001b[0;36m<module>\u001b[0;34m\u001b[0m\n\u001b[1;32m      3\u001b[0m \u001b[0mnum_2\u001b[0m \u001b[0;34m=\u001b[0m \u001b[0mint\u001b[0m\u001b[0;34m(\u001b[0m\u001b[0minput\u001b[0m\u001b[0;34m(\u001b[0m\u001b[0;34m'enter the number 2: '\u001b[0m\u001b[0;34m)\u001b[0m\u001b[0;34m)\u001b[0m\u001b[0;34m\u001b[0m\u001b[0;34m\u001b[0m\u001b[0m\n\u001b[1;32m      4\u001b[0m \u001b[0;34m\u001b[0m\u001b[0m\n\u001b[0;32m----> 5\u001b[0;31m \u001b[0mprint\u001b[0m\u001b[0;34m(\u001b[0m\u001b[0mnum_1\u001b[0m\u001b[0;34m/\u001b[0m\u001b[0mnum_2\u001b[0m\u001b[0;34m)\u001b[0m\u001b[0;34m\u001b[0m\u001b[0;34m\u001b[0m\u001b[0m\n\u001b[0m",
      "\u001b[0;31mZeroDivisionError\u001b[0m: division by zero"
     ]
    }
   ],
   "source": [
    "# write a program to dividie to numbers and numbers hsould be taken by user\n",
    "num_1 = int(input('enter the number: '))\n",
    "num_2 = int(input('enter the number 2: '))\n",
    "\n",
    "print(num_1/num_2)"
   ]
  },
  {
   "cell_type": "code",
   "execution_count": null,
   "metadata": {},
   "outputs": [],
   "source": [
    "# try and Exception\n",
    "\n",
    "- try - only the code which will going to raise an error will be written here\n",
    "- exception - alternate code has to be wriiten here if error is raised by the try block"
   ]
  },
  {
   "cell_type": "code",
   "execution_count": null,
   "metadata": {},
   "outputs": [],
   "source": [
    "try:\n",
    "    # some code\n",
    "except:\n",
    "    # Executed if error in the try block"
   ]
  },
  {
   "cell_type": "code",
   "execution_count": 10,
   "metadata": {},
   "outputs": [
    {
     "name": "stdout",
     "output_type": "stream",
     "text": [
      "enter the number: 50\n",
      "enter the number 2: 0\n"
     ]
    },
    {
     "ename": "ZeroDivisionError",
     "evalue": "division by zero",
     "output_type": "error",
     "traceback": [
      "\u001b[0;31m---------------------------------------------------------------------------\u001b[0m",
      "\u001b[0;31mZeroDivisionError\u001b[0m                         Traceback (most recent call last)",
      "\u001b[0;32m<ipython-input-10-07307fc57a49>\u001b[0m in \u001b[0;36m<module>\u001b[0;34m\u001b[0m\n\u001b[1;32m      2\u001b[0m \u001b[0mnum_2\u001b[0m \u001b[0;34m=\u001b[0m \u001b[0mint\u001b[0m\u001b[0;34m(\u001b[0m\u001b[0minput\u001b[0m\u001b[0;34m(\u001b[0m\u001b[0;34m'enter the number 2: '\u001b[0m\u001b[0;34m)\u001b[0m\u001b[0;34m)\u001b[0m\u001b[0;34m\u001b[0m\u001b[0;34m\u001b[0m\u001b[0m\n\u001b[1;32m      3\u001b[0m \u001b[0;34m\u001b[0m\u001b[0m\n\u001b[0;32m----> 4\u001b[0;31m \u001b[0mprint\u001b[0m\u001b[0;34m(\u001b[0m\u001b[0mnum_1\u001b[0m\u001b[0;34m/\u001b[0m\u001b[0mnum_2\u001b[0m\u001b[0;34m)\u001b[0m\u001b[0;34m\u001b[0m\u001b[0;34m\u001b[0m\u001b[0m\n\u001b[0m\u001b[1;32m      5\u001b[0m \u001b[0mprint\u001b[0m\u001b[0;34m(\u001b[0m\u001b[0;34m'afsaan'\u001b[0m\u001b[0;34m)\u001b[0m\u001b[0;34m\u001b[0m\u001b[0;34m\u001b[0m\u001b[0m\n",
      "\u001b[0;31mZeroDivisionError\u001b[0m: division by zero"
     ]
    }
   ],
   "source": [
    "num_1 = int(input('enter the number: '))\n",
    "num_2 = int(input('enter the number 2: '))\n",
    "\n",
    "print(num_1/num_2)\n",
    "print('afsaan')"
   ]
  },
  {
   "cell_type": "code",
   "execution_count": 13,
   "metadata": {},
   "outputs": [
    {
     "name": "stdout",
     "output_type": "stream",
     "text": [
      "enter the number: 'afsaan'\n",
      "enter the number 2: 100\n",
      "some error\n",
      "afsaan\n"
     ]
    }
   ],
   "source": [
    "# write a program to dividie to numbers and numbers hsould be taken by user\n",
    "# num_1 = int(input('enter the number: '))\n",
    "# num_2 = int(input('enter the number 2: '))\n",
    "\n",
    "# print(num_1/num_2)\n",
    "num_1 = eval(input('enter the number: '))\n",
    "num_2 = eval(input('enter the number 2: '))\n",
    "try:\n",
    "   num_1/num_2\n",
    "except:\n",
    "    print('some error')\n",
    "print('afsaan')"
   ]
  },
  {
   "cell_type": "code",
   "execution_count": null,
   "metadata": {},
   "outputs": [],
   "source": [
    "# try exception and else\n",
    "\n",
    "- execution will go to excpet block when error is rasied by try block\n",
    "- execution will go to else block when error is not rasied by try block"
   ]
  },
  {
   "cell_type": "code",
   "execution_count": null,
   "metadata": {},
   "outputs": [],
   "source": [
    "try:\n",
    "    # some code\n",
    "except:\n",
    "    # exce if error in the try block\n",
    "else:\n",
    "    # exce if error not in try block"
   ]
  },
  {
   "cell_type": "code",
   "execution_count": 16,
   "metadata": {},
   "outputs": [
    {
     "name": "stdout",
     "output_type": "stream",
     "text": [
      "enter the number: 100\n",
      "enter the number 2: 0\n",
      "some error\n",
      "afsaan\n"
     ]
    }
   ],
   "source": [
    "\n",
    "try:\n",
    "    num_1 = eval(input('enter the number: '))\n",
    "    num_2 = eval(input('enter the number 2: '))\n",
    "    c = num_1/num_2\n",
    "except:\n",
    "    print('some error')\n",
    "else:\n",
    "    print(c)\n",
    "print('afsaan')"
   ]
  },
  {
   "cell_type": "code",
   "execution_count": null,
   "metadata": {},
   "outputs": [],
   "source": [
    "# try , except and finally\n",
    "\n",
    "finally - it will be excecuted if error is rasied or not"
   ]
  },
  {
   "cell_type": "code",
   "execution_count": 18,
   "metadata": {},
   "outputs": [
    {
     "name": "stdout",
     "output_type": "stream",
     "text": [
      "enter the number: 100\n",
      "enter the number 2: 0\n",
      "some error\n",
      "hello\n",
      "afsaan\n"
     ]
    }
   ],
   "source": [
    "try:\n",
    "    num_1 = int(input('enter the number: '))\n",
    "    num_2 = int(input('enter the number 2: '))\n",
    "    c = num_1/num_2\n",
    "except:\n",
    "    print('some error')\n",
    "finally:\n",
    "    print('hello')\n",
    "print('afsaan')"
   ]
  },
  {
   "cell_type": "markdown",
   "metadata": {},
   "source": [
    "# showing coding error to users"
   ]
  },
  {
   "cell_type": "code",
   "execution_count": 21,
   "metadata": {},
   "outputs": [
    {
     "name": "stdout",
     "output_type": "stream",
     "text": [
      "enter the number: afsaan\n",
      "invalid literal for int() with base 10: 'afsaan'\n",
      "hello\n",
      "afsaan\n"
     ]
    }
   ],
   "source": [
    "# way 1\n",
    "\n",
    "try:\n",
    "    num_1 = int(input('enter the number: '))\n",
    "    num_2 = int(input('enter the number 2: '))\n",
    "    c = num_1/num_2\n",
    "except ZeroDivisionError as e:\n",
    "    print(e)\n",
    "except ValueError as e:\n",
    "    print(e)\n",
    "except:\n",
    "    print('some eror')\n",
    "finally:\n",
    "    print('hello')\n",
    "print('afsaan')"
   ]
  },
  {
   "cell_type": "code",
   "execution_count": 33,
   "metadata": {},
   "outputs": [
    {
     "name": "stdout",
     "output_type": "stream",
     "text": [
      "enter the number: 100\n",
      "enter the number 2: 0\n",
      "hello\n",
      "afsaan\n"
     ]
    }
   ],
   "source": [
    "# way 2\n",
    "\n",
    "try:\n",
    "    num_1 = int(input('enter the number: '))\n",
    "    num_2 = int(input('enter the number 2: '))\n",
    "    c = num_1/num_2\n",
    "except Exception as e:\n",
    "      print(e)\n",
    "finally:\n",
    "    print('hello')\n",
    "    f.close()\n",
    "print('afsaan')"
   ]
  },
  {
   "cell_type": "code",
   "execution_count": null,
   "metadata": {},
   "outputs": [],
   "source": [
    "# Nested try and except"
   ]
  },
  {
   "cell_type": "code",
   "execution_count": 37,
   "metadata": {},
   "outputs": [
    {
     "name": "stdout",
     "output_type": "stream",
     "text": [
      "Enter 1st number: 'a'\n",
      "second number: 100\n",
      "unsupported operand type(s) for /: 'str' and 'int'\n"
     ]
    }
   ],
   "source": [
    "try:\n",
    "    a = eval(input('Enter 1st number: '))\n",
    "    b = int(input('second number: '))\n",
    "    try:\n",
    "        print(a/b)\n",
    "    except ZeroDivisionError as e:\n",
    "        print(e)\n",
    "    except Exception as e:\n",
    "        print(e)\n",
    "except ValueError as e:\n",
    "    print(e)"
   ]
  },
  {
   "cell_type": "code",
   "execution_count": null,
   "metadata": {},
   "outputs": [],
   "source": [
    "# userdefined Excpetion - raise"
   ]
  },
  {
   "cell_type": "code",
   "execution_count": 40,
   "metadata": {},
   "outputs": [],
   "source": [
    "class MyException(Exception):\n",
    "    def __init__(self , msg):\n",
    "        self.msg = msg"
   ]
  },
  {
   "cell_type": "code",
   "execution_count": 43,
   "metadata": {},
   "outputs": [
    {
     "name": "stdout",
     "output_type": "stream",
     "text": [
      "Enter the amount:55000\n",
      "Over limit\n"
     ]
    }
   ],
   "source": [
    "amt = int(input('Enter the amount:'))\n",
    "try:\n",
    "    if amt > 49999 and amt < 60000:\n",
    "        raise MyException('Over limit')\n",
    "    elif amt > 60000:\n",
    "        raise MyException('Over limits')\n",
    "    else:\n",
    "        print('Amount sent')\n",
    "except MyException as e:\n",
    "    print(e)"
   ]
  },
  {
   "cell_type": "code",
   "execution_count": null,
   "metadata": {},
   "outputs": [],
   "source": [
    "# build a basic gpay app\n",
    "\n",
    "whihc will take a amount form the user\n",
    "if amount enetred by user is more than 50k rasie and excpetion and\n",
    "soon after ask for pan card if len pancard is not equal to 10 rasie and error of\n",
    "incorrect pancard else 'We will verify soon'\n",
    "else print('amount deposit')"
   ]
  },
  {
   "cell_type": "code",
   "execution_count": null,
   "metadata": {},
   "outputs": [],
   "source": [
    "# scenario 1 - passed\n",
    "amt = 25000\n",
    "print('amount deposited')"
   ]
  },
  {
   "cell_type": "code",
   "execution_count": null,
   "metadata": {},
   "outputs": [],
   "source": [
    "# scenario 2 - passed\n",
    "amt = 65000\n",
    "rasie 'over limit'\n",
    "pan = 123456\n",
    "raaise 'incorrect pancard'"
   ]
  },
  {
   "cell_type": "code",
   "execution_count": null,
   "metadata": {},
   "outputs": [],
   "source": [
    "# scenario 3\n",
    "amt = 65000\n",
    "rasie 'over limit'\n",
    "pan = 1234567890\n",
    "print('we will verify soon')"
   ]
  },
  {
   "cell_type": "code",
   "execution_count": 47,
   "metadata": {},
   "outputs": [
    {
     "name": "stdout",
     "output_type": "stream",
     "text": [
      "enete the amount65000\n",
      "overlimit\n",
      "enter the pan number1234567890\n",
      "we will verify soon\n"
     ]
    }
   ],
   "source": [
    "# so write fucntion wherever required\n",
    "\n",
    "\n",
    "class MyException(Exception):\n",
    "    def __init__(self, msg):\n",
    "        self.msg = msg\n",
    "\n",
    "def submit_pan(pan):\n",
    "    if len(pan)== 10:\n",
    "        print('we will verify soon')\n",
    "    else:\n",
    "        raise MyException('wrong pancard number')\n",
    "\n",
    "def Amount_deposit(amt):\n",
    "    if amt > 5000:\n",
    "        raise MyException('overlimit')\n",
    "    else:\n",
    "        print('amount deposited')\n",
    "        \n",
    "amt = int(input('enete the amount'))\n",
    "try:\n",
    "    Amount_deposit(amt)\n",
    "except MyException as e:\n",
    "    print(e)\n",
    "    try:\n",
    "        pan = input('enter the pan number')\n",
    "        submit_pan(pan)\n",
    "    except MyException as e:\n",
    "        print(e)"
   ]
  },
  {
   "cell_type": "code",
   "execution_count": null,
   "metadata": {},
   "outputs": [],
   "source": []
  }
 ],
 "metadata": {
  "kernelspec": {
   "display_name": "Python 3",
   "language": "python",
   "name": "python3"
  },
  "language_info": {
   "codemirror_mode": {
    "name": "ipython",
    "version": 3
   },
   "file_extension": ".py",
   "mimetype": "text/x-python",
   "name": "python",
   "nbconvert_exporter": "python",
   "pygments_lexer": "ipython3",
   "version": "3.8.5"
  }
 },
 "nbformat": 4,
 "nbformat_minor": 4
}
